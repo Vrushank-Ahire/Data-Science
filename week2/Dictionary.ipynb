{
 "cells": [
  {
   "cell_type": "code",
   "execution_count": 1,
   "id": "51790c8f-5175-453f-9e6d-2c9d4002fd14",
   "metadata": {},
   "outputs": [],
   "source": [
    "d={}"
   ]
  },
  {
   "cell_type": "code",
   "execution_count": 2,
   "id": "231d26bf-e141-4cd1-a573-4c56f8b77058",
   "metadata": {},
   "outputs": [
    {
     "data": {
      "text/plain": [
       "dict"
      ]
     },
     "execution_count": 2,
     "metadata": {},
     "output_type": "execute_result"
    }
   ],
   "source": [
    "type(d)"
   ]
  },
  {
   "cell_type": "code",
   "execution_count": 6,
   "id": "9532b079-ebcb-40fc-a3a0-422b5cec1187",
   "metadata": {},
   "outputs": [],
   "source": [
    "d1 = {\"key\" : \"Value\"} "
   ]
  },
  {
   "cell_type": "code",
   "execution_count": 7,
   "id": "6e5ff1bb-2aed-4bcb-9f10-52b2de257812",
   "metadata": {},
   "outputs": [
    {
     "data": {
      "text/plain": [
       "{'key': 'Value'}"
      ]
     },
     "execution_count": 7,
     "metadata": {},
     "output_type": "execute_result"
    }
   ],
   "source": [
    "d1"
   ]
  },
  {
   "cell_type": "code",
   "execution_count": 8,
   "id": "c3816e61-e140-41e3-9733-a24f8e527e2b",
   "metadata": {},
   "outputs": [],
   "source": [
    "d2 = {\"Name\" : \"Vrushank\",\"Entry\" : '2022ceb1002',\"Mob\":'7822855909' }"
   ]
  },
  {
   "cell_type": "code",
   "execution_count": 9,
   "id": "56cd38b6-acbd-45a0-8962-e0d88f810008",
   "metadata": {},
   "outputs": [
    {
     "data": {
      "text/plain": [
       "{'Name': 'Vrushank', 'Entry': '2022ceb1002', 'Mob': '7822855909'}"
      ]
     },
     "execution_count": 9,
     "metadata": {},
     "output_type": "execute_result"
    }
   ],
   "source": [
    "d2"
   ]
  },
  {
   "cell_type": "code",
   "execution_count": 10,
   "id": "5d166369-87c3-4727-a277-c5875fc97a0f",
   "metadata": {},
   "outputs": [
    {
     "ename": "SyntaxError",
     "evalue": "invalid syntax (2622963240.py, line 1)",
     "output_type": "error",
     "traceback": [
      "\u001b[0;36m  Cell \u001b[0;32mIn[10], line 1\u001b[0;36m\u001b[0m\n\u001b[0;31m    d3 = {123 : \"hii\" , @123 : 'bye'}\u001b[0m\n\u001b[0m                        ^\u001b[0m\n\u001b[0;31mSyntaxError\u001b[0m\u001b[0;31m:\u001b[0m invalid syntax\n"
     ]
    }
   ],
   "source": [
    "d3 = {123 : \"hii\" , @123 : 'bye'}"
   ]
  },
  {
   "cell_type": "code",
   "execution_count": 11,
   "id": "41a8ffaa-6bd7-494e-a252-b13a0eece563",
   "metadata": {},
   "outputs": [],
   "source": [
    "d3 = {123 : \"hii\" , 123 : 'bye'}"
   ]
  },
  {
   "cell_type": "code",
   "execution_count": 12,
   "id": "7f0b09a0-aeb2-4339-8978-6ceb1426efb6",
   "metadata": {},
   "outputs": [
    {
     "data": {
      "text/plain": [
       "{123: 'bye'}"
      ]
     },
     "execution_count": 12,
     "metadata": {},
     "output_type": "execute_result"
    }
   ],
   "source": [
    "d3\n"
   ]
  },
  {
   "cell_type": "code",
   "execution_count": 13,
   "id": "8b87fa6d-8dcd-4137-938c-80758fdfb916",
   "metadata": {},
   "outputs": [
    {
     "data": {
      "text/plain": [
       "{123: 'bye'}"
      ]
     },
     "execution_count": 13,
     "metadata": {},
     "output_type": "execute_result"
    }
   ],
   "source": [
    "d3"
   ]
  },
  {
   "cell_type": "code",
   "execution_count": 21,
   "id": "cafa55bc-16a8-4d53-9b68-b3d68663f4cc",
   "metadata": {},
   "outputs": [],
   "source": [
    "d3 = {123 : \"hii\" , '@123' : 'bye'}"
   ]
  },
  {
   "cell_type": "code",
   "execution_count": 15,
   "id": "65a9c3ab-3aca-48e0-b601-422d3ac22302",
   "metadata": {},
   "outputs": [
    {
     "data": {
      "text/plain": [
       "{123: 'hii', '@123': 'bye'}"
      ]
     },
     "execution_count": 15,
     "metadata": {},
     "output_type": "execute_result"
    }
   ],
   "source": [
    "d3"
   ]
  },
  {
   "cell_type": "code",
   "execution_count": 17,
   "id": "bbfa1a65-a5a1-4597-8ad6-ec22b2680961",
   "metadata": {},
   "outputs": [],
   "source": [
    "d4 = {123 : \"hii\" , True : 'bye'}"
   ]
  },
  {
   "cell_type": "code",
   "execution_count": 19,
   "id": "9c2c650c-7ad8-49be-b490-353b1e899ce0",
   "metadata": {},
   "outputs": [
    {
     "data": {
      "text/plain": [
       "{123: 'hii', True: 'bye'}"
      ]
     },
     "execution_count": 19,
     "metadata": {},
     "output_type": "execute_result"
    }
   ],
   "source": [
    "d4"
   ]
  },
  {
   "cell_type": "code",
   "execution_count": 22,
   "id": "89b8e2c3-15ef-4152-a4bd-2932e68eee5a",
   "metadata": {},
   "outputs": [
    {
     "data": {
      "text/plain": [
       "{123: 'hii', '@123': 'bye'}"
      ]
     },
     "execution_count": 22,
     "metadata": {},
     "output_type": "execute_result"
    }
   ],
   "source": [
    "d3"
   ]
  },
  {
   "cell_type": "code",
   "execution_count": 24,
   "id": "9069c418-85dd-4b63-9c68-3d64bb9b51aa",
   "metadata": {},
   "outputs": [
    {
     "data": {
      "text/plain": [
       "'bye'"
      ]
     },
     "execution_count": 24,
     "metadata": {},
     "output_type": "execute_result"
    }
   ],
   "source": [
    "d4[True]"
   ]
  },
  {
   "cell_type": "code",
   "execution_count": 27,
   "id": "91b8f9c8-49d4-4bdc-8db2-4af04198d018",
   "metadata": {},
   "outputs": [
    {
     "data": {
      "text/plain": [
       "{'Name': 'Vrushank', 'Entry': '2022ceb1002', 'Mob': '7822855909'}"
      ]
     },
     "execution_count": 27,
     "metadata": {},
     "output_type": "execute_result"
    }
   ],
   "source": [
    "d2"
   ]
  },
  {
   "cell_type": "code",
   "execution_count": 29,
   "id": "330cd6ce-cdc7-49f9-aece-685faa8cd2b7",
   "metadata": {},
   "outputs": [
    {
     "data": {
      "text/plain": [
       "'7822855909'"
      ]
     },
     "execution_count": 29,
     "metadata": {},
     "output_type": "execute_result"
    }
   ],
   "source": [
    "d2['Mob']"
   ]
  },
  {
   "cell_type": "code",
   "execution_count": 31,
   "id": "cfbe8480-287a-4cf6-b9c8-e6897a173755",
   "metadata": {},
   "outputs": [
    {
     "data": {
      "text/plain": [
       "'bye'"
      ]
     },
     "execution_count": 31,
     "metadata": {},
     "output_type": "execute_result"
    }
   ],
   "source": [
    "d4[1]"
   ]
  },
  {
   "cell_type": "markdown",
   "id": "7f28aa22-7f67-46dd-a604-ef05d1430b68",
   "metadata": {},
   "source": [
    "note internally True is stored as 1"
   ]
  },
  {
   "cell_type": "code",
   "execution_count": 32,
   "id": "b3b661f4-7f59-4c1f-87bb-c5a44b0f4c0c",
   "metadata": {},
   "outputs": [
    {
     "data": {
      "text/plain": [
       "{123: 'hii', True: 'bye'}"
      ]
     },
     "execution_count": 32,
     "metadata": {},
     "output_type": "execute_result"
    }
   ],
   "source": [
    "d4"
   ]
  },
  {
   "cell_type": "code",
   "execution_count": 33,
   "id": "1d918b6f-1d9b-4b13-97fe-b58c0e8d15f6",
   "metadata": {},
   "outputs": [],
   "source": [
    "d5={123: 'hii', True: 'bye',123 : 'hey'}\n"
   ]
  },
  {
   "cell_type": "code",
   "execution_count": 34,
   "id": "c18e3536-80ff-491d-b7b9-809a34a3ae7a",
   "metadata": {},
   "outputs": [
    {
     "data": {
      "text/plain": [
       "{123: 'hey', True: 'bye'}"
      ]
     },
     "execution_count": 34,
     "metadata": {},
     "output_type": "execute_result"
    }
   ],
   "source": [
    "d5"
   ]
  },
  {
   "cell_type": "code",
   "execution_count": 37,
   "id": "8c206352-4ed1-4a31-81df-dc13681d739d",
   "metadata": {},
   "outputs": [],
   "source": [
    "d6 = {45 : 'my' , 'name' : 'shivam' , 'fruits' : ['apple','mango','cherry'], 'post' : 'Modernism'}"
   ]
  },
  {
   "cell_type": "code",
   "execution_count": 38,
   "id": "8cc62efc-28fb-4a53-a527-3e83324c78da",
   "metadata": {},
   "outputs": [
    {
     "data": {
      "text/plain": [
       "{45: 'my',\n",
       " 'name': 'shivam',\n",
       " 'fruits': ['apple', 'mango', 'cherry'],\n",
       " 'post': 'Modernism'}"
      ]
     },
     "execution_count": 38,
     "metadata": {},
     "output_type": "execute_result"
    }
   ],
   "source": [
    "d6"
   ]
  },
  {
   "cell_type": "code",
   "execution_count": 40,
   "id": "d1d2732a-b148-414e-b917-40b8b6300794",
   "metadata": {},
   "outputs": [
    {
     "data": {
      "text/plain": [
       "['apple', 'mango', 'cherry']"
      ]
     },
     "execution_count": 40,
     "metadata": {},
     "output_type": "execute_result"
    }
   ],
   "source": [
    "d6['fruits']"
   ]
  },
  {
   "cell_type": "code",
   "execution_count": 41,
   "id": "a04fa15e-bb8a-4619-8be9-0d63263139c0",
   "metadata": {},
   "outputs": [
    {
     "data": {
      "text/plain": [
       "'cherry'"
      ]
     },
     "execution_count": 41,
     "metadata": {},
     "output_type": "execute_result"
    }
   ],
   "source": [
    "d6['fruits'][2]"
   ]
  },
  {
   "cell_type": "code",
   "execution_count": 43,
   "id": "e27db14f-6301-4299-8594-4c09de8d23f4",
   "metadata": {},
   "outputs": [
    {
     "data": {
      "text/plain": [
       "'shivam'"
      ]
     },
     "execution_count": 43,
     "metadata": {},
     "output_type": "execute_result"
    }
   ],
   "source": [
    "d6['name']"
   ]
  },
  {
   "cell_type": "code",
   "execution_count": 44,
   "id": "ce975f24-2fa2-45af-ab96-7b52472012c5",
   "metadata": {},
   "outputs": [],
   "source": [
    "d7 = {'number' : [2,4,6,9,7,8,] , \"assignment\" :(28,16,28), \"launch\": {1,5,12,3,1,3,} }"
   ]
  },
  {
   "cell_type": "code",
   "execution_count": 46,
   "id": "9a8a6c36-9160-4b8b-a46c-3aefc606b3eb",
   "metadata": {},
   "outputs": [
    {
     "data": {
      "text/plain": [
       "{'number': [2, 4, 6, 9, 7, 8],\n",
       " 'assignment': (28, 16, 28),\n",
       " 'launch': {1, 3, 5, 12}}"
      ]
     },
     "execution_count": 46,
     "metadata": {},
     "output_type": "execute_result"
    }
   ],
   "source": [
    "d7"
   ]
  },
  {
   "cell_type": "code",
   "execution_count": 48,
   "id": "f31291db-1f76-48a3-93c0-bbf210c9f6d5",
   "metadata": {},
   "outputs": [],
   "source": [
    "d7['number'].append(12)"
   ]
  },
  {
   "cell_type": "code",
   "execution_count": 49,
   "id": "3c10f234-667c-4538-b002-ef34734fbdac",
   "metadata": {},
   "outputs": [
    {
     "data": {
      "text/plain": [
       "{'number': [2, 4, 6, 9, 7, 8, 12],\n",
       " 'assignment': (28, 16, 28),\n",
       " 'launch': {1, 3, 5, 12}}"
      ]
     },
     "execution_count": 49,
     "metadata": {},
     "output_type": "execute_result"
    }
   ],
   "source": [
    "d7"
   ]
  },
  {
   "cell_type": "code",
   "execution_count": 52,
   "id": "c48a3574-2baf-487f-bbcb-43311c84e180",
   "metadata": {},
   "outputs": [],
   "source": [
    "d7['number']=[124,124,564,129]"
   ]
  },
  {
   "cell_type": "code",
   "execution_count": 53,
   "id": "38263a9c-0a22-4197-b5a4-e07adb6cff69",
   "metadata": {},
   "outputs": [
    {
     "data": {
      "text/plain": [
       "{'number': [124, 124, 564, 129],\n",
       " 'assignment': (28, 16, 28),\n",
       " 'launch': {1, 3, 5, 12}}"
      ]
     },
     "execution_count": 53,
     "metadata": {},
     "output_type": "execute_result"
    }
   ],
   "source": [
    "d7"
   ]
  },
  {
   "cell_type": "code",
   "execution_count": 55,
   "id": "86a7ad97-0eeb-42d9-b5dd-81a89d7da993",
   "metadata": {},
   "outputs": [],
   "source": [
    "d8 = {'number' : [2,4,6,9,7,8,] , \"assignment\" :(28,16,28), \"launch\": {1 : 'a',5:'B',12:'C',3:'D'} }"
   ]
  },
  {
   "cell_type": "code",
   "execution_count": 56,
   "id": "12e52914-466d-4da6-9258-fb502c2dfcfa",
   "metadata": {},
   "outputs": [
    {
     "data": {
      "text/plain": [
       "{'number': [2, 4, 6, 9, 7, 8],\n",
       " 'assignment': (28, 16, 28),\n",
       " 'launch': {1: 'a', 5: 'B', 12: 'C', 3: 'D'}}"
      ]
     },
     "execution_count": 56,
     "metadata": {},
     "output_type": "execute_result"
    }
   ],
   "source": [
    "d8"
   ]
  },
  {
   "cell_type": "code",
   "execution_count": 57,
   "id": "fb39fc73-e827-4a8a-85c3-5a9e67f82cd9",
   "metadata": {},
   "outputs": [
    {
     "data": {
      "text/plain": [
       "{1: 'a', 5: 'B', 12: 'C', 3: 'D'}"
      ]
     },
     "execution_count": 57,
     "metadata": {},
     "output_type": "execute_result"
    }
   ],
   "source": [
    "d8['launch']"
   ]
  },
  {
   "cell_type": "code",
   "execution_count": 59,
   "id": "09d887de-7111-481c-b874-3c4bb1d4e1c9",
   "metadata": {},
   "outputs": [
    {
     "data": {
      "text/plain": [
       "'C'"
      ]
     },
     "execution_count": 59,
     "metadata": {},
     "output_type": "execute_result"
    }
   ],
   "source": [
    "d8['launch'][12]"
   ]
  },
  {
   "cell_type": "markdown",
   "id": "f9457875-52a7-4229-8093-a95b71c47b60",
   "metadata": {},
   "source": [
    "adding a new key\n"
   ]
  },
  {
   "cell_type": "code",
   "execution_count": 74,
   "id": "07654e8a-a39d-42c7-8ee6-a13799fcfb1b",
   "metadata": {},
   "outputs": [],
   "source": [
    "d8['MH']=['vrushank','shivam','vismay']"
   ]
  },
  {
   "cell_type": "code",
   "execution_count": 75,
   "id": "01d9933a-85e9-4f7e-a231-63db8908c60b",
   "metadata": {},
   "outputs": [
    {
     "data": {
      "text/plain": [
       "{'number': [2, 4, 6, 9, 7, 8],\n",
       " 'assignment': (28, 16, 28),\n",
       " 'launch': {1: 'a', 5: 'B', 12: 'C', 3: 'D'},\n",
       " 'MH': ['vrushank', 'shivam', 'vismay']}"
      ]
     },
     "execution_count": 75,
     "metadata": {},
     "output_type": "execute_result"
    }
   ],
   "source": [
    "d8"
   ]
  },
  {
   "cell_type": "code",
   "execution_count": 76,
   "id": "a8e557a7-294a-423d-87b0-6311a55d6d48",
   "metadata": {},
   "outputs": [
    {
     "data": {
      "text/plain": [
       "['vrushank', 'shivam', 'vismay']"
      ]
     },
     "execution_count": 76,
     "metadata": {},
     "output_type": "execute_result"
    }
   ],
   "source": [
    "d8.pop('MH')"
   ]
  },
  {
   "cell_type": "code",
   "execution_count": 77,
   "id": "a5eca391-7f86-4c60-90b7-1e8a12e49277",
   "metadata": {},
   "outputs": [
    {
     "data": {
      "text/plain": [
       "{'number': [2, 4, 6, 9, 7, 8],\n",
       " 'assignment': (28, 16, 28),\n",
       " 'launch': {1: 'a', 5: 'B', 12: 'C', 3: 'D'}}"
      ]
     },
     "execution_count": 77,
     "metadata": {},
     "output_type": "execute_result"
    }
   ],
   "source": [
    "d8"
   ]
  },
  {
   "cell_type": "code",
   "execution_count": 78,
   "id": "07a46c27-f693-4e84-91e5-02e5b2d11c18",
   "metadata": {},
   "outputs": [],
   "source": [
    "d8['mh']=['vrushank','shivam','vismay']"
   ]
  },
  {
   "cell_type": "code",
   "execution_count": 79,
   "id": "c55decc2-5b70-4334-81f3-70c957084d34",
   "metadata": {},
   "outputs": [
    {
     "data": {
      "text/plain": [
       "{'number': [2, 4, 6, 9, 7, 8],\n",
       " 'assignment': (28, 16, 28),\n",
       " 'launch': {1: 'a', 5: 'B', 12: 'C', 3: 'D'},\n",
       " 'mh': ['vrushank', 'shivam', 'vismay']}"
      ]
     },
     "execution_count": 79,
     "metadata": {},
     "output_type": "execute_result"
    }
   ],
   "source": [
    "d8"
   ]
  },
  {
   "cell_type": "code",
   "execution_count": 80,
   "id": "06fa8c3d-669f-4790-a828-f32c18d9e192",
   "metadata": {},
   "outputs": [],
   "source": [
    "del d8['assignment'] "
   ]
  },
  {
   "cell_type": "code",
   "execution_count": 81,
   "id": "aec82334-abf4-4a2e-bb7a-5c12efa8fe9e",
   "metadata": {},
   "outputs": [
    {
     "data": {
      "text/plain": [
       "{'number': [2, 4, 6, 9, 7, 8],\n",
       " 'launch': {1: 'a', 5: 'B', 12: 'C', 3: 'D'},\n",
       " 'mh': ['vrushank', 'shivam', 'vismay']}"
      ]
     },
     "execution_count": 81,
     "metadata": {},
     "output_type": "execute_result"
    }
   ],
   "source": [
    "d8"
   ]
  },
  {
   "cell_type": "code",
   "execution_count": 82,
   "id": "a246b70c-c329-43c3-ab7a-14491349754d",
   "metadata": {},
   "outputs": [
    {
     "data": {
      "text/plain": [
       "dict_keys(['number', 'launch', 'mh'])"
      ]
     },
     "execution_count": 82,
     "metadata": {},
     "output_type": "execute_result"
    }
   ],
   "source": [
    "d8.keys()"
   ]
  },
  {
   "cell_type": "code",
   "execution_count": 83,
   "id": "ccad54be-5641-4e34-bf49-79e5f22ab26d",
   "metadata": {},
   "outputs": [
    {
     "data": {
      "text/plain": [
       "['number', 'launch', 'mh']"
      ]
     },
     "execution_count": 83,
     "metadata": {},
     "output_type": "execute_result"
    }
   ],
   "source": [
    "list(d8.keys())"
   ]
  },
  {
   "cell_type": "code",
   "execution_count": 85,
   "id": "91320541-3676-4e17-821e-7964c4579954",
   "metadata": {},
   "outputs": [
    {
     "data": {
      "text/plain": [
       "[[2, 4, 6, 9, 7, 8],\n",
       " {1: 'a', 5: 'B', 12: 'C', 3: 'D'},\n",
       " ['vrushank', 'shivam', 'vismay']]"
      ]
     },
     "execution_count": 85,
     "metadata": {},
     "output_type": "execute_result"
    }
   ],
   "source": [
    "list(d8.values())"
   ]
  },
  {
   "cell_type": "code",
   "execution_count": 86,
   "id": "69e9b95f-974d-4f8f-bfb0-88b9fa7f9f94",
   "metadata": {},
   "outputs": [
    {
     "data": {
      "text/plain": [
       "[('number', [2, 4, 6, 9, 7, 8]),\n",
       " ('launch', {1: 'a', 5: 'B', 12: 'C', 3: 'D'}),\n",
       " ('mh', ['vrushank', 'shivam', 'vismay'])]"
      ]
     },
     "execution_count": 86,
     "metadata": {},
     "output_type": "execute_result"
    }
   ],
   "source": [
    "list(d8.items())"
   ]
  },
  {
   "cell_type": "code",
   "execution_count": 87,
   "id": "7e72b247-082d-4056-8433-a929d06e2ac9",
   "metadata": {},
   "outputs": [
    {
     "data": {
      "text/plain": [
       "{'number': [2, 4, 6, 9, 7, 8],\n",
       " 'launch': {1: 'a', 5: 'B', 12: 'C', 3: 'D'},\n",
       " 'mh': ['vrushank', 'shivam', 'vismay']}"
      ]
     },
     "execution_count": 87,
     "metadata": {},
     "output_type": "execute_result"
    }
   ],
   "source": [
    "d8"
   ]
  },
  {
   "cell_type": "code",
   "execution_count": 88,
   "id": "33ba39d6-12b5-4cad-8988-838102693c31",
   "metadata": {},
   "outputs": [
    {
     "data": {
      "text/plain": [
       "[2, 4, 6, 9, 7, 8]"
      ]
     },
     "execution_count": 88,
     "metadata": {},
     "output_type": "execute_result"
    }
   ],
   "source": [
    "d8.pop('number')"
   ]
  },
  {
   "cell_type": "code",
   "execution_count": 89,
   "id": "eed370c1-63cd-4c86-95be-6e99e0285c5e",
   "metadata": {},
   "outputs": [
    {
     "data": {
      "text/plain": [
       "{'launch': {1: 'a', 5: 'B', 12: 'C', 3: 'D'},\n",
       " 'mh': ['vrushank', 'shivam', 'vismay']}"
      ]
     },
     "execution_count": 89,
     "metadata": {},
     "output_type": "execute_result"
    }
   ],
   "source": [
    "d8"
   ]
  },
  {
   "cell_type": "code",
   "execution_count": null,
   "id": "33a202f1-3e2a-4c6f-bc44-0cf7e3309008",
   "metadata": {},
   "outputs": [],
   "source": [
    "\n",
    "\n",
    "\n"
   ]
  },
  {
   "cell_type": "code",
   "execution_count": 105,
   "id": "5794d057-8458-46ec-a7d3-95987aec1baf",
   "metadata": {},
   "outputs": [],
   "source": [
    "marks=30"
   ]
  },
  {
   "cell_type": "code",
   "execution_count": 107,
   "id": "4a4fd45d-4225-41a0-87e5-a12a2490a8a4",
   "metadata": {},
   "outputs": [
    {
     "name": "stdin",
     "output_type": "stream",
     "text": [
      "enter your marks :  abc\n"
     ]
    },
    {
     "ename": "TypeError",
     "evalue": "'>=' not supported between instances of 'str' and 'int'",
     "output_type": "error",
     "traceback": [
      "\u001b[0;31m---------------------------------------------------------------------------\u001b[0m",
      "\u001b[0;31mTypeError\u001b[0m                                 Traceback (most recent call last)",
      "Cell \u001b[0;32mIn[109], line 2\u001b[0m\n\u001b[1;32m      1\u001b[0m marks\u001b[38;5;241m=\u001b[39m\u001b[38;5;28minput\u001b[39m(\u001b[38;5;124m\"\u001b[39m\u001b[38;5;124menter your marks : \u001b[39m\u001b[38;5;124m\"\u001b[39m)\n\u001b[0;32m----> 2\u001b[0m \u001b[38;5;28;01mif\u001b[39;00m \u001b[43mmarks\u001b[49m\u001b[43m \u001b[49m\u001b[38;5;241;43m>\u001b[39;49m\u001b[38;5;241;43m=\u001b[39;49m\u001b[43m \u001b[49m\u001b[38;5;241;43m80\u001b[39;49m :\n\u001b[1;32m      3\u001b[0m     \u001b[38;5;28mprint\u001b[39m(\u001b[38;5;124m\"\u001b[39m\u001b[38;5;124myou will be the part of A0 batch\u001b[39m\u001b[38;5;124m\"\u001b[39m)\n\u001b[1;32m      4\u001b[0m \u001b[38;5;28;01melif\u001b[39;00m marks \u001b[38;5;241m>\u001b[39m\u001b[38;5;241m=\u001b[39m \u001b[38;5;241m60\u001b[39m \u001b[38;5;129;01mand\u001b[39;00m marks \u001b[38;5;241m<\u001b[39m \u001b[38;5;241m80\u001b[39m :\n",
      "\u001b[0;31mTypeError\u001b[0m: '>=' not supported between instances of 'str' and 'int'"
     ]
    }
   ],
   "source": [
    "marks=input(\"enter your marks : \")\n",
    "if marks >= 80 :\n",
    "    print(\"you will be the part of A0 batch\")\n",
    "elif marks >= 60 and marks < 80 :\n",
    "    print(\"you will be the part of A1 batch\")\n",
    "elif marks>=40 and marks <60 :\n",
    "    print(\"you will be the part of A2 batch\")\n",
    "else :\n",
    "    print('you will be the part of A3 batch')"
   ]
  },
  {
   "cell_type": "code",
   "execution_count": 113,
   "id": "c22025f4-0767-459a-a5f5-f22a8c5b1024",
   "metadata": {},
   "outputs": [
    {
     "name": "stdin",
     "output_type": "stream",
     "text": [
      "enter your marks :  66\n"
     ]
    },
    {
     "name": "stdout",
     "output_type": "stream",
     "text": [
      "you will be the part of A1 batch\n"
     ]
    }
   ],
   "source": [
    "marks=int(input(\"enter your marks : \"))\n",
    "if marks >= 80 :\n",
    "    print(\"you will be the part of A0 batch\")\n",
    "elif marks >= 60 and marks < 80 :\n",
    "    print(\"you will be the part of A1 batch\")\n",
    "elif marks>=40 and marks <60 :\n",
    "    print(\"you will be the part of A2 batch\")\n",
    "else :\n",
    "    print('you will be the part of A3 batch')"
   ]
  },
  {
   "cell_type": "markdown",
   "id": "ceaf95b5-11e1-403e-adbf-1ba6888b4d24",
   "metadata": {},
   "source": [
    "note: input is taken in the form of string therefore we need to typecast it to int."
   ]
  },
  {
   "cell_type": "code",
   "execution_count": 114,
   "id": "1779cdff-00de-4a44-845d-2408974f539a",
   "metadata": {},
   "outputs": [
    {
     "data": {
      "text/plain": [
       "int"
      ]
     },
     "execution_count": 114,
     "metadata": {},
     "output_type": "execute_result"
    }
   ],
   "source": [
    "type(marks)"
   ]
  },
  {
   "cell_type": "code",
   "execution_count": 116,
   "id": "3b65b697-b39b-489c-8882-e5aa96ef3dd5",
   "metadata": {},
   "outputs": [
    {
     "name": "stdin",
     "output_type": "stream",
     "text": [
      "price :  700\n"
     ]
    },
    {
     "name": "stdout",
     "output_type": "stream",
     "text": [
      "yes\n"
     ]
    }
   ],
   "source": [
    "price=int(input(\"price : \"))\n",
    "if price>1000:\n",
    "    print('No')\n",
    "else:\n",
    "    print(\"yes\")"
   ]
  },
  {
   "cell_type": "code",
   "execution_count": 1,
   "id": "167a019e-66e3-4f85-9ffc-f76201d55ead",
   "metadata": {},
   "outputs": [],
   "source": [
    "l = [1,2,3,4,5,6,7,8]"
   ]
  },
  {
   "cell_type": "code",
   "execution_count": 2,
   "id": "ed1402b8-0cb3-4201-9754-b0ebffe4e820",
   "metadata": {},
   "outputs": [
    {
     "data": {
      "text/plain": [
       "2"
      ]
     },
     "execution_count": 2,
     "metadata": {},
     "output_type": "execute_result"
    }
   ],
   "source": [
    "l[0]+1"
   ]
  },
  {
   "cell_type": "code",
   "execution_count": 3,
   "id": "c8ed4a24-7306-489d-bfd1-6d8d5a8f9e2b",
   "metadata": {},
   "outputs": [],
   "source": [
    "l1 = []\n"
   ]
  },
  {
   "cell_type": "code",
   "execution_count": 4,
   "id": "b88195c6-c786-4462-bd74-6e136c9896f0",
   "metadata": {},
   "outputs": [],
   "source": [
    "l1.append(l[0]+1)"
   ]
  },
  {
   "cell_type": "code",
   "execution_count": 6,
   "id": "617a0b8f-1a7a-4020-ab4c-2a9640f2ed96",
   "metadata": {},
   "outputs": [
    {
     "data": {
      "text/plain": [
       "2"
      ]
     },
     "execution_count": 6,
     "metadata": {},
     "output_type": "execute_result"
    }
   ],
   "source": [
    "l1.pop()"
   ]
  },
  {
   "cell_type": "code",
   "execution_count": 7,
   "id": "04d6aedb-a2f7-4a6a-a8c2-8d8db7819834",
   "metadata": {},
   "outputs": [
    {
     "data": {
      "text/plain": [
       "[]"
      ]
     },
     "execution_count": 7,
     "metadata": {},
     "output_type": "execute_result"
    }
   ],
   "source": [
    "l1"
   ]
  },
  {
   "cell_type": "code",
   "execution_count": 8,
   "id": "7283617f-a746-4994-a72d-2d656d0b1b89",
   "metadata": {},
   "outputs": [],
   "source": [
    "\n",
    "for i in range(0,len(l)):\n",
    "    l1.append(l[i]+1)"
   ]
  },
  {
   "cell_type": "code",
   "execution_count": 9,
   "id": "cb5d7cba-b0b5-4652-8cab-73a016c78b7a",
   "metadata": {},
   "outputs": [
    {
     "data": {
      "text/plain": [
       "[2, 3, 4, 5, 6, 7, 8, 9]"
      ]
     },
     "execution_count": 9,
     "metadata": {},
     "output_type": "execute_result"
    }
   ],
   "source": [
    "l1"
   ]
  },
  {
   "cell_type": "code",
   "execution_count": 10,
   "id": "ead3d72b-d181-4fe3-be10-3423e2fb4f23",
   "metadata": {},
   "outputs": [],
   "source": [
    "l2=[]"
   ]
  },
  {
   "cell_type": "code",
   "execution_count": 11,
   "id": "45007149-6290-4590-8815-695e35cb8d0c",
   "metadata": {},
   "outputs": [],
   "source": [
    "for i in l:\n",
    "    l2.append(i+1)"
   ]
  },
  {
   "cell_type": "code",
   "execution_count": 12,
   "id": "0e25eab0-298a-48f7-908f-18f76ddbbac5",
   "metadata": {},
   "outputs": [
    {
     "data": {
      "text/plain": [
       "[1, 2, 3, 4, 5, 6, 7, 8]"
      ]
     },
     "execution_count": 12,
     "metadata": {},
     "output_type": "execute_result"
    }
   ],
   "source": [
    "l"
   ]
  },
  {
   "cell_type": "code",
   "execution_count": 13,
   "id": "51a14fa9-478e-460f-9cc9-d47efcf8026c",
   "metadata": {},
   "outputs": [
    {
     "data": {
      "text/plain": [
       "[2, 3, 4, 5, 6, 7, 8, 9]"
      ]
     },
     "execution_count": 13,
     "metadata": {},
     "output_type": "execute_result"
    }
   ],
   "source": [
    "l2"
   ]
  },
  {
   "cell_type": "code",
   "execution_count": 14,
   "id": "d7dd610f-cac7-4145-bcf2-29dfc5f67384",
   "metadata": {},
   "outputs": [],
   "source": [
    "for i in l:\n",
    "    l2.append(i+5)"
   ]
  },
  {
   "cell_type": "code",
   "execution_count": 15,
   "id": "48408622-cef1-45b2-89de-53dccfef97af",
   "metadata": {},
   "outputs": [
    {
     "data": {
      "text/plain": [
       "[2, 3, 4, 5, 6, 7, 8, 9, 6, 7, 8, 9, 10, 11, 12, 13]"
      ]
     },
     "execution_count": 15,
     "metadata": {},
     "output_type": "execute_result"
    }
   ],
   "source": [
    "l2"
   ]
  },
  {
   "cell_type": "code",
   "execution_count": 16,
   "id": "8c57d408-697d-4b3b-af72-1af264fadbff",
   "metadata": {},
   "outputs": [],
   "source": [
    "l2.clear()"
   ]
  },
  {
   "cell_type": "code",
   "execution_count": 17,
   "id": "7e4a9dae-d3d1-4543-ab06-9b041ff352a8",
   "metadata": {},
   "outputs": [
    {
     "data": {
      "text/plain": [
       "[]"
      ]
     },
     "execution_count": 17,
     "metadata": {},
     "output_type": "execute_result"
    }
   ],
   "source": [
    "l2"
   ]
  },
  {
   "cell_type": "code",
   "execution_count": 18,
   "id": "27f71e2b-64a3-4848-bbcb-251b15237125",
   "metadata": {},
   "outputs": [],
   "source": [
    "for i in l:\n",
    "    l2.append(i+5)"
   ]
  },
  {
   "cell_type": "code",
   "execution_count": 19,
   "id": "a28e985e-a4c2-4038-8c7a-5b5dc4cd9d0a",
   "metadata": {},
   "outputs": [
    {
     "data": {
      "text/plain": [
       "[6, 7, 8, 9, 10, 11, 12, 13]"
      ]
     },
     "execution_count": 19,
     "metadata": {},
     "output_type": "execute_result"
    }
   ],
   "source": [
    "l2"
   ]
  },
  {
   "cell_type": "code",
   "execution_count": 20,
   "id": "5ce66878-078a-40aa-acf6-235b4b5e0918",
   "metadata": {},
   "outputs": [],
   "source": [
    "l=[\"my\",\"Name\",\"is\",'Vrushank']"
   ]
  },
  {
   "cell_type": "code",
   "execution_count": 25,
   "id": "8f6f93fa-d38b-4978-b8b2-45492ba13e44",
   "metadata": {},
   "outputs": [
    {
     "data": {
      "text/plain": [
       "['my', 'Name', 'is', 'Vrushank']"
      ]
     },
     "execution_count": 25,
     "metadata": {},
     "output_type": "execute_result"
    }
   ],
   "source": [
    "l"
   ]
  },
  {
   "cell_type": "code",
   "execution_count": 26,
   "id": "06551b1f-7a76-4a5c-8bad-55d8cfb06a38",
   "metadata": {},
   "outputs": [],
   "source": [
    "l4 = []"
   ]
  },
  {
   "cell_type": "code",
   "execution_count": null,
   "id": "26f35dad-b10e-408f-be1d-cdfdcfea893e",
   "metadata": {},
   "outputs": [],
   "source": []
  },
  {
   "cell_type": "code",
   "execution_count": 34,
   "id": "90495e49-0ce4-4b3f-a5d9-f7145b096288",
   "metadata": {},
   "outputs": [],
   "source": [
    "for i in l:\n",
    "    (l4.append(i.capitalize()))"
   ]
  },
  {
   "cell_type": "code",
   "execution_count": 35,
   "id": "ca126134-762d-4d6c-a446-29579cf8165d",
   "metadata": {},
   "outputs": [
    {
     "data": {
      "text/plain": [
       "['My', 'Name', 'Is', 'Vrushank']"
      ]
     },
     "execution_count": 35,
     "metadata": {},
     "output_type": "execute_result"
    }
   ],
   "source": [
    "l4"
   ]
  },
  {
   "cell_type": "code",
   "execution_count": 32,
   "id": "78d51e7d-de11-423c-a87b-602502966fda",
   "metadata": {},
   "outputs": [],
   "source": [
    "l4.clear()"
   ]
  },
  {
   "cell_type": "code",
   "execution_count": 33,
   "id": "9f35e953-4aa1-4321-96ae-5f64397e167b",
   "metadata": {},
   "outputs": [
    {
     "data": {
      "text/plain": [
       "[]"
      ]
     },
     "execution_count": 33,
     "metadata": {},
     "output_type": "execute_result"
    }
   ],
   "source": [
    "l4"
   ]
  },
  {
   "cell_type": "code",
   "execution_count": 2,
   "id": "bac5e150-b0f9-42a8-9460-f8ed3fad32cd",
   "metadata": {},
   "outputs": [],
   "source": [
    "l5 = [1,4,6,7,8,\"Vrush\",264.5,'abc','my']"
   ]
  },
  {
   "cell_type": "code",
   "execution_count": 3,
   "id": "c3f431fb-dc42-42a0-922a-ff992ea28dbb",
   "metadata": {},
   "outputs": [],
   "source": [
    "l1_num = []\n",
    "l2_str = []\n",
    "for i in l5 : \n",
    "    if type(i)==int or type(i)==float :\n",
    "        l1_num.append(i)\n",
    "    else :\n",
    "        l2_str.append(i)\n",
    "        \n",
    "    "
   ]
  },
  {
   "cell_type": "code",
   "execution_count": 5,
   "id": "44da8dd5-3bea-40de-be0a-fd733ce3cd6b",
   "metadata": {},
   "outputs": [
    {
     "data": {
      "text/plain": [
       "['Vrush', 'abc', 'my']"
      ]
     },
     "execution_count": 5,
     "metadata": {},
     "output_type": "execute_result"
    }
   ],
   "source": [
    "l1_num\n",
    "l2_str"
   ]
  },
  {
   "cell_type": "code",
   "execution_count": 6,
   "id": "32a02c7a-6d2d-469b-8778-7a4736255ace",
   "metadata": {},
   "outputs": [
    {
     "data": {
      "text/plain": [
       "[1, 4, 6, 7, 8, 264.5]"
      ]
     },
     "execution_count": 6,
     "metadata": {},
     "output_type": "execute_result"
    }
   ],
   "source": [
    "l1_num"
   ]
  },
  {
   "cell_type": "code",
   "execution_count": 7,
   "id": "c5091d25-2465-4c91-9ad2-600e6b06d103",
   "metadata": {},
   "outputs": [
    {
     "data": {
      "text/plain": [
       "['Vrush', 'abc', 'my']"
      ]
     },
     "execution_count": 7,
     "metadata": {},
     "output_type": "execute_result"
    }
   ],
   "source": [
    "l2_str"
   ]
  },
  {
   "cell_type": "code",
   "execution_count": null,
   "id": "3e7185b7-6427-431e-b03e-1eb9f847f6d0",
   "metadata": {},
   "outputs": [],
   "source": []
  }
 ],
 "metadata": {
  "kernelspec": {
   "display_name": "Python 3 (ipykernel)",
   "language": "python",
   "name": "python3"
  },
  "language_info": {
   "codemirror_mode": {
    "name": "ipython",
    "version": 3
   },
   "file_extension": ".py",
   "mimetype": "text/x-python",
   "name": "python",
   "nbconvert_exporter": "python",
   "pygments_lexer": "ipython3",
   "version": "3.10.8"
  }
 },
 "nbformat": 4,
 "nbformat_minor": 5
}
