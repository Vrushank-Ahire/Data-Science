{
 "cells": [
  {
   "cell_type": "code",
   "execution_count": 1,
   "id": "491332ed-e973-493c-9732-78a82b30bae8",
   "metadata": {},
   "outputs": [
    {
     "data": {
      "text/plain": [
       "2"
      ]
     },
     "execution_count": 1,
     "metadata": {},
     "output_type": "execute_result"
    }
   ],
   "source": [
    "1+1"
   ]
  },
  {
   "cell_type": "code",
   "execution_count": 2,
   "id": "4eac0965-7bf9-42ac-8b13-ad31524e28ed",
   "metadata": {},
   "outputs": [],
   "source": [
    "n=True\n",
    "\n"
   ]
  },
  {
   "cell_type": "code",
   "execution_count": 3,
   "id": "ff442041-3e7f-484e-9029-a792af74b3ea",
   "metadata": {},
   "outputs": [],
   "source": [
    "m=False"
   ]
  },
  {
   "cell_type": "code",
   "execution_count": 5,
   "id": "1592bde2-108d-4f36-81ab-2f3f21568b48",
   "metadata": {},
   "outputs": [
    {
     "data": {
      "text/plain": [
       "bool"
      ]
     },
     "execution_count": 5,
     "metadata": {},
     "output_type": "execute_result"
    }
   ],
   "source": [
    "type(m)"
   ]
  },
  {
   "cell_type": "code",
   "execution_count": 6,
   "id": "ecf6e1e0-5fd9-4662-8eb7-f5cd54132a23",
   "metadata": {},
   "outputs": [
    {
     "data": {
      "text/plain": [
       "bool"
      ]
     },
     "execution_count": 6,
     "metadata": {},
     "output_type": "execute_result"
    }
   ],
   "source": [
    "type(n)"
   ]
  },
  {
   "cell_type": "code",
   "execution_count": 7,
   "id": "1d50b001-f6db-403b-ac15-51adbfed5540",
   "metadata": {},
   "outputs": [
    {
     "data": {
      "text/plain": [
       "1"
      ]
     },
     "execution_count": 7,
     "metadata": {},
     "output_type": "execute_result"
    }
   ],
   "source": [
    "m+n"
   ]
  },
  {
   "cell_type": "code",
   "execution_count": 8,
   "id": "f061ec06-042e-4a13-96c0-168fd0dfa3e9",
   "metadata": {},
   "outputs": [
    {
     "data": {
      "text/plain": [
       "0"
      ]
     },
     "execution_count": 8,
     "metadata": {},
     "output_type": "execute_result"
    }
   ],
   "source": [
    "-m"
   ]
  },
  {
   "cell_type": "code",
   "execution_count": 9,
   "id": "77ccc993-9b33-4c3e-a4c4-fc3db9872b22",
   "metadata": {},
   "outputs": [
    {
     "data": {
      "text/plain": [
       "-1"
      ]
     },
     "execution_count": 9,
     "metadata": {},
     "output_type": "execute_result"
    }
   ],
   "source": [
    "-n\n"
   ]
  },
  {
   "cell_type": "code",
   "execution_count": 10,
   "id": "84b8549f-3ff0-4383-ba88-24551ebd69cc",
   "metadata": {},
   "outputs": [
    {
     "data": {
      "text/plain": [
       "-1"
      ]
     },
     "execution_count": 10,
     "metadata": {},
     "output_type": "execute_result"
    }
   ],
   "source": [
    "-n\n"
   ]
  },
  {
   "cell_type": "code",
   "execution_count": 3,
   "id": "254cf3bf-ae32-4139-9711-0831953b009c",
   "metadata": {},
   "outputs": [],
   "source": [
    "m=0"
   ]
  },
  {
   "cell_type": "code",
   "execution_count": null,
   "id": "e305c330-b735-4ca8-8bd8-029553d4aba8",
   "metadata": {},
   "outputs": [],
   "source": []
  },
  {
   "cell_type": "code",
   "execution_count": null,
   "id": "9e13f8b3-e51e-4ff9-91fb-c04cb0334366",
   "metadata": {},
   "outputs": [],
   "source": [
    "\n"
   ]
  },
  {
   "cell_type": "code",
   "execution_count": 3,
   "id": "18c1a263-cc3b-43d0-980b-ef77c96d2096",
   "metadata": {},
   "outputs": [],
   "source": [
    "string=\"My name is Vrushank\""
   ]
  },
  {
   "cell_type": "code",
   "execution_count": 4,
   "id": "67b93c78-8b47-4504-8f01-1e1ba1737c17",
   "metadata": {},
   "outputs": [
    {
     "data": {
      "text/plain": [
       "' '"
      ]
     },
     "execution_count": 4,
     "metadata": {},
     "output_type": "execute_result"
    }
   ],
   "source": [
    "string[2]"
   ]
  },
  {
   "cell_type": "code",
   "execution_count": 5,
   "id": "02d1b47c-d219-4933-9cd1-22c3f525b8fd",
   "metadata": {},
   "outputs": [
    {
     "data": {
      "text/plain": [
       "'i'"
      ]
     },
     "execution_count": 5,
     "metadata": {},
     "output_type": "execute_result"
    }
   ],
   "source": [
    "string[8]"
   ]
  },
  {
   "cell_type": "code",
   "execution_count": 6,
   "id": "a23d4cf8-5784-45c5-851d-3ebfc518e909",
   "metadata": {},
   "outputs": [
    {
     "data": {
      "text/plain": [
       "19"
      ]
     },
     "execution_count": 6,
     "metadata": {},
     "output_type": "execute_result"
    }
   ],
   "source": [
    "len(string)"
   ]
  },
  {
   "cell_type": "code",
   "execution_count": 7,
   "id": "055cfea0-e47f-4999-88e9-b45478efb611",
   "metadata": {},
   "outputs": [
    {
     "data": {
      "text/plain": [
       "'M'"
      ]
     },
     "execution_count": 7,
     "metadata": {},
     "output_type": "execute_result"
    }
   ],
   "source": [
    "string[-19]"
   ]
  },
  {
   "cell_type": "code",
   "execution_count": 8,
   "id": "11803100-b38b-4937-8e2c-0f34ba00ab83",
   "metadata": {},
   "outputs": [
    {
     "data": {
      "text/plain": [
       "'My na'"
      ]
     },
     "execution_count": 8,
     "metadata": {},
     "output_type": "execute_result"
    }
   ],
   "source": [
    "string[0:5]"
   ]
  },
  {
   "cell_type": "markdown",
   "id": "e37e0873-f16d-4a57-9703-bf1f5ce6f86e",
   "metadata": {},
   "source": [
    "jump parameter is the third one"
   ]
  },
  {
   "cell_type": "markdown",
   "id": "0e628b57-1353-4ed5-b59e-b8dd1cfd75f6",
   "metadata": {},
   "source": [
    "by default the jump parameter is 1"
   ]
  },
  {
   "cell_type": "code",
   "execution_count": 16,
   "id": "9ea37786-bdbe-4899-acce-262118056219",
   "metadata": {},
   "outputs": [
    {
     "data": {
      "text/plain": [
       "'Mnesrhk'"
      ]
     },
     "execution_count": 16,
     "metadata": {},
     "output_type": "execute_result"
    }
   ],
   "source": [
    "string[0:19:3]"
   ]
  },
  {
   "cell_type": "code",
   "execution_count": 12,
   "id": "e229c608-9be5-4478-8983-692f6dab05c8",
   "metadata": {},
   "outputs": [
    {
     "data": {
      "text/plain": [
       "'M aei rsak'"
      ]
     },
     "execution_count": 12,
     "metadata": {},
     "output_type": "execute_result"
    }
   ],
   "source": [
    "string[0:19:2]"
   ]
  },
  {
   "cell_type": "code",
   "execution_count": 13,
   "id": "a4320133-f7d4-451a-9ef2-77e95492d5de",
   "metadata": {},
   "outputs": [
    {
     "data": {
      "text/plain": [
       "'M aei rsak'"
      ]
     },
     "execution_count": 13,
     "metadata": {},
     "output_type": "execute_result"
    }
   ],
   "source": [
    "string[::2]"
   ]
  },
  {
   "cell_type": "code",
   "execution_count": 16,
   "id": "76213d4c-e377-47ad-ba71-e67aaae19203",
   "metadata": {},
   "outputs": [
    {
     "data": {
      "text/plain": [
       "'knahsurV si eman yM'"
      ]
     },
     "execution_count": 16,
     "metadata": {},
     "output_type": "execute_result"
    }
   ],
   "source": [
    "string[::-1]  #reverse direction printing"
   ]
  },
  {
   "cell_type": "code",
   "execution_count": 17,
   "id": "115298d7-09ef-412e-8915-3fe16fba9ea1",
   "metadata": {},
   "outputs": [
    {
     "data": {
      "text/plain": [
       "'kasr iea M'"
      ]
     },
     "execution_count": 17,
     "metadata": {},
     "output_type": "execute_result"
    }
   ],
   "source": [
    "string[::-2]"
   ]
  },
  {
   "cell_type": "code",
   "execution_count": 18,
   "id": "132cd893-05df-4df2-9593-59699d901a67",
   "metadata": {},
   "outputs": [
    {
     "data": {
      "text/plain": [
       "''"
      ]
     },
     "execution_count": 18,
     "metadata": {},
     "output_type": "execute_result"
    }
   ],
   "source": [
    "string[5:19:-1]"
   ]
  },
  {
   "cell_type": "code",
   "execution_count": 19,
   "id": "02eda462-e5d9-4a2d-83a2-a2f4b7358305",
   "metadata": {},
   "outputs": [
    {
     "data": {
      "text/plain": [
       "''"
      ]
     },
     "execution_count": 19,
     "metadata": {},
     "output_type": "execute_result"
    }
   ],
   "source": [
    "string[5:18:-1]"
   ]
  },
  {
   "cell_type": "code",
   "execution_count": 20,
   "id": "578a77dd-12c3-4ffc-8da6-56930c10af73",
   "metadata": {},
   "outputs": [
    {
     "data": {
      "text/plain": [
       "''"
      ]
     },
     "execution_count": 20,
     "metadata": {},
     "output_type": "execute_result"
    }
   ],
   "source": [
    "string[5:20:-1]"
   ]
  },
  {
   "cell_type": "code",
   "execution_count": 21,
   "id": "a136cfa7-44cd-4c8c-88e5-1d2a493266cb",
   "metadata": {},
   "outputs": [
    {
     "data": {
      "text/plain": [
       "''"
      ]
     },
     "execution_count": 21,
     "metadata": {},
     "output_type": "execute_result"
    }
   ],
   "source": [
    "string[:19:-1]"
   ]
  },
  {
   "cell_type": "code",
   "execution_count": 22,
   "id": "34cfcd1c-1c8b-489a-91c7-1e00a2f18d7f",
   "metadata": {},
   "outputs": [
    {
     "data": {
      "text/plain": [
       "'man yM'"
      ]
     },
     "execution_count": 22,
     "metadata": {},
     "output_type": "execute_result"
    }
   ],
   "source": [
    "string[5::-1]"
   ]
  },
  {
   "cell_type": "code",
   "execution_count": 23,
   "id": "3c9ac847-f02f-45b2-a0fa-06149dfb0a08",
   "metadata": {},
   "outputs": [
    {
     "data": {
      "text/plain": [
       "'knahsurV si e'"
      ]
     },
     "execution_count": 23,
     "metadata": {},
     "output_type": "execute_result"
    }
   ],
   "source": [
    "string[19:5:-1]"
   ]
  },
  {
   "cell_type": "code",
   "execution_count": 24,
   "id": "3e8c2d50-248a-4723-beb4-6e854d4f7f64",
   "metadata": {},
   "outputs": [
    {
     "data": {
      "text/plain": [
       "'me is Vrushank'"
      ]
     },
     "execution_count": 24,
     "metadata": {},
     "output_type": "execute_result"
    }
   ],
   "source": [
    "string[5:19:1]"
   ]
  },
  {
   "cell_type": "code",
   "execution_count": 19,
   "id": "bcfdc980-14d2-4629-8cb0-b06b52e31a51",
   "metadata": {},
   "outputs": [
    {
     "data": {
      "text/plain": [
       "'knahsurV si ema'"
      ]
     },
     "execution_count": 19,
     "metadata": {},
     "output_type": "execute_result"
    }
   ],
   "source": [
    "string[19:3:-1]"
   ]
  },
  {
   "cell_type": "markdown",
   "id": "342aa7a2-ec91-4da1-8605-2ae393ccd2e1",
   "metadata": {},
   "source": [
    "-ve and +ve slicing direction creates the conflict"
   ]
  },
  {
   "cell_type": "code",
   "execution_count": 21,
   "id": "1cd14555-8b60-4274-baee-0c7b3ad4818d",
   "metadata": {},
   "outputs": [],
   "source": [
    "s=\"ABCDEFGH\""
   ]
  },
  {
   "cell_type": "code",
   "execution_count": 29,
   "id": "5c4fe733-7740-4db8-8bb4-77c400c157c8",
   "metadata": {},
   "outputs": [
    {
     "data": {
      "text/plain": [
       "'ABC'"
      ]
     },
     "execution_count": 29,
     "metadata": {},
     "output_type": "execute_result"
    }
   ],
   "source": [
    "s[0:3]"
   ]
  },
  {
   "cell_type": "code",
   "execution_count": 30,
   "id": "44067379-05a2-44c9-aeaf-25f4175f0bc1",
   "metadata": {},
   "outputs": [
    {
     "data": {
      "text/plain": [
       "8"
      ]
     },
     "execution_count": 30,
     "metadata": {},
     "output_type": "execute_result"
    }
   ],
   "source": [
    "len(s)"
   ]
  },
  {
   "cell_type": "code",
   "execution_count": 30,
   "id": "678cdf2f-383d-456d-b5e3-0e86857906ab",
   "metadata": {},
   "outputs": [
    {
     "data": {
      "text/plain": [
       "''"
      ]
     },
     "execution_count": 30,
     "metadata": {},
     "output_type": "execute_result"
    }
   ],
   "source": [
    "s[8:5:1]"
   ]
  },
  {
   "cell_type": "code",
   "execution_count": 28,
   "id": "6f61eb5a-abdc-4d33-89e7-177c5357e685",
   "metadata": {},
   "outputs": [
    {
     "data": {
      "text/plain": [
       "''"
      ]
     },
     "execution_count": 28,
     "metadata": {},
     "output_type": "execute_result"
    }
   ],
   "source": [
    "s[5:8:-1]"
   ]
  },
  {
   "cell_type": "code",
   "execution_count": 39,
   "id": "c319a1b6-b042-4900-9eb5-6b1d0ffc4577",
   "metadata": {},
   "outputs": [
    {
     "data": {
      "text/plain": [
       "'CB'"
      ]
     },
     "execution_count": 39,
     "metadata": {},
     "output_type": "execute_result"
    }
   ],
   "source": [
    "s[2:0:-1]"
   ]
  },
  {
   "cell_type": "code",
   "execution_count": 40,
   "id": "5fa16c58-00b4-4fdb-9966-e3b89c99eb40",
   "metadata": {},
   "outputs": [
    {
     "data": {
      "text/plain": [
       "''"
      ]
     },
     "execution_count": 40,
     "metadata": {},
     "output_type": "execute_result"
    }
   ],
   "source": [
    "s[-2:-0:1]"
   ]
  },
  {
   "cell_type": "code",
   "execution_count": 43,
   "id": "090d58c4-ed20-4bcb-8467-3dc108a9eed0",
   "metadata": {},
   "outputs": [
    {
     "data": {
      "text/plain": [
       "'GFEDCB'"
      ]
     },
     "execution_count": 43,
     "metadata": {},
     "output_type": "execute_result"
    }
   ],
   "source": [
    "s[-2:0:-1]"
   ]
  },
  {
   "cell_type": "code",
   "execution_count": 31,
   "id": "13acdd0d-5c8c-43e2-8bd0-9ab6155fce35",
   "metadata": {},
   "outputs": [
    {
     "data": {
      "text/plain": [
       "'ACEG'"
      ]
     },
     "execution_count": 31,
     "metadata": {},
     "output_type": "execute_result"
    }
   ],
   "source": [
    "s[::2]"
   ]
  },
  {
   "cell_type": "code",
   "execution_count": 45,
   "id": "99a5ab1b-ffc3-4fbc-8b9b-33ec233588cf",
   "metadata": {},
   "outputs": [
    {
     "data": {
      "text/plain": [
       "'HFDB'"
      ]
     },
     "execution_count": 45,
     "metadata": {},
     "output_type": "execute_result"
    }
   ],
   "source": [
    "s[::-2]"
   ]
  },
  {
   "cell_type": "markdown",
   "id": "50d33e9b-1edc-4405-abb9-7bd5a9143e6d",
   "metadata": {},
   "source": [
    "bcoz jab hum direction define kr dete hai tab woh apne aap define kr deta hai reverse indexing"
   ]
  },
  {
   "cell_type": "code",
   "execution_count": 46,
   "id": "20729a8f-3222-44a3-bf57-5d967c1ddec1",
   "metadata": {},
   "outputs": [
    {
     "data": {
      "text/plain": [
       "'CBA'"
      ]
     },
     "execution_count": 46,
     "metadata": {},
     "output_type": "execute_result"
    }
   ],
   "source": [
    "s[2::-1]"
   ]
  },
  {
   "cell_type": "markdown",
   "id": "5e69a2be-bc4f-4b57-8c3e-69556ab943ee",
   "metadata": {},
   "source": [
    "many times we cannot include the first digit of string while reversing the string so its better if we leave the space after : as blank"
   ]
  },
  {
   "cell_type": "code",
   "execution_count": null,
   "id": "3c840e1d-2085-4db3-83c6-16e8a6357d61",
   "metadata": {},
   "outputs": [],
   "source": []
  },
  {
   "cell_type": "code",
   "execution_count": null,
   "id": "6574ecbc-e186-449c-bb1c-e32ac1578240",
   "metadata": {},
   "outputs": [],
   "source": []
  },
  {
   "cell_type": "code",
   "execution_count": 48,
   "id": "74a8145d-57f0-441c-874e-92d60292bb15",
   "metadata": {},
   "outputs": [
    {
     "ename": "IndexError",
     "evalue": "string index out of range",
     "output_type": "error",
     "traceback": [
      "\u001b[0;31m---------------------------------------------------------------------------\u001b[0m",
      "\u001b[0;31mIndexError\u001b[0m                                Traceback (most recent call last)",
      "Cell \u001b[0;32mIn[48], line 1\u001b[0m\n\u001b[0;32m----> 1\u001b[0m \u001b[43ms\u001b[49m\u001b[43m[\u001b[49m\u001b[38;5;241;43m90\u001b[39;49m\u001b[43m]\u001b[49m\n",
      "\u001b[0;31mIndexError\u001b[0m: string index out of range"
     ]
    }
   ],
   "source": [
    "s[90]"
   ]
  },
  {
   "cell_type": "code",
   "execution_count": 49,
   "id": "c45081a4-e158-4850-b810-2835a9018216",
   "metadata": {},
   "outputs": [
    {
     "data": {
      "text/plain": [
       "''"
      ]
     },
     "execution_count": 49,
     "metadata": {},
     "output_type": "execute_result"
    }
   ],
   "source": [
    "s[:-90:]"
   ]
  },
  {
   "cell_type": "markdown",
   "id": "d025fa26-da1b-41ca-8f91-8508466e0d83",
   "metadata": {},
   "source": [
    "because the direction will be defined towards the right first and the closing limit is defined as -ve so blank"
   ]
  },
  {
   "cell_type": "code",
   "execution_count": 51,
   "id": "09d04f00-5637-4cbf-ad01-7635a6ec3e03",
   "metadata": {},
   "outputs": [
    {
     "data": {
      "text/plain": [
       "'HGFEDCBA'"
      ]
     },
     "execution_count": 51,
     "metadata": {},
     "output_type": "execute_result"
    }
   ],
   "source": [
    "s[:-90:-1]"
   ]
  },
  {
   "cell_type": "code",
   "execution_count": 52,
   "id": "b2822a0d-ef83-481f-95bb-7f073f1e9e2b",
   "metadata": {},
   "outputs": [
    {
     "data": {
      "text/plain": [
       "'HGFEDCBA'"
      ]
     },
     "execution_count": 52,
     "metadata": {},
     "output_type": "execute_result"
    }
   ],
   "source": [
    "s[:-9000:-1]"
   ]
  },
  {
   "cell_type": "code",
   "execution_count": 53,
   "id": "31acdbdf-dd4f-4825-a1f1-7a0f1f86c16d",
   "metadata": {},
   "outputs": [],
   "source": [
    "c=1256"
   ]
  },
  {
   "cell_type": "code",
   "execution_count": 54,
   "id": "018fb828-a843-4975-86a1-9391717afd9b",
   "metadata": {},
   "outputs": [],
   "source": [
    "c=str(c)"
   ]
  },
  {
   "cell_type": "code",
   "execution_count": 55,
   "id": "7a55acd0-58be-4f35-bb03-9f58ac8bd654",
   "metadata": {},
   "outputs": [
    {
     "data": {
      "text/plain": [
       "'5'"
      ]
     },
     "execution_count": 55,
     "metadata": {},
     "output_type": "execute_result"
    }
   ],
   "source": [
    "c[2]"
   ]
  },
  {
   "cell_type": "code",
   "execution_count": 57,
   "id": "ed1252a9-bff0-4d71-9737-25ef5316d987",
   "metadata": {},
   "outputs": [
    {
     "data": {
      "text/plain": [
       "'2'"
      ]
     },
     "execution_count": 57,
     "metadata": {},
     "output_type": "execute_result"
    }
   ],
   "source": [
    "c[1]"
   ]
  },
  {
   "cell_type": "code",
   "execution_count": 59,
   "id": "01c17afc-545f-464d-a73b-adc4c74c5476",
   "metadata": {},
   "outputs": [
    {
     "data": {
      "text/plain": [
       "'6'"
      ]
     },
     "execution_count": 59,
     "metadata": {},
     "output_type": "execute_result"
    }
   ],
   "source": [
    "c[3]"
   ]
  },
  {
   "cell_type": "code",
   "execution_count": 39,
   "id": "dad23e92-d2ab-498e-ab39-1891c2fc60ad",
   "metadata": {},
   "outputs": [],
   "source": [
    "s1=\"This is my string my\""
   ]
  },
  {
   "cell_type": "code",
   "execution_count": 59,
   "id": "697b26ef-84f4-4262-8bcd-7bb6a17f472b",
   "metadata": {},
   "outputs": [
    {
     "data": {
      "text/plain": [
       "20"
      ]
     },
     "execution_count": 59,
     "metadata": {},
     "output_type": "execute_result"
    }
   ],
   "source": [
    "len(s1)"
   ]
  },
  {
   "cell_type": "code",
   "execution_count": 60,
   "id": "3502cbe6-d2b3-4e63-8896-75af4b7fd3ac",
   "metadata": {},
   "outputs": [
    {
     "data": {
      "text/plain": [
       "18"
      ]
     },
     "execution_count": 60,
     "metadata": {},
     "output_type": "execute_result"
    }
   ],
   "source": [
    "s1.find(\"my\",9,20)\n",
    "\n"
   ]
  },
  {
   "cell_type": "code",
   "execution_count": 64,
   "id": "975cfd77-c04b-463d-b010-7d6e45ecdc49",
   "metadata": {},
   "outputs": [
    {
     "data": {
      "text/plain": [
       "8"
      ]
     },
     "execution_count": 64,
     "metadata": {},
     "output_type": "execute_result"
    }
   ],
   "source": [
    "s1.find('my')"
   ]
  },
  {
   "cell_type": "code",
   "execution_count": 65,
   "id": "c5c44ed2-c8a7-426e-912f-200235382800",
   "metadata": {},
   "outputs": [
    {
     "data": {
      "text/plain": [
       "'m'"
      ]
     },
     "execution_count": 65,
     "metadata": {},
     "output_type": "execute_result"
    }
   ],
   "source": [
    "s1[8]"
   ]
  },
  {
   "cell_type": "code",
   "execution_count": 66,
   "id": "6cd181f8-786e-4a21-92b3-92367e8a8620",
   "metadata": {},
   "outputs": [
    {
     "data": {
      "text/plain": [
       "11"
      ]
     },
     "execution_count": 66,
     "metadata": {},
     "output_type": "execute_result"
    }
   ],
   "source": [
    "s1.find(\"string\")"
   ]
  },
  {
   "cell_type": "code",
   "execution_count": 67,
   "id": "c7a46e3a-cf2f-4a90-b6ff-076e300a01b6",
   "metadata": {},
   "outputs": [
    {
     "data": {
      "text/plain": [
       "'s'"
      ]
     },
     "execution_count": 67,
     "metadata": {},
     "output_type": "execute_result"
    }
   ],
   "source": [
    "s1[11]"
   ]
  },
  {
   "cell_type": "code",
   "execution_count": 68,
   "id": "af6f3336-9438-44ac-a059-9db49b151281",
   "metadata": {},
   "outputs": [
    {
     "data": {
      "text/plain": [
       "2"
      ]
     },
     "execution_count": 68,
     "metadata": {},
     "output_type": "execute_result"
    }
   ],
   "source": [
    "s1.find(\"i\")"
   ]
  },
  {
   "cell_type": "code",
   "execution_count": 62,
   "id": "2c8401fe-f88b-4fbe-bf6d-77f4cc6f0e68",
   "metadata": {},
   "outputs": [
    {
     "data": {
      "text/plain": [
       "3"
      ]
     },
     "execution_count": 62,
     "metadata": {},
     "output_type": "execute_result"
    }
   ],
   "source": [
    "s1.count('i')"
   ]
  },
  {
   "cell_type": "code",
   "execution_count": 61,
   "id": "d3886eb8-2687-49cb-8817-44c7041b3830",
   "metadata": {},
   "outputs": [
    {
     "data": {
      "text/plain": [
       "2"
      ]
     },
     "execution_count": 61,
     "metadata": {},
     "output_type": "execute_result"
    }
   ],
   "source": [
    "s1.count(\"my\")"
   ]
  },
  {
   "cell_type": "code",
   "execution_count": 64,
   "id": "ce7f5f70-2391-4a09-b766-bb0c008dffc1",
   "metadata": {},
   "outputs": [],
   "source": [
    "s2=\"ABCDABCD ABCD\""
   ]
  },
  {
   "cell_type": "code",
   "execution_count": 71,
   "id": "0a3c12d7-925b-4e4c-aff7-69eba386f6c2",
   "metadata": {},
   "outputs": [
    {
     "data": {
      "text/plain": [
       "0"
      ]
     },
     "execution_count": 71,
     "metadata": {},
     "output_type": "execute_result"
    }
   ],
   "source": [
    "s2.count(s1[1:4])"
   ]
  },
  {
   "cell_type": "code",
   "execution_count": 79,
   "id": "c1a5ab8c-2fe0-45d3-b046-8dbfae5fb58c",
   "metadata": {},
   "outputs": [
    {
     "data": {
      "text/plain": [
       "'THIS IS MY STRING'"
      ]
     },
     "execution_count": 79,
     "metadata": {},
     "output_type": "execute_result"
    }
   ],
   "source": [
    "s1.upper()"
   ]
  },
  {
   "cell_type": "code",
   "execution_count": 80,
   "id": "113d1127-a2a8-460d-8390-82d11531ccd8",
   "metadata": {},
   "outputs": [
    {
     "data": {
      "text/plain": [
       "'this is my string'"
      ]
     },
     "execution_count": 80,
     "metadata": {},
     "output_type": "execute_result"
    }
   ],
   "source": [
    "s1.lower()"
   ]
  },
  {
   "cell_type": "code",
   "execution_count": 85,
   "id": "2a296a62-9fbc-4a1f-8b78-3057cda4a5fd",
   "metadata": {},
   "outputs": [],
   "source": [
    "s3=s1.title()"
   ]
  },
  {
   "cell_type": "code",
   "execution_count": 84,
   "id": "d3a8b2bc-b217-442e-a92d-178e0a2c01b1",
   "metadata": {},
   "outputs": [
    {
     "data": {
      "text/plain": [
       "False"
      ]
     },
     "execution_count": 84,
     "metadata": {},
     "output_type": "execute_result"
    }
   ],
   "source": [
    "s1.istitle()"
   ]
  },
  {
   "cell_type": "code",
   "execution_count": 86,
   "id": "bf783c3c-75dd-4adf-b859-c0e9cdb8a1b9",
   "metadata": {},
   "outputs": [
    {
     "data": {
      "text/plain": [
       "True"
      ]
     },
     "execution_count": 86,
     "metadata": {},
     "output_type": "execute_result"
    }
   ],
   "source": [
    "s3.istitle()"
   ]
  },
  {
   "cell_type": "code",
   "execution_count": 87,
   "id": "c19ae3b5-074b-48ef-9f06-d629428590ab",
   "metadata": {},
   "outputs": [
    {
     "data": {
      "text/plain": [
       "'This is my string'"
      ]
     },
     "execution_count": 87,
     "metadata": {},
     "output_type": "execute_result"
    }
   ],
   "source": [
    "s1.capitalize()"
   ]
  },
  {
   "cell_type": "code",
   "execution_count": 77,
   "id": "da0380bf-b34e-4847-92ff-38de54e79551",
   "metadata": {},
   "outputs": [
    {
     "data": {
      "text/plain": [
       "'ABCDEFGH  100'"
      ]
     },
     "execution_count": 77,
     "metadata": {},
     "output_type": "execute_result"
    }
   ],
   "source": [
    "s +str(\"  \")+ str(100)"
   ]
  },
  {
   "cell_type": "code",
   "execution_count": 94,
   "id": "fc7f947b-2e5e-431a-b9fb-1d9817f8c550",
   "metadata": {},
   "outputs": [
    {
     "data": {
      "text/plain": [
       "'ABCDEFGH 100'"
      ]
     },
     "execution_count": 94,
     "metadata": {},
     "output_type": "execute_result"
    }
   ],
   "source": [
    "s+(\" \"+str(100))"
   ]
  },
  {
   "cell_type": "code",
   "execution_count": 78,
   "id": "dd9458ec-9360-4cd8-a9c5-93922d9d626c",
   "metadata": {},
   "outputs": [
    {
     "data": {
      "text/plain": [
       "'ABCDEFGHABCDEFGHABCDEFGHABCDEFGHABCDEFGH'"
      ]
     },
     "execution_count": 78,
     "metadata": {},
     "output_type": "execute_result"
    }
   ],
   "source": [
    "s*5\n"
   ]
  },
  {
   "cell_type": "code",
   "execution_count": 96,
   "id": "fa14621f-2686-4bd0-8521-93a21650e0c7",
   "metadata": {},
   "outputs": [
    {
     "data": {
      "text/plain": [
       "'ABCDEFGHABCDEFGH'"
      ]
     },
     "execution_count": 96,
     "metadata": {},
     "output_type": "execute_result"
    }
   ],
   "source": [
    "s*2"
   ]
  },
  {
   "cell_type": "code",
   "execution_count": 97,
   "id": "d779cda9-3a80-4a32-a620-ad447efc9270",
   "metadata": {},
   "outputs": [
    {
     "data": {
      "text/plain": [
       "'ABCDEFGHABCDEFGH'"
      ]
     },
     "execution_count": 97,
     "metadata": {},
     "output_type": "execute_result"
    }
   ],
   "source": [
    "s+s"
   ]
  },
  {
   "cell_type": "code",
   "execution_count": 98,
   "id": "0ffc32e2-8de4-472b-8421-519adb6ee648",
   "metadata": {},
   "outputs": [
    {
     "ename": "TypeError",
     "evalue": "unsupported operand type(s) for -: 'str' and 'str'",
     "output_type": "error",
     "traceback": [
      "\u001b[0;31m---------------------------------------------------------------------------\u001b[0m",
      "\u001b[0;31mTypeError\u001b[0m                                 Traceback (most recent call last)",
      "Cell \u001b[0;32mIn[98], line 1\u001b[0m\n\u001b[0;32m----> 1\u001b[0m \u001b[38;5;241;43m2\u001b[39;49m\u001b[38;5;241;43m*\u001b[39;49m\u001b[43ms\u001b[49m\u001b[38;5;241;43m-\u001b[39;49m\u001b[43ms\u001b[49m\n",
      "\u001b[0;31mTypeError\u001b[0m: unsupported operand type(s) for -: 'str' and 'str'"
     ]
    }
   ],
   "source": [
    "2*s-s"
   ]
  },
  {
   "cell_type": "code",
   "execution_count": 99,
   "id": "f0f0ae39-c61e-4043-a1f9-b87848a4bfe7",
   "metadata": {},
   "outputs": [
    {
     "ename": "TypeError",
     "evalue": "unsupported operand type(s) for /: 'str' and 'int'",
     "output_type": "error",
     "traceback": [
      "\u001b[0;31m---------------------------------------------------------------------------\u001b[0m",
      "\u001b[0;31mTypeError\u001b[0m                                 Traceback (most recent call last)",
      "Cell \u001b[0;32mIn[99], line 1\u001b[0m\n\u001b[0;32m----> 1\u001b[0m \u001b[43ms\u001b[49m\u001b[38;5;241;43m/\u001b[39;49m\u001b[38;5;241;43m3\u001b[39;49m\n",
      "\u001b[0;31mTypeError\u001b[0m: unsupported operand type(s) for /: 'str' and 'int'"
     ]
    }
   ],
   "source": [
    "s/3"
   ]
  },
  {
   "cell_type": "code",
   "execution_count": 100,
   "id": "183695dd-4d7e-4e9d-9f53-3069e067f963",
   "metadata": {},
   "outputs": [
    {
     "data": {
      "text/plain": [
       "\"don't worry\""
      ]
     },
     "execution_count": 100,
     "metadata": {},
     "output_type": "execute_result"
    }
   ],
   "source": [
    "\"don't worry\""
   ]
  },
  {
   "cell_type": "code",
   "execution_count": 102,
   "id": "134a2d5e-0c14-48ff-9493-7b5d920de69b",
   "metadata": {},
   "outputs": [
    {
     "name": "stdout",
     "output_type": "stream",
     "text": [
      "don't worry\n"
     ]
    }
   ],
   "source": [
    "print(\"don't worry\")"
   ]
  },
  {
   "cell_type": "code",
   "execution_count": 103,
   "id": "5d9871e6-e84c-4ca9-b508-4b4b1db42e26",
   "metadata": {},
   "outputs": [],
   "source": [
    "a=\"don't worry\""
   ]
  },
  {
   "cell_type": "code",
   "execution_count": 104,
   "id": "f9b740df-8f0c-4af6-999d-72e18ad3fc9d",
   "metadata": {},
   "outputs": [
    {
     "data": {
      "text/plain": [
       "\"don't worry\""
      ]
     },
     "execution_count": 104,
     "metadata": {},
     "output_type": "execute_result"
    }
   ],
   "source": [
    "a\n"
   ]
  },
  {
   "cell_type": "code",
   "execution_count": 105,
   "id": "9820afc0-ca63-494d-9b1d-6c48ef7cf858",
   "metadata": {},
   "outputs": [],
   "source": [
    "##i am vrushank"
   ]
  },
  {
   "cell_type": "code",
   "execution_count": 79,
   "id": "412077ba-2714-4184-85f5-b7059c9ce701",
   "metadata": {},
   "outputs": [
    {
     "data": {
      "text/plain": [
       "'\\nmy name is vrushank\\ni live in maharashtra\\ni studied at NIS\\n'"
      ]
     },
     "execution_count": 79,
     "metadata": {},
     "output_type": "execute_result"
    }
   ],
   "source": [
    "'''\n",
    "my name is vrushank\n",
    "i live in maharashtra\n",
    "i studied at NIS\n",
    "'''"
   ]
  },
  {
   "cell_type": "code",
   "execution_count": 107,
   "id": "7e16584b-27a4-48a2-9365-99c8b6c2562b",
   "metadata": {},
   "outputs": [
    {
     "data": {
      "text/plain": [
       "'my name is vrushank\\ni live in maharashtra\\ni studied at NIS'"
      ]
     },
     "execution_count": 107,
     "metadata": {},
     "output_type": "execute_result"
    }
   ],
   "source": [
    "\n",
    "\"\"\"my name is vrushank\n",
    "i live in maharashtra\n",
    "i studied at NIS\"\"\"\n"
   ]
  },
  {
   "cell_type": "code",
   "execution_count": 108,
   "id": "c4ceebbb-33da-4abc-870d-5a4825550a4f",
   "metadata": {},
   "outputs": [
    {
     "data": {
      "text/plain": [
       "\"don't worry bro\""
      ]
     },
     "execution_count": 108,
     "metadata": {},
     "output_type": "execute_result"
    }
   ],
   "source": [
    "\"\"\"don't worry bro\"\"\""
   ]
  },
  {
   "cell_type": "code",
   "execution_count": 109,
   "id": "8bc0f0cf-3142-4b16-8d05-f38abcdddbd4",
   "metadata": {},
   "outputs": [
    {
     "data": {
      "text/plain": [
       "'don\\'t worr\"y bro'"
      ]
     },
     "execution_count": 109,
     "metadata": {},
     "output_type": "execute_result"
    }
   ],
   "source": [
    "\"\"\"don't worr\"y bro\"\"\""
   ]
  },
  {
   "cell_type": "code",
   "execution_count": null,
   "id": "7d9b926a-ebc1-4fcd-a1be-47293e9387e4",
   "metadata": {},
   "outputs": [],
   "source": []
  }
 ],
 "metadata": {
  "kernelspec": {
   "display_name": "Python 3 (ipykernel)",
   "language": "python",
   "name": "python3"
  },
  "language_info": {
   "codemirror_mode": {
    "name": "ipython",
    "version": 3
   },
   "file_extension": ".py",
   "mimetype": "text/x-python",
   "name": "python",
   "nbconvert_exporter": "python",
   "pygments_lexer": "ipython3",
   "version": "3.10.8"
  }
 },
 "nbformat": 4,
 "nbformat_minor": 5
}
