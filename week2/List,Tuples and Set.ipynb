{
 "cells": [
  {
   "cell_type": "code",
   "execution_count": 3,
   "id": "14d7e5dc-0182-4fd5-a352-05308c92d6ad",
   "metadata": {},
   "outputs": [],
   "source": [
    "l=[1,3,4,7,'Shivam',\"algo\"]"
   ]
  },
  {
   "cell_type": "code",
   "execution_count": 4,
   "id": "04458e38-4fb2-4020-b922-3f5567c17f45",
   "metadata": {},
   "outputs": [
    {
     "data": {
      "text/plain": [
       "7"
      ]
     },
     "execution_count": 39,
     "metadata": {},
     "output_type": "execute_result"
    }
   ],
   "source": [
    "l[3]"
   ]
  },
  {
   "cell_type": "code",
   "execution_count": 5,
   "id": "ff165c06-5c1d-4fe5-9e23-d68207642b93",
   "metadata": {},
   "outputs": [
    {
     "data": {
      "text/plain": [
       "[1, 3, 4]"
      ]
     },
     "execution_count": 40,
     "metadata": {},
     "output_type": "execute_result"
    }
   ],
   "source": [
    "l[:3]"
   ]
  },
  {
   "cell_type": "code",
   "execution_count": 6,
   "id": "f7757476-5c09-4fe3-8f8b-6e6c4ad3f404",
   "metadata": {},
   "outputs": [
    {
     "data": {
      "text/plain": [
       "'algo'"
      ]
     },
     "execution_count": 41,
     "metadata": {},
     "output_type": "execute_result"
    }
   ],
   "source": [
    "l[-1]"
   ]
  },
  {
   "cell_type": "code",
   "execution_count": 7,
   "id": "0a62ff91-f77f-4dc5-b847-85289055e949",
   "metadata": {},
   "outputs": [
    {
     "data": {
      "text/plain": [
       "['algo', 'Shivam', 7, 4, 3, 1]"
      ]
     },
     "execution_count": 42,
     "metadata": {},
     "output_type": "execute_result"
    }
   ],
   "source": [
    "l[::-1]"
   ]
  },
  {
   "cell_type": "code",
   "execution_count": 8,
   "id": "47dcd64d-a275-43e6-b39a-9aaeacf34c7d",
   "metadata": {},
   "outputs": [
    {
     "data": {
      "text/plain": [
       "7"
      ]
     },
     "execution_count": 43,
     "metadata": {},
     "output_type": "execute_result"
    }
   ],
   "source": [
    "l[-3]"
   ]
  },
  {
   "cell_type": "code",
   "execution_count": 9,
   "id": "e64f78c7-3f0b-40a1-af94-bc1e8a8338dc",
   "metadata": {},
   "outputs": [
    {
     "data": {
      "text/plain": [
       "[4]"
      ]
     },
     "execution_count": 44,
     "metadata": {},
     "output_type": "execute_result"
    }
   ],
   "source": [
    "l[2:3]"
   ]
  },
  {
   "cell_type": "code",
   "execution_count": 10,
   "id": "269fdf43-a0b2-4dc1-b3aa-d5e802c86b9d",
   "metadata": {},
   "outputs": [
    {
     "data": {
      "text/plain": [
       "[1, 4, 'Shivam']"
      ]
     },
     "execution_count": 45,
     "metadata": {},
     "output_type": "execute_result"
    }
   ],
   "source": [
    "l[::2]"
   ]
  },
  {
   "cell_type": "code",
   "execution_count": 11,
   "id": "1e84d0ca-74ed-4035-9483-6014928e782d",
   "metadata": {},
   "outputs": [
    {
     "data": {
      "text/plain": [
       "[3, 7, 'algo']"
      ]
     },
     "execution_count": 46,
     "metadata": {},
     "output_type": "execute_result"
    }
   ],
   "source": [
    "l[1::2]"
   ]
  },
  {
   "cell_type": "code",
   "execution_count": 12,
   "id": "7decc0f9-15ec-47dc-9b2d-73f752c4f7e5",
   "metadata": {},
   "outputs": [],
   "source": [
    "s=\"vismay\""
   ]
  },
  {
   "cell_type": "code",
   "execution_count": 13,
   "id": "9cd22bff-3b2e-4103-9ef3-c66714567026",
   "metadata": {},
   "outputs": [
    {
     "data": {
      "text/plain": [
       "\"[1, 3, 4, 7, 'Shivam', 'algo']vismay\""
      ]
     },
     "execution_count": 48,
     "metadata": {},
     "output_type": "execute_result"
    }
   ],
   "source": [
    "str(l)+s"
   ]
  },
  {
   "cell_type": "code",
   "execution_count": 14,
   "id": "de58f28f-7539-49c1-8b87-33a8a696e8d0",
   "metadata": {},
   "outputs": [
    {
     "data": {
      "text/plain": [
       "['v', 'i', 's', 'm', 'a', 'y']"
      ]
     },
     "execution_count": 49,
     "metadata": {},
     "output_type": "execute_result"
    }
   ],
   "source": [
    "list(s)"
   ]
  },
  {
   "cell_type": "code",
   "execution_count": 28,
   "id": "792e6b7b-2243-4e9a-aad4-adbd5ef78719",
   "metadata": {},
   "outputs": [],
   "source": [
    "c=list(s)+l"
   ]
  },
  {
   "cell_type": "code",
   "execution_count": 29,
   "id": "2868aa8f-2f70-415d-82e1-ba8429c7b32e",
   "metadata": {},
   "outputs": [
    {
     "data": {
      "text/plain": [
       "['v', 'i', 's', 'm', 'a', 'y', 1, 3, 4, 7, 'Shivam', 'algo']"
      ]
     },
     "execution_count": 51,
     "metadata": {},
     "output_type": "execute_result"
    }
   ],
   "source": [
    "c\n"
   ]
  },
  {
   "cell_type": "code",
   "execution_count": null,
   "id": "6dfd5ad4-7154-440c-a1ed-0d1df918d586",
   "metadata": {},
   "outputs": [],
   "source": []
  },
  {
   "cell_type": "code",
   "execution_count": 31,
   "id": "0d2483bd-5c7d-47f7-81b6-e2deb95f51bd",
   "metadata": {},
   "outputs": [
    {
     "data": {
      "text/plain": [
       "['v', 'i', 's', 'm', 'a', 'y', 1, 3, 4, 7, 'Shivam', 'algo']"
      ]
     },
     "execution_count": 52,
     "metadata": {},
     "output_type": "execute_result"
    }
   ],
   "source": [
    "list(s)+l"
   ]
  },
  {
   "cell_type": "code",
   "execution_count": 25,
   "id": "0ea33a30-fa74-4ecb-b5ef-1de8ab067fa5",
   "metadata": {},
   "outputs": [
    {
     "data": {
      "text/plain": [
       "'vismay'"
      ]
     },
     "execution_count": 53,
     "metadata": {},
     "output_type": "execute_result"
    }
   ],
   "source": [
    "s"
   ]
  },
  {
   "cell_type": "code",
   "execution_count": 26,
   "id": "debfeee8-7a43-4ea2-8747-3af25154a9af",
   "metadata": {},
   "outputs": [
    {
     "data": {
      "text/plain": [
       "[1, 3, 4, 7, 'Shivam', 'algo']"
      ]
     },
     "execution_count": 54,
     "metadata": {},
     "output_type": "execute_result"
    }
   ],
   "source": [
    "l"
   ]
  },
  {
   "cell_type": "code",
   "execution_count": 27,
   "id": "3c5923b8-3ef2-481e-a4db-1d780a9ed6f2",
   "metadata": {},
   "outputs": [
    {
     "data": {
      "text/plain": [
       "'Shivam'"
      ]
     },
     "execution_count": 55,
     "metadata": {},
     "output_type": "execute_result"
    }
   ],
   "source": [
    "l[4]"
   ]
  },
  {
   "cell_type": "code",
   "execution_count": 19,
   "id": "5a9ad7cf-a280-4fa1-a19c-00ccdf283a05",
   "metadata": {},
   "outputs": [
    {
     "data": {
      "text/plain": [
       "'hiv'"
      ]
     },
     "execution_count": 56,
     "metadata": {},
     "output_type": "execute_result"
    }
   ],
   "source": [
    "l[4][1:4]"
   ]
  },
  {
   "cell_type": "code",
   "execution_count": 32,
   "id": "9af87ab7-16e0-489f-9356-a4be3fc024a9",
   "metadata": {},
   "outputs": [],
   "source": [
    "l.append(True)"
   ]
  },
  {
   "cell_type": "code",
   "execution_count": 21,
   "id": "9564022b-7506-4489-8922-c310099c32ea",
   "metadata": {},
   "outputs": [
    {
     "data": {
      "text/plain": [
       "[1, 3, 4, 7, 'Shivam', 'algo', True]"
      ]
     },
     "execution_count": 58,
     "metadata": {},
     "output_type": "execute_result"
    }
   ],
   "source": [
    "l"
   ]
  },
  {
   "cell_type": "code",
   "execution_count": 36,
   "id": "ce9967e9-529f-4f6e-848b-907fd01fa53e",
   "metadata": {
    "tags": []
   },
   "outputs": [],
   "source": [
    "l.append(\"cat\")"
   ]
  },
  {
   "cell_type": "code",
   "execution_count": 37,
   "id": "98747ca5-01bf-46c2-9623-b1d7061ed94d",
   "metadata": {},
   "outputs": [
    {
     "data": {
      "text/plain": [
       "[1, 3, 4, 7, 'Shivam', 'algo', True, 'cat']"
      ]
     },
     "execution_count": 60,
     "metadata": {},
     "output_type": "execute_result"
    }
   ],
   "source": [
    "l"
   ]
  },
  {
   "cell_type": "code",
   "execution_count": 22,
   "id": "24a23aa4-a237-4576-82ca-0cb26fe4f008",
   "metadata": {},
   "outputs": [
    {
     "data": {
      "text/plain": [
       "8"
      ]
     },
     "execution_count": 61,
     "metadata": {},
     "output_type": "execute_result"
    }
   ],
   "source": [
    "len(l)"
   ]
  },
  {
   "cell_type": "code",
   "execution_count": 23,
   "id": "9df35f32-c13c-4f5a-ae28-40c9c5ca64e6",
   "metadata": {},
   "outputs": [
    {
     "data": {
      "text/plain": [
       "'cat'"
      ]
     },
     "execution_count": 62,
     "metadata": {},
     "output_type": "execute_result"
    }
   ],
   "source": [
    "l[7][:]\n"
   ]
  },
  {
   "cell_type": "code",
   "execution_count": 64,
   "id": "7bdf433b-308a-4a50-a1a0-65df413d3bd5",
   "metadata": {},
   "outputs": [
    {
     "ename": "TypeError",
     "evalue": "'bool' object is not subscriptable",
     "output_type": "error",
     "traceback": [
      "\u001b[0;31m---------------------------------------------------------------------------\u001b[0m",
      "\u001b[0;31mTypeError\u001b[0m                                 Traceback (most recent call last)",
      "Cell \u001b[0;32mIn[64], line 1\u001b[0m\n\u001b[0;32m----> 1\u001b[0m \u001b[43ml\u001b[49m\u001b[43m[\u001b[49m\u001b[38;5;241;43m6\u001b[39;49m\u001b[43m]\u001b[49m\u001b[43m[\u001b[49m\u001b[38;5;241;43m1\u001b[39;49m\u001b[43m:\u001b[49m\u001b[38;5;241;43m3\u001b[39;49m\u001b[43m]\u001b[49m\n",
      "\u001b[0;31mTypeError\u001b[0m: 'bool' object is not subscriptable"
     ]
    }
   ],
   "source": [
    "l[6][1:3]"
   ]
  },
  {
   "cell_type": "code",
   "execution_count": 65,
   "id": "467ce228-8692-41a0-bf29-20bec567795a",
   "metadata": {},
   "outputs": [
    {
     "data": {
      "text/plain": [
       "'ru'"
      ]
     },
     "execution_count": 65,
     "metadata": {},
     "output_type": "execute_result"
    }
   ],
   "source": [
    "str(l[6])[1:3]"
   ]
  },
  {
   "cell_type": "code",
   "execution_count": 66,
   "id": "026983c0-7301-4a21-8207-b69aaf11c805",
   "metadata": {},
   "outputs": [
    {
     "data": {
      "text/plain": [
       "'ShivamShivamShivam'"
      ]
     },
     "execution_count": 66,
     "metadata": {},
     "output_type": "execute_result"
    }
   ],
   "source": [
    "l[4]*3"
   ]
  },
  {
   "cell_type": "code",
   "execution_count": 67,
   "id": "29c6c3a1-0c4d-482a-ad21-966fb1372ab3",
   "metadata": {},
   "outputs": [
    {
     "data": {
      "text/plain": [
       "[1,\n",
       " 3,\n",
       " 4,\n",
       " 7,\n",
       " 'Shivam',\n",
       " 'algo',\n",
       " True,\n",
       " 'cat',\n",
       " 1,\n",
       " 3,\n",
       " 4,\n",
       " 7,\n",
       " 'Shivam',\n",
       " 'algo',\n",
       " True,\n",
       " 'cat']"
      ]
     },
     "execution_count": 67,
     "metadata": {},
     "output_type": "execute_result"
    }
   ],
   "source": [
    "l*2"
   ]
  },
  {
   "cell_type": "code",
   "execution_count": 68,
   "id": "ed9b1944-28de-4c61-81f5-22059b49562b",
   "metadata": {},
   "outputs": [
    {
     "data": {
      "text/plain": [
       "16"
      ]
     },
     "execution_count": 68,
     "metadata": {},
     "output_type": "execute_result"
    }
   ],
   "source": [
    "len(2*l)"
   ]
  },
  {
   "cell_type": "code",
   "execution_count": 77,
   "id": "68a7d994-a0d2-4afe-86ee-0fd9c99b0dc1",
   "metadata": {},
   "outputs": [],
   "source": [
    "l.append(58,)"
   ]
  },
  {
   "cell_type": "code",
   "execution_count": 70,
   "id": "3249772c-9a86-4ecf-a76f-41153017e294",
   "metadata": {},
   "outputs": [
    {
     "data": {
      "text/plain": [
       "[1, 3, 4, 7, 'Shivam', 'algo', True, 'cat', 58]"
      ]
     },
     "execution_count": 70,
     "metadata": {},
     "output_type": "execute_result"
    }
   ],
   "source": [
    "l"
   ]
  },
  {
   "cell_type": "code",
   "execution_count": 75,
   "id": "7867b230-b5ce-44ca-9feb-ea3e6857dfcf",
   "metadata": {},
   "outputs": [],
   "source": [
    "l.append(84)"
   ]
  },
  {
   "cell_type": "code",
   "execution_count": 78,
   "id": "18f55f0c-f7e2-49b8-ad1f-74fa467fc548",
   "metadata": {},
   "outputs": [
    {
     "data": {
      "text/plain": [
       "[1, 3, 4, 7, 'Shivam', 'algo', True, 'cat', 58, 84, 58, 58, 84, 58]"
      ]
     },
     "execution_count": 78,
     "metadata": {},
     "output_type": "execute_result"
    }
   ],
   "source": [
    "l"
   ]
  },
  {
   "cell_type": "code",
   "execution_count": 79,
   "id": "cd1216cd-0ef3-4bbd-bfcc-3ad5320defb4",
   "metadata": {},
   "outputs": [],
   "source": [
    "l1=['prime','r1','shivam']"
   ]
  },
  {
   "cell_type": "code",
   "execution_count": 81,
   "id": "9787f3a7-4a11-4510-9e03-0fb3220239dc",
   "metadata": {},
   "outputs": [],
   "source": [
    "l.append(l1)"
   ]
  },
  {
   "cell_type": "code",
   "execution_count": 82,
   "id": "31d9fe0e-739d-49b2-8217-1a9f4b5476ce",
   "metadata": {},
   "outputs": [
    {
     "data": {
      "text/plain": [
       "[1,\n",
       " 3,\n",
       " 4,\n",
       " 7,\n",
       " 'Shivam',\n",
       " 'algo',\n",
       " True,\n",
       " 'cat',\n",
       " 58,\n",
       " 84,\n",
       " 58,\n",
       " 58,\n",
       " 84,\n",
       " 58,\n",
       " ['prime', 'r1', 'shivam'],\n",
       " ['prime', 'r1', 'shivam']]"
      ]
     },
     "execution_count": 82,
     "metadata": {},
     "output_type": "execute_result"
    }
   ],
   "source": [
    "l"
   ]
  },
  {
   "cell_type": "code",
   "execution_count": 83,
   "id": "f2363861-4781-4081-aab8-d2afa2768593",
   "metadata": {},
   "outputs": [
    {
     "data": {
      "text/plain": [
       "16"
      ]
     },
     "execution_count": 83,
     "metadata": {},
     "output_type": "execute_result"
    }
   ],
   "source": [
    "len(l)"
   ]
  },
  {
   "cell_type": "code",
   "execution_count": 84,
   "id": "d107f929-2e1f-4df9-bcfd-cf78948278c8",
   "metadata": {},
   "outputs": [
    {
     "ename": "TypeError",
     "evalue": "'int' object is not subscriptable",
     "output_type": "error",
     "traceback": [
      "\u001b[0;31m---------------------------------------------------------------------------\u001b[0m",
      "\u001b[0;31mTypeError\u001b[0m                                 Traceback (most recent call last)",
      "Cell \u001b[0;32mIn[84], line 1\u001b[0m\n\u001b[0;32m----> 1\u001b[0m \u001b[43ml\u001b[49m\u001b[43m[\u001b[49m\u001b[38;5;241;43m10\u001b[39;49m\u001b[43m]\u001b[49m\u001b[43m[\u001b[49m\u001b[38;5;241;43m1\u001b[39;49m\u001b[43m]\u001b[49m\n",
      "\u001b[0;31mTypeError\u001b[0m: 'int' object is not subscriptable"
     ]
    }
   ],
   "source": [
    "l[10][1]"
   ]
  },
  {
   "cell_type": "code",
   "execution_count": 85,
   "id": "95183ae2-0799-4239-aba9-599209dccdc1",
   "metadata": {},
   "outputs": [],
   "source": [
    "l.extend(l1)"
   ]
  },
  {
   "cell_type": "code",
   "execution_count": 86,
   "id": "e4289328-fd43-44bc-a73f-7335d19e219a",
   "metadata": {},
   "outputs": [
    {
     "data": {
      "text/plain": [
       "[1,\n",
       " 3,\n",
       " 4,\n",
       " 7,\n",
       " 'Shivam',\n",
       " 'algo',\n",
       " True,\n",
       " 'cat',\n",
       " 58,\n",
       " 84,\n",
       " 58,\n",
       " 58,\n",
       " 84,\n",
       " 58,\n",
       " ['prime', 'r1', 'shivam'],\n",
       " ['prime', 'r1', 'shivam'],\n",
       " 'prime',\n",
       " 'r1',\n",
       " 'shivam']"
      ]
     },
     "execution_count": 86,
     "metadata": {},
     "output_type": "execute_result"
    }
   ],
   "source": [
    "l"
   ]
  },
  {
   "cell_type": "code",
   "execution_count": 87,
   "id": "9004930a-7168-497d-9b41-0e5e20d006fa",
   "metadata": {},
   "outputs": [
    {
     "data": {
      "text/plain": [
       "19"
      ]
     },
     "execution_count": 87,
     "metadata": {},
     "output_type": "execute_result"
    }
   ],
   "source": [
    "len(l)"
   ]
  },
  {
   "cell_type": "code",
   "execution_count": 88,
   "id": "36265af9-f714-4f15-ace3-1fb584a920d2",
   "metadata": {},
   "outputs": [
    {
     "ename": "TypeError",
     "evalue": "'int' object is not iterable",
     "output_type": "error",
     "traceback": [
      "\u001b[0;31m---------------------------------------------------------------------------\u001b[0m",
      "\u001b[0;31mTypeError\u001b[0m                                 Traceback (most recent call last)",
      "Cell \u001b[0;32mIn[88], line 1\u001b[0m\n\u001b[0;32m----> 1\u001b[0m \u001b[43ml\u001b[49m\u001b[38;5;241;43m.\u001b[39;49m\u001b[43mextend\u001b[49m\u001b[43m(\u001b[49m\u001b[38;5;241;43m15\u001b[39;49m\u001b[43m)\u001b[49m\n",
      "\u001b[0;31mTypeError\u001b[0m: 'int' object is not iterable"
     ]
    }
   ],
   "source": [
    "l.extend(15)"
   ]
  },
  {
   "cell_type": "code",
   "execution_count": 92,
   "id": "fbbe9924-12f8-4c62-8757-4d0e5225f57b",
   "metadata": {},
   "outputs": [],
   "source": [
    "l.extend(\"Sai\")"
   ]
  },
  {
   "cell_type": "code",
   "execution_count": 93,
   "id": "0fbddade-99db-458a-bebf-cc4331f7997e",
   "metadata": {},
   "outputs": [
    {
     "data": {
      "text/plain": [
       "[1,\n",
       " 3,\n",
       " 4,\n",
       " 7,\n",
       " 'Shivam',\n",
       " 'algo',\n",
       " True,\n",
       " 'cat',\n",
       " 58,\n",
       " 84,\n",
       " 58,\n",
       " 58,\n",
       " 84,\n",
       " 58,\n",
       " ['prime', 'r1', 'shivam'],\n",
       " ['prime', 'r1', 'shivam'],\n",
       " 'prime',\n",
       " 'r1',\n",
       " 'shivam',\n",
       " 'S',\n",
       " 'a',\n",
       " 'i',\n",
       " 'S',\n",
       " 'a',\n",
       " 'i',\n",
       " 'S',\n",
       " 'a',\n",
       " 'i']"
      ]
     },
     "execution_count": 93,
     "metadata": {},
     "output_type": "execute_result"
    }
   ],
   "source": [
    "l"
   ]
  },
  {
   "cell_type": "markdown",
   "id": "212c999f-44e0-4e8d-85a1-bc99c6813c0b",
   "metadata": {},
   "source": [
    "append() -> directly puts the data into list "
   ]
  },
  {
   "cell_type": "markdown",
   "id": "a09b6ac2-ac80-489c-b4b0-a5dba7b56cc8",
   "metadata": {},
   "source": []
  },
  {
   "cell_type": "markdown",
   "id": "36f41e0e-114a-472c-a304-359d9e202536",
   "metadata": {},
   "source": [
    "but extend() --->first unwraps the data and the put the unwrapped data into the strings\n"
   ]
  },
  {
   "cell_type": "markdown",
   "id": "ad6b1036-6547-4810-a685-a91793910841",
   "metadata": {},
   "source": [
    "\n"
   ]
  },
  {
   "cell_type": "code",
   "execution_count": 94,
   "id": "08bf656f-6b33-46c1-b52a-20679352fe7e",
   "metadata": {},
   "outputs": [
    {
     "data": {
      "text/plain": [
       "['prime', 'r1', 'shivam']"
      ]
     },
     "execution_count": 94,
     "metadata": {},
     "output_type": "execute_result"
    }
   ],
   "source": [
    "l1"
   ]
  },
  {
   "cell_type": "code",
   "execution_count": 95,
   "id": "0baa1253-8e76-451e-a47e-bc5a804008f2",
   "metadata": {},
   "outputs": [],
   "source": [
    "l1.insert(1,\"pokemon\")"
   ]
  },
  {
   "cell_type": "code",
   "execution_count": 96,
   "id": "39136535-0dae-4888-89ce-255f1ad21df4",
   "metadata": {},
   "outputs": [
    {
     "data": {
      "text/plain": [
       "['prime', 'pokemon', 'r1', 'shivam']"
      ]
     },
     "execution_count": 96,
     "metadata": {},
     "output_type": "execute_result"
    }
   ],
   "source": [
    "l1"
   ]
  },
  {
   "cell_type": "code",
   "execution_count": 97,
   "id": "be3bc45a-2787-4604-963e-7f64e565e25e",
   "metadata": {},
   "outputs": [
    {
     "ename": "ValueError",
     "evalue": "list.remove(x): x not in list",
     "output_type": "error",
     "traceback": [
      "\u001b[0;31m---------------------------------------------------------------------------\u001b[0m",
      "\u001b[0;31mValueError\u001b[0m                                Traceback (most recent call last)",
      "Cell \u001b[0;32mIn[97], line 1\u001b[0m\n\u001b[0;32m----> 1\u001b[0m \u001b[43ml1\u001b[49m\u001b[38;5;241;43m.\u001b[39;49m\u001b[43mremove\u001b[49m\u001b[43m(\u001b[49m\u001b[38;5;124;43m'\u001b[39;49m\u001b[38;5;124;43mpori\u001b[39;49m\u001b[38;5;124;43m'\u001b[39;49m\u001b[43m)\u001b[49m\n",
      "\u001b[0;31mValueError\u001b[0m: list.remove(x): x not in list"
     ]
    }
   ],
   "source": [
    "l1.remove('pori')"
   ]
  },
  {
   "cell_type": "code",
   "execution_count": 98,
   "id": "875daeec-1bb0-4d1c-ae89-b44aaa659cf6",
   "metadata": {},
   "outputs": [
    {
     "data": {
      "text/plain": [
       "['prime', 'pokemon', 'r1', 'shivam']"
      ]
     },
     "execution_count": 98,
     "metadata": {},
     "output_type": "execute_result"
    }
   ],
   "source": [
    "l1"
   ]
  },
  {
   "cell_type": "code",
   "execution_count": 99,
   "id": "4cc6a5f1-b73a-43ef-89d4-bbd855ac45e2",
   "metadata": {},
   "outputs": [],
   "source": [
    "l1.insert(3,[\"vru\",\"vis\",\"shiv\",\"algo\"])"
   ]
  },
  {
   "cell_type": "code",
   "execution_count": 100,
   "id": "a8de121a-3c20-459d-8de4-874ed70cba77",
   "metadata": {},
   "outputs": [
    {
     "data": {
      "text/plain": [
       "['prime', 'pokemon', 'r1', ['vru', 'vis', 'shiv', 'algo'], 'shivam']"
      ]
     },
     "execution_count": 100,
     "metadata": {},
     "output_type": "execute_result"
    }
   ],
   "source": [
    "l1"
   ]
  },
  {
   "cell_type": "code",
   "execution_count": 101,
   "id": "8ce45cb1-e8b1-4fe1-ab4e-ecdbb0dbf1f6",
   "metadata": {},
   "outputs": [],
   "source": [
    "l1.insert(-2,33)"
   ]
  },
  {
   "cell_type": "code",
   "execution_count": 102,
   "id": "45982dc8-ab7b-4c25-a311-74f5c9cdeb7f",
   "metadata": {},
   "outputs": [
    {
     "data": {
      "text/plain": [
       "['prime', 'pokemon', 'r1', 33, ['vru', 'vis', 'shiv', 'algo'], 'shivam']"
      ]
     },
     "execution_count": 102,
     "metadata": {},
     "output_type": "execute_result"
    }
   ],
   "source": [
    "l1"
   ]
  },
  {
   "cell_type": "code",
   "execution_count": 103,
   "id": "28ec7993-fc83-49cc-86e0-cf15bb23eacf",
   "metadata": {},
   "outputs": [
    {
     "data": {
      "text/plain": [
       "'shivam'"
      ]
     },
     "execution_count": 103,
     "metadata": {},
     "output_type": "execute_result"
    }
   ],
   "source": [
    "l1.pop()"
   ]
  },
  {
   "cell_type": "code",
   "execution_count": 104,
   "id": "b0798c09-c90a-4bed-84e6-8b8c9ef023d6",
   "metadata": {},
   "outputs": [
    {
     "data": {
      "text/plain": [
       "'pokemon'"
      ]
     },
     "execution_count": 104,
     "metadata": {},
     "output_type": "execute_result"
    }
   ],
   "source": [
    "l1.pop(1)"
   ]
  },
  {
   "cell_type": "code",
   "execution_count": 105,
   "id": "63aed964-5667-4072-bc13-41a6571ee78f",
   "metadata": {},
   "outputs": [
    {
     "data": {
      "text/plain": [
       "['prime', 'r1', 33, ['vru', 'vis', 'shiv', 'algo']]"
      ]
     },
     "execution_count": 105,
     "metadata": {},
     "output_type": "execute_result"
    }
   ],
   "source": [
    "l1"
   ]
  },
  {
   "cell_type": "markdown",
   "id": "8ccaaa01-49db-411b-ae9a-796d1d724b32",
   "metadata": {},
   "source": [
    "pop(index)"
   ]
  },
  {
   "cell_type": "markdown",
   "id": "01406ceb-a872-4aa7-bb11-1de663ab302e",
   "metadata": {},
   "source": [
    "remove(value)"
   ]
  },
  {
   "cell_type": "code",
   "execution_count": 106,
   "id": "fafe31e8-e928-4ac7-8449-49093a6e307f",
   "metadata": {},
   "outputs": [],
   "source": [
    "l3=[\"f1\",\"f2\",\"m&c\",\"chu\",[\"shivam\",\"Vismay\",\"Vru\"],\"algo\",\"akya_chi\"]"
   ]
  },
  {
   "cell_type": "code",
   "execution_count": 107,
   "id": "e6337368-c5d1-4ce2-8d8e-982af42b5bcd",
   "metadata": {},
   "outputs": [
    {
     "data": {
      "text/plain": [
       "['f1', 'f2', 'm&c', 'chu', ['shivam', 'Vismay', 'Vru'], 'algo', 'akya_chi']"
      ]
     },
     "execution_count": 107,
     "metadata": {},
     "output_type": "execute_result"
    }
   ],
   "source": [
    "l3"
   ]
  },
  {
   "cell_type": "code",
   "execution_count": 108,
   "id": "3821d7ee-7510-4baf-9c16-d8c67d0c4718",
   "metadata": {},
   "outputs": [
    {
     "ename": "ValueError",
     "evalue": "list.remove(x): x not in list",
     "output_type": "error",
     "traceback": [
      "\u001b[0;31m---------------------------------------------------------------------------\u001b[0m",
      "\u001b[0;31mValueError\u001b[0m                                Traceback (most recent call last)",
      "Cell \u001b[0;32mIn[108], line 1\u001b[0m\n\u001b[0;32m----> 1\u001b[0m \u001b[43ml3\u001b[49m\u001b[38;5;241;43m.\u001b[39;49m\u001b[43mremove\u001b[49m\u001b[43m(\u001b[49m\u001b[38;5;241;43m4\u001b[39;49m\u001b[43m)\u001b[49m\n",
      "\u001b[0;31mValueError\u001b[0m: list.remove(x): x not in list"
     ]
    }
   ],
   "source": [
    "l3.remove(4)"
   ]
  },
  {
   "cell_type": "code",
   "execution_count": 109,
   "id": "e167e345-754f-4a0b-97c9-98d1a0e70fa6",
   "metadata": {},
   "outputs": [
    {
     "data": {
      "text/plain": [
       "['f1', 'f2', 'm&c', 'chu', ['shivam', 'Vismay', 'Vru'], 'algo', 'akya_chi']"
      ]
     },
     "execution_count": 109,
     "metadata": {},
     "output_type": "execute_result"
    }
   ],
   "source": [
    "l3"
   ]
  },
  {
   "cell_type": "code",
   "execution_count": 110,
   "id": "8020c36b-39a6-4db6-b280-4f945c00ce83",
   "metadata": {},
   "outputs": [],
   "source": [
    "l3=[\"f1\",\"f2\",\"m&c\",\"chu\",[\"shivam\",\"Vismay\",\"Vru\"],\"algo\",\"akya_chi\"]"
   ]
  },
  {
   "cell_type": "code",
   "execution_count": 111,
   "id": "16c12fd9-b495-4fc8-ba5c-bf8f5e009145",
   "metadata": {},
   "outputs": [
    {
     "data": {
      "text/plain": [
       "['f1', 'f2', 'm&c', 'chu', ['shivam', 'Vismay', 'Vru'], 'algo', 'akya_chi']"
      ]
     },
     "execution_count": 111,
     "metadata": {},
     "output_type": "execute_result"
    }
   ],
   "source": [
    "l3"
   ]
  },
  {
   "cell_type": "code",
   "execution_count": 112,
   "id": "238b968f-6c92-4cbc-ba8b-af5168cfe3e3",
   "metadata": {},
   "outputs": [
    {
     "data": {
      "text/plain": [
       "'akya_chi'"
      ]
     },
     "execution_count": 112,
     "metadata": {},
     "output_type": "execute_result"
    }
   ],
   "source": [
    "l3.pop()"
   ]
  },
  {
   "cell_type": "code",
   "execution_count": 113,
   "id": "ffb5fd1b-1283-40cb-8b74-5da894bf2fc3",
   "metadata": {},
   "outputs": [
    {
     "data": {
      "text/plain": [
       "['shivam', 'Vismay', 'Vru']"
      ]
     },
     "execution_count": 113,
     "metadata": {},
     "output_type": "execute_result"
    }
   ],
   "source": [
    "l3[4]"
   ]
  },
  {
   "cell_type": "code",
   "execution_count": 114,
   "id": "20511d5e-4d37-4eb7-a766-0d408d042ce1",
   "metadata": {},
   "outputs": [],
   "source": [
    "l3[4].remove(\"Vismay\")"
   ]
  },
  {
   "cell_type": "code",
   "execution_count": 115,
   "id": "3f577a2b-5aaa-4b03-b97f-75faa06d46ba",
   "metadata": {},
   "outputs": [
    {
     "data": {
      "text/plain": [
       "['f1', 'f2', 'm&c', 'chu', ['shivam', 'Vru'], 'algo']"
      ]
     },
     "execution_count": 115,
     "metadata": {},
     "output_type": "execute_result"
    }
   ],
   "source": [
    "l3"
   ]
  },
  {
   "cell_type": "code",
   "execution_count": 116,
   "id": "27e06ccc-7c51-4bed-aa89-bedeef76c121",
   "metadata": {},
   "outputs": [
    {
     "data": {
      "text/plain": [
       "['algo', ['shivam', 'Vru'], 'chu', 'm&c', 'f2', 'f1']"
      ]
     },
     "execution_count": 116,
     "metadata": {},
     "output_type": "execute_result"
    }
   ],
   "source": [
    "l3[::-1]"
   ]
  },
  {
   "cell_type": "code",
   "execution_count": 117,
   "id": "d54a81cc-1a0e-4987-9ace-bc73fa17bd1a",
   "metadata": {},
   "outputs": [
    {
     "data": {
      "text/plain": [
       "['f1', 'f2', 'm&c', 'chu', ['shivam', 'Vru'], 'algo']"
      ]
     },
     "execution_count": 117,
     "metadata": {},
     "output_type": "execute_result"
    }
   ],
   "source": [
    "l3"
   ]
  },
  {
   "cell_type": "code",
   "execution_count": 118,
   "id": "80efb748-0757-4643-8fd5-613554a14c7c",
   "metadata": {},
   "outputs": [],
   "source": [
    "l3.reverse()"
   ]
  },
  {
   "cell_type": "code",
   "execution_count": 119,
   "id": "9561c963-bcca-41cd-aee0-0eb14e5c26bf",
   "metadata": {},
   "outputs": [
    {
     "data": {
      "text/plain": [
       "['algo', ['shivam', 'Vru'], 'chu', 'm&c', 'f2', 'f1']"
      ]
     },
     "execution_count": 119,
     "metadata": {},
     "output_type": "execute_result"
    }
   ],
   "source": [
    "l3"
   ]
  },
  {
   "cell_type": "code",
   "execution_count": 120,
   "id": "d8954337-54a6-491d-b4d6-6294011b6dd3",
   "metadata": {},
   "outputs": [],
   "source": [
    "l3.reverse()"
   ]
  },
  {
   "cell_type": "code",
   "execution_count": 121,
   "id": "49a68630-5d90-411a-bfa4-ed6b05de0fb5",
   "metadata": {},
   "outputs": [
    {
     "data": {
      "text/plain": [
       "['f1', 'f2', 'm&c', 'chu', ['shivam', 'Vru'], 'algo']"
      ]
     },
     "execution_count": 121,
     "metadata": {},
     "output_type": "execute_result"
    }
   ],
   "source": [
    "l3"
   ]
  },
  {
   "cell_type": "code",
   "execution_count": 122,
   "id": "c983adc8-a2e2-442f-801e-b83569d85fc5",
   "metadata": {},
   "outputs": [],
   "source": [
    "l4=[456,545,56,1,2,15,15,15,6,898]"
   ]
  },
  {
   "cell_type": "code",
   "execution_count": 123,
   "id": "4ad8b946-0a1e-4718-91e6-e24808c81f71",
   "metadata": {},
   "outputs": [],
   "source": [
    "l4.sort()"
   ]
  },
  {
   "cell_type": "code",
   "execution_count": 124,
   "id": "fe99fc6c-f388-48ee-9365-42710b5021f7",
   "metadata": {},
   "outputs": [
    {
     "data": {
      "text/plain": [
       "[1, 2, 6, 15, 15, 15, 56, 456, 545, 898]"
      ]
     },
     "execution_count": 124,
     "metadata": {},
     "output_type": "execute_result"
    }
   ],
   "source": [
    "l4"
   ]
  },
  {
   "cell_type": "code",
   "execution_count": 125,
   "id": "27eab50c-0b21-4906-8147-5f2d70379521",
   "metadata": {},
   "outputs": [],
   "source": [
    "l4=[456,545,56,1,2,15,15,15,6,898]"
   ]
  },
  {
   "cell_type": "code",
   "execution_count": 126,
   "id": "06fdc5d2-1298-4b08-94e5-258df758c8aa",
   "metadata": {},
   "outputs": [
    {
     "data": {
      "text/plain": [
       "[456, 545, 56, 1, 2, 15, 15, 15, 6, 898]"
      ]
     },
     "execution_count": 126,
     "metadata": {},
     "output_type": "execute_result"
    }
   ],
   "source": [
    "l4"
   ]
  },
  {
   "cell_type": "code",
   "execution_count": 127,
   "id": "abc4853f-a207-403a-9147-abe41a663421",
   "metadata": {},
   "outputs": [],
   "source": [
    "l5=l4.sort()"
   ]
  },
  {
   "cell_type": "code",
   "execution_count": 130,
   "id": "24d63a33-c542-44d5-9abd-f47635f3401a",
   "metadata": {},
   "outputs": [],
   "source": [
    "l5"
   ]
  },
  {
   "cell_type": "code",
   "execution_count": 131,
   "id": "7a70bc3e-7e41-4c1c-9340-9491b1ce2b90",
   "metadata": {},
   "outputs": [
    {
     "data": {
      "text/plain": [
       "[1, 2, 6, 15, 15, 15, 56, 456, 545, 898]"
      ]
     },
     "execution_count": 131,
     "metadata": {},
     "output_type": "execute_result"
    }
   ],
   "source": [
    "l4"
   ]
  },
  {
   "cell_type": "code",
   "execution_count": 129,
   "id": "bc7c9211-4e0c-4b01-b7b9-9d5e9e39c0d7",
   "metadata": {},
   "outputs": [
    {
     "data": {
      "text/plain": [
       "[1, 2, 6, 15, 15, 15, 56, 456, 545, 898]"
      ]
     },
     "execution_count": 129,
     "metadata": {},
     "output_type": "execute_result"
    }
   ],
   "source": [
    "l4"
   ]
  },
  {
   "cell_type": "code",
   "execution_count": 132,
   "id": "cfb27c49-726b-4ee7-b1ed-4d22b0628f43",
   "metadata": {},
   "outputs": [],
   "source": [
    "l5\n"
   ]
  },
  {
   "cell_type": "code",
   "execution_count": 152,
   "id": "6a3ddc87-7cc8-4014-94ec-3cb9566d5501",
   "metadata": {},
   "outputs": [],
   "source": [
    "l5=[\"shivam\",\"vismay\",\"Algo\",\"G1\",\"F1\",\"F2\"]"
   ]
  },
  {
   "cell_type": "code",
   "execution_count": 134,
   "id": "4749c288-9b18-4dff-a38f-d668870dfd08",
   "metadata": {},
   "outputs": [],
   "source": [
    "l5.sort()"
   ]
  },
  {
   "cell_type": "code",
   "execution_count": 135,
   "id": "2a5503d7-c587-4286-af6d-9c4837ff8d40",
   "metadata": {},
   "outputs": [
    {
     "data": {
      "text/plain": [
       "['Algo', 'F1', 'F2', 'G1', 'shivam', 'vismay']"
      ]
     },
     "execution_count": 135,
     "metadata": {},
     "output_type": "execute_result"
    }
   ],
   "source": [
    "l5"
   ]
  },
  {
   "cell_type": "code",
   "execution_count": null,
   "id": "7e60f844-0cb5-4382-94e3-1627c654462f",
   "metadata": {},
   "outputs": [],
   "source": [
    "l5=[\"shivam\",\"vismay\",\"Algo\",\"G1\",\"F1\",\"F2\"]"
   ]
  },
  {
   "cell_type": "code",
   "execution_count": 136,
   "id": "a2008f2e-15c8-4e72-95ed-b1a8e9d31090",
   "metadata": {},
   "outputs": [
    {
     "data": {
      "text/plain": [
       "['Algo', 'F1', 'F2', 'G1', 'shivam', 'vismay']"
      ]
     },
     "execution_count": 136,
     "metadata": {},
     "output_type": "execute_result"
    }
   ],
   "source": [
    "l5"
   ]
  },
  {
   "cell_type": "code",
   "execution_count": 137,
   "id": "6e31582f-3842-4899-96b1-671a744950ea",
   "metadata": {},
   "outputs": [
    {
     "ename": "NameError",
     "evalue": "name 'reverse' is not defined",
     "output_type": "error",
     "traceback": [
      "\u001b[0;31m---------------------------------------------------------------------------\u001b[0m",
      "\u001b[0;31mNameError\u001b[0m                                 Traceback (most recent call last)",
      "Cell \u001b[0;32mIn[137], line 1\u001b[0m\n\u001b[0;32m----> 1\u001b[0m l5\u001b[38;5;241m.\u001b[39msort(\u001b[43mreverse\u001b[49m)\n",
      "\u001b[0;31mNameError\u001b[0m: name 'reverse' is not defined"
     ]
    }
   ],
   "source": [
    "l5.sort(reverse)"
   ]
  },
  {
   "cell_type": "code",
   "execution_count": 142,
   "id": "cf2179b8-9d9e-4caa-9416-c58bf07d127b",
   "metadata": {},
   "outputs": [],
   "source": [
    "l5.sort(reverse=True)"
   ]
  },
  {
   "cell_type": "code",
   "execution_count": 143,
   "id": "18804f1e-f530-485a-8b49-b90211ee533b",
   "metadata": {},
   "outputs": [
    {
     "data": {
      "text/plain": [
       "['vismay', 'shivam', 'G1', 'F2', 'F1', 'Algo']"
      ]
     },
     "execution_count": 143,
     "metadata": {},
     "output_type": "execute_result"
    }
   ],
   "source": [
    "l5"
   ]
  },
  {
   "cell_type": "code",
   "execution_count": 144,
   "id": "ce0d2e36-31a7-4e23-9d64-0ec89dffdd84",
   "metadata": {},
   "outputs": [],
   "source": [
    "l5.sort()"
   ]
  },
  {
   "cell_type": "code",
   "execution_count": 145,
   "id": "259e75d8-9915-42e7-8d42-a49197040fb9",
   "metadata": {},
   "outputs": [
    {
     "data": {
      "text/plain": [
       "['Algo', 'F1', 'F2', 'G1', 'shivam', 'vismay']"
      ]
     },
     "execution_count": 145,
     "metadata": {},
     "output_type": "execute_result"
    }
   ],
   "source": [
    "l5\n"
   ]
  },
  {
   "cell_type": "code",
   "execution_count": 146,
   "id": "fe017f86-7f4e-4cb8-8bbe-5180897c4268",
   "metadata": {},
   "outputs": [
    {
     "data": {
      "text/plain": [
       "1"
      ]
     },
     "execution_count": 146,
     "metadata": {},
     "output_type": "execute_result"
    }
   ],
   "source": [
    "l5.index(\"F1\")"
   ]
  },
  {
   "cell_type": "code",
   "execution_count": 153,
   "id": "60f0f93c-f8c1-4a6f-ad03-b5779f5f6525",
   "metadata": {},
   "outputs": [
    {
     "data": {
      "text/plain": [
       "1"
      ]
     },
     "execution_count": 153,
     "metadata": {},
     "output_type": "execute_result"
    }
   ],
   "source": [
    "l5.count(\"shivam\")"
   ]
  },
  {
   "cell_type": "code",
   "execution_count": 154,
   "id": "0ebd40d4-568a-4e78-b7b7-d942fb43ec5e",
   "metadata": {},
   "outputs": [],
   "source": [
    "l6=[3,4,5,6]"
   ]
  },
  {
   "cell_type": "code",
   "execution_count": 155,
   "id": "a6e56bd6-1446-4929-8eee-bac9db51f659",
   "metadata": {},
   "outputs": [],
   "source": [
    "s='vrushank'"
   ]
  },
  {
   "cell_type": "code",
   "execution_count": 156,
   "id": "8eae2d9e-7c9f-47c9-af23-6ef62fdd508e",
   "metadata": {},
   "outputs": [
    {
     "data": {
      "text/plain": [
       "'v'"
      ]
     },
     "execution_count": 156,
     "metadata": {},
     "output_type": "execute_result"
    }
   ],
   "source": [
    "s[0]"
   ]
  },
  {
   "cell_type": "code",
   "execution_count": 158,
   "id": "322a8c43-8624-4891-8d17-0d131a70b839",
   "metadata": {},
   "outputs": [],
   "source": [
    "l6[0]=5"
   ]
  },
  {
   "cell_type": "code",
   "execution_count": 160,
   "id": "bdfa3a16-6ade-40cb-b3d7-a25daf1923ba",
   "metadata": {},
   "outputs": [
    {
     "data": {
      "text/plain": [
       "[5, 4, 5, 6]"
      ]
     },
     "execution_count": 160,
     "metadata": {},
     "output_type": "execute_result"
    }
   ],
   "source": [
    "l6"
   ]
  },
  {
   "cell_type": "code",
   "execution_count": 161,
   "id": "804c521b-3d36-4653-addb-c24aaec252ca",
   "metadata": {},
   "outputs": [
    {
     "ename": "TypeError",
     "evalue": "'str' object does not support item assignment",
     "output_type": "error",
     "traceback": [
      "\u001b[0;31m---------------------------------------------------------------------------\u001b[0m",
      "\u001b[0;31mTypeError\u001b[0m                                 Traceback (most recent call last)",
      "Cell \u001b[0;32mIn[161], line 1\u001b[0m\n\u001b[0;32m----> 1\u001b[0m \u001b[43ms\u001b[49m\u001b[43m[\u001b[49m\u001b[38;5;241;43m0\u001b[39;49m\u001b[43m]\u001b[49m\u001b[38;5;241m=\u001b[39m\u001b[38;5;241m5\u001b[39m\n",
      "\u001b[0;31mTypeError\u001b[0m: 'str' object does not support item assignment"
     ]
    }
   ],
   "source": [
    "s[0]=5"
   ]
  },
  {
   "cell_type": "markdown",
   "id": "d881fc59-31fe-43dd-846a-c1e4dbc8e731",
   "metadata": {},
   "source": [
    " 'str' object does not support item assignment \n",
    "    it implies strings are immutable but the listsare mutable"
   ]
  },
  {
   "cell_type": "code",
   "execution_count": 163,
   "id": "e4c650b6-dc36-4d28-b5ee-6487497498ed",
   "metadata": {},
   "outputs": [
    {
     "data": {
      "text/plain": [
       "'brushank'"
      ]
     },
     "execution_count": 163,
     "metadata": {},
     "output_type": "execute_result"
    }
   ],
   "source": [
    "s.replace(\"v\",\"b\")"
   ]
  },
  {
   "cell_type": "code",
   "execution_count": 165,
   "id": "b432a005-2155-4eb1-a5e9-064e372b1ebd",
   "metadata": {},
   "outputs": [
    {
     "data": {
      "text/plain": [
       "'vrushank'"
      ]
     },
     "execution_count": 165,
     "metadata": {},
     "output_type": "execute_result"
    }
   ],
   "source": [
    "s"
   ]
  },
  {
   "cell_type": "code",
   "execution_count": 166,
   "id": "3e8261c6-e018-490d-81ad-c671ae0b2608",
   "metadata": {},
   "outputs": [],
   "source": [
    "t=(2,52,4,13,True,False,45+27j,[5,7,2])"
   ]
  },
  {
   "cell_type": "code",
   "execution_count": 168,
   "id": "ee24ed6d-9948-4375-b8e7-771d84d580a8",
   "metadata": {},
   "outputs": [
    {
     "data": {
      "text/plain": [
       "tuple"
      ]
     },
     "execution_count": 168,
     "metadata": {},
     "output_type": "execute_result"
    }
   ],
   "source": [
    "type(t)"
   ]
  },
  {
   "cell_type": "code",
   "execution_count": 169,
   "id": "5bfbaf32-f853-443d-b6f2-e22e920e95bb",
   "metadata": {},
   "outputs": [
    {
     "data": {
      "text/plain": [
       "8"
      ]
     },
     "execution_count": 169,
     "metadata": {},
     "output_type": "execute_result"
    }
   ],
   "source": [
    "len(t)"
   ]
  },
  {
   "cell_type": "code",
   "execution_count": 170,
   "id": "a14bb7a1-603a-4dc3-86be-abd23abf0ef3",
   "metadata": {},
   "outputs": [
    {
     "data": {
      "text/plain": [
       "[5, 7, 2]"
      ]
     },
     "execution_count": 170,
     "metadata": {},
     "output_type": "execute_result"
    }
   ],
   "source": [
    "t[-1]"
   ]
  },
  {
   "cell_type": "code",
   "execution_count": 171,
   "id": "7543f60f-7a3a-4168-aaed-ca8717763c7a",
   "metadata": {},
   "outputs": [
    {
     "data": {
      "text/plain": [
       "([5, 7, 2], False, 13, 52)"
      ]
     },
     "execution_count": 171,
     "metadata": {},
     "output_type": "execute_result"
    }
   ],
   "source": [
    "t[::-2]"
   ]
  },
  {
   "cell_type": "code",
   "execution_count": 172,
   "id": "1f04ca18-d375-4b74-af89-0174d3e3d7e9",
   "metadata": {},
   "outputs": [
    {
     "ename": "TypeError",
     "evalue": "'tuple' object does not support item assignment",
     "output_type": "error",
     "traceback": [
      "\u001b[0;31m---------------------------------------------------------------------------\u001b[0m",
      "\u001b[0;31mTypeError\u001b[0m                                 Traceback (most recent call last)",
      "Cell \u001b[0;32mIn[172], line 1\u001b[0m\n\u001b[0;32m----> 1\u001b[0m \u001b[43mt\u001b[49m\u001b[43m[\u001b[49m\u001b[38;5;241;43m2\u001b[39;49m\u001b[43m]\u001b[49m\u001b[38;5;241m=\u001b[39m\u001b[38;5;124m\"\u001b[39m\u001b[38;5;124mmama\u001b[39m\u001b[38;5;124m\"\u001b[39m\n",
      "\u001b[0;31mTypeError\u001b[0m: 'tuple' object does not support item assignment"
     ]
    }
   ],
   "source": [
    "t[2]=\"mama\""
   ]
  },
  {
   "cell_type": "markdown",
   "id": "e4b1b36a-dcf7-4249-9884-178630292c4e",
   "metadata": {},
   "source": [
    "'tuple' object does not support item assignment it implies tuples are immutable"
   ]
  },
  {
   "cell_type": "code",
   "execution_count": 173,
   "id": "d1360c29-633c-4180-82e9-eb05cfe697ea",
   "metadata": {},
   "outputs": [
    {
     "data": {
      "text/plain": [
       "([5, 7, 2], False, 13, 52)"
      ]
     },
     "execution_count": 173,
     "metadata": {},
     "output_type": "execute_result"
    }
   ],
   "source": [
    "t[::-2]"
   ]
  },
  {
   "cell_type": "code",
   "execution_count": 174,
   "id": "89644740-82e6-4b48-83a5-233df785259c",
   "metadata": {},
   "outputs": [
    {
     "data": {
      "text/plain": [
       "1"
      ]
     },
     "execution_count": 174,
     "metadata": {},
     "output_type": "execute_result"
    }
   ],
   "source": [
    "t.count(False)"
   ]
  },
  {
   "cell_type": "code",
   "execution_count": 181,
   "id": "174cf91a-8b29-4694-af2a-7687885947bd",
   "metadata": {},
   "outputs": [
    {
     "data": {
      "text/plain": [
       "5"
      ]
     },
     "execution_count": 181,
     "metadata": {},
     "output_type": "execute_result"
    }
   ],
   "source": [
    "t.index(False)"
   ]
  },
  {
   "cell_type": "code",
   "execution_count": 182,
   "id": "a9e0065d-f369-4f37-8559-2c7c1f2e8aee",
   "metadata": {},
   "outputs": [],
   "source": [
    "s1={}"
   ]
  },
  {
   "cell_type": "code",
   "execution_count": 183,
   "id": "d84b7412-284c-425b-837e-34dc41d4edc3",
   "metadata": {},
   "outputs": [
    {
     "data": {
      "text/plain": [
       "dict"
      ]
     },
     "execution_count": 183,
     "metadata": {},
     "output_type": "execute_result"
    }
   ],
   "source": [
    "type(s1)"
   ]
  },
  {
   "cell_type": "code",
   "execution_count": 184,
   "id": "a306e12f-14fd-4f0c-939c-5796e4690a67",
   "metadata": {},
   "outputs": [],
   "source": [
    "s2={2,3,4,5,6}"
   ]
  },
  {
   "cell_type": "code",
   "execution_count": 185,
   "id": "7c948b07-4a1b-42a4-b041-cffd68da9d3f",
   "metadata": {},
   "outputs": [
    {
     "data": {
      "text/plain": [
       "set"
      ]
     },
     "execution_count": 185,
     "metadata": {},
     "output_type": "execute_result"
    }
   ],
   "source": [
    "type(s2)"
   ]
  },
  {
   "cell_type": "code",
   "execution_count": 186,
   "id": "5243cd4a-63a9-4784-a3c6-5bcdb0281280",
   "metadata": {},
   "outputs": [],
   "source": [
    "s3={5,17,\"abcd\",True,5+7j}"
   ]
  },
  {
   "cell_type": "code",
   "execution_count": 187,
   "id": "0e2e57a4-49bc-4fa2-b355-0968d7ed2df1",
   "metadata": {},
   "outputs": [
    {
     "ename": "TypeError",
     "evalue": "unhashable type: 'list'",
     "output_type": "error",
     "traceback": [
      "\u001b[0;31m---------------------------------------------------------------------------\u001b[0m",
      "\u001b[0;31mTypeError\u001b[0m                                 Traceback (most recent call last)",
      "Cell \u001b[0;32mIn[187], line 1\u001b[0m\n\u001b[0;32m----> 1\u001b[0m s3\u001b[38;5;241m=\u001b[39m{\u001b[38;5;241m5\u001b[39m,\u001b[38;5;241m17\u001b[39m,\u001b[38;5;124m\"\u001b[39m\u001b[38;5;124mabcd\u001b[39m\u001b[38;5;124m\"\u001b[39m,\u001b[38;5;28;01mTrue\u001b[39;00m,\u001b[38;5;241m5\u001b[39m\u001b[38;5;241m+\u001b[39m\u001b[38;5;241m7\u001b[39mj,[\u001b[38;5;241m12\u001b[39m,\u001b[38;5;241m13\u001b[39m,\u001b[38;5;241m14\u001b[39m]}\n",
      "\u001b[0;31mTypeError\u001b[0m: unhashable type: 'list'"
     ]
    }
   ],
   "source": [
    "s3={5,17,\"abcd\",True,5+7j,[12,13,14]}"
   ]
  },
  {
   "cell_type": "code",
   "execution_count": 188,
   "id": "2e286792-99d6-4fc8-91ee-ab0473573773",
   "metadata": {},
   "outputs": [],
   "source": [
    "s3={5,17,\"abcd\",True,5+7j,(12,13,14)}"
   ]
  },
  {
   "cell_type": "markdown",
   "id": "176276cf-de10-4970-aa1f-326e993f4cad",
   "metadata": {},
   "source": [
    "tuple is immutable so it only takes immutable data types"
   ]
  },
  {
   "cell_type": "code",
   "execution_count": 196,
   "id": "90555a84-484d-4243-8b8e-c54e1b30959a",
   "metadata": {},
   "outputs": [],
   "source": [
    "s4={2,4,6,15,14,12,3,15,7,12,3,4,5,6,2,1,3,5,4,5,6,'sudh',\"Sudh\"}"
   ]
  },
  {
   "cell_type": "code",
   "execution_count": 197,
   "id": "65f07f31-305a-4f55-b866-8f6e30fe1a5d",
   "metadata": {},
   "outputs": [
    {
     "data": {
      "text/plain": [
       "{1, 12, 14, 15, 2, 3, 4, 5, 6, 7, 'Sudh', 'sudh'}"
      ]
     },
     "execution_count": 197,
     "metadata": {},
     "output_type": "execute_result"
    }
   ],
   "source": [
    "s4"
   ]
  },
  {
   "cell_type": "code",
   "execution_count": 198,
   "id": "782d0a61-f936-4373-af18-c79af957f193",
   "metadata": {},
   "outputs": [],
   "source": [
    "l7=list(s4)"
   ]
  },
  {
   "cell_type": "code",
   "execution_count": 199,
   "id": "ecc9b94d-bc44-48d0-9d17-407983395eaa",
   "metadata": {},
   "outputs": [
    {
     "data": {
      "text/plain": [
       "[1, 2, 3, 4, 5, 6, 7, 'Sudh', 12, 14, 15, 'sudh']"
      ]
     },
     "execution_count": 199,
     "metadata": {},
     "output_type": "execute_result"
    }
   ],
   "source": [
    "l7"
   ]
  },
  {
   "cell_type": "code",
   "execution_count": 202,
   "id": "64613645-39af-4235-9b64-dfecc2c6c98d",
   "metadata": {},
   "outputs": [],
   "source": [
    "l7=list(set(l7))"
   ]
  },
  {
   "cell_type": "code",
   "execution_count": 203,
   "id": "6eebb15d-b5d8-448e-ad4c-5e4a22ad2ee0",
   "metadata": {},
   "outputs": [
    {
     "data": {
      "text/plain": [
       "[1, 2, 3, 4, 5, 6, 7, 'Sudh', 12, 14, 15, 'sudh']"
      ]
     },
     "execution_count": 203,
     "metadata": {},
     "output_type": "execute_result"
    }
   ],
   "source": [
    "l7"
   ]
  },
  {
   "cell_type": "code",
   "execution_count": 204,
   "id": "ef8cd525-08c8-4224-9bb0-9ffecc6e40c0",
   "metadata": {},
   "outputs": [
    {
     "data": {
      "text/plain": [
       "{1, 12, 14, 15, 2, 3, 4, 5, 6, 7, 'Sudh', 'sudh'}"
      ]
     },
     "execution_count": 204,
     "metadata": {},
     "output_type": "execute_result"
    }
   ],
   "source": [
    "s4"
   ]
  },
  {
   "cell_type": "code",
   "execution_count": 205,
   "id": "da4495a8-f272-4188-9c79-7bc84bf91bcd",
   "metadata": {},
   "outputs": [
    {
     "data": {
      "text/plain": [
       "{1, 12, 14, 15, 2, 3, 4, 5, 6, 7, 'Sudh', 'sudh'}"
      ]
     },
     "execution_count": 205,
     "metadata": {},
     "output_type": "execute_result"
    }
   ],
   "source": [
    "s4"
   ]
  },
  {
   "cell_type": "code",
   "execution_count": 206,
   "id": "72cd4ac6-2e06-41af-837b-d9d0b2ae31e9",
   "metadata": {},
   "outputs": [
    {
     "data": {
      "text/plain": [
       "{1, 12, 14, 15, 2, 3, 4, 5, 6, 7, 'Sudh', 'sudh'}"
      ]
     },
     "execution_count": 206,
     "metadata": {},
     "output_type": "execute_result"
    }
   ],
   "source": [
    "s4"
   ]
  },
  {
   "cell_type": "code",
   "execution_count": 207,
   "id": "9c377088-eaa6-47e2-b615-3a144451a11b",
   "metadata": {},
   "outputs": [
    {
     "data": {
      "text/plain": [
       "{1, 12, 14, 15, 2, 3, 4, 5, 6, 7, 'Sudh', 'sudh'}"
      ]
     },
     "execution_count": 207,
     "metadata": {},
     "output_type": "execute_result"
    }
   ],
   "source": [
    "s4"
   ]
  },
  {
   "cell_type": "code",
   "execution_count": 208,
   "id": "7d3d44cd-50a2-4297-bf6b-8c36d796b686",
   "metadata": {},
   "outputs": [
    {
     "ename": "TypeError",
     "evalue": "'set' object is not subscriptable",
     "output_type": "error",
     "traceback": [
      "\u001b[0;31m---------------------------------------------------------------------------\u001b[0m",
      "\u001b[0;31mTypeError\u001b[0m                                 Traceback (most recent call last)",
      "Cell \u001b[0;32mIn[208], line 1\u001b[0m\n\u001b[0;32m----> 1\u001b[0m \u001b[43ms4\u001b[49m\u001b[43m[\u001b[49m\u001b[38;5;241;43m0\u001b[39;49m\u001b[43m]\u001b[49m\n",
      "\u001b[0;31mTypeError\u001b[0m: 'set' object is not subscriptable"
     ]
    }
   ],
   "source": [
    "s4[0]"
   ]
  },
  {
   "cell_type": "markdown",
   "id": "4a52a9ea-587e-4183-93a8-f6df22da0e7f",
   "metadata": {},
   "source": [
    "reason : Build an *unordered* collection of unique elements.\n"
   ]
  },
  {
   "cell_type": "code",
   "execution_count": 209,
   "id": "cfd2679c-00e9-4858-a3ab-1a2e5e34616e",
   "metadata": {},
   "outputs": [
    {
     "ename": "TypeError",
     "evalue": "'set' object is not subscriptable",
     "output_type": "error",
     "traceback": [
      "\u001b[0;31m---------------------------------------------------------------------------\u001b[0m",
      "\u001b[0;31mTypeError\u001b[0m                                 Traceback (most recent call last)",
      "Cell \u001b[0;32mIn[209], line 1\u001b[0m\n\u001b[0;32m----> 1\u001b[0m \u001b[43ms4\u001b[49m\u001b[43m[\u001b[49m\u001b[43m:\u001b[49m\u001b[43m]\u001b[49m\n",
      "\u001b[0;31mTypeError\u001b[0m: 'set' object is not subscriptable"
     ]
    }
   ],
   "source": [
    "s4[:]"
   ]
  },
  {
   "cell_type": "code",
   "execution_count": 210,
   "id": "09037e9f-f297-4af9-ace1-738335be85f6",
   "metadata": {},
   "outputs": [
    {
     "ename": "TypeError",
     "evalue": "'set' object is not subscriptable",
     "output_type": "error",
     "traceback": [
      "\u001b[0;31m---------------------------------------------------------------------------\u001b[0m",
      "\u001b[0;31mTypeError\u001b[0m                                 Traceback (most recent call last)",
      "Cell \u001b[0;32mIn[210], line 1\u001b[0m\n\u001b[0;32m----> 1\u001b[0m \u001b[43ms4\u001b[49m\u001b[43m[\u001b[49m\u001b[43m:\u001b[49m\u001b[43m:\u001b[49m\u001b[38;5;241;43m-\u001b[39;49m\u001b[38;5;241;43m1\u001b[39;49m\u001b[43m]\u001b[49m\n",
      "\u001b[0;31mTypeError\u001b[0m: 'set' object is not subscriptable"
     ]
    }
   ],
   "source": [
    "s4[::-1]"
   ]
  },
  {
   "cell_type": "code",
   "execution_count": 211,
   "id": "75230078-e400-4161-b963-81ee722e68fb",
   "metadata": {},
   "outputs": [],
   "source": [
    "s4.add(\"Nustya\")"
   ]
  },
  {
   "cell_type": "code",
   "execution_count": 212,
   "id": "058ea17b-97aa-4379-8cd2-84c9b8560794",
   "metadata": {},
   "outputs": [
    {
     "data": {
      "text/plain": [
       "{1, 12, 14, 15, 2, 3, 4, 5, 6, 7, 'Nustya', 'Sudh', 'sudh'}"
      ]
     },
     "execution_count": 212,
     "metadata": {},
     "output_type": "execute_result"
    }
   ],
   "source": [
    "s4"
   ]
  },
  {
   "cell_type": "code",
   "execution_count": null,
   "id": "d2fdb239-4ae4-4a63-b25d-321f19542a16",
   "metadata": {},
   "outputs": [],
   "source": []
  },
  {
   "cell_type": "code",
   "execution_count": 215,
   "id": "eefc6195-6bdb-4f85-b94a-2f2f66a12692",
   "metadata": {},
   "outputs": [
    {
     "data": {
      "text/plain": [
       "{1, 12, 14, 15, 2, 3, 4, 5, 6, 7, 'Nustya', 'Sudh', 'sudh'}"
      ]
     },
     "execution_count": 215,
     "metadata": {},
     "output_type": "execute_result"
    }
   ],
   "source": [
    "s4"
   ]
  },
  {
   "cell_type": "code",
   "execution_count": 216,
   "id": "385dc82d-3eec-4d5e-8544-c919ce6f9b97",
   "metadata": {},
   "outputs": [],
   "source": [
    "s4.add(1)"
   ]
  },
  {
   "cell_type": "code",
   "execution_count": 217,
   "id": "0fda638d-fcb3-4c80-9239-ee9b1bebb338",
   "metadata": {},
   "outputs": [
    {
     "data": {
      "text/plain": [
       "{1, 12, 14, 15, 2, 3, 4, 5, 6, 7, 'Nustya', 'Sudh', 'sudh'}"
      ]
     },
     "execution_count": 217,
     "metadata": {},
     "output_type": "execute_result"
    }
   ],
   "source": [
    "s4"
   ]
  },
  {
   "cell_type": "markdown",
   "id": "3a014020-bc22-4c22-9f1f-c6b9676808f4",
   "metadata": {},
   "source": [
    "position cannot be defined in the set therefore indexing cannot be done in the set"
   ]
  },
  {
   "cell_type": "code",
   "execution_count": null,
   "id": "f8e7eb2d-0d84-4bb9-b294-1f7888de3b6f",
   "metadata": {},
   "outputs": [],
   "source": []
  }
 ],
 "metadata": {
  "kernelspec": {
   "display_name": "Python 3 (ipykernel)",
   "language": "python",
   "name": "python3"
  },
  "language_info": {
   "codemirror_mode": {
    "name": "ipython",
    "version": 3
   },
   "file_extension": ".py",
   "mimetype": "text/x-python",
   "name": "python",
   "nbconvert_exporter": "python",
   "pygments_lexer": "ipython3",
   "version": "3.10.8"
  }
 },
 "nbformat": 4,
 "nbformat_minor": 5
}
