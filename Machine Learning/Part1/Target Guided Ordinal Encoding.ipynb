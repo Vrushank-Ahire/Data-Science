{
 "cells": [
  {
   "cell_type": "markdown",
   "id": "0d471d75-9928-4e8d-8b00-33a7d7deef39",
   "metadata": {},
   "source": [
    "## Target Guided Ordinal Encoding \n",
    "It is a technique used to encode categorical variables based on their relationship with the target variable. This encoding technique is useful when we have a categorical variable with a large number of unique categories, and we want to use this variable as a feature in our machine learning model.\n",
    "\n",
    "In Target Guided Ordinal Encoding, we replace each category in the categorical variable with a numerical value based on the mean or median of the target variable for that category. This creates a monotonic relationship between the categorical variable and the target variable, which can improve the predictive power of our model."
   ]
  },
  {
   "cell_type": "code",
   "execution_count": 66,
   "id": "080eac5c-dadd-40e7-a1e4-54f277bd72f7",
   "metadata": {},
   "outputs": [],
   "source": [
    "import pandas as pd\n",
    "\n",
    "# create a sample dataframe with a categorical variable and a target variable\n",
    "df = pd.DataFrame({\n",
    "    'city': ['New York', 'London', 'Paris', 'Tokyo', 'New York', 'Paris'],\n",
    "    'price': [200, 150, 300, 250, 180, 320]\n",
    "})"
   ]
  },
  {
   "cell_type": "code",
   "execution_count": 67,
   "id": "9d8e0ab0-202b-4427-a872-4873a0ad712e",
   "metadata": {},
   "outputs": [
    {
     "data": {
      "text/html": [
       "<div>\n",
       "<style scoped>\n",
       "    .dataframe tbody tr th:only-of-type {\n",
       "        vertical-align: middle;\n",
       "    }\n",
       "\n",
       "    .dataframe tbody tr th {\n",
       "        vertical-align: top;\n",
       "    }\n",
       "\n",
       "    .dataframe thead th {\n",
       "        text-align: right;\n",
       "    }\n",
       "</style>\n",
       "<table border=\"1\" class=\"dataframe\">\n",
       "  <thead>\n",
       "    <tr style=\"text-align: right;\">\n",
       "      <th></th>\n",
       "      <th>city</th>\n",
       "      <th>price</th>\n",
       "    </tr>\n",
       "  </thead>\n",
       "  <tbody>\n",
       "    <tr>\n",
       "      <th>0</th>\n",
       "      <td>New York</td>\n",
       "      <td>200</td>\n",
       "    </tr>\n",
       "    <tr>\n",
       "      <th>1</th>\n",
       "      <td>London</td>\n",
       "      <td>150</td>\n",
       "    </tr>\n",
       "    <tr>\n",
       "      <th>2</th>\n",
       "      <td>Paris</td>\n",
       "      <td>300</td>\n",
       "    </tr>\n",
       "    <tr>\n",
       "      <th>3</th>\n",
       "      <td>Tokyo</td>\n",
       "      <td>250</td>\n",
       "    </tr>\n",
       "    <tr>\n",
       "      <th>4</th>\n",
       "      <td>New York</td>\n",
       "      <td>180</td>\n",
       "    </tr>\n",
       "    <tr>\n",
       "      <th>5</th>\n",
       "      <td>Paris</td>\n",
       "      <td>320</td>\n",
       "    </tr>\n",
       "  </tbody>\n",
       "</table>\n",
       "</div>"
      ],
      "text/plain": [
       "       city  price\n",
       "0  New York    200\n",
       "1    London    150\n",
       "2     Paris    300\n",
       "3     Tokyo    250\n",
       "4  New York    180\n",
       "5     Paris    320"
      ]
     },
     "execution_count": 67,
     "metadata": {},
     "output_type": "execute_result"
    }
   ],
   "source": [
    "df"
   ]
  },
  {
   "cell_type": "code",
   "execution_count": 68,
   "id": "f51914e0-b397-445b-9dc9-ac52b3750a0c",
   "metadata": {},
   "outputs": [
    {
     "data": {
      "text/plain": [
       "[('London',\n",
       "  1    150\n",
       "  Name: price, dtype: int64),\n",
       " ('New York',\n",
       "  0    200\n",
       "  4    180\n",
       "  Name: price, dtype: int64),\n",
       " ('Paris',\n",
       "  2    300\n",
       "  5    320\n",
       "  Name: price, dtype: int64),\n",
       " ('Tokyo',\n",
       "  3    250\n",
       "  Name: price, dtype: int64)]"
      ]
     },
     "execution_count": 68,
     "metadata": {},
     "output_type": "execute_result"
    }
   ],
   "source": [
    "list(df.groupby(\"city\")[\"price\"])"
   ]
  },
  {
   "cell_type": "code",
   "execution_count": 69,
   "id": "4e6b57b4-d971-4b1f-943f-951879a48798",
   "metadata": {},
   "outputs": [
    {
     "data": {
      "text/plain": [
       "('London',\n",
       " 1    150\n",
       " Name: price, dtype: int64)"
      ]
     },
     "execution_count": 69,
     "metadata": {},
     "output_type": "execute_result"
    }
   ],
   "source": [
    "list(df.groupby(\"city\")[\"price\"])[0]"
   ]
  },
  {
   "cell_type": "code",
   "execution_count": 70,
   "id": "a34fbffd-44c7-4a4f-bc0c-b10c1c1da896",
   "metadata": {},
   "outputs": [
    {
     "data": {
      "text/plain": [
       "1    150\n",
       "Name: price, dtype: int64"
      ]
     },
     "execution_count": 70,
     "metadata": {},
     "output_type": "execute_result"
    }
   ],
   "source": [
    "list(df.groupby(\"city\")[\"price\"])[0][1]"
   ]
  },
  {
   "cell_type": "code",
   "execution_count": 71,
   "id": "06581e07-b2d2-47de-bbf7-0bc411c23915",
   "metadata": {},
   "outputs": [
    {
     "data": {
      "text/plain": [
       "city\n",
       "London      150.0\n",
       "New York    190.0\n",
       "Paris       310.0\n",
       "Tokyo       250.0\n",
       "Name: price, dtype: float64"
      ]
     },
     "execution_count": 71,
     "metadata": {},
     "output_type": "execute_result"
    }
   ],
   "source": [
    "df.groupby(\"city\")[\"price\"].mean()"
   ]
  },
  {
   "cell_type": "code",
   "execution_count": 72,
   "id": "4f4e544c-e0a6-402a-94e2-ba220c2efe24",
   "metadata": {},
   "outputs": [
    {
     "data": {
      "text/plain": [
       "[150.0, 190.0, 310.0, 250.0]"
      ]
     },
     "execution_count": 72,
     "metadata": {},
     "output_type": "execute_result"
    }
   ],
   "source": [
    "list(df.groupby(\"city\")[\"price\"].mean()) ##key value pair"
   ]
  },
  {
   "cell_type": "code",
   "execution_count": 73,
   "id": "8e2ba646-d845-41a8-b997-96049bbdf3ac",
   "metadata": {},
   "outputs": [],
   "source": [
    "mean_price = dict(df.groupby(\"city\")[\"price\"].mean()) ##key value pair"
   ]
  },
  {
   "cell_type": "code",
   "execution_count": 74,
   "id": "73a14d88-b91b-46f3-9ead-f007ff46665e",
   "metadata": {},
   "outputs": [
    {
     "data": {
      "text/plain": [
       "{'London': 150.0, 'New York': 190.0, 'Paris': 310.0, 'Tokyo': 250.0}"
      ]
     },
     "execution_count": 74,
     "metadata": {},
     "output_type": "execute_result"
    }
   ],
   "source": [
    "mean_price"
   ]
  },
  {
   "cell_type": "code",
   "execution_count": 75,
   "id": "c896a940-c05d-4939-a1ec-f04b7189cee7",
   "metadata": {},
   "outputs": [],
   "source": [
    "df['city_encoded'] = df['city'].map(mean_price)"
   ]
  },
  {
   "cell_type": "code",
   "execution_count": 76,
   "id": "280571a9-35ca-4f6d-81f7-ea6c5239a6df",
   "metadata": {},
   "outputs": [
    {
     "data": {
      "text/html": [
       "<div>\n",
       "<style scoped>\n",
       "    .dataframe tbody tr th:only-of-type {\n",
       "        vertical-align: middle;\n",
       "    }\n",
       "\n",
       "    .dataframe tbody tr th {\n",
       "        vertical-align: top;\n",
       "    }\n",
       "\n",
       "    .dataframe thead th {\n",
       "        text-align: right;\n",
       "    }\n",
       "</style>\n",
       "<table border=\"1\" class=\"dataframe\">\n",
       "  <thead>\n",
       "    <tr style=\"text-align: right;\">\n",
       "      <th></th>\n",
       "      <th>city</th>\n",
       "      <th>price</th>\n",
       "      <th>city_encoded</th>\n",
       "    </tr>\n",
       "  </thead>\n",
       "  <tbody>\n",
       "    <tr>\n",
       "      <th>0</th>\n",
       "      <td>New York</td>\n",
       "      <td>200</td>\n",
       "      <td>190.0</td>\n",
       "    </tr>\n",
       "    <tr>\n",
       "      <th>1</th>\n",
       "      <td>London</td>\n",
       "      <td>150</td>\n",
       "      <td>150.0</td>\n",
       "    </tr>\n",
       "    <tr>\n",
       "      <th>2</th>\n",
       "      <td>Paris</td>\n",
       "      <td>300</td>\n",
       "      <td>310.0</td>\n",
       "    </tr>\n",
       "    <tr>\n",
       "      <th>3</th>\n",
       "      <td>Tokyo</td>\n",
       "      <td>250</td>\n",
       "      <td>250.0</td>\n",
       "    </tr>\n",
       "    <tr>\n",
       "      <th>4</th>\n",
       "      <td>New York</td>\n",
       "      <td>180</td>\n",
       "      <td>190.0</td>\n",
       "    </tr>\n",
       "    <tr>\n",
       "      <th>5</th>\n",
       "      <td>Paris</td>\n",
       "      <td>320</td>\n",
       "      <td>310.0</td>\n",
       "    </tr>\n",
       "  </tbody>\n",
       "</table>\n",
       "</div>"
      ],
      "text/plain": [
       "       city  price  city_encoded\n",
       "0  New York    200         190.0\n",
       "1    London    150         150.0\n",
       "2     Paris    300         310.0\n",
       "3     Tokyo    250         250.0\n",
       "4  New York    180         190.0\n",
       "5     Paris    320         310.0"
      ]
     },
     "execution_count": 76,
     "metadata": {},
     "output_type": "execute_result"
    }
   ],
   "source": [
    "df"
   ]
  },
  {
   "cell_type": "code",
   "execution_count": null,
   "id": "a143a757-4cb5-4639-a147-46b4584474b7",
   "metadata": {},
   "outputs": [],
   "source": []
  },
  {
   "cell_type": "code",
   "execution_count": 77,
   "id": "dacc2c2f-3ccb-4964-bbf2-b1899d67fcc7",
   "metadata": {},
   "outputs": [],
   "source": [
    "import seaborn as sns"
   ]
  },
  {
   "cell_type": "code",
   "execution_count": 78,
   "id": "d65a55a1-5dff-4e33-9579-fc079211951b",
   "metadata": {},
   "outputs": [],
   "source": [
    "df =sns.load_dataset(\"tips\")"
   ]
  },
  {
   "cell_type": "code",
   "execution_count": 79,
   "id": "d83d3049-47fd-40eb-a745-7804a30de2bc",
   "metadata": {},
   "outputs": [
    {
     "data": {
      "text/html": [
       "<div>\n",
       "<style scoped>\n",
       "    .dataframe tbody tr th:only-of-type {\n",
       "        vertical-align: middle;\n",
       "    }\n",
       "\n",
       "    .dataframe tbody tr th {\n",
       "        vertical-align: top;\n",
       "    }\n",
       "\n",
       "    .dataframe thead th {\n",
       "        text-align: right;\n",
       "    }\n",
       "</style>\n",
       "<table border=\"1\" class=\"dataframe\">\n",
       "  <thead>\n",
       "    <tr style=\"text-align: right;\">\n",
       "      <th></th>\n",
       "      <th>total_bill</th>\n",
       "      <th>tip</th>\n",
       "      <th>sex</th>\n",
       "      <th>smoker</th>\n",
       "      <th>day</th>\n",
       "      <th>time</th>\n",
       "      <th>size</th>\n",
       "    </tr>\n",
       "  </thead>\n",
       "  <tbody>\n",
       "    <tr>\n",
       "      <th>0</th>\n",
       "      <td>16.99</td>\n",
       "      <td>1.01</td>\n",
       "      <td>Female</td>\n",
       "      <td>No</td>\n",
       "      <td>Sun</td>\n",
       "      <td>Dinner</td>\n",
       "      <td>2</td>\n",
       "    </tr>\n",
       "    <tr>\n",
       "      <th>1</th>\n",
       "      <td>10.34</td>\n",
       "      <td>1.66</td>\n",
       "      <td>Male</td>\n",
       "      <td>No</td>\n",
       "      <td>Sun</td>\n",
       "      <td>Dinner</td>\n",
       "      <td>3</td>\n",
       "    </tr>\n",
       "    <tr>\n",
       "      <th>2</th>\n",
       "      <td>21.01</td>\n",
       "      <td>3.50</td>\n",
       "      <td>Male</td>\n",
       "      <td>No</td>\n",
       "      <td>Sun</td>\n",
       "      <td>Dinner</td>\n",
       "      <td>3</td>\n",
       "    </tr>\n",
       "    <tr>\n",
       "      <th>3</th>\n",
       "      <td>23.68</td>\n",
       "      <td>3.31</td>\n",
       "      <td>Male</td>\n",
       "      <td>No</td>\n",
       "      <td>Sun</td>\n",
       "      <td>Dinner</td>\n",
       "      <td>2</td>\n",
       "    </tr>\n",
       "    <tr>\n",
       "      <th>4</th>\n",
       "      <td>24.59</td>\n",
       "      <td>3.61</td>\n",
       "      <td>Female</td>\n",
       "      <td>No</td>\n",
       "      <td>Sun</td>\n",
       "      <td>Dinner</td>\n",
       "      <td>4</td>\n",
       "    </tr>\n",
       "  </tbody>\n",
       "</table>\n",
       "</div>"
      ],
      "text/plain": [
       "   total_bill   tip     sex smoker  day    time  size\n",
       "0       16.99  1.01  Female     No  Sun  Dinner     2\n",
       "1       10.34  1.66    Male     No  Sun  Dinner     3\n",
       "2       21.01  3.50    Male     No  Sun  Dinner     3\n",
       "3       23.68  3.31    Male     No  Sun  Dinner     2\n",
       "4       24.59  3.61  Female     No  Sun  Dinner     4"
      ]
     },
     "execution_count": 79,
     "metadata": {},
     "output_type": "execute_result"
    }
   ],
   "source": [
    "df.head()"
   ]
  },
  {
   "cell_type": "code",
   "execution_count": 80,
   "id": "ace3ed46-f1c8-48e6-aafd-fd4cb48d8b18",
   "metadata": {},
   "outputs": [
    {
     "data": {
      "text/plain": [
       "[('Lunch',\n",
       "       total_bill   tip     sex smoker   day   time  size\n",
       "  77        27.20  4.00    Male     No  Thur  Lunch     4\n",
       "  78        22.76  3.00    Male     No  Thur  Lunch     2\n",
       "  79        17.29  2.71    Male     No  Thur  Lunch     2\n",
       "  80        19.44  3.00    Male    Yes  Thur  Lunch     2\n",
       "  81        16.66  3.40    Male     No  Thur  Lunch     2\n",
       "  ..          ...   ...     ...    ...   ...    ...   ...\n",
       "  222        8.58  1.92    Male    Yes   Fri  Lunch     1\n",
       "  223       15.98  3.00  Female     No   Fri  Lunch     3\n",
       "  224       13.42  1.58    Male    Yes   Fri  Lunch     2\n",
       "  225       16.27  2.50  Female    Yes   Fri  Lunch     2\n",
       "  226       10.09  2.00  Female    Yes   Fri  Lunch     2\n",
       "  \n",
       "  [68 rows x 7 columns]),\n",
       " ('Dinner',\n",
       "       total_bill   tip     sex smoker   day    time  size\n",
       "  0         16.99  1.01  Female     No   Sun  Dinner     2\n",
       "  1         10.34  1.66    Male     No   Sun  Dinner     3\n",
       "  2         21.01  3.50    Male     No   Sun  Dinner     3\n",
       "  3         23.68  3.31    Male     No   Sun  Dinner     2\n",
       "  4         24.59  3.61  Female     No   Sun  Dinner     4\n",
       "  ..          ...   ...     ...    ...   ...     ...   ...\n",
       "  239       29.03  5.92    Male     No   Sat  Dinner     3\n",
       "  240       27.18  2.00  Female    Yes   Sat  Dinner     2\n",
       "  241       22.67  2.00    Male    Yes   Sat  Dinner     2\n",
       "  242       17.82  1.75    Male     No   Sat  Dinner     2\n",
       "  243       18.78  3.00  Female     No  Thur  Dinner     2\n",
       "  \n",
       "  [176 rows x 7 columns])]"
      ]
     },
     "execution_count": 80,
     "metadata": {},
     "output_type": "execute_result"
    }
   ],
   "source": [
    "list(df.groupby(\"time\"))"
   ]
  },
  {
   "cell_type": "code",
   "execution_count": 81,
   "id": "3285e260-d244-4960-ae55-19009c3d059f",
   "metadata": {},
   "outputs": [],
   "source": [
    "##now take out a particular tuple from the list"
   ]
  },
  {
   "cell_type": "code",
   "execution_count": 82,
   "id": "06f2f375-553f-4481-9f9d-a6482c87913b",
   "metadata": {},
   "outputs": [
    {
     "data": {
      "text/plain": [
       "('Lunch',\n",
       "      total_bill   tip     sex smoker   day   time  size\n",
       " 77        27.20  4.00    Male     No  Thur  Lunch     4\n",
       " 78        22.76  3.00    Male     No  Thur  Lunch     2\n",
       " 79        17.29  2.71    Male     No  Thur  Lunch     2\n",
       " 80        19.44  3.00    Male    Yes  Thur  Lunch     2\n",
       " 81        16.66  3.40    Male     No  Thur  Lunch     2\n",
       " ..          ...   ...     ...    ...   ...    ...   ...\n",
       " 222        8.58  1.92    Male    Yes   Fri  Lunch     1\n",
       " 223       15.98  3.00  Female     No   Fri  Lunch     3\n",
       " 224       13.42  1.58    Male    Yes   Fri  Lunch     2\n",
       " 225       16.27  2.50  Female    Yes   Fri  Lunch     2\n",
       " 226       10.09  2.00  Female    Yes   Fri  Lunch     2\n",
       " \n",
       " [68 rows x 7 columns])"
      ]
     },
     "execution_count": 82,
     "metadata": {},
     "output_type": "execute_result"
    }
   ],
   "source": [
    "list(df.groupby(\"time\"))[0]"
   ]
  },
  {
   "cell_type": "code",
   "execution_count": 83,
   "id": "da22eafb-2d86-45bd-9c03-8a8004caa0fe",
   "metadata": {},
   "outputs": [
    {
     "data": {
      "text/plain": [
       "('Dinner',\n",
       "      total_bill   tip     sex smoker   day    time  size\n",
       " 0         16.99  1.01  Female     No   Sun  Dinner     2\n",
       " 1         10.34  1.66    Male     No   Sun  Dinner     3\n",
       " 2         21.01  3.50    Male     No   Sun  Dinner     3\n",
       " 3         23.68  3.31    Male     No   Sun  Dinner     2\n",
       " 4         24.59  3.61  Female     No   Sun  Dinner     4\n",
       " ..          ...   ...     ...    ...   ...     ...   ...\n",
       " 239       29.03  5.92    Male     No   Sat  Dinner     3\n",
       " 240       27.18  2.00  Female    Yes   Sat  Dinner     2\n",
       " 241       22.67  2.00    Male    Yes   Sat  Dinner     2\n",
       " 242       17.82  1.75    Male     No   Sat  Dinner     2\n",
       " 243       18.78  3.00  Female     No  Thur  Dinner     2\n",
       " \n",
       " [176 rows x 7 columns])"
      ]
     },
     "execution_count": 83,
     "metadata": {},
     "output_type": "execute_result"
    }
   ],
   "source": [
    "list(df.groupby(\"time\"))[1]"
   ]
  },
  {
   "cell_type": "code",
   "execution_count": 84,
   "id": "2081c3a3-6264-4fa4-94fb-96643ce78a37",
   "metadata": {},
   "outputs": [
    {
     "data": {
      "text/plain": [
       "[('Lunch',\n",
       "  77     27.20\n",
       "  78     22.76\n",
       "  79     17.29\n",
       "  80     19.44\n",
       "  81     16.66\n",
       "         ...  \n",
       "  222     8.58\n",
       "  223    15.98\n",
       "  224    13.42\n",
       "  225    16.27\n",
       "  226    10.09\n",
       "  Name: total_bill, Length: 68, dtype: float64),\n",
       " ('Dinner',\n",
       "  0      16.99\n",
       "  1      10.34\n",
       "  2      21.01\n",
       "  3      23.68\n",
       "  4      24.59\n",
       "         ...  \n",
       "  239    29.03\n",
       "  240    27.18\n",
       "  241    22.67\n",
       "  242    17.82\n",
       "  243    18.78\n",
       "  Name: total_bill, Length: 176, dtype: float64)]"
      ]
     },
     "execution_count": 84,
     "metadata": {},
     "output_type": "execute_result"
    }
   ],
   "source": [
    "list(df.groupby(\"time\")[\"total_bill\"])##two objects in this list   #on the basis of bill"
   ]
  },
  {
   "cell_type": "code",
   "execution_count": 85,
   "id": "8eee1ae0-e12f-4971-bb5d-509e58ae56fb",
   "metadata": {},
   "outputs": [
    {
     "data": {
      "text/plain": [
       "time\n",
       "Lunch     17.168676\n",
       "Dinner    20.797159\n",
       "Name: total_bill, dtype: float64"
      ]
     },
     "execution_count": 85,
     "metadata": {},
     "output_type": "execute_result"
    }
   ],
   "source": [
    "df.groupby(\"time\")[\"total_bill\"].mean()   #on the basis of bill"
   ]
  },
  {
   "cell_type": "code",
   "execution_count": 86,
   "id": "806ca93b-8f33-4d1b-843c-26e1e8628825",
   "metadata": {},
   "outputs": [
    {
     "data": {
      "text/plain": [
       "{'Lunch': 17.168676470588235, 'Dinner': 20.79715909090909}"
      ]
     },
     "execution_count": 86,
     "metadata": {},
     "output_type": "execute_result"
    }
   ],
   "source": [
    "(df.groupby(\"time\")[\"total_bill\"].mean()).to_dict()   #on the basis of bill"
   ]
  },
  {
   "cell_type": "code",
   "execution_count": 87,
   "id": "9b517444-8fc5-4e27-b500-8d589f13a4f9",
   "metadata": {},
   "outputs": [],
   "source": [
    "mean_values = dict(df.groupby(\"time\")[\"total_bill\"].mean())   #same as above"
   ]
  },
  {
   "cell_type": "code",
   "execution_count": 88,
   "id": "8f1d1dda-e702-414a-96e5-7c645d11c418",
   "metadata": {},
   "outputs": [
    {
     "data": {
      "text/plain": [
       "{'Lunch': 17.168676470588235, 'Dinner': 20.79715909090909}"
      ]
     },
     "execution_count": 88,
     "metadata": {},
     "output_type": "execute_result"
    }
   ],
   "source": [
    "mean_values"
   ]
  },
  {
   "cell_type": "code",
   "execution_count": 89,
   "id": "abc5dbcb-e45c-4205-93e5-f8abd2c1b33f",
   "metadata": {},
   "outputs": [],
   "source": [
    "df['time_changed'] = df['time'].map(mean_values)"
   ]
  },
  {
   "cell_type": "code",
   "execution_count": 91,
   "id": "e0efcb49-0902-4dad-9e3f-82c1c899851f",
   "metadata": {},
   "outputs": [
    {
     "data": {
      "text/html": [
       "<div>\n",
       "<style scoped>\n",
       "    .dataframe tbody tr th:only-of-type {\n",
       "        vertical-align: middle;\n",
       "    }\n",
       "\n",
       "    .dataframe tbody tr th {\n",
       "        vertical-align: top;\n",
       "    }\n",
       "\n",
       "    .dataframe thead th {\n",
       "        text-align: right;\n",
       "    }\n",
       "</style>\n",
       "<table border=\"1\" class=\"dataframe\">\n",
       "  <thead>\n",
       "    <tr style=\"text-align: right;\">\n",
       "      <th></th>\n",
       "      <th>total_bill</th>\n",
       "      <th>tip</th>\n",
       "      <th>sex</th>\n",
       "      <th>smoker</th>\n",
       "      <th>day</th>\n",
       "      <th>time</th>\n",
       "      <th>size</th>\n",
       "      <th>time_changed</th>\n",
       "    </tr>\n",
       "  </thead>\n",
       "  <tbody>\n",
       "    <tr>\n",
       "      <th>0</th>\n",
       "      <td>16.99</td>\n",
       "      <td>1.01</td>\n",
       "      <td>Female</td>\n",
       "      <td>No</td>\n",
       "      <td>Sun</td>\n",
       "      <td>Dinner</td>\n",
       "      <td>2</td>\n",
       "      <td>20.797159</td>\n",
       "    </tr>\n",
       "    <tr>\n",
       "      <th>1</th>\n",
       "      <td>10.34</td>\n",
       "      <td>1.66</td>\n",
       "      <td>Male</td>\n",
       "      <td>No</td>\n",
       "      <td>Sun</td>\n",
       "      <td>Dinner</td>\n",
       "      <td>3</td>\n",
       "      <td>20.797159</td>\n",
       "    </tr>\n",
       "    <tr>\n",
       "      <th>2</th>\n",
       "      <td>21.01</td>\n",
       "      <td>3.50</td>\n",
       "      <td>Male</td>\n",
       "      <td>No</td>\n",
       "      <td>Sun</td>\n",
       "      <td>Dinner</td>\n",
       "      <td>3</td>\n",
       "      <td>20.797159</td>\n",
       "    </tr>\n",
       "    <tr>\n",
       "      <th>3</th>\n",
       "      <td>23.68</td>\n",
       "      <td>3.31</td>\n",
       "      <td>Male</td>\n",
       "      <td>No</td>\n",
       "      <td>Sun</td>\n",
       "      <td>Dinner</td>\n",
       "      <td>2</td>\n",
       "      <td>20.797159</td>\n",
       "    </tr>\n",
       "    <tr>\n",
       "      <th>4</th>\n",
       "      <td>24.59</td>\n",
       "      <td>3.61</td>\n",
       "      <td>Female</td>\n",
       "      <td>No</td>\n",
       "      <td>Sun</td>\n",
       "      <td>Dinner</td>\n",
       "      <td>4</td>\n",
       "      <td>20.797159</td>\n",
       "    </tr>\n",
       "  </tbody>\n",
       "</table>\n",
       "</div>"
      ],
      "text/plain": [
       "   total_bill   tip     sex smoker  day    time  size time_changed\n",
       "0       16.99  1.01  Female     No  Sun  Dinner     2    20.797159\n",
       "1       10.34  1.66    Male     No  Sun  Dinner     3    20.797159\n",
       "2       21.01  3.50    Male     No  Sun  Dinner     3    20.797159\n",
       "3       23.68  3.31    Male     No  Sun  Dinner     2    20.797159\n",
       "4       24.59  3.61  Female     No  Sun  Dinner     4    20.797159"
      ]
     },
     "execution_count": 91,
     "metadata": {},
     "output_type": "execute_result"
    }
   ],
   "source": [
    "df.head()"
   ]
  },
  {
   "cell_type": "code",
   "execution_count": null,
   "id": "9729c25f-50c7-4ab9-bad4-12e437cfcedc",
   "metadata": {},
   "outputs": [],
   "source": []
  }
 ],
 "metadata": {
  "kernelspec": {
   "display_name": "Python 3 (ipykernel)",
   "language": "python",
   "name": "python3"
  },
  "language_info": {
   "codemirror_mode": {
    "name": "ipython",
    "version": 3
   },
   "file_extension": ".py",
   "mimetype": "text/x-python",
   "name": "python",
   "nbconvert_exporter": "python",
   "pygments_lexer": "ipython3",
   "version": "3.10.8"
  }
 },
 "nbformat": 4,
 "nbformat_minor": 5
}
