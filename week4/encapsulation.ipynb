{
 "cells": [
  {
   "cell_type": "code",
   "execution_count": 1,
   "id": "a5b5fe95-9312-4aa2-93b2-57100ac8e220",
   "metadata": {},
   "outputs": [],
   "source": [
    "class test :\n",
    "    \n",
    "    def __init__(mu):\n",
    "        mu.a = 14\n",
    "        mu.b = 35\n",
    "    "
   ]
  },
  {
   "cell_type": "code",
   "execution_count": 2,
   "id": "408dc58d-7855-4dab-8d1c-2314114e0fa6",
   "metadata": {},
   "outputs": [],
   "source": [
    "t = test()"
   ]
  },
  {
   "cell_type": "code",
   "execution_count": 3,
   "id": "12856180-2f2b-4de0-877c-8175d1acdff1",
   "metadata": {},
   "outputs": [
    {
     "data": {
      "text/plain": [
       "14"
      ]
     },
     "execution_count": 3,
     "metadata": {},
     "output_type": "execute_result"
    }
   ],
   "source": [
    "t.a"
   ]
  },
  {
   "cell_type": "code",
   "execution_count": 4,
   "id": "6fea0a4a-0645-461d-90f5-48dc3144bb3e",
   "metadata": {},
   "outputs": [],
   "source": [
    "t.a=15"
   ]
  },
  {
   "cell_type": "code",
   "execution_count": 5,
   "id": "249d21d8-2e79-4b47-81dd-ac509aa2ee46",
   "metadata": {},
   "outputs": [
    {
     "data": {
      "text/plain": [
       "15"
      ]
     },
     "execution_count": 5,
     "metadata": {},
     "output_type": "execute_result"
    }
   ],
   "source": [
    "t.a"
   ]
  },
  {
   "cell_type": "code",
   "execution_count": 6,
   "id": "44846754-e0fd-4131-9f51-65b6614aa76e",
   "metadata": {},
   "outputs": [],
   "source": [
    "class car :\n",
    "    def __init__(self , year , make , model , speed ) :\n",
    "        self.__year = year\n",
    "        self.__make = make \n",
    "        self.__model = model\n",
    "        self.__speed = 0\n",
    "    \n",
    "    def set_speed(self,speed) :\n",
    "        self.__speed = 0 if speed<0 else speed\n",
    "        \n",
    "    def get_speed(self) :\n",
    "        return self.__speed"
   ]
  },
  {
   "cell_type": "code",
   "execution_count": 7,
   "id": "f05cf364-2737-4fae-a697-8e984e03ea68",
   "metadata": {},
   "outputs": [],
   "source": [
    "c=car(2022,\"Suzuki\",\"Maruti\",16)"
   ]
  },
  {
   "cell_type": "code",
   "execution_count": 8,
   "id": "d224c2ac-3bd2-4ddc-8d15-9e3c2c865f1e",
   "metadata": {},
   "outputs": [
    {
     "ename": "AttributeError",
     "evalue": "'car' object has no attribute 'mro'",
     "output_type": "error",
     "traceback": [
      "\u001b[0;31m---------------------------------------------------------------------------\u001b[0m",
      "\u001b[0;31mAttributeError\u001b[0m                            Traceback (most recent call last)",
      "Cell \u001b[0;32mIn[8], line 1\u001b[0m\n\u001b[0;32m----> 1\u001b[0m \u001b[43mc\u001b[49m\u001b[38;5;241;43m.\u001b[39;49m\u001b[43mmro\u001b[49m\n",
      "\u001b[0;31mAttributeError\u001b[0m: 'car' object has no attribute 'mro'"
     ]
    }
   ],
   "source": [
    "c.mro"
   ]
  },
  {
   "cell_type": "code",
   "execution_count": null,
   "id": "c5a47566-0e79-4017-9938-3723526fa8e5",
   "metadata": {},
   "outputs": [],
   "source": [
    "c.get_speed"
   ]
  },
  {
   "cell_type": "code",
   "execution_count": 9,
   "id": "dec9ec7e-a219-4061-9639-91f85fcf88f9",
   "metadata": {},
   "outputs": [
    {
     "data": {
      "text/plain": [
       "0"
      ]
     },
     "execution_count": 9,
     "metadata": {},
     "output_type": "execute_result"
    }
   ],
   "source": [
    "c.get_speed()"
   ]
  },
  {
   "cell_type": "code",
   "execution_count": 10,
   "id": "804d6307-dc15-4181-9d2b-5805b34754ba",
   "metadata": {},
   "outputs": [],
   "source": [
    "c.set_speed(16)"
   ]
  },
  {
   "cell_type": "code",
   "execution_count": 11,
   "id": "2788bf8b-8320-4de1-a906-10e31721f9b5",
   "metadata": {},
   "outputs": [
    {
     "data": {
      "text/plain": [
       "<bound method car.get_speed of <__main__.car object at 0x7f4b0c6d2e30>>"
      ]
     },
     "execution_count": 11,
     "metadata": {},
     "output_type": "execute_result"
    }
   ],
   "source": [
    "c.get_speed\n"
   ]
  },
  {
   "cell_type": "code",
   "execution_count": 12,
   "id": "8734fd29-c19a-406b-96cf-d8057c5eaa42",
   "metadata": {},
   "outputs": [
    {
     "data": {
      "text/plain": [
       "16"
      ]
     },
     "execution_count": 12,
     "metadata": {},
     "output_type": "execute_result"
    }
   ],
   "source": [
    "c.get_speed()"
   ]
  },
  {
   "cell_type": "code",
   "execution_count": 13,
   "id": "f89f5055-1a99-4247-b2f1-cf05b32a6381",
   "metadata": {},
   "outputs": [],
   "source": [
    "c.set_speed(-6666)"
   ]
  },
  {
   "cell_type": "code",
   "execution_count": 14,
   "id": "7b6fc2b8-8505-4851-af4b-73f8e6b952a8",
   "metadata": {},
   "outputs": [
    {
     "data": {
      "text/plain": [
       "0"
      ]
     },
     "execution_count": 14,
     "metadata": {},
     "output_type": "execute_result"
    }
   ],
   "source": [
    "c.get_speed()"
   ]
  },
  {
   "cell_type": "code",
   "execution_count": 15,
   "id": "99ea6f71-f247-4abe-bde0-b1a9a9a8935e",
   "metadata": {},
   "outputs": [],
   "source": [
    "class bank_account() :\n",
    "    \n",
    "    def __init__(self,balance):\n",
    "        self.__balance = balance #protection __\n",
    "        \n",
    "    def deposit(self,amount):\n",
    "        self.__balance =  self.__balance + amount\n",
    "        \n",
    "    def withdraw(self,amount):\n",
    "        if self.__balance > amount :\n",
    "            self.__balance = self.__balance -amount\n",
    "            return True\n",
    "        else :\n",
    "            return False\n",
    "    \n",
    "    def get_balance(self):\n",
    "        return self.__balance"
   ]
  },
  {
   "cell_type": "code",
   "execution_count": 16,
   "id": "677aeff3-9c22-4f44-a05d-22ea33fb25d7",
   "metadata": {},
   "outputs": [],
   "source": [
    "Vrushank=bank_account(2000)"
   ]
  },
  {
   "cell_type": "code",
   "execution_count": 20,
   "id": "dcd8e486-a17d-4065-b9e8-4bf87149d920",
   "metadata": {},
   "outputs": [],
   "source": [
    "Vrushank.deposit(111)"
   ]
  },
  {
   "cell_type": "code",
   "execution_count": 21,
   "id": "6aaa872f-0ce2-4262-ac96-40ef2f9d4abb",
   "metadata": {},
   "outputs": [
    {
     "data": {
      "text/plain": [
       "2333"
      ]
     },
     "execution_count": 21,
     "metadata": {},
     "output_type": "execute_result"
    }
   ],
   "source": [
    "Vrushank.get_balance()"
   ]
  },
  {
   "cell_type": "code",
   "execution_count": 22,
   "id": "f471d602-44e4-4a9a-9100-53d82146aa47",
   "metadata": {},
   "outputs": [
    {
     "data": {
      "text/plain": [
       "True"
      ]
     },
     "execution_count": 22,
     "metadata": {},
     "output_type": "execute_result"
    }
   ],
   "source": [
    "Vrushank.withdraw(111)"
   ]
  },
  {
   "cell_type": "code",
   "execution_count": 23,
   "id": "b046b1df-53af-4805-85c4-03739f8ec83b",
   "metadata": {},
   "outputs": [
    {
     "data": {
      "text/plain": [
       "2222"
      ]
     },
     "execution_count": 23,
     "metadata": {},
     "output_type": "execute_result"
    }
   ],
   "source": [
    "Vrushank.get_balance()"
   ]
  },
  {
   "cell_type": "code",
   "execution_count": null,
   "id": "b3dbafee-0b26-41b6-bdbc-f3218949eafb",
   "metadata": {},
   "outputs": [],
   "source": []
  }
 ],
 "metadata": {
  "kernelspec": {
   "display_name": "Python 3 (ipykernel)",
   "language": "python",
   "name": "python3"
  },
  "language_info": {
   "codemirror_mode": {
    "name": "ipython",
    "version": 3
   },
   "file_extension": ".py",
   "mimetype": "text/x-python",
   "name": "python",
   "nbconvert_exporter": "python",
   "pygments_lexer": "ipython3",
   "version": "3.10.8"
  }
 },
 "nbformat": 4,
 "nbformat_minor": 5
}
