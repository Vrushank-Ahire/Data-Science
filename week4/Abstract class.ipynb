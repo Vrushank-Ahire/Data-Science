{
 "cells": [
  {
   "cell_type": "code",
   "execution_count": 25,
   "id": "63818b9c-a480-451d-b479-b4a83133c132",
   "metadata": {},
   "outputs": [],
   "source": [
    "import abc\n",
    "class abacademy:\n",
    "    @abc.abstractmethod\n",
    "    def email_id(self):\n",
    "        return \"demo\"\n",
    "    \n",
    "    @abc.abstractmethod\n",
    "    def phone_no(self):\n",
    "        return \"demo\"\n",
    "    \n",
    "    @abc.abstractmethod\n",
    "    def entry_no(self):\n",
    "        return \"demo\"\n",
    "    \n"
   ]
  },
  {
   "cell_type": "code",
   "execution_count": 26,
   "id": "61d19760-e882-4f1c-91d1-39de060177ec",
   "metadata": {},
   "outputs": [],
   "source": [
    "class stud1_details(abacademy):\n",
    "    \n",
    "    def email_id(self):\n",
    "        return \"Shivam@\"\n",
    "    \n",
    "    def phone_no(self):\n",
    "        return \"789955661\""
   ]
  },
  {
   "cell_type": "code",
   "execution_count": 27,
   "id": "7fd36cef-69d6-4cd5-b605-d74bdb38ed61",
   "metadata": {},
   "outputs": [],
   "source": [
    "class stud2_details(abacademy):\n",
    "    \n",
    "    def email_id(self):\n",
    "        return \"Vismay@Algo\"\n",
    "    \n",
    "    def entry_no(self):\n",
    "        return \"156423\""
   ]
  },
  {
   "cell_type": "code",
   "execution_count": 28,
   "id": "0ca4d67e-29af-4aa5-9ba8-cec6629fc291",
   "metadata": {},
   "outputs": [],
   "source": [
    "temp1 = stud1_details()"
   ]
  },
  {
   "cell_type": "code",
   "execution_count": 29,
   "id": "54f41965-23f0-4d1d-938d-5944220de6e6",
   "metadata": {},
   "outputs": [],
   "source": [
    "temp2 = stud2_details()"
   ]
  },
  {
   "cell_type": "code",
   "execution_count": 30,
   "id": "92451d8f-a14e-4313-b740-bae96c7563cd",
   "metadata": {},
   "outputs": [
    {
     "data": {
      "text/plain": [
       "'Shivam@'"
      ]
     },
     "execution_count": 30,
     "metadata": {},
     "output_type": "execute_result"
    }
   ],
   "source": [
    "temp1.email_id()"
   ]
  },
  {
   "cell_type": "code",
   "execution_count": 31,
   "id": "e23634cd-f102-4e81-8350-545c9c7e9551",
   "metadata": {},
   "outputs": [
    {
     "data": {
      "text/plain": [
       "'demo'"
      ]
     },
     "execution_count": 31,
     "metadata": {},
     "output_type": "execute_result"
    }
   ],
   "source": [
    "temp1.entry_no()"
   ]
  },
  {
   "cell_type": "code",
   "execution_count": 33,
   "id": "e84b554e-64b3-40ae-a9a3-da0a96b4c258",
   "metadata": {},
   "outputs": [
    {
     "data": {
      "text/plain": [
       "'789955661'"
      ]
     },
     "execution_count": 33,
     "metadata": {},
     "output_type": "execute_result"
    }
   ],
   "source": [
    "temp1.phone_no()"
   ]
  },
  {
   "cell_type": "code",
   "execution_count": 34,
   "id": "bba804a6-c4b8-4aa4-9f64-90eea290a7bc",
   "metadata": {},
   "outputs": [
    {
     "data": {
      "text/plain": [
       "'Vismay@Algo'"
      ]
     },
     "execution_count": 34,
     "metadata": {},
     "output_type": "execute_result"
    }
   ],
   "source": [
    "temp2.email_id()"
   ]
  },
  {
   "cell_type": "code",
   "execution_count": 35,
   "id": "6a61aebd-74ec-423c-bff9-2f9c86c507d4",
   "metadata": {},
   "outputs": [
    {
     "data": {
      "text/plain": [
       "'156423'"
      ]
     },
     "execution_count": 35,
     "metadata": {},
     "output_type": "execute_result"
    }
   ],
   "source": [
    "temp2.entry_no()"
   ]
  },
  {
   "cell_type": "code",
   "execution_count": 36,
   "id": "e2072d82-6460-45a1-9a17-b9413caac079",
   "metadata": {},
   "outputs": [
    {
     "data": {
      "text/plain": [
       "'demo'"
      ]
     },
     "execution_count": 36,
     "metadata": {},
     "output_type": "execute_result"
    }
   ],
   "source": [
    "temp2.phone_no()"
   ]
  },
  {
   "cell_type": "code",
   "execution_count": null,
   "id": "cd094b0c-5767-43a5-85a0-7e37db6477b5",
   "metadata": {},
   "outputs": [],
   "source": []
  }
 ],
 "metadata": {
  "kernelspec": {
   "display_name": "Python 3 (ipykernel)",
   "language": "python",
   "name": "python3"
  },
  "language_info": {
   "codemirror_mode": {
    "name": "ipython",
    "version": 3
   },
   "file_extension": ".py",
   "mimetype": "text/x-python",
   "name": "python",
   "nbconvert_exporter": "python",
   "pygments_lexer": "ipython3",
   "version": "3.10.8"
  }
 },
 "nbformat": 4,
 "nbformat_minor": 5
}
