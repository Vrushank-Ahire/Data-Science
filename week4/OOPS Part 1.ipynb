{
 "cells": [
  {
   "cell_type": "code",
   "execution_count": 1,
   "id": "ea1ce003-52ca-4749-8da2-1b2c137aeccb",
   "metadata": {},
   "outputs": [],
   "source": [
    "a=10\n"
   ]
  },
  {
   "cell_type": "code",
   "execution_count": 2,
   "id": "0f8c1a94-33e3-4315-b3ad-91e220b6819e",
   "metadata": {},
   "outputs": [
    {
     "data": {
      "text/plain": [
       "int"
      ]
     },
     "execution_count": 2,
     "metadata": {},
     "output_type": "execute_result"
    }
   ],
   "source": [
    "type(a)"
   ]
  },
  {
   "cell_type": "code",
   "execution_count": 3,
   "id": "b0ba7963-02fc-4054-a344-21cdab67579b",
   "metadata": {},
   "outputs": [
    {
     "name": "stdout",
     "output_type": "stream",
     "text": [
      "<class 'int'>\n"
     ]
    }
   ],
   "source": [
    "print(type(a))"
   ]
  },
  {
   "cell_type": "code",
   "execution_count": 4,
   "id": "fa8025ea-3a49-4670-9168-a806fc956e03",
   "metadata": {},
   "outputs": [
    {
     "name": "stdout",
     "output_type": "stream",
     "text": [
      "<class 'str'>\n"
     ]
    }
   ],
   "source": [
    "print(type(\"Vrushank\"))"
   ]
  },
  {
   "cell_type": "code",
   "execution_count": 5,
   "id": "4f332a3a-677d-4aec-8c1d-668d7d934c10",
   "metadata": {},
   "outputs": [
    {
     "ename": "SyntaxError",
     "evalue": "incomplete input (3527747674.py, line 1)",
     "output_type": "error",
     "traceback": [
      "\u001b[0;36m  Cell \u001b[0;32mIn[5], line 1\u001b[0;36m\u001b[0m\n\u001b[0;31m    class test:\u001b[0m\n\u001b[0m               ^\u001b[0m\n\u001b[0;31mSyntaxError\u001b[0m\u001b[0;31m:\u001b[0m incomplete input\n"
     ]
    }
   ],
   "source": [
    "class test:"
   ]
  },
  {
   "cell_type": "code",
   "execution_count": 7,
   "id": "36829a97-41d5-4748-b88f-8ebccbccce14",
   "metadata": {},
   "outputs": [],
   "source": [
    "class test :\n",
    "    pass"
   ]
  },
  {
   "cell_type": "code",
   "execution_count": 8,
   "id": "78e08db5-c4a6-45cd-9d44-bec6aeca2f29",
   "metadata": {},
   "outputs": [],
   "source": [
    "b= test()"
   ]
  },
  {
   "cell_type": "code",
   "execution_count": 9,
   "id": "26a4ba83-dbdc-457f-90d8-4f8d95d99f18",
   "metadata": {},
   "outputs": [
    {
     "data": {
      "text/plain": [
       "__main__.test"
      ]
     },
     "execution_count": 9,
     "metadata": {},
     "output_type": "execute_result"
    }
   ],
   "source": [
    "type(b)"
   ]
  },
  {
   "cell_type": "code",
   "execution_count": 10,
   "id": "6e0abf58-53dc-4344-b654-3634fa4338f8",
   "metadata": {},
   "outputs": [
    {
     "name": "stdout",
     "output_type": "stream",
     "text": [
      "<class '__main__.test'>\n"
     ]
    }
   ],
   "source": [
    "print(type(b))"
   ]
  },
  {
   "cell_type": "code",
   "execution_count": 11,
   "id": "012a66c8-e93e-4ec6-a3a5-757cae0cd229",
   "metadata": {},
   "outputs": [],
   "source": [
    "class abacademy:\n",
    "    \n",
    "    def wel_msg():\n",
    "        print(\"Welcome boi!\")\n",
    "    "
   ]
  },
  {
   "cell_type": "code",
   "execution_count": 14,
   "id": "2717a413-de14-43d0-ac37-89cdca1fd698",
   "metadata": {},
   "outputs": [],
   "source": [
    "vrushank = abacademy()"
   ]
  },
  {
   "cell_type": "code",
   "execution_count": 16,
   "id": "07a2af46-918b-4574-baf9-eef6f5dca378",
   "metadata": {},
   "outputs": [
    {
     "name": "stdout",
     "output_type": "stream",
     "text": [
      "<class '__main__.abacademy'>\n"
     ]
    }
   ],
   "source": [
    "print(type(vrushank))"
   ]
  },
  {
   "cell_type": "code",
   "execution_count": 15,
   "id": "80a5f2f3-b72b-4063-a0ff-9cf917927ffa",
   "metadata": {},
   "outputs": [
    {
     "ename": "TypeError",
     "evalue": "abacademy.wel_msg() takes 0 positional arguments but 1 was given",
     "output_type": "error",
     "traceback": [
      "\u001b[0;31m---------------------------------------------------------------------------\u001b[0m",
      "\u001b[0;31mTypeError\u001b[0m                                 Traceback (most recent call last)",
      "Cell \u001b[0;32mIn[15], line 1\u001b[0m\n\u001b[0;32m----> 1\u001b[0m \u001b[43mvrushank\u001b[49m\u001b[38;5;241;43m.\u001b[39;49m\u001b[43mwel_msg\u001b[49m\u001b[43m(\u001b[49m\u001b[43m)\u001b[49m\n",
      "\u001b[0;31mTypeError\u001b[0m: abacademy.wel_msg() takes 0 positional arguments but 1 was given"
     ]
    }
   ],
   "source": [
    "vrushank.wel_msg()"
   ]
  },
  {
   "cell_type": "code",
   "execution_count": 17,
   "id": "982f6418-23af-4985-8ffb-569430851183",
   "metadata": {},
   "outputs": [],
   "source": [
    "class abacademy:\n",
    "    \n",
    "    def wel_msg(self):\n",
    "        print(\"Welcome boi!\")\n",
    "    "
   ]
  },
  {
   "cell_type": "code",
   "execution_count": 18,
   "id": "cff7ef5f-8f8d-40e9-8113-c9f85bc91d27",
   "metadata": {},
   "outputs": [],
   "source": [
    "vrushank=abacademy()\n"
   ]
  },
  {
   "cell_type": "code",
   "execution_count": 19,
   "id": "83f5df27-eb0c-4582-a230-408e0d26ef4b",
   "metadata": {},
   "outputs": [
    {
     "name": "stdout",
     "output_type": "stream",
     "text": [
      "Welcome boi!\n"
     ]
    }
   ],
   "source": [
    "vrushank.wel_msg()"
   ]
  },
  {
   "cell_type": "code",
   "execution_count": 20,
   "id": "89538ed7-fb5b-4a73-9b11-3aa4b85df95d",
   "metadata": {},
   "outputs": [],
   "source": [
    "shivam = abacademy()\n"
   ]
  },
  {
   "cell_type": "code",
   "execution_count": 21,
   "id": "a418e1d6-d652-4ade-8d42-56ef93213bcd",
   "metadata": {},
   "outputs": [
    {
     "name": "stdout",
     "output_type": "stream",
     "text": [
      "Welcome boi!\n"
     ]
    }
   ],
   "source": [
    "shivam.wel_msg()"
   ]
  },
  {
   "cell_type": "code",
   "execution_count": 37,
   "id": "66eefd90-69d4-462f-a9d4-a754659897fe",
   "metadata": {},
   "outputs": [],
   "source": [
    "class abacademy:\n",
    "    \n",
    "    def __init__(self,entry,email,mob):\n",
    "        self.entry=entry\n",
    "        self.email=email\n",
    "        self.mob=mob\n",
    "    \n",
    "    def return_details(self):\n",
    "        return self.entry,self.email,self.mob"
   ]
  },
  {
   "cell_type": "code",
   "execution_count": 38,
   "id": "890d5f7c-3f26-4bb7-ac2f-03211a20deb5",
   "metadata": {},
   "outputs": [
    {
     "ename": "TypeError",
     "evalue": "abacademy.__init__() missing 3 required positional arguments: 'entry', 'email', and 'mob'",
     "output_type": "error",
     "traceback": [
      "\u001b[0;31m---------------------------------------------------------------------------\u001b[0m",
      "\u001b[0;31mTypeError\u001b[0m                                 Traceback (most recent call last)",
      "Cell \u001b[0;32mIn[38], line 1\u001b[0m\n\u001b[0;32m----> 1\u001b[0m vismay\u001b[38;5;241m=\u001b[39m\u001b[43mabacademy\u001b[49m\u001b[43m(\u001b[49m\u001b[43m)\u001b[49m\n",
      "\u001b[0;31mTypeError\u001b[0m: abacademy.__init__() missing 3 required positional arguments: 'entry', 'email', and 'mob'"
     ]
    }
   ],
   "source": [
    "vismay=abacademy()"
   ]
  },
  {
   "cell_type": "code",
   "execution_count": 39,
   "id": "611a64cf-c9bc-4382-bfce-6d5933950a0a",
   "metadata": {},
   "outputs": [],
   "source": [
    "vismay=abacademy('mcb1283','walde@123',78228)"
   ]
  },
  {
   "cell_type": "code",
   "execution_count": 40,
   "id": "ca593c7b-0a3c-4d8e-ae63-41988ec1a742",
   "metadata": {},
   "outputs": [
    {
     "data": {
      "text/plain": [
       "<__main__.abacademy at 0x7fe46b3919f0>"
      ]
     },
     "execution_count": 40,
     "metadata": {},
     "output_type": "execute_result"
    }
   ],
   "source": [
    "vismay"
   ]
  },
  {
   "cell_type": "code",
   "execution_count": 41,
   "id": "a85a60b1-77f2-4a1f-a050-280f2792462c",
   "metadata": {},
   "outputs": [
    {
     "name": "stdout",
     "output_type": "stream",
     "text": [
      "<class '__main__.abacademy'>\n"
     ]
    }
   ],
   "source": [
    "print(type(vismay))"
   ]
  },
  {
   "cell_type": "code",
   "execution_count": 42,
   "id": "7efaf226-9c45-4c74-ba6f-ba3866006a15",
   "metadata": {},
   "outputs": [
    {
     "data": {
      "text/plain": [
       "'walde@123'"
      ]
     },
     "execution_count": 42,
     "metadata": {},
     "output_type": "execute_result"
    }
   ],
   "source": [
    "vismay.email"
   ]
  },
  {
   "cell_type": "code",
   "execution_count": 43,
   "id": "f8844a58-f112-4a4f-899d-b14a898b655d",
   "metadata": {},
   "outputs": [
    {
     "data": {
      "text/plain": [
       "78228"
      ]
     },
     "execution_count": 43,
     "metadata": {},
     "output_type": "execute_result"
    }
   ],
   "source": [
    "vismay.mob"
   ]
  },
  {
   "cell_type": "code",
   "execution_count": 44,
   "id": "dec0ea86-47e2-4b1e-b3a7-1795bb493ffa",
   "metadata": {},
   "outputs": [
    {
     "data": {
      "text/plain": [
       "'mcb1283'"
      ]
     },
     "execution_count": 44,
     "metadata": {},
     "output_type": "execute_result"
    }
   ],
   "source": [
    "vismay.entry"
   ]
  },
  {
   "cell_type": "code",
   "execution_count": 45,
   "id": "352d95fa-2053-4c4c-9213-fe21e48cd179",
   "metadata": {},
   "outputs": [
    {
     "data": {
      "text/plain": [
       "('mcb1283', 'walde@123', 78228)"
      ]
     },
     "execution_count": 45,
     "metadata": {},
     "output_type": "execute_result"
    }
   ],
   "source": [
    "vismay.return_details()"
   ]
  },
  {
   "cell_type": "code",
   "execution_count": null,
   "id": "f59955cd-6244-4b5f-8bef-1edf7caca36f",
   "metadata": {},
   "outputs": [],
   "source": []
  },
  {
   "cell_type": "code",
   "execution_count": null,
   "id": "cf7d8f10-b5a1-45ad-a5b8-b150a3a88231",
   "metadata": {},
   "outputs": [],
   "source": []
  },
  {
   "cell_type": "code",
   "execution_count": 54,
   "id": "542e8886-fd32-4729-a5e0-d22355114eff",
   "metadata": {},
   "outputs": [],
   "source": [
    "class navjeevan :\n",
    "    \n",
    "    def __init__ (self,product,mrp,discount):\n",
    "        self.productabc=product\n",
    "        self.mrpijk=mrp\n",
    "        self.discountxyz=discount\n",
    "    \n",
    "    def billing(self) :\n",
    "        return self.productabc,self.mrpijk,self.discountxyz"
   ]
  },
  {
   "cell_type": "code",
   "execution_count": 55,
   "id": "c9390c89-dda0-4d9d-bf5b-12e2a1601106",
   "metadata": {},
   "outputs": [
    {
     "ename": "TypeError",
     "evalue": "navjeevan.__init__() missing 3 required positional arguments: 'product', 'mrp', and 'discount'",
     "output_type": "error",
     "traceback": [
      "\u001b[0;31m---------------------------------------------------------------------------\u001b[0m",
      "\u001b[0;31mTypeError\u001b[0m                                 Traceback (most recent call last)",
      "Cell \u001b[0;32mIn[55], line 1\u001b[0m\n\u001b[0;32m----> 1\u001b[0m sugar\u001b[38;5;241m=\u001b[39m\u001b[43mnavjeevan\u001b[49m\u001b[43m(\u001b[49m\u001b[43m)\u001b[49m\n",
      "\u001b[0;31mTypeError\u001b[0m: navjeevan.__init__() missing 3 required positional arguments: 'product', 'mrp', and 'discount'"
     ]
    }
   ],
   "source": [
    "sugar=navjeevan()"
   ]
  },
  {
   "cell_type": "code",
   "execution_count": 56,
   "id": "6e208821-95ba-4054-bc64-c32b53ec367d",
   "metadata": {},
   "outputs": [],
   "source": [
    "product1=navjeevan('sugar',40,5)"
   ]
  },
  {
   "cell_type": "code",
   "execution_count": 57,
   "id": "d98f1779-0491-4b44-9781-ecaae366ce78",
   "metadata": {},
   "outputs": [
    {
     "data": {
      "text/plain": [
       "('sugar', 40, 5)"
      ]
     },
     "execution_count": 57,
     "metadata": {},
     "output_type": "execute_result"
    }
   ],
   "source": [
    "product1.billing()"
   ]
  },
  {
   "cell_type": "code",
   "execution_count": 59,
   "id": "a20d6888-33ac-4c09-beec-b5c31fda7fb6",
   "metadata": {},
   "outputs": [
    {
     "data": {
      "text/plain": [
       "40"
      ]
     },
     "execution_count": 59,
     "metadata": {},
     "output_type": "execute_result"
    }
   ],
   "source": [
    "product1.mrpijk"
   ]
  },
  {
   "cell_type": "markdown",
   "id": "e5e14656-4e49-48c1-81f3-7699063c2d56",
   "metadata": {},
   "source": [
    "\n",
    "note that self is just behaving as a pointer ,  we can also use some another word instead of self "
   ]
  },
  {
   "cell_type": "markdown",
   "id": "8d5f9111-9683-4303-a913-1fa0ef891f55",
   "metadata": {},
   "source": [
    "suppose we use nustya"
   ]
  },
  {
   "cell_type": "code",
   "execution_count": 61,
   "id": "2fb5715d-47b6-4186-bdf4-97201a581d9e",
   "metadata": {},
   "outputs": [],
   "source": [
    "class fruits :\n",
    "    \n",
    "    def __init__(nustya,condition,mrp):\n",
    "        nustya.condition123=condition\n",
    "        nustya.mrp456=mrp\n",
    "        \n",
    "    def return_details(nustya):\n",
    "        return nustya.mrp456*10\n",
    "    "
   ]
  },
  {
   "cell_type": "code",
   "execution_count": 64,
   "id": "b8be4399-87dc-453e-9f32-812c479e43f0",
   "metadata": {},
   "outputs": [],
   "source": [
    "banana=fruits('okay',12)"
   ]
  },
  {
   "cell_type": "code",
   "execution_count": 68,
   "id": "a5367ff1-d6c5-4018-bb9f-ceaf9d21b5b6",
   "metadata": {},
   "outputs": [
    {
     "data": {
      "text/plain": [
       "120"
      ]
     },
     "execution_count": 68,
     "metadata": {},
     "output_type": "execute_result"
    }
   ],
   "source": [
    "banana.return_details()"
   ]
  },
  {
   "cell_type": "code",
   "execution_count": null,
   "id": "ccef2015-9bbb-4672-8831-4f220987d80c",
   "metadata": {},
   "outputs": [],
   "source": []
  }
 ],
 "metadata": {
  "kernelspec": {
   "display_name": "Python 3 (ipykernel)",
   "language": "python",
   "name": "python3"
  },
  "language_info": {
   "codemirror_mode": {
    "name": "ipython",
    "version": 3
   },
   "file_extension": ".py",
   "mimetype": "text/x-python",
   "name": "python",
   "nbconvert_exporter": "python",
   "pygments_lexer": "ipython3",
   "version": "3.10.8"
  }
 },
 "nbformat": 4,
 "nbformat_minor": 5
}
