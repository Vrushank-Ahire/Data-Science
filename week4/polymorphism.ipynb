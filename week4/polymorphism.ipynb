{
 "cells": [
  {
   "cell_type": "code",
   "execution_count": 3,
   "id": "5f02e87f-7474-495c-bccb-6b8016543b3b",
   "metadata": {},
   "outputs": [],
   "source": [
    "l=[1,2,3]"
   ]
  },
  {
   "cell_type": "code",
   "execution_count": 4,
   "id": "5f4d4908-059f-466f-b4cd-ec3adfbbf8f6",
   "metadata": {},
   "outputs": [],
   "source": [
    "def mul(a,b,c):\n",
    "    return a+2*b+3*c"
   ]
  },
  {
   "cell_type": "code",
   "execution_count": 5,
   "id": "0a6be4e8-f903-44ad-b2f5-49501f711b6e",
   "metadata": {},
   "outputs": [
    {
     "data": {
      "text/plain": [
       "13"
      ]
     },
     "execution_count": 5,
     "metadata": {},
     "output_type": "execute_result"
    }
   ],
   "source": [
    "mul(1,3,2)"
   ]
  },
  {
   "cell_type": "code",
   "execution_count": 6,
   "id": "562ca3fe-f2a4-46a2-81bb-bdcfaf45a28c",
   "metadata": {},
   "outputs": [
    {
     "data": {
      "text/plain": [
       "'ABBCCC'"
      ]
     },
     "execution_count": 6,
     "metadata": {},
     "output_type": "execute_result"
    }
   ],
   "source": [
    "mul(\"A\",\"B\",'C')"
   ]
  },
  {
   "cell_type": "code",
   "execution_count": 7,
   "id": "254ddc08-d37e-4989-92aa-e16e6c28e91c",
   "metadata": {},
   "outputs": [
    {
     "data": {
      "text/plain": [
       "[1, 2, 3, 4, 5, 6, 4, 5, 6, 7, 8, 9, 7, 8, 9, 7, 8, 9]"
      ]
     },
     "execution_count": 7,
     "metadata": {},
     "output_type": "execute_result"
    }
   ],
   "source": [
    "mul([1,2,3],[4,5,6],[7,8,9])"
   ]
  },
  {
   "cell_type": "code",
   "execution_count": 8,
   "id": "67138b9f-9a8d-42d5-b4c8-119f977adfba",
   "metadata": {},
   "outputs": [
    {
     "data": {
      "text/plain": [
       "[4, 10, 18]"
      ]
     },
     "execution_count": 8,
     "metadata": {},
     "output_type": "execute_result"
    }
   ],
   "source": [
    "list(map(lambda x,y : x*y ,[1,2,3],[4,5,6]))"
   ]
  },
  {
   "cell_type": "code",
   "execution_count": 9,
   "id": "737b439e-c1d9-4894-9e52-6a1aa7d78beb",
   "metadata": {},
   "outputs": [],
   "source": [
    "class market:\n",
    "    \n",
    "    def __init__(xyz,day,mrp):\n",
    "        xyz.day=day\n",
    "        xyz.mrp=mrp\n",
    "    \n",
    "    def details(xyz):\n",
    "        print(\"mrp on \"+ str(xyz.day) +\" is \"+ str(xyz.mrp))      \n",
    "    "
   ]
  },
  {
   "cell_type": "code",
   "execution_count": 10,
   "id": "102dd445-abb5-4f19-8d7d-099cdffab520",
   "metadata": {},
   "outputs": [],
   "source": [
    "monday=market('mon',10)"
   ]
  },
  {
   "cell_type": "code",
   "execution_count": 11,
   "id": "071003a5-e6e4-4770-a4a4-58d7abfb3e3f",
   "metadata": {},
   "outputs": [],
   "source": [
    "tuesday=market('tues',20)"
   ]
  },
  {
   "cell_type": "code",
   "execution_count": 12,
   "id": "38033d03-a098-4763-ab14-6d696fe5863e",
   "metadata": {},
   "outputs": [],
   "source": [
    "objects=[monday,tuesday]"
   ]
  },
  {
   "cell_type": "code",
   "execution_count": 13,
   "id": "def36759-d8dc-42a9-a300-d42bc4b24bd6",
   "metadata": {},
   "outputs": [
    {
     "name": "stdout",
     "output_type": "stream",
     "text": [
      "mrp on mon is 10\n"
     ]
    }
   ],
   "source": [
    "monday.details()"
   ]
  },
  {
   "cell_type": "code",
   "execution_count": 14,
   "id": "26b3d4b5-ccc9-4409-a4dd-98b5762bfc1e",
   "metadata": {},
   "outputs": [
    {
     "name": "stdout",
     "output_type": "stream",
     "text": [
      "mrp on tues is 20\n"
     ]
    }
   ],
   "source": [
    "tuesday.details()"
   ]
  },
  {
   "cell_type": "code",
   "execution_count": 25,
   "id": "6bc3332c-c514-4b1f-a9f0-b9605614343c",
   "metadata": {},
   "outputs": [],
   "source": [
    "def class_parcer(class_obj):\n",
    "    for i in class_obj:\n",
    "        i.details()"
   ]
  },
  {
   "cell_type": "code",
   "execution_count": 26,
   "id": "72e4d908-c1a6-4411-8c6c-eca5e8cf8f95",
   "metadata": {},
   "outputs": [
    {
     "name": "stdout",
     "output_type": "stream",
     "text": [
      "mrp on mon is 10\n",
      "mrp on tues is 20\n"
     ]
    }
   ],
   "source": [
    "class_parcer(objects)"
   ]
  },
  {
   "cell_type": "code",
   "execution_count": null,
   "id": "f2b79d73-a724-4cc1-8279-286a1fe95c04",
   "metadata": {},
   "outputs": [],
   "source": []
  },
  {
   "cell_type": "code",
   "execution_count": null,
   "id": "c87c7ac5-24d3-429d-89f3-5b0c1007e48a",
   "metadata": {},
   "outputs": [],
   "source": []
  }
 ],
 "metadata": {
  "kernelspec": {
   "display_name": "Python 3 (ipykernel)",
   "language": "python",
   "name": "python3"
  },
  "language_info": {
   "codemirror_mode": {
    "name": "ipython",
    "version": 3
   },
   "file_extension": ".py",
   "mimetype": "text/x-python",
   "name": "python",
   "nbconvert_exporter": "python",
   "pygments_lexer": "ipython3",
   "version": "3.10.8"
  }
 },
 "nbformat": 4,
 "nbformat_minor": 5
}
