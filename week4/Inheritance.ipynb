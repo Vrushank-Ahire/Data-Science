{
 "cells": [
  {
   "cell_type": "code",
   "execution_count": 7,
   "id": "051f4784-c788-4e15-ac00-98129677fe71",
   "metadata": {},
   "outputs": [],
   "source": [
    "class class1:\n",
    "    \n",
    "    def fun1(self):\n",
    "        return \"Vismay\""
   ]
  },
  {
   "cell_type": "code",
   "execution_count": 6,
   "id": "e07aa5df-f2ba-4930-b9b8-5827f2f38d32",
   "metadata": {},
   "outputs": [],
   "source": [
    "class class2:\n",
    "    \n",
    "    def fun2(self):\n",
    "        return \"Vismay dada Walde\""
   ]
  },
  {
   "cell_type": "code",
   "execution_count": 8,
   "id": "f5c60bda-f2ac-4a83-8554-635b89a7bdad",
   "metadata": {},
   "outputs": [],
   "source": [
    "class class3(class1 ,class2):\n",
    "    \n",
    "    def fun3(self):\n",
    "        return \"Shivam dada Zample\""
   ]
  },
  {
   "cell_type": "code",
   "execution_count": 10,
   "id": "e2c9f627-4327-4298-ac4b-9a181b7d540b",
   "metadata": {},
   "outputs": [],
   "source": [
    "obj_class_temp = class3();"
   ]
  },
  {
   "cell_type": "code",
   "execution_count": 12,
   "id": "28cde4ea-1d1e-4038-a9d7-9a31973859cb",
   "metadata": {},
   "outputs": [
    {
     "data": {
      "text/plain": [
       "'Shivam dada Zample'"
      ]
     },
     "execution_count": 12,
     "metadata": {},
     "output_type": "execute_result"
    }
   ],
   "source": [
    "obj_class_temp.fun3()"
   ]
  },
  {
   "cell_type": "code",
   "execution_count": 13,
   "id": "d8f77db4-a288-416d-a4ac-177751007c69",
   "metadata": {},
   "outputs": [
    {
     "data": {
      "text/plain": [
       "'Vismay'"
      ]
     },
     "execution_count": 13,
     "metadata": {},
     "output_type": "execute_result"
    }
   ],
   "source": [
    "obj_class_temp.fun1()"
   ]
  },
  {
   "cell_type": "code",
   "execution_count": 22,
   "id": "19e11b45-f82d-463e-bc07-624120f92ea5",
   "metadata": {},
   "outputs": [],
   "source": [
    "int \n",
    "class class4(class1 ,class2):\n",
    "    \n",
    "    def __init__(self,num):\n",
    "        pass\n",
    "    \n",
    "    def fun3(self):\n",
    "        return \"Shivam dada Zample\""
   ]
  },
  {
   "cell_type": "code",
   "execution_count": null,
   "id": "150b1508-64f1-4312-9a71-d41e1d2bc9cd",
   "metadata": {},
   "outputs": [],
   "source": []
  }
 ],
 "metadata": {
  "kernelspec": {
   "display_name": "Python 3 (ipykernel)",
   "language": "python",
   "name": "python3"
  },
  "language_info": {
   "codemirror_mode": {
    "name": "ipython",
    "version": 3
   },
   "file_extension": ".py",
   "mimetype": "text/x-python",
   "name": "python",
   "nbconvert_exporter": "python",
   "pygments_lexer": "ipython3",
   "version": "3.10.8"
  }
 },
 "nbformat": 4,
 "nbformat_minor": 5
}
