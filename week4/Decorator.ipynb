{
 "cells": [
  {
   "cell_type": "code",
   "execution_count": 58,
   "id": "ce7fcae1-8dac-4fc5-bda3-cb1da4561f1c",
   "metadata": {},
   "outputs": [],
   "source": [
    "import time\n",
    "\n",
    "def time_calc(fun1)  :\n",
    "    \n",
    "    def bolbacchan():\n",
    "        time_start = time.time()\n",
    "        print(\"Timer begins\")\n",
    "        fun1()\n",
    "        print(\"Timer ends\")\n",
    "        time_ends = time.time()\n",
    "        print(time_ends-time_start)\n",
    "    return bolbacchan"
   ]
  },
  {
   "cell_type": "code",
   "execution_count": 59,
   "id": "1ef75aca-9958-4d98-8d3e-86ee1118146e",
   "metadata": {},
   "outputs": [],
   "source": [
    "\n",
    "def test2():\n",
    "    print(45+78)"
   ]
  },
  {
   "cell_type": "code",
   "execution_count": 60,
   "id": "f5bedb8f-c48c-4f60-9305-0bffbea9b397",
   "metadata": {},
   "outputs": [
    {
     "name": "stdout",
     "output_type": "stream",
     "text": [
      "123\n"
     ]
    }
   ],
   "source": [
    "test2()"
   ]
  },
  {
   "cell_type": "code",
   "execution_count": 61,
   "id": "6b0f1740-d4ff-4eac-9f8a-133ed7bf8cf4",
   "metadata": {},
   "outputs": [],
   "source": [
    "@time_calc\n",
    "def test2():\n",
    "    print(45+78)"
   ]
  },
  {
   "cell_type": "code",
   "execution_count": 65,
   "id": "5d5bf554-6635-4a1a-bf76-024a8fab6b80",
   "metadata": {},
   "outputs": [
    {
     "name": "stdout",
     "output_type": "stream",
     "text": [
      "Timer begins\n",
      "123\n",
      "Timer ends\n",
      "0.00010061264038085938\n"
     ]
    }
   ],
   "source": [
    "test2()"
   ]
  },
  {
   "cell_type": "code",
   "execution_count": 66,
   "id": "e469de8a-276f-40de-9341-03264996d30b",
   "metadata": {},
   "outputs": [],
   "source": [
    "@time_calc\n",
    "def test123():\n",
    "    print(5*(\"My name is \" + \"Vrushank\"))"
   ]
  },
  {
   "cell_type": "code",
   "execution_count": 67,
   "id": "49ae62a1-a715-49ba-83ac-edd42fa99e15",
   "metadata": {},
   "outputs": [
    {
     "name": "stdout",
     "output_type": "stream",
     "text": [
      "Timer begins\n",
      "My name is VrushankMy name is VrushankMy name is VrushankMy name is VrushankMy name is Vrushank\n",
      "Timer ends\n",
      "5.793571472167969e-05\n"
     ]
    }
   ],
   "source": [
    "test123()"
   ]
  },
  {
   "cell_type": "code",
   "execution_count": null,
   "id": "71afac7e-7999-4eb8-a9db-7435f4bf9a81",
   "metadata": {},
   "outputs": [],
   "source": []
  },
  {
   "cell_type": "code",
   "execution_count": null,
   "id": "f9fdfbe4-7958-4109-a9c6-f1a291e1152a",
   "metadata": {},
   "outputs": [],
   "source": []
  },
  {
   "cell_type": "code",
   "execution_count": null,
   "id": "2a6ce1b9-1a7b-4670-beb2-605a1be471ac",
   "metadata": {},
   "outputs": [],
   "source": []
  }
 ],
 "metadata": {
  "kernelspec": {
   "display_name": "Python 3 (ipykernel)",
   "language": "python",
   "name": "python3"
  },
  "language_info": {
   "codemirror_mode": {
    "name": "ipython",
    "version": 3
   },
   "file_extension": ".py",
   "mimetype": "text/x-python",
   "name": "python",
   "nbconvert_exporter": "python",
   "pygments_lexer": "ipython3",
   "version": "3.10.8"
  }
 },
 "nbformat": 4,
 "nbformat_minor": 5
}
