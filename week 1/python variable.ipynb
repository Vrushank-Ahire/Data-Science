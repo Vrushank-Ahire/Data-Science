{
 "cells": [
  {
   "cell_type": "code",
   "execution_count": 1,
   "id": "901c815f-981e-44d3-bf0b-aa2be2696606",
   "metadata": {},
   "outputs": [],
   "source": [
    "a=15\n"
   ]
  },
  {
   "cell_type": "code",
   "execution_count": 2,
   "id": "8a6b2af2-857d-4923-baf9-b811f22303d4",
   "metadata": {},
   "outputs": [
    {
     "data": {
      "text/plain": [
       "15"
      ]
     },
     "execution_count": 2,
     "metadata": {},
     "output_type": "execute_result"
    }
   ],
   "source": [
    "a\n"
   ]
  },
  {
   "cell_type": "code",
   "execution_count": 3,
   "id": "0a932090-3062-4995-988d-a379c7b6f090",
   "metadata": {},
   "outputs": [
    {
     "data": {
      "text/plain": [
       "int"
      ]
     },
     "execution_count": 3,
     "metadata": {},
     "output_type": "execute_result"
    }
   ],
   "source": [
    "type(a)"
   ]
  },
  {
   "cell_type": "code",
   "execution_count": 4,
   "id": "7a0ada7d-3efe-43c5-8371-a8549c978f64",
   "metadata": {},
   "outputs": [],
   "source": [
    "b=(\"sudh\")"
   ]
  },
  {
   "cell_type": "code",
   "execution_count": 5,
   "id": "a1f88e68-a535-4134-a8a1-4a862513ef9a",
   "metadata": {},
   "outputs": [
    {
     "data": {
      "text/plain": [
       "'sudh'"
      ]
     },
     "execution_count": 5,
     "metadata": {},
     "output_type": "execute_result"
    }
   ],
   "source": [
    "b"
   ]
  },
  {
   "cell_type": "code",
   "execution_count": 6,
   "id": "b4ca6d28-994c-458a-ada0-b2fbc89678ab",
   "metadata": {},
   "outputs": [
    {
     "data": {
      "text/plain": [
       "str"
      ]
     },
     "execution_count": 6,
     "metadata": {},
     "output_type": "execute_result"
    }
   ],
   "source": [
    "type(b)"
   ]
  },
  {
   "cell_type": "code",
   "execution_count": 7,
   "id": "71b82814-fabe-4f87-b8e3-3c6fc91ce564",
   "metadata": {},
   "outputs": [],
   "source": [
    "c= (\"VRUSHANK\")"
   ]
  },
  {
   "cell_type": "code",
   "execution_count": 8,
   "id": "9d03fe7e-e5c8-48a1-b00f-91e58bf840a7",
   "metadata": {},
   "outputs": [
    {
     "data": {
      "text/plain": [
       "str"
      ]
     },
     "execution_count": 8,
     "metadata": {},
     "output_type": "execute_result"
    }
   ],
   "source": [
    "type(c)"
   ]
  },
  {
   "cell_type": "code",
   "execution_count": 9,
   "id": "3e67c063-92ec-439a-a6bf-22106dfb8154",
   "metadata": {},
   "outputs": [
    {
     "data": {
      "text/plain": [
       "'VRUSHANK'"
      ]
     },
     "execution_count": 9,
     "metadata": {},
     "output_type": "execute_result"
    }
   ],
   "source": [
    "c"
   ]
  },
  {
   "cell_type": "code",
   "execution_count": 10,
   "id": "5ea8929f-12c4-4a77-bec8-65eb91d66b34",
   "metadata": {},
   "outputs": [],
   "source": [
    "d=123.12569\n"
   ]
  },
  {
   "cell_type": "code",
   "execution_count": 11,
   "id": "6489b4a1-c3e1-406a-a5b4-1480fcd8a3a1",
   "metadata": {},
   "outputs": [
    {
     "data": {
      "text/plain": [
       "123.12569"
      ]
     },
     "execution_count": 11,
     "metadata": {},
     "output_type": "execute_result"
    }
   ],
   "source": [
    "d\n"
   ]
  },
  {
   "cell_type": "code",
   "execution_count": 12,
   "id": "8d673326-658c-438a-b052-d562197d4572",
   "metadata": {},
   "outputs": [
    {
     "data": {
      "text/plain": [
       "float"
      ]
     },
     "execution_count": 12,
     "metadata": {},
     "output_type": "execute_result"
    }
   ],
   "source": [
    "type(d)"
   ]
  },
  {
   "cell_type": "code",
   "execution_count": 13,
   "id": "0a42e03d-9207-487a-aaea-467b129dbe0b",
   "metadata": {},
   "outputs": [],
   "source": [
    "e=True"
   ]
  },
  {
   "cell_type": "code",
   "execution_count": 14,
   "id": "d46d7153-d14e-4467-a11b-c8be16608948",
   "metadata": {},
   "outputs": [
    {
     "data": {
      "text/plain": [
       "True"
      ]
     },
     "execution_count": 14,
     "metadata": {},
     "output_type": "execute_result"
    }
   ],
   "source": [
    "e"
   ]
  },
  {
   "cell_type": "code",
   "execution_count": 15,
   "id": "ade7605d-3faf-4da9-8fb9-7ff47223e1b4",
   "metadata": {},
   "outputs": [
    {
     "data": {
      "text/plain": [
       "'True'"
      ]
     },
     "execution_count": 15,
     "metadata": {},
     "output_type": "execute_result"
    }
   ],
   "source": [
    "str(e)"
   ]
  },
  {
   "cell_type": "code",
   "execution_count": 16,
   "id": "4cb0e9f2-f8bd-49ea-bfa3-c77fbbb8ce23",
   "metadata": {},
   "outputs": [
    {
     "data": {
      "text/plain": [
       "1"
      ]
     },
     "execution_count": 16,
     "metadata": {},
     "output_type": "execute_result"
    }
   ],
   "source": [
    "int(e)"
   ]
  },
  {
   "cell_type": "code",
   "execution_count": 17,
   "id": "ceeb6311-8f56-444e-a411-24b46918a905",
   "metadata": {},
   "outputs": [
    {
     "data": {
      "text/plain": [
       "1"
      ]
     },
     "execution_count": 17,
     "metadata": {},
     "output_type": "execute_result"
    }
   ],
   "source": [
    "True-False"
   ]
  },
  {
   "cell_type": "code",
   "execution_count": 18,
   "id": "a12e5146-7eae-4c1c-9761-2308abc2d9f5",
   "metadata": {},
   "outputs": [
    {
     "ename": "NameError",
     "evalue": "name 'TRUE' is not defined",
     "output_type": "error",
     "traceback": [
      "\u001b[0;31m---------------------------------------------------------------------------\u001b[0m",
      "\u001b[0;31mNameError\u001b[0m                                 Traceback (most recent call last)",
      "Cell \u001b[0;32mIn[18], line 1\u001b[0m\n\u001b[0;32m----> 1\u001b[0m \u001b[43mTRUE\u001b[49m\u001b[38;5;241m*\u001b[39mFALSE\n",
      "\u001b[0;31mNameError\u001b[0m: name 'TRUE' is not defined"
     ]
    }
   ],
   "source": [
    "TRUE*FALSE"
   ]
  },
  {
   "cell_type": "code",
   "execution_count": 19,
   "id": "0c99d8eb-b6ab-43c0-a271-e6bd695308f8",
   "metadata": {},
   "outputs": [
    {
     "data": {
      "text/plain": [
       "0"
      ]
     },
     "execution_count": 19,
     "metadata": {},
     "output_type": "execute_result"
    }
   ],
   "source": [
    "True*False"
   ]
  },
  {
   "cell_type": "code",
   "execution_count": 20,
   "id": "9c6d05ce-a11e-46b0-8280-5380a70746ca",
   "metadata": {},
   "outputs": [
    {
     "ename": "ZeroDivisionError",
     "evalue": "division by zero",
     "output_type": "error",
     "traceback": [
      "\u001b[0;31m---------------------------------------------------------------------------\u001b[0m",
      "\u001b[0;31mZeroDivisionError\u001b[0m                         Traceback (most recent call last)",
      "Cell \u001b[0;32mIn[20], line 1\u001b[0m\n\u001b[0;32m----> 1\u001b[0m \u001b[38;5;28;43;01mTrue\u001b[39;49;00m\u001b[38;5;241;43m/\u001b[39;49m\u001b[38;5;28;43;01mFalse\u001b[39;49;00m\n",
      "\u001b[0;31mZeroDivisionError\u001b[0m: division by zero"
     ]
    }
   ],
   "source": [
    "True/False"
   ]
  },
  {
   "cell_type": "markdown",
   "id": "66fb8c78-a890-4f40-ae6f-80a84d4f0861",
   "metadata": {},
   "source": [
    "COMPLEX NUMBER\n"
   ]
  },
  {
   "cell_type": "code",
   "execution_count": 21,
   "id": "15289471-edb6-468f-a9ef-44af074d068d",
   "metadata": {},
   "outputs": [],
   "source": [
    "E = 6 + 9j"
   ]
  },
  {
   "cell_type": "code",
   "execution_count": 23,
   "id": "043596a0-3a6a-489b-91bc-0636355079c5",
   "metadata": {},
   "outputs": [
    {
     "ename": "NameError",
     "evalue": "name 'Type' is not defined",
     "output_type": "error",
     "traceback": [
      "\u001b[0;31m---------------------------------------------------------------------------\u001b[0m",
      "\u001b[0;31mNameError\u001b[0m                                 Traceback (most recent call last)",
      "Cell \u001b[0;32mIn[23], line 1\u001b[0m\n\u001b[0;32m----> 1\u001b[0m \u001b[43mType\u001b[49m(E)\n",
      "\u001b[0;31mNameError\u001b[0m: name 'Type' is not defined"
     ]
    }
   ],
   "source": [
    "Type(E)"
   ]
  },
  {
   "cell_type": "code",
   "execution_count": 24,
   "id": "4a41b3eb-ee9d-4bf3-bd2d-447cfa0fa9ff",
   "metadata": {},
   "outputs": [
    {
     "data": {
      "text/plain": [
       "complex"
      ]
     },
     "execution_count": 24,
     "metadata": {},
     "output_type": "execute_result"
    }
   ],
   "source": [
    "type(E)"
   ]
  },
  {
   "cell_type": "code",
   "execution_count": 25,
   "id": "ca85c5b1-3ef8-476b-9e8a-1fcd53236d45",
   "metadata": {},
   "outputs": [],
   "source": [
    "#\n"
   ]
  },
  {
   "cell_type": "code",
   "execution_count": 26,
   "id": "6afc277d-9e71-4862-b234-4a68e63e8dcb",
   "metadata": {},
   "outputs": [],
   "source": [
    "#COMMENT"
   ]
  },
  {
   "cell_type": "code",
   "execution_count": 27,
   "id": "6ebf6602-2835-49e7-bd58-799648681fb2",
   "metadata": {},
   "outputs": [
    {
     "data": {
      "text/plain": [
       "True"
      ]
     },
     "execution_count": 27,
     "metadata": {},
     "output_type": "execute_result"
    }
   ],
   "source": [
    "e"
   ]
  },
  {
   "cell_type": "code",
   "execution_count": 28,
   "id": "1b4e4948-8a6e-4aa7-a0bb-c3b9ec32caa3",
   "metadata": {},
   "outputs": [
    {
     "ename": "NameError",
     "evalue": "name 'f' is not defined",
     "output_type": "error",
     "traceback": [
      "\u001b[0;31m---------------------------------------------------------------------------\u001b[0m",
      "\u001b[0;31mNameError\u001b[0m                                 Traceback (most recent call last)",
      "Cell \u001b[0;32mIn[28], line 1\u001b[0m\n\u001b[0;32m----> 1\u001b[0m \u001b[43mf\u001b[49m\n",
      "\u001b[0;31mNameError\u001b[0m: name 'f' is not defined"
     ]
    }
   ],
   "source": [
    "f"
   ]
  },
  {
   "cell_type": "code",
   "execution_count": 29,
   "id": "6aca82e7-adcc-4041-85f2-a487c4bd57c2",
   "metadata": {},
   "outputs": [
    {
     "data": {
      "text/plain": [
       "(6+9j)"
      ]
     },
     "execution_count": 29,
     "metadata": {},
     "output_type": "execute_result"
    }
   ],
   "source": [
    "E\n"
   ]
  },
  {
   "cell_type": "code",
   "execution_count": 30,
   "id": "53b6ba41-2e40-46b8-8376-9968b962ae9d",
   "metadata": {},
   "outputs": [
    {
     "data": {
      "text/plain": [
       "6.0"
      ]
     },
     "execution_count": 30,
     "metadata": {},
     "output_type": "execute_result"
    }
   ],
   "source": [
    "E.real"
   ]
  },
  {
   "cell_type": "code",
   "execution_count": 31,
   "id": "a8ae746e-180d-4bb2-9a23-e5880dcf02b1",
   "metadata": {},
   "outputs": [
    {
     "data": {
      "text/plain": [
       "9.0"
      ]
     },
     "execution_count": 31,
     "metadata": {},
     "output_type": "execute_result"
    }
   ],
   "source": [
    "E.imag"
   ]
  },
  {
   "cell_type": "code",
   "execution_count": 32,
   "id": "fd880ea9-38db-48b8-8b93-6f10b02e3c8a",
   "metadata": {},
   "outputs": [],
   "source": [
    "#real and imaginary part"
   ]
  },
  {
   "cell_type": "code",
   "execution_count": null,
   "id": "cccaa9e2-d96e-4657-9f3f-2b7182d8fa09",
   "metadata": {},
   "outputs": [],
   "source": []
  }
 ],
 "metadata": {
  "kernelspec": {
   "display_name": "Python 3 (ipykernel)",
   "language": "python",
   "name": "python3"
  },
  "language_info": {
   "codemirror_mode": {
    "name": "ipython",
    "version": 3
   },
   "file_extension": ".py",
   "mimetype": "text/x-python",
   "name": "python",
   "nbconvert_exporter": "python",
   "pygments_lexer": "ipython3",
   "version": "3.10.8"
  }
 },
 "nbformat": 4,
 "nbformat_minor": 5
}
