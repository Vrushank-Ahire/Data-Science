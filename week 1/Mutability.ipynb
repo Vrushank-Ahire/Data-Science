{
 "cells": [
  {
   "cell_type": "code",
   "execution_count": 1,
   "id": "ae771c9c-4bea-4a9b-8303-698deddc20c8",
   "metadata": {},
   "outputs": [],
   "source": [
    "nustya= \"Raju BHAi\""
   ]
  },
  {
   "cell_type": "code",
   "execution_count": null,
   "id": "b5139a86-547c-421f-ae83-a5e785473444",
   "metadata": {},
   "outputs": [],
   "source": []
  },
  {
   "cell_type": "code",
   "execution_count": 3,
   "id": "d875f3bf-f7eb-4373-abcb-dfcee77f401e",
   "metadata": {
    "tags": []
   },
   "outputs": [
    {
     "data": {
      "text/plain": [
       "'Raju BHAi'"
      ]
     },
     "execution_count": 3,
     "metadata": {},
     "output_type": "execute_result"
    }
   ],
   "source": [
    "nustya"
   ]
  },
  {
   "cell_type": "code",
   "execution_count": 3,
   "id": "b464fc1a-bddb-48e6-a4e4-8e62b392e6fa",
   "metadata": {
    "tags": []
   },
   "outputs": [
    {
     "data": {
      "text/plain": [
       "'Raju BHAi'"
      ]
     },
     "execution_count": 3,
     "metadata": {},
     "output_type": "execute_result"
    }
   ],
   "source": [
    "nustya"
   ]
  },
  {
   "cell_type": "code",
   "execution_count": 4,
   "id": "8e7bb878-e7fb-4976-bac1-f110e7afb161",
   "metadata": {},
   "outputs": [
    {
     "data": {
      "text/plain": [
       "'R'"
      ]
     },
     "execution_count": 4,
     "metadata": {},
     "output_type": "execute_result"
    }
   ],
   "source": [
    "nustya[0]"
   ]
  },
  {
   "cell_type": "code",
   "execution_count": 5,
   "id": "11f308cc-59d1-4a55-972b-4f1403651fe7",
   "metadata": {},
   "outputs": [
    {
     "data": {
      "text/plain": [
       "' '"
      ]
     },
     "execution_count": 5,
     "metadata": {},
     "output_type": "execute_result"
    }
   ],
   "source": [
    "nustya[4]"
   ]
  },
  {
   "cell_type": "code",
   "execution_count": 6,
   "id": "992f091d-f5af-4d5b-a207-972741e3c54a",
   "metadata": {},
   "outputs": [
    {
     "data": {
      "text/plain": [
       "'H'"
      ]
     },
     "execution_count": 6,
     "metadata": {},
     "output_type": "execute_result"
    }
   ],
   "source": [
    "nustya[6]"
   ]
  },
  {
   "cell_type": "code",
   "execution_count": 7,
   "id": "efa6a88e-048d-4ca3-a1ba-02ca2990212b",
   "metadata": {},
   "outputs": [
    {
     "data": {
      "text/plain": [
       "'H'"
      ]
     },
     "execution_count": 7,
     "metadata": {},
     "output_type": "execute_result"
    }
   ],
   "source": [
    "nustya[-3]"
   ]
  },
  {
   "cell_type": "code",
   "execution_count": null,
   "id": "fd405413-ea7c-430c-a627-fdef83358e14",
   "metadata": {},
   "outputs": [],
   "source": [
    "#back + front = total"
   ]
  },
  {
   "cell_type": "code",
   "execution_count": 8,
   "id": "63936361-d28a-46e5-a3b3-5d4194fcb8fe",
   "metadata": {},
   "outputs": [
    {
     "ename": "NameError",
     "evalue": "name 'j' is not defined",
     "output_type": "error",
     "traceback": [
      "\u001b[0;31m---------------------------------------------------------------------------\u001b[0m",
      "\u001b[0;31mNameError\u001b[0m                                 Traceback (most recent call last)",
      "Cell \u001b[0;32mIn[8], line 1\u001b[0m\n\u001b[0;32m----> 1\u001b[0m l \u001b[38;5;241m=\u001b[39m[\u001b[38;5;241m2\u001b[39m,\u001b[38;5;241m4\u001b[39m,\u001b[38;5;241m6\u001b[39m,\u001b[38;5;241m8\u001b[39m,\u001b[38;5;241m10\u001b[39m,\u001b[43mj\u001b[49m,\u001b[38;5;28;01mTrue\u001b[39;00m,s,\u001b[38;5;241m1\u001b[39m,\u001b[38;5;124m'\u001b[39m\u001b[38;5;124mpaay toh\u001b[39m\u001b[38;5;124m'\u001b[39m]\n",
      "\u001b[0;31mNameError\u001b[0m: name 'j' is not defined"
     ]
    }
   ],
   "source": [
    "l =[2,4,6,8,10,j,True,s,1,'paay toh']"
   ]
  },
  {
   "cell_type": "code",
   "execution_count": 9,
   "id": "e180782b-dddd-42a1-8f1d-3a87dde13cc2",
   "metadata": {},
   "outputs": [
    {
     "ename": "NameError",
     "evalue": "name 's' is not defined",
     "output_type": "error",
     "traceback": [
      "\u001b[0;31m---------------------------------------------------------------------------\u001b[0m",
      "\u001b[0;31mNameError\u001b[0m                                 Traceback (most recent call last)",
      "Cell \u001b[0;32mIn[9], line 1\u001b[0m\n\u001b[0;32m----> 1\u001b[0m l \u001b[38;5;241m=\u001b[39m[\u001b[38;5;241m2\u001b[39m,\u001b[38;5;241m4\u001b[39m,\u001b[38;5;241m6\u001b[39m,\u001b[38;5;241m8\u001b[39m,\u001b[38;5;241m10\u001b[39m,\u001b[38;5;28;01mTrue\u001b[39;00m,\u001b[43ms\u001b[49m,\u001b[38;5;241m1\u001b[39m,\u001b[38;5;124m'\u001b[39m\u001b[38;5;124mpaay toh\u001b[39m\u001b[38;5;124m'\u001b[39m]\n",
      "\u001b[0;31mNameError\u001b[0m: name 's' is not defined"
     ]
    }
   ],
   "source": [
    "l =[2,4,6,8,10,j,True,s,1,'paay toh']"
   ]
  },
  {
   "cell_type": "code",
   "execution_count": 10,
   "id": "4bdebf91-ed1f-4687-924b-fb96dcbfbcc3",
   "metadata": {},
   "outputs": [],
   "source": [
    "s=3"
   ]
  },
  {
   "cell_type": "code",
   "execution_count": 12,
   "id": "b29c8c2d-87fa-4e01-aada-d87ea2295a2e",
   "metadata": {},
   "outputs": [],
   "source": [
    "j=5\n"
   ]
  },
  {
   "cell_type": "code",
   "execution_count": 13,
   "id": "e522106a-b5a2-4c81-b923-e41d85b051b3",
   "metadata": {},
   "outputs": [],
   "source": [
    "l =[2,4,6,8,10,j,True,s,1,'paay toh']\n"
   ]
  },
  {
   "cell_type": "code",
   "execution_count": 14,
   "id": "12678318-5b60-4dfb-b5dc-2466ce23495d",
   "metadata": {},
   "outputs": [
    {
     "data": {
      "text/plain": [
       "[2, 4, 6, 8, 10, 5, True, 3, 1, 'paay toh']"
      ]
     },
     "execution_count": 14,
     "metadata": {},
     "output_type": "execute_result"
    }
   ],
   "source": [
    "l"
   ]
  },
  {
   "cell_type": "code",
   "execution_count": 15,
   "id": "1d3a7655-ef10-40c7-b67b-655514d5d50f",
   "metadata": {},
   "outputs": [
    {
     "data": {
      "text/plain": [
       "<function list.sort(*, key=None, reverse=False)>"
      ]
     },
     "execution_count": 15,
     "metadata": {},
     "output_type": "execute_result"
    }
   ],
   "source": [
    "l.sort"
   ]
  },
  {
   "cell_type": "code",
   "execution_count": 18,
   "id": "9303ce5e-5944-4b00-a3e1-4a70b71d68bc",
   "metadata": {},
   "outputs": [],
   "source": [
    "l[3]='pw skills'"
   ]
  },
  {
   "cell_type": "code",
   "execution_count": 19,
   "id": "85597f11-6f6f-437c-823f-ba52117162c7",
   "metadata": {},
   "outputs": [
    {
     "data": {
      "text/plain": [
       "[2, 4, 6, 'pw skills', 10, 5, True, 3, 1, 'paay toh']"
      ]
     },
     "execution_count": 19,
     "metadata": {},
     "output_type": "execute_result"
    }
   ],
   "source": [
    "l"
   ]
  },
  {
   "cell_type": "code",
   "execution_count": 20,
   "id": "726268b7-ac6b-421f-8376-bbfd7c9c95be",
   "metadata": {},
   "outputs": [
    {
     "name": "stdout",
     "output_type": "stream",
     "text": [
      "[2, 4, 6, 'pw skills', 10, 5, True, 3, 1, 'paay toh']\n"
     ]
    }
   ],
   "source": [
    "print(l)"
   ]
  },
  {
   "cell_type": "code",
   "execution_count": 21,
   "id": "c356ca86-c7eb-4f26-a772-968f19b88ead",
   "metadata": {},
   "outputs": [
    {
     "data": {
      "text/plain": [
       "[4, 6]"
      ]
     },
     "execution_count": 21,
     "metadata": {},
     "output_type": "execute_result"
    }
   ],
   "source": [
    "l[1:3]"
   ]
  },
  {
   "cell_type": "code",
   "execution_count": 22,
   "id": "83be4d1a-3324-42c5-aff0-ef02498b3a8d",
   "metadata": {},
   "outputs": [
    {
     "data": {
      "text/plain": [
       "'Raju BHAi'"
      ]
     },
     "execution_count": 22,
     "metadata": {},
     "output_type": "execute_result"
    }
   ],
   "source": [
    "nustya"
   ]
  },
  {
   "cell_type": "code",
   "execution_count": 23,
   "id": "f88db21a-afa1-4ffe-a0cf-406a23a5bef7",
   "metadata": {},
   "outputs": [
    {
     "data": {
      "text/plain": [
       "'A'"
      ]
     },
     "execution_count": 23,
     "metadata": {},
     "output_type": "execute_result"
    }
   ],
   "source": [
    "nustya[7]"
   ]
  },
  {
   "cell_type": "code",
   "execution_count": 24,
   "id": "4d5a47f3-ab54-4555-9efd-438621c0a0cb",
   "metadata": {},
   "outputs": [
    {
     "ename": "TypeError",
     "evalue": "'str' object does not support item assignment",
     "output_type": "error",
     "traceback": [
      "\u001b[0;31m---------------------------------------------------------------------------\u001b[0m",
      "\u001b[0;31mTypeError\u001b[0m                                 Traceback (most recent call last)",
      "Cell \u001b[0;32mIn[24], line 1\u001b[0m\n\u001b[0;32m----> 1\u001b[0m \u001b[43mnustya\u001b[49m\u001b[43m[\u001b[49m\u001b[38;5;241;43m7\u001b[39;49m\u001b[43m]\u001b[49m\u001b[38;5;241m=\u001b[39m\u001b[38;5;124m'\u001b[39m\u001b[38;5;124mpaay\u001b[39m\u001b[38;5;124m'\u001b[39m\n",
      "\u001b[0;31mTypeError\u001b[0m: 'str' object does not support item assignment"
     ]
    }
   ],
   "source": [
    "nustya[7]='paay'"
   ]
  },
  {
   "cell_type": "code",
   "execution_count": 25,
   "id": "68de579a-8b3c-47e8-bade-31b600273c4e",
   "metadata": {},
   "outputs": [],
   "source": [
    "#strings immutable "
   ]
  },
  {
   "cell_type": "code",
   "execution_count": 26,
   "id": "558d259f-600a-488e-87fa-189ec6d6be06",
   "metadata": {},
   "outputs": [],
   "source": [
    "#list mutable"
   ]
  },
  {
   "cell_type": "code",
   "execution_count": null,
   "id": "5518c585-6fca-4d55-828c-0b7e52440ed2",
   "metadata": {},
   "outputs": [],
   "source": []
  }
 ],
 "metadata": {
  "kernelspec": {
   "display_name": "Python 3 (ipykernel)",
   "language": "python",
   "name": "python3"
  },
  "language_info": {
   "codemirror_mode": {
    "name": "ipython",
    "version": 3
   },
   "file_extension": ".py",
   "mimetype": "text/x-python",
   "name": "python",
   "nbconvert_exporter": "python",
   "pygments_lexer": "ipython3",
   "version": "3.10.8"
  }
 },
 "nbformat": 4,
 "nbformat_minor": 5
}
