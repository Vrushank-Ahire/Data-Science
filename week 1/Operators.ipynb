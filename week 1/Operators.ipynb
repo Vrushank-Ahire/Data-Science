{
 "cells": [
  {
   "cell_type": "code",
   "execution_count": 3,
   "id": "201fdfc4-b813-4f1c-97cb-08314ea55dce",
   "metadata": {},
   "outputs": [
    {
     "data": {
      "text/plain": [
       "-1"
      ]
     },
     "execution_count": 3,
     "metadata": {},
     "output_type": "execute_result"
    }
   ],
   "source": [
    "6-7"
   ]
  },
  {
   "cell_type": "code",
   "execution_count": 4,
   "id": "fedafa35-0140-4e07-8974-2084b6133779",
   "metadata": {},
   "outputs": [
    {
     "data": {
      "text/plain": [
       "474"
      ]
     },
     "execution_count": 4,
     "metadata": {},
     "output_type": "execute_result"
    }
   ],
   "source": [
    "6*79"
   ]
  },
  {
   "cell_type": "code",
   "execution_count": 5,
   "id": "07b62a1e-ead8-4f90-9d28-5c22f926858b",
   "metadata": {},
   "outputs": [
    {
     "data": {
      "text/plain": [
       "1.5"
      ]
     },
     "execution_count": 5,
     "metadata": {},
     "output_type": "execute_result"
    }
   ],
   "source": [
    "6/4"
   ]
  },
  {
   "cell_type": "code",
   "execution_count": 8,
   "id": "2c306903-9764-41b4-9fb2-b35f997730e8",
   "metadata": {
    "tags": []
   },
   "outputs": [
    {
     "data": {
      "text/plain": [
       "2"
      ]
     },
     "execution_count": 8,
     "metadata": {},
     "output_type": "execute_result"
    }
   ],
   "source": [
    "6%4  #modulo"
   ]
  },
  {
   "cell_type": "code",
   "execution_count": 9,
   "id": "704e02a1-7ebe-4627-aad2-3a1452473c3d",
   "metadata": {},
   "outputs": [
    {
     "data": {
      "text/plain": [
       "1"
      ]
     },
     "execution_count": 9,
     "metadata": {},
     "output_type": "execute_result"
    }
   ],
   "source": [
    "6//4  #floor"
   ]
  },
  {
   "cell_type": "code",
   "execution_count": 11,
   "id": "4e017107-6b41-470d-8171-3addcb570cf0",
   "metadata": {},
   "outputs": [
    {
     "data": {
      "text/plain": [
       "81"
      ]
     },
     "execution_count": 11,
     "metadata": {},
     "output_type": "execute_result"
    }
   ],
   "source": [
    "3**4  #exponential operator"
   ]
  },
  {
   "cell_type": "code",
   "execution_count": null,
   "id": "aeb3caf6-65d1-4197-81a3-5618e8b14072",
   "metadata": {},
   "outputs": [],
   "source": []
  },
  {
   "cell_type": "code",
   "execution_count": null,
   "id": "56eac6f5-8d73-4683-a088-7fb6568edfa6",
   "metadata": {},
   "outputs": [],
   "source": []
  },
  {
   "cell_type": "code",
   "execution_count": 13,
   "id": "ceb423b2-be9e-41cb-b3e3-ba909c836083",
   "metadata": {},
   "outputs": [],
   "source": [
    "#comparison operator  ---->returns booleqan value"
   ]
  },
  {
   "cell_type": "code",
   "execution_count": null,
   "id": "70a1ba71-1825-47af-8d61-a03075d66658",
   "metadata": {
    "jupyter": {
     "source_hidden": true
    },
    "tags": []
   },
   "outputs": [],
   "source": []
  },
  {
   "cell_type": "code",
   "execution_count": null,
   "id": "c4789a54-4e76-49d3-9a8b-2c5f2468a797",
   "metadata": {},
   "outputs": [],
   "source": []
  },
  {
   "cell_type": "code",
   "execution_count": 14,
   "id": "79d02adf-8615-43dc-bb3c-59e077de74c4",
   "metadata": {},
   "outputs": [
    {
     "data": {
      "text/plain": [
       "False"
      ]
     },
     "execution_count": 14,
     "metadata": {},
     "output_type": "execute_result"
    }
   ],
   "source": [
    "1>2"
   ]
  },
  {
   "cell_type": "code",
   "execution_count": 15,
   "id": "ebcd8190-a1aa-450c-9230-029bbbe229a2",
   "metadata": {},
   "outputs": [
    {
     "ename": "SyntaxError",
     "evalue": "cannot assign to expression here. Maybe you meant '==' instead of '='? (2890952568.py, line 1)",
     "output_type": "error",
     "traceback": [
      "\u001b[0;36m  Cell \u001b[0;32mIn[15], line 1\u001b[0;36m\u001b[0m\n\u001b[0;31m    5*10=50\u001b[0m\n\u001b[0m    ^\u001b[0m\n\u001b[0;31mSyntaxError\u001b[0m\u001b[0;31m:\u001b[0m cannot assign to expression here. Maybe you meant '==' instead of '='?\n"
     ]
    }
   ],
   "source": [
    "5*10=50"
   ]
  },
  {
   "cell_type": "code",
   "execution_count": 16,
   "id": "558f7263-4908-4661-90e1-94c95e3b5fb7",
   "metadata": {},
   "outputs": [
    {
     "data": {
      "text/plain": [
       "True"
      ]
     },
     "execution_count": 16,
     "metadata": {},
     "output_type": "execute_result"
    }
   ],
   "source": [
    "5*10==50"
   ]
  },
  {
   "cell_type": "code",
   "execution_count": 17,
   "id": "d8937c58-408e-48a2-9adc-9280431aafff",
   "metadata": {},
   "outputs": [
    {
     "data": {
      "text/plain": [
       "True"
      ]
     },
     "execution_count": 17,
     "metadata": {},
     "output_type": "execute_result"
    }
   ],
   "source": [
    "6<15"
   ]
  },
  {
   "cell_type": "code",
   "execution_count": 19,
   "id": "b746d5fc-a306-4ed2-af26-b33bfad0c70a",
   "metadata": {},
   "outputs": [
    {
     "data": {
      "text/plain": [
       "6144"
      ]
     },
     "execution_count": 19,
     "metadata": {},
     "output_type": "execute_result"
    }
   ],
   "source": [
    "6<<10 #(bitwise operator)"
   ]
  },
  {
   "cell_type": "code",
   "execution_count": 20,
   "id": "1ca214a8-300c-4207-a26d-f9b1bc13c684",
   "metadata": {},
   "outputs": [
    {
     "data": {
      "text/plain": [
       "True"
      ]
     },
     "execution_count": 20,
     "metadata": {},
     "output_type": "execute_result"
    }
   ],
   "source": [
    "6!=15"
   ]
  },
  {
   "cell_type": "code",
   "execution_count": 21,
   "id": "14b12896-c7a1-4e0d-91bb-7b92f70c0398",
   "metadata": {},
   "outputs": [
    {
     "data": {
      "text/plain": [
       "True"
      ]
     },
     "execution_count": 21,
     "metadata": {},
     "output_type": "execute_result"
    }
   ],
   "source": [
    "15>=12"
   ]
  },
  {
   "cell_type": "code",
   "execution_count": 22,
   "id": "546fe269-357a-4daf-9e19-093ca4b36759",
   "metadata": {},
   "outputs": [
    {
     "data": {
      "text/plain": [
       "False"
      ]
     },
     "execution_count": 22,
     "metadata": {},
     "output_type": "execute_result"
    }
   ],
   "source": [
    "12>12"
   ]
  },
  {
   "cell_type": "code",
   "execution_count": 23,
   "id": "8be21a4e-618e-4f48-a9f7-992fcafac130",
   "metadata": {},
   "outputs": [
    {
     "data": {
      "text/plain": [
       "True"
      ]
     },
     "execution_count": 23,
     "metadata": {},
     "output_type": "execute_result"
    }
   ],
   "source": [
    "12>=12"
   ]
  },
  {
   "cell_type": "code",
   "execution_count": 24,
   "id": "3c131150-be0d-410d-805f-3e383f3c4f65",
   "metadata": {},
   "outputs": [
    {
     "data": {
      "text/plain": [
       "True"
      ]
     },
     "execution_count": 24,
     "metadata": {},
     "output_type": "execute_result"
    }
   ],
   "source": [
    "11>=11"
   ]
  },
  {
   "cell_type": "code",
   "execution_count": null,
   "id": "349f8c1c-7344-4d45-9607-a5da8f4d48fc",
   "metadata": {},
   "outputs": [],
   "source": []
  },
  {
   "cell_type": "code",
   "execution_count": null,
   "id": "2d888b39-b86b-4231-8665-083b50dd533f",
   "metadata": {},
   "outputs": [],
   "source": [
    "\n"
   ]
  },
  {
   "cell_type": "markdown",
   "id": "bdbf66c6-087f-4393-95ee-1de50bff73ba",
   "metadata": {},
   "source": [
    "#logical Operator"
   ]
  },
  {
   "cell_type": "markdown",
   "id": "68ec01ff-f52d-47c4-8263-f6a7c0fa4843",
   "metadata": {},
   "source": [
    "Truth table"
   ]
  },
  {
   "cell_type": "code",
   "execution_count": 26,
   "id": "116ff6ad-c432-4130-ba08-910fe12041e2",
   "metadata": {},
   "outputs": [
    {
     "data": {
      "text/plain": [
       "True"
      ]
     },
     "execution_count": 26,
     "metadata": {},
     "output_type": "execute_result"
    }
   ],
   "source": [
    "True and True"
   ]
  },
  {
   "cell_type": "code",
   "execution_count": 27,
   "id": "19133b86-4563-4a84-bfd5-5d51249e1b08",
   "metadata": {},
   "outputs": [
    {
     "data": {
      "text/plain": [
       "False"
      ]
     },
     "execution_count": 27,
     "metadata": {},
     "output_type": "execute_result"
    }
   ],
   "source": [
    "True and False"
   ]
  },
  {
   "cell_type": "code",
   "execution_count": 28,
   "id": "1de8c7ad-ab9b-4870-b5af-f816410dae66",
   "metadata": {},
   "outputs": [
    {
     "data": {
      "text/plain": [
       "False"
      ]
     },
     "execution_count": 28,
     "metadata": {},
     "output_type": "execute_result"
    }
   ],
   "source": [
    "False and False"
   ]
  },
  {
   "cell_type": "code",
   "execution_count": 29,
   "id": "4f24d9be-64fa-44c6-ad1d-3a33c3d82b2a",
   "metadata": {},
   "outputs": [
    {
     "data": {
      "text/plain": [
       "0"
      ]
     },
     "execution_count": 29,
     "metadata": {},
     "output_type": "execute_result"
    }
   ],
   "source": [
    "1 and 0"
   ]
  },
  {
   "cell_type": "code",
   "execution_count": 30,
   "id": "c57c5faa-6c37-47fe-a0d9-8c2ac9568ec9",
   "metadata": {},
   "outputs": [
    {
     "data": {
      "text/plain": [
       "0"
      ]
     },
     "execution_count": 30,
     "metadata": {},
     "output_type": "execute_result"
    }
   ],
   "source": [
    "0 and 0"
   ]
  },
  {
   "cell_type": "code",
   "execution_count": 31,
   "id": "d06c0c4c-7706-47d6-922b-ac88d8f19545",
   "metadata": {},
   "outputs": [
    {
     "data": {
      "text/plain": [
       "0"
      ]
     },
     "execution_count": 31,
     "metadata": {},
     "output_type": "execute_result"
    }
   ],
   "source": [
    "0 and 1"
   ]
  },
  {
   "cell_type": "code",
   "execution_count": 32,
   "id": "6925984a-a814-4aaf-b0d4-93faab74d6f5",
   "metadata": {},
   "outputs": [
    {
     "data": {
      "text/plain": [
       "1"
      ]
     },
     "execution_count": 32,
     "metadata": {},
     "output_type": "execute_result"
    }
   ],
   "source": [
    "1 and 1"
   ]
  },
  {
   "cell_type": "code",
   "execution_count": 33,
   "id": "a444126c-cb8b-40d5-adba-c8e17eb448e0",
   "metadata": {},
   "outputs": [
    {
     "name": "stdout",
     "output_type": "stream",
     "text": [
      "/bin/bash: line 1: 1: command not found\n"
     ]
    }
   ],
   "source": [
    "!1"
   ]
  },
  {
   "cell_type": "code",
   "execution_count": 34,
   "id": "7007a825-57de-4da4-bb94-f6d5f9d16175",
   "metadata": {},
   "outputs": [
    {
     "name": "stdout",
     "output_type": "stream",
     "text": [
      "/bin/bash: line 1: True: command not found\n"
     ]
    }
   ],
   "source": [
    "!True"
   ]
  },
  {
   "cell_type": "code",
   "execution_count": 35,
   "id": "dcb56721-cd48-4bfe-9a6e-17978250e399",
   "metadata": {},
   "outputs": [
    {
     "data": {
      "text/plain": [
       "True"
      ]
     },
     "execution_count": 35,
     "metadata": {},
     "output_type": "execute_result"
    }
   ],
   "source": [
    "not 0"
   ]
  },
  {
   "cell_type": "code",
   "execution_count": 36,
   "id": "94a18f59-f804-4ddb-b6a9-1882b911dc34",
   "metadata": {},
   "outputs": [
    {
     "data": {
      "text/plain": [
       "False"
      ]
     },
     "execution_count": 36,
     "metadata": {},
     "output_type": "execute_result"
    }
   ],
   "source": [
    "not True"
   ]
  },
  {
   "cell_type": "code",
   "execution_count": 37,
   "id": "11d9ac26-895f-4127-acfb-3e8aac7dd84c",
   "metadata": {},
   "outputs": [
    {
     "data": {
      "text/plain": [
       "False"
      ]
     },
     "execution_count": 37,
     "metadata": {},
     "output_type": "execute_result"
    }
   ],
   "source": [
    "not 1"
   ]
  },
  {
   "cell_type": "code",
   "execution_count": 38,
   "id": "00fe1223-e40c-44e7-bab8-77a35effbf7b",
   "metadata": {},
   "outputs": [
    {
     "data": {
      "text/plain": [
       "False"
      ]
     },
     "execution_count": 38,
     "metadata": {},
     "output_type": "execute_result"
    }
   ],
   "source": [
    "not 6"
   ]
  },
  {
   "cell_type": "code",
   "execution_count": 39,
   "id": "bda7c865-c650-42a4-bf86-bb883962178d",
   "metadata": {},
   "outputs": [
    {
     "data": {
      "text/plain": [
       "False"
      ]
     },
     "execution_count": 39,
     "metadata": {},
     "output_type": "execute_result"
    }
   ],
   "source": [
    "not(not 0)"
   ]
  },
  {
   "cell_type": "code",
   "execution_count": 40,
   "id": "d5e8d6bb-7321-4807-bf4a-d9627fa4a171",
   "metadata": {},
   "outputs": [
    {
     "data": {
      "text/plain": [
       "True"
      ]
     },
     "execution_count": 40,
     "metadata": {},
     "output_type": "execute_result"
    }
   ],
   "source": [
    "not(not 6)"
   ]
  },
  {
   "cell_type": "code",
   "execution_count": 41,
   "id": "3ee795cf-837d-4788-b2c5-f8e0fe7b6ac2",
   "metadata": {},
   "outputs": [
    {
     "data": {
      "text/plain": [
       "6"
      ]
     },
     "execution_count": 41,
     "metadata": {},
     "output_type": "execute_result"
    }
   ],
   "source": [
    "6"
   ]
  },
  {
   "cell_type": "markdown",
   "id": "4f654a1a-2ac7-48d7-82f8-39852aa74d16",
   "metadata": {},
   "source": [
    "not returns boolean expression"
   ]
  },
  {
   "cell_type": "code",
   "execution_count": 42,
   "id": "49145009-27fe-4a0c-8c94-110deed9a2ac",
   "metadata": {},
   "outputs": [
    {
     "data": {
      "text/plain": [
       "5"
      ]
     },
     "execution_count": 42,
     "metadata": {},
     "output_type": "execute_result"
    }
   ],
   "source": [
    "    5 and 5"
   ]
  },
  {
   "cell_type": "code",
   "execution_count": 43,
   "id": "77837114-d907-4718-8f3b-79b1363654aa",
   "metadata": {},
   "outputs": [
    {
     "data": {
      "text/plain": [
       "5"
      ]
     },
     "execution_count": 43,
     "metadata": {},
     "output_type": "execute_result"
    }
   ],
   "source": [
    "6 and 5"
   ]
  },
  {
   "cell_type": "code",
   "execution_count": 44,
   "id": "8af0d7cb-dad8-48f7-b1aa-4d5789eaddfd",
   "metadata": {},
   "outputs": [
    {
     "data": {
      "text/plain": [
       "15"
      ]
     },
     "execution_count": 44,
     "metadata": {},
     "output_type": "execute_result"
    }
   ],
   "source": [
    "11 and 15"
   ]
  },
  {
   "cell_type": "code",
   "execution_count": 45,
   "id": "a219371f-4b5e-42ce-968b-dff1d36684f8",
   "metadata": {},
   "outputs": [
    {
     "data": {
      "text/plain": [
       "11"
      ]
     },
     "execution_count": 45,
     "metadata": {},
     "output_type": "execute_result"
    }
   ],
   "source": [
    "11 or 15\n"
   ]
  },
  {
   "cell_type": "code",
   "execution_count": 46,
   "id": "2e69ed6a-c965-440c-8d6d-aa0984205a27",
   "metadata": {},
   "outputs": [
    {
     "data": {
      "text/plain": [
       "4"
      ]
     },
     "execution_count": 46,
     "metadata": {},
     "output_type": "execute_result"
    }
   ],
   "source": [
    "10 and 4"
   ]
  },
  {
   "cell_type": "code",
   "execution_count": 47,
   "id": "b645e941-373a-4372-884f-e825f24c0820",
   "metadata": {},
   "outputs": [
    {
     "data": {
      "text/plain": [
       "10"
      ]
     },
     "execution_count": 47,
     "metadata": {},
     "output_type": "execute_result"
    }
   ],
   "source": [
    "10 or 4"
   ]
  },
  {
   "cell_type": "code",
   "execution_count": 48,
   "id": "609f2bcd-ff7e-41e9-ba57-71cb0735034f",
   "metadata": {},
   "outputs": [
    {
     "data": {
      "text/plain": [
       "10"
      ]
     },
     "execution_count": 48,
     "metadata": {},
     "output_type": "execute_result"
    }
   ],
   "source": [
    "4 and 10"
   ]
  },
  {
   "cell_type": "code",
   "execution_count": 49,
   "id": "853b3e24-9752-43ab-951f-4a8be795330b",
   "metadata": {},
   "outputs": [
    {
     "data": {
      "text/plain": [
       "4"
      ]
     },
     "execution_count": 49,
     "metadata": {},
     "output_type": "execute_result"
    }
   ],
   "source": [
    "4 or 10"
   ]
  },
  {
   "cell_type": "code",
   "execution_count": null,
   "id": "10d62e71-36aa-4f2f-a818-7e9e66443266",
   "metadata": {},
   "outputs": [],
   "source": [
    "\n"
   ]
  },
  {
   "cell_type": "code",
   "execution_count": null,
   "id": "eefcf9ce-5fb3-4f7b-ab72-7b994ee3131d",
   "metadata": {},
   "outputs": [],
   "source": []
  },
  {
   "cell_type": "markdown",
   "id": "837ee520-cde1-4e11-9ac2-e714f836ea89",
   "metadata": {},
   "source": [
    "#Bitwise operator"
   ]
  },
  {
   "cell_type": "markdown",
   "id": "dbd5a937-1307-4d83-9bdb-7bdd5cbb551e",
   "metadata": {},
   "source": [
    "\n",
    "\n",
    ".\n"
   ]
  },
  {
   "cell_type": "code",
   "execution_count": 50,
   "id": "9a424173-9662-4ba8-a5c4-eb0d14847025",
   "metadata": {},
   "outputs": [
    {
     "data": {
      "text/plain": [
       "'0b1010'"
      ]
     },
     "execution_count": 50,
     "metadata": {},
     "output_type": "execute_result"
    }
   ],
   "source": [
    "bin(10)"
   ]
  },
  {
   "cell_type": "code",
   "execution_count": 51,
   "id": "746db1ee-c01e-4990-a1b7-93e2cc9b7e06",
   "metadata": {},
   "outputs": [
    {
     "data": {
      "text/plain": [
       "'0b100'"
      ]
     },
     "execution_count": 51,
     "metadata": {},
     "output_type": "execute_result"
    }
   ],
   "source": [
    "bin(4)"
   ]
  },
  {
   "cell_type": "code",
   "execution_count": 52,
   "id": "13f53738-26bd-4eda-bcda-e838210b43b2",
   "metadata": {},
   "outputs": [
    {
     "data": {
      "text/plain": [
       "'0b10100b100'"
      ]
     },
     "execution_count": 52,
     "metadata": {},
     "output_type": "execute_result"
    }
   ],
   "source": [
    "bin(10)+bin(4)"
   ]
  },
  {
   "cell_type": "code",
   "execution_count": 2,
   "id": "90c46dbe-e7b4-47b9-83b1-304a8f6461bc",
   "metadata": {},
   "outputs": [
    {
     "data": {
      "text/plain": [
       "10"
      ]
     },
     "execution_count": 2,
     "metadata": {},
     "output_type": "execute_result"
    }
   ],
   "source": [
    "int(0b1010)"
   ]
  },
  {
   "cell_type": "code",
   "execution_count": 56,
   "id": "835e8942-ad65-4455-9760-fea11d185fd6",
   "metadata": {},
   "outputs": [
    {
     "ename": "ValueError",
     "evalue": "invalid literal for int() with base 10: '0b10100b100'",
     "output_type": "error",
     "traceback": [
      "\u001b[0;31m---------------------------------------------------------------------------\u001b[0m",
      "\u001b[0;31mValueError\u001b[0m                                Traceback (most recent call last)",
      "Cell \u001b[0;32mIn[56], line 1\u001b[0m\n\u001b[0;32m----> 1\u001b[0m \u001b[38;5;28;43mint\u001b[39;49m\u001b[43m(\u001b[49m\u001b[38;5;28;43mbin\u001b[39;49m\u001b[43m(\u001b[49m\u001b[38;5;241;43m10\u001b[39;49m\u001b[43m)\u001b[49m\u001b[38;5;241;43m+\u001b[39;49m\u001b[38;5;28;43mbin\u001b[39;49m\u001b[43m(\u001b[49m\u001b[38;5;241;43m4\u001b[39;49m\u001b[43m)\u001b[49m\u001b[43m)\u001b[49m\n",
      "\u001b[0;31mValueError\u001b[0m: invalid literal for int() with base 10: '0b10100b100'"
     ]
    }
   ],
   "source": [
    "int(bin(10)+bin(4))"
   ]
  },
  {
   "cell_type": "code",
   "execution_count": 57,
   "id": "fc2a4b52-bc94-4592-981f-e2e64a35a90b",
   "metadata": {},
   "outputs": [
    {
     "ename": "ValueError",
     "evalue": "invalid literal for int() with base 10: '0b10100b100'",
     "output_type": "error",
     "traceback": [
      "\u001b[0;31m---------------------------------------------------------------------------\u001b[0m",
      "\u001b[0;31mValueError\u001b[0m                                Traceback (most recent call last)",
      "Cell \u001b[0;32mIn[57], line 1\u001b[0m\n\u001b[0;32m----> 1\u001b[0m \u001b[38;5;28;43mint\u001b[39;49m\u001b[43m(\u001b[49m\u001b[38;5;28;43mbin\u001b[39;49m\u001b[43m(\u001b[49m\u001b[38;5;241;43m10\u001b[39;49m\u001b[43m)\u001b[49m\u001b[38;5;241;43m+\u001b[39;49m\u001b[38;5;28;43mbin\u001b[39;49m\u001b[43m(\u001b[49m\u001b[38;5;241;43m4\u001b[39;49m\u001b[43m)\u001b[49m\u001b[43m)\u001b[49m\n",
      "\u001b[0;31mValueError\u001b[0m: invalid literal for int() with base 10: '0b10100b100'"
     ]
    }
   ],
   "source": [
    "int(bin(10)+bin(4))"
   ]
  },
  {
   "cell_type": "markdown",
   "id": "7a0589cd-75e7-4c10-b1ed-92c2a8d6272f",
   "metadata": {},
   "source": [
    "bin(x) ---> Binary formv of b integer number x"
   ]
  },
  {
   "cell_type": "markdown",
   "id": "021c8405-5787-4e7f-9123-5503ab0fcb4d",
   "metadata": {},
   "source": [
    "int(x) ----> Integer form of binary number x"
   ]
  },
  {
   "cell_type": "code",
   "execution_count": 59,
   "id": "52e1c13e-195d-4e0b-8c64-b2d44b1cc575",
   "metadata": {},
   "outputs": [
    {
     "data": {
      "text/plain": [
       "'0b1010'"
      ]
     },
     "execution_count": 59,
     "metadata": {},
     "output_type": "execute_result"
    }
   ],
   "source": [
    "bin(10)"
   ]
  },
  {
   "cell_type": "code",
   "execution_count": 60,
   "id": "7f7f0c5b-705b-44f8-9709-b432f22b81e9",
   "metadata": {},
   "outputs": [
    {
     "data": {
      "text/plain": [
       "'0b101'"
      ]
     },
     "execution_count": 60,
     "metadata": {},
     "output_type": "execute_result"
    }
   ],
   "source": [
    "bin(5)"
   ]
  },
  {
   "cell_type": "code",
   "execution_count": null,
   "id": "3e67c45a-d036-4c6d-9d11-669d2dbed7cd",
   "metadata": {},
   "outputs": [],
   "source": []
  },
  {
   "cell_type": "code",
   "execution_count": null,
   "id": "aa16943c-be19-4b4b-8810-fa4e3cf7dad8",
   "metadata": {},
   "outputs": [],
   "source": []
  },
  {
   "cell_type": "markdown",
   "id": "06d9d07c-a353-4ae3-a6e4-8d22aa40ad5a",
   "metadata": {},
   "source": [
    "bin(10)=1010 and bin(5)=101"
   ]
  },
  {
   "cell_type": "markdown",
   "id": "70966fe4-aeea-4c56-b15d-07bd9042c8af",
   "metadata": {},
   "source": [
    "now write bin(5)=101 to 0101 format"
   ]
  },
  {
   "cell_type": "code",
   "execution_count": 64,
   "id": "b1bd20a9-e828-4abb-bd89-ce1c869e7642",
   "metadata": {},
   "outputs": [
    {
     "data": {
      "text/plain": [
       "0"
      ]
     },
     "execution_count": 64,
     "metadata": {},
     "output_type": "execute_result"
    }
   ],
   "source": [
    "10 & 5 "
   ]
  },
  {
   "cell_type": "code",
   "execution_count": 72,
   "id": "59d6d85d-5093-4374-837b-e0e54bdc1b83",
   "metadata": {},
   "outputs": [
    {
     "data": {
      "text/plain": [
       "15"
      ]
     },
     "execution_count": 72,
     "metadata": {},
     "output_type": "execute_result"
    }
   ],
   "source": [
    "10 | 5  #pipe means | bitwise or\n"
   ]
  },
  {
   "cell_type": "code",
   "execution_count": 68,
   "id": "67d37499-36d6-4dd2-90d5-472d6cc6878b",
   "metadata": {},
   "outputs": [
    {
     "data": {
      "text/plain": [
       "'0b1111'"
      ]
     },
     "execution_count": 68,
     "metadata": {},
     "output_type": "execute_result"
    }
   ],
   "source": [
    "bin(15)"
   ]
  },
  {
   "cell_type": "code",
   "execution_count": 71,
   "id": "1f62260b-122c-4068-a3f2-35c3f5f36680",
   "metadata": {},
   "outputs": [
    {
     "data": {
      "text/plain": [
       "2"
      ]
     },
     "execution_count": 71,
     "metadata": {},
     "output_type": "execute_result"
    }
   ],
   "source": [
    "10 & 2  #bitwise and "
   ]
  },
  {
   "cell_type": "markdown",
   "id": "fc157142-feed-44da-9fed-e724ce8d0670",
   "metadata": {},
   "source": [
    "note & and | operators return integer value of the operated Binary value"
   ]
  },
  {
   "cell_type": "code",
   "execution_count": null,
   "id": "4e8ea027-6a22-46de-b85d-546abbb0b71a",
   "metadata": {},
   "outputs": [],
   "source": [
    "\n"
   ]
  },
  {
   "cell_type": "markdown",
   "id": "7ed2d1b2-ae3f-41ab-bea0-fc35bd28d649",
   "metadata": {},
   "source": [
    "~operator"
   ]
  },
  {
   "cell_type": "code",
   "execution_count": 1,
   "id": "b1bf5cdf-d999-4ff2-aa9b-c71f7f03ebd7",
   "metadata": {},
   "outputs": [
    {
     "data": {
      "text/plain": [
       "-14"
      ]
     },
     "execution_count": 1,
     "metadata": {},
     "output_type": "execute_result"
    }
   ],
   "source": [
    "~13"
   ]
  },
  {
   "cell_type": "code",
   "execution_count": 3,
   "id": "e8a1b7a4-351e-4b27-9833-38fe59df1f79",
   "metadata": {},
   "outputs": [
    {
     "ename": "TypeError",
     "evalue": "can only concatenate str (not \"int\") to str",
     "output_type": "error",
     "traceback": [
      "\u001b[0;31m---------------------------------------------------------------------------\u001b[0m",
      "\u001b[0;31mTypeError\u001b[0m                                 Traceback (most recent call last)",
      "Cell \u001b[0;32mIn[3], line 1\u001b[0m\n\u001b[0;32m----> 1\u001b[0m \u001b[38;5;241m-\u001b[39m(\u001b[38;5;28;43mbin\u001b[39;49m\u001b[43m(\u001b[49m\u001b[38;5;241;43m13\u001b[39;49m\u001b[43m)\u001b[49m\u001b[38;5;241;43m+\u001b[39;49m\u001b[38;5;241;43m1\u001b[39;49m)\n",
      "\u001b[0;31mTypeError\u001b[0m: can only concatenate str (not \"int\") to str"
     ]
    }
   ],
   "source": [
    "-(bin(13)+1)"
   ]
  },
  {
   "cell_type": "code",
   "execution_count": 5,
   "id": "e33daa08-5a2b-47f5-9b0e-d123d34c0e5d",
   "metadata": {},
   "outputs": [
    {
     "data": {
      "text/plain": [
       "'-0b1110'"
      ]
     },
     "execution_count": 5,
     "metadata": {},
     "output_type": "execute_result"
    }
   ],
   "source": [
    "bin(~13)"
   ]
  },
  {
   "cell_type": "code",
   "execution_count": 6,
   "id": "d5043c12-1710-4668-bd8a-0d46c6b1aa10",
   "metadata": {},
   "outputs": [
    {
     "data": {
      "text/plain": [
       "'0b1101'"
      ]
     },
     "execution_count": 6,
     "metadata": {},
     "output_type": "execute_result"
    }
   ],
   "source": [
    "bin(13)"
   ]
  },
  {
   "cell_type": "markdown",
   "id": "3cba2e80-058c-46ec-82a1-aee4ea4ce86c",
   "metadata": {},
   "source": [
    "(1101 + 1) ----> 1110"
   ]
  },
  {
   "cell_type": "code",
   "execution_count": 8,
   "id": "006a809a-09c4-4f3d-b3cf-6da8025f371b",
   "metadata": {},
   "outputs": [
    {
     "data": {
      "text/plain": [
       "-1110"
      ]
     },
     "execution_count": 8,
     "metadata": {},
     "output_type": "execute_result"
    }
   ],
   "source": [
    "-(1110)"
   ]
  },
  {
   "cell_type": "code",
   "execution_count": 9,
   "id": "b35a749f-a48a-4eef-8d16-ede661928bb7",
   "metadata": {},
   "outputs": [
    {
     "data": {
      "text/plain": [
       "True"
      ]
     },
     "execution_count": 9,
     "metadata": {},
     "output_type": "execute_result"
    }
   ],
   "source": [
    "~13==-14"
   ]
  },
  {
   "cell_type": "markdown",
   "id": "a7eae389-af20-4fde-b2f7-37b535969ae5",
   "metadata": {},
   "source": [
    "~ is binary not operator"
   ]
  },
  {
   "cell_type": "code",
   "execution_count": 11,
   "id": "5a52127c-215e-4b01-a2c6-5c87c7784f49",
   "metadata": {},
   "outputs": [
    {
     "data": {
      "text/plain": [
       "10100"
      ]
     },
     "execution_count": 11,
     "metadata": {},
     "output_type": "execute_result"
    }
   ],
   "source": [
    "int(10100)"
   ]
  },
  {
   "cell_type": "code",
   "execution_count": 12,
   "id": "fceede9e-91ab-4053-9eb1-4ddfacbf8189",
   "metadata": {},
   "outputs": [
    {
     "data": {
      "text/plain": [
       "20"
      ]
     },
     "execution_count": 12,
     "metadata": {},
     "output_type": "execute_result"
    }
   ],
   "source": [
    "int(0b10100)"
   ]
  },
  {
   "cell_type": "code",
   "execution_count": 13,
   "id": "33c10b85-260b-470c-b910-ece7a902d504",
   "metadata": {},
   "outputs": [
    {
     "data": {
      "text/plain": [
       "80"
      ]
     },
     "execution_count": 13,
     "metadata": {},
     "output_type": "execute_result"
    }
   ],
   "source": [
    "int(0b1010000)"
   ]
  },
  {
   "cell_type": "code",
   "execution_count": 14,
   "id": "3cb56efa-3f66-4b4e-afd9-7fe6d1149270",
   "metadata": {},
   "outputs": [
    {
     "data": {
      "text/plain": [
       "80"
      ]
     },
     "execution_count": 14,
     "metadata": {},
     "output_type": "execute_result"
    }
   ],
   "source": [
    "20<<2\n"
   ]
  },
  {
   "cell_type": "code",
   "execution_count": 15,
   "id": "94a6e1de-5800-4a08-b3de-ba1dcf0ebbf6",
   "metadata": {},
   "outputs": [
    {
     "data": {
      "text/plain": [
       "5"
      ]
     },
     "execution_count": 15,
     "metadata": {},
     "output_type": "execute_result"
    }
   ],
   "source": [
    "20>>2\n"
   ]
  },
  {
   "cell_type": "code",
   "execution_count": 16,
   "id": "81734912-4378-4d1b-9a1c-c2e58daf9aac",
   "metadata": {},
   "outputs": [
    {
     "data": {
      "text/plain": [
       "'0b10100'"
      ]
     },
     "execution_count": 16,
     "metadata": {},
     "output_type": "execute_result"
    }
   ],
   "source": [
    "bin(20)"
   ]
  },
  {
   "cell_type": "code",
   "execution_count": 17,
   "id": "6778cf03-ea3e-4047-9f6c-6334310762fb",
   "metadata": {},
   "outputs": [
    {
     "data": {
      "text/plain": [
       "5"
      ]
     },
     "execution_count": 17,
     "metadata": {},
     "output_type": "execute_result"
    }
   ],
   "source": [
    "int(0b101)"
   ]
  },
  {
   "cell_type": "markdown",
   "id": "f7aad55d-e8ee-4152-8c30-4cdf844d1733",
   "metadata": {},
   "source": [
    "Here  >> is bitwise right shift operator and << is bitwise left shift operator  \n"
   ]
  },
  {
   "cell_type": "markdown",
   "id": "c18a8a25-91ff-4b56-8ca0-e3e83e082aa8",
   "metadata": {},
   "source": [
    "\n",
    "\n"
   ]
  },
  {
   "cell_type": "code",
   "execution_count": null,
   "id": "b6232ac1-f407-43bd-a0d5-ed75d42b0016",
   "metadata": {},
   "outputs": [],
   "source": [
    "\n",
    "\n"
   ]
  },
  {
   "cell_type": "markdown",
   "id": "00b432ef-3561-40c6-a650-72a2973db4f3",
   "metadata": {},
   "source": [
    "ASSIGNMENT OPERATOR"
   ]
  },
  {
   "cell_type": "code",
   "execution_count": 23,
   "id": "4306fe22-517e-4d09-b87e-04f453aee936",
   "metadata": {},
   "outputs": [],
   "source": [
    "a=5"
   ]
  },
  {
   "cell_type": "code",
   "execution_count": 24,
   "id": "9710c18a-cbed-410d-ac71-774ad2110462",
   "metadata": {},
   "outputs": [],
   "source": [
    "a+=1"
   ]
  },
  {
   "cell_type": "code",
   "execution_count": 25,
   "id": "2d70cc4c-f008-44b7-ba3d-8b19eb905db2",
   "metadata": {},
   "outputs": [
    {
     "data": {
      "text/plain": [
       "6"
      ]
     },
     "execution_count": 25,
     "metadata": {},
     "output_type": "execute_result"
    }
   ],
   "source": [
    "a"
   ]
  },
  {
   "cell_type": "code",
   "execution_count": 26,
   "id": "b65af7ce-51d8-4679-9dcd-0cc3795081c0",
   "metadata": {},
   "outputs": [],
   "source": [
    "a+=5"
   ]
  },
  {
   "cell_type": "code",
   "execution_count": 30,
   "id": "bbae91d9-d3e0-47dd-aca5-16bfe5f56e7a",
   "metadata": {},
   "outputs": [
    {
     "data": {
      "text/plain": [
       "11"
      ]
     },
     "execution_count": 30,
     "metadata": {},
     "output_type": "execute_result"
    }
   ],
   "source": [
    "a"
   ]
  },
  {
   "cell_type": "code",
   "execution_count": 31,
   "id": "9e7abc89-3c7b-43ce-8e4f-0d05a7289838",
   "metadata": {},
   "outputs": [],
   "source": [
    "c=19"
   ]
  },
  {
   "cell_type": "code",
   "execution_count": 32,
   "id": "868a63e5-87d8-4626-aec9-67994bfd2b46",
   "metadata": {},
   "outputs": [],
   "source": [
    "c-=1"
   ]
  },
  {
   "cell_type": "code",
   "execution_count": 33,
   "id": "c4d98dca-0eea-4ec2-9d51-98110ac19605",
   "metadata": {},
   "outputs": [
    {
     "data": {
      "text/plain": [
       "18"
      ]
     },
     "execution_count": 33,
     "metadata": {},
     "output_type": "execute_result"
    }
   ],
   "source": [
    "c"
   ]
  },
  {
   "cell_type": "code",
   "execution_count": null,
   "id": "98d2b4a9-f23c-496e-967b-bd64ef2476c3",
   "metadata": {},
   "outputs": [],
   "source": []
  }
 ],
 "metadata": {
  "kernelspec": {
   "display_name": "Python 3 (ipykernel)",
   "language": "python",
   "name": "python3"
  },
  "language_info": {
   "codemirror_mode": {
    "name": "ipython",
    "version": 3
   },
   "file_extension": ".py",
   "mimetype": "text/x-python",
   "name": "python",
   "nbconvert_exporter": "python",
   "pygments_lexer": "ipython3",
   "version": "3.10.8"
  }
 },
 "nbformat": 4,
 "nbformat_minor": 5
}
