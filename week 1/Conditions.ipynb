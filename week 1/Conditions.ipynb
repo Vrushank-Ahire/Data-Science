{
 "cells": [
  {
   "cell_type": "code",
   "execution_count": 4,
   "id": "e4ec5062-f3b4-4572-9ea8-2875d77ef5fe",
   "metadata": {},
   "outputs": [],
   "source": [
    "boom=3"
   ]
  },
  {
   "cell_type": "code",
   "execution_count": 12,
   "id": "77f10545-e205-4206-b048-aa765d30b1cf",
   "metadata": {},
   "outputs": [
    {
     "name": "stdout",
     "output_type": "stream",
     "text": [
      "Yes\n"
     ]
    }
   ],
   "source": [
    "\n",
    "if (boom >10) :\n",
    "    print(\"Yes\")"
   ]
  },
  {
   "cell_type": "code",
   "execution_count": 7,
   "id": "9dca77ed-e8b6-4d7a-9301-23dafdfec8f9",
   "metadata": {},
   "outputs": [
    {
     "data": {
      "text/plain": [
       "True"
      ]
     },
     "execution_count": 7,
     "metadata": {},
     "output_type": "execute_result"
    }
   ],
   "source": [
    "boom==5"
   ]
  },
  {
   "cell_type": "code",
   "execution_count": 8,
   "id": "dc45f1df-a852-430a-91f9-09fa2091fbde",
   "metadata": {},
   "outputs": [
    {
     "data": {
      "text/plain": [
       "False"
      ]
     },
     "execution_count": 8,
     "metadata": {},
     "output_type": "execute_result"
    }
   ],
   "source": [
    "boom>10"
   ]
  },
  {
   "cell_type": "code",
   "execution_count": 10,
   "id": "c01cf4bd-be9d-4623-94f1-dfd1340a7407",
   "metadata": {},
   "outputs": [],
   "source": [
    "boom=11"
   ]
  },
  {
   "cell_type": "code",
   "execution_count": 11,
   "id": "47cc4b23-bde1-4074-8bc7-bcc08eab7eba",
   "metadata": {},
   "outputs": [
    {
     "name": "stdout",
     "output_type": "stream",
     "text": [
      "Yes\n"
     ]
    }
   ],
   "source": [
    "if (boom >10) :\n",
    "    print(\"Yes\")\n",
    "    "
   ]
  },
  {
   "cell_type": "code",
   "execution_count": 13,
   "id": "97df59c1-ce6d-4d7e-8799-852b887c319d",
   "metadata": {},
   "outputs": [],
   "source": [
    "sai=35\n",
    "boom=sai"
   ]
  },
  {
   "cell_type": "code",
   "execution_count": 14,
   "id": "a5133980-ac19-44a0-8738-f61e362df3a5",
   "metadata": {},
   "outputs": [
    {
     "name": "stdout",
     "output_type": "stream",
     "text": [
      "Yes\n"
     ]
    }
   ],
   "source": [
    "if (boom >10) :\n",
    "    print(\"Yes\")\n",
    "   \n"
   ]
  },
  {
   "cell_type": "code",
   "execution_count": 15,
   "id": "aaaf8be2-a1cc-42ac-a5f7-1245cb485ce1",
   "metadata": {},
   "outputs": [],
   "source": [
    "sai=5"
   ]
  },
  {
   "cell_type": "code",
   "execution_count": 16,
   "id": "fca45f99-e3cf-48fc-b91e-fe64fc3b2cd7",
   "metadata": {},
   "outputs": [
    {
     "name": "stdout",
     "output_type": "stream",
     "text": [
      "Yes\n"
     ]
    }
   ],
   "source": [
    "if (boom >10) :\n",
    "    print(\"Yes\")\n",
    "   \n"
   ]
  },
  {
   "cell_type": "code",
   "execution_count": 17,
   "id": "863dd381-32c4-47f0-9fb2-28712628e1b5",
   "metadata": {},
   "outputs": [],
   "source": [
    "if (sai>10) :\n",
    "    print(\"Yes\")"
   ]
  },
  {
   "cell_type": "code",
   "execution_count": 19,
   "id": "dd0828af-81b8-45e7-bef8-43e58dbc76fb",
   "metadata": {},
   "outputs": [
    {
     "name": "stdout",
     "output_type": "stream",
     "text": [
      "yes\n"
     ]
    }
   ],
   "source": [
    "if boom>10 :\n",
    "    print(\"yes\")"
   ]
  },
  {
   "cell_type": "code",
   "execution_count": 20,
   "id": "c9f66326-0451-4332-8d36-aa5fba7a1b16",
   "metadata": {
    "tags": []
   },
   "outputs": [
    {
     "name": "stdout",
     "output_type": "stream",
     "text": [
      "cherry\n"
     ]
    }
   ],
   "source": [
    "a=31\n",
    "if a>10 and a<20 :\n",
    "    print(\"apple\")\n",
    "elif a>=20 and a<30 :\n",
    "    print(\"banana\")\n",
    "elif a>=30 and a<40:\n",
    "    print(\"cherry\")\n",
    "else :\n",
    "    print(\"no fruit\")"
   ]
  },
  {
   "cell_type": "code",
   "execution_count": 19,
   "id": "19cf759c-265f-4446-844e-1a04bcabba04",
   "metadata": {},
   "outputs": [
    {
     "name": "stdin",
     "output_type": "stream",
     "text": [
      " 123\n"
     ]
    },
    {
     "data": {
      "text/plain": [
       "'123'"
      ]
     },
     "execution_count": 19,
     "metadata": {},
     "output_type": "execute_result"
    }
   ],
   "source": [
    "\n",
    "input()\n"
   ]
  },
  {
   "cell_type": "markdown",
   "id": "e170c54a-4a86-4eef-90eb-7fc56a9bc456",
   "metadata": {},
   "source": [
    "note :this inpput is converted into String ...therefore typecast it."
   ]
  },
  {
   "cell_type": "code",
   "execution_count": 8,
   "id": "eb49b580-3e30-4e0c-ae7a-c511a5b0db0f",
   "metadata": {},
   "outputs": [
    {
     "name": "stdin",
     "output_type": "stream",
     "text": [
      " 16\n"
     ]
    },
    {
     "name": "stdout",
     "output_type": "stream",
     "text": [
      "apple\n"
     ]
    }
   ],
   "source": [
    "a=int(input())\n",
    "if a>10 and a<20 :\n",
    "    print(\"apple\")\n",
    "elif a>=20 and a<30 :\n",
    "    print(\"banana\")\n",
    "elif a>=30 and a<40:\n",
    "    print(\"cherry\")\n",
    "else :\n",
    "    print(\"no fruit\")"
   ]
  },
  {
   "cell_type": "code",
   "execution_count": 12,
   "id": "bef03659-1ef5-44e9-8f80-7bd4e6f2be14",
   "metadata": {},
   "outputs": [
    {
     "name": "stdout",
     "output_type": "stream",
     "text": [
      "3\n",
      "4\n",
      "5\n",
      "6\n",
      "7\n"
     ]
    }
   ],
   "source": [
    "i=3\n",
    "n=8\n",
    "while i<n :\n",
    "    print(i)\n",
    "    i+=1"
   ]
  },
  {
   "cell_type": "code",
   "execution_count": 15,
   "id": "0d8aa606-eea5-4f75-a0dd-5c1e2cf0923d",
   "metadata": {},
   "outputs": [
    {
     "name": "stdout",
     "output_type": "stream",
     "text": [
      "3\n",
      "4\n",
      "5\n",
      "6\n",
      "7\n",
      "nahi gela else madhe\n"
     ]
    }
   ],
   "source": [
    "i=3\n",
    "n=8\n",
    "while i<n :\n",
    "    print(i)\n",
    "    i+=1\n",
    "else :\n",
    "    print(\"nahi gela else madhe\")"
   ]
  },
  {
   "cell_type": "raw",
   "id": "40809f49-26fa-4a70-a46c-00a76cbec30f",
   "metadata": {},
   "source": [
    "varchya yachyat while loop is acting like if statement , jar tyachyat nahi gela tar else chi condition execute houn jaail"
   ]
  },
  {
   "cell_type": "raw",
   "id": "97f25f1d-3115-438a-9902-70739caa968d",
   "metadata": {},
   "source": [
    "pan jar while madhe gela and succesfully complete houn jar break jhala tar parat while madhe jaat nhi mhanun else execute hot nhi"
   ]
  },
  {
   "cell_type": "code",
   "execution_count": 17,
   "id": "99f890c0-466a-4dcc-b0a1-2b6de8c6e1c1",
   "metadata": {},
   "outputs": [
    {
     "name": "stdout",
     "output_type": "stream",
     "text": [
      "3\n",
      "4\n",
      "5\n"
     ]
    }
   ],
   "source": [
    "i=3\n",
    "n=8\n",
    "while i<n :\n",
    "    print(i)\n",
    "    i+=1\n",
    "    if(i==6):\n",
    "        break\n",
    "else :\n",
    "    print(\"nahi gela else madhe\")"
   ]
  },
  {
   "cell_type": "raw",
   "id": "0f6fbf79-92b2-44a2-b6b6-c39acf9e2cae",
   "metadata": {},
   "source": [
    "pan jar while madhe gela and succesfully complete houn jar break jhala tar parat while madhe jaat nhi mhanun else execute hot nhi"
   ]
  },
  {
   "cell_type": "code",
   "execution_count": 2,
   "id": "d3048fdb-bc76-481f-9aef-d381f664fd3c",
   "metadata": {},
   "outputs": [],
   "source": [
    "l=[2,4,6,9,'Vismay','Shivam',True,44.6]"
   ]
  },
  {
   "cell_type": "code",
   "execution_count": 8,
   "id": "8e213bdb-ccc0-45e9-8c14-6a4794b1d4bb",
   "metadata": {},
   "outputs": [
    {
     "name": "stdout",
     "output_type": "stream",
     "text": [
      "2\n",
      "4\n",
      "6\n",
      "9\n",
      "Vismay\n",
      "Shivam\n",
      "True\n",
      "44.6\n"
     ]
    }
   ],
   "source": [
    "for i in range(0,8):\n",
    "    print(l[i])\n",
    "    "
   ]
  },
  {
   "cell_type": "code",
   "execution_count": 9,
   "id": "5a36cb4f-5a26-45e3-83fa-adecf59e8582",
   "metadata": {},
   "outputs": [
    {
     "name": "stdout",
     "output_type": "stream",
     "text": [
      "2\n",
      "<class 'int'>\n",
      "4\n",
      "<class 'int'>\n",
      "6\n",
      "<class 'int'>\n",
      "9\n",
      "<class 'int'>\n",
      "Vismay\n",
      "<class 'str'>\n",
      "Shivam\n",
      "<class 'str'>\n",
      "True\n",
      "<class 'bool'>\n",
      "44.6\n",
      "<class 'float'>\n"
     ]
    }
   ],
   "source": [
    "for x in l:\n",
    "    print(x)\n",
    "    print(type(x))"
   ]
  },
  {
   "cell_type": "code",
   "execution_count": 12,
   "id": "a201353f-5471-45c4-81de-e4344c6d3485",
   "metadata": {},
   "outputs": [
    {
     "name": "stdout",
     "output_type": "stream",
     "text": [
      "2\n",
      "4\n",
      "6\n",
      "9\n",
      "yes\n",
      "Vismay\n",
      "Shivam\n",
      "True\n",
      "44.6\n",
      "This will be executed only on successful completion of for loop!\n"
     ]
    }
   ],
   "source": [
    "for x in l:\n",
    "    print(x)\n",
    "    if(x==9):\n",
    "        print(\"yes\")\n",
    "else:\n",
    "    print(\"This will be executed only on successful completion of for loop!\")\n",
    "    \n",
    "    "
   ]
  },
  {
   "cell_type": "code",
   "execution_count": 11,
   "id": "59fd2eda-381b-4bb3-8bf3-51b59c82e639",
   "metadata": {},
   "outputs": [
    {
     "name": "stdout",
     "output_type": "stream",
     "text": [
      "2\n",
      "4\n",
      "6\n",
      "9\n"
     ]
    }
   ],
   "source": [
    "for x in l:\n",
    "    print(x)\n",
    "    if(x==9):\n",
    "       break\n",
    "else:\n",
    "    print(\"This will be executed only on successful completion of for loop!\")\n",
    "    \n",
    "    "
   ]
  },
  {
   "cell_type": "code",
   "execution_count": 22,
   "id": "271dbacb-32be-43b4-b355-8c273aef5e20",
   "metadata": {},
   "outputs": [
    {
     "name": "stdout",
     "output_type": "stream",
     "text": [
      "2\n",
      "entity value\n",
      "0\n",
      "4\n",
      "entity value\n",
      "1\n",
      "6\n",
      "entity value\n",
      "2\n",
      "9\n",
      "entity value\n",
      "3\n",
      "Vismay\n",
      "entity value\n",
      "4\n",
      "Shivam\n",
      "Tine pahila ka\n",
      "      \n",
      "True\n",
      "entity value\n",
      "6\n",
      "44.6\n",
      "entity value\n",
      "7\n",
      "on successful execution of the for loop ,this will be printed\n"
     ]
    }
   ],
   "source": [
    "for i in range(8):\n",
    "    print(l[i])\n",
    "    if(l[i]=='Shivam'):\n",
    "        print(\"Tine pahila ka\")\n",
    "        print(\"      \")\n",
    "        continue\n",
    "    print(\"entity value\")\n",
    "    print(i)\n",
    "else:\n",
    "    print(\"on successful execution of the for loop ,this will be printed\")"
   ]
  },
  {
   "cell_type": "code",
   "execution_count": null,
   "id": "e5e16604-be91-4e2d-95c0-28b7829a7983",
   "metadata": {},
   "outputs": [],
   "source": [
    "\n",
    "\n",
    "\n"
   ]
  },
  {
   "cell_type": "code",
   "execution_count": null,
   "id": "4d0ba260-1f90-4417-9ffe-0a29abcbefee",
   "metadata": {},
   "outputs": [],
   "source": []
  },
  {
   "cell_type": "code",
   "execution_count": null,
   "id": "9dbdbd33-b726-4ce0-9672-65b1d31d4589",
   "metadata": {},
   "outputs": [],
   "source": []
  },
  {
   "cell_type": "code",
   "execution_count": 23,
   "id": "e71c954f-03d4-42b6-9585-ca00181c85af",
   "metadata": {},
   "outputs": [
    {
     "data": {
      "text/plain": [
       "range(0, 10)"
      ]
     },
     "execution_count": 23,
     "metadata": {},
     "output_type": "execute_result"
    }
   ],
   "source": [
    "range(10)"
   ]
  },
  {
   "cell_type": "code",
   "execution_count": 24,
   "id": "ad589ad8-f65f-4829-ab6a-e5609a5781e3",
   "metadata": {},
   "outputs": [
    {
     "name": "stdout",
     "output_type": "stream",
     "text": [
      "range(0, 10)\n"
     ]
    }
   ],
   "source": [
    "print(range(10))"
   ]
  },
  {
   "cell_type": "code",
   "execution_count": 25,
   "id": "e7f0a8be-dda6-43a3-9081-201560d6d7d0",
   "metadata": {},
   "outputs": [
    {
     "data": {
      "text/plain": [
       "[0, 1, 2, 3, 4, 5, 6, 7, 8, 9]"
      ]
     },
     "execution_count": 25,
     "metadata": {},
     "output_type": "execute_result"
    }
   ],
   "source": [
    "list(range(10))"
   ]
  },
  {
   "cell_type": "code",
   "execution_count": 28,
   "id": "3d71671f-d49c-4b53-b15e-016884d7077a",
   "metadata": {},
   "outputs": [
    {
     "data": {
      "text/plain": [
       "<function range.count>"
      ]
     },
     "execution_count": 28,
     "metadata": {},
     "output_type": "execute_result"
    }
   ],
   "source": [
    "range(10).count"
   ]
  },
  {
   "cell_type": "code",
   "execution_count": 29,
   "id": "1397505a-593c-4b45-b663-083be8113213",
   "metadata": {},
   "outputs": [
    {
     "data": {
      "text/plain": [
       "<function range.index>"
      ]
     },
     "execution_count": 29,
     "metadata": {},
     "output_type": "execute_result"
    }
   ],
   "source": [
    "range(10).index"
   ]
  },
  {
   "cell_type": "code",
   "execution_count": null,
   "id": "c1e657bb-ac9f-45d4-a4d3-700eff3641bf",
   "metadata": {},
   "outputs": [],
   "source": []
  }
 ],
 "metadata": {
  "kernelspec": {
   "display_name": "Python 3 (ipykernel)",
   "language": "python",
   "name": "python3"
  },
  "language_info": {
   "codemirror_mode": {
    "name": "ipython",
    "version": 3
   },
   "file_extension": ".py",
   "mimetype": "text/x-python",
   "name": "python",
   "nbconvert_exporter": "python",
   "pygments_lexer": "ipython3",
   "version": "3.10.8"
  }
 },
 "nbformat": 4,
 "nbformat_minor": 5
}
