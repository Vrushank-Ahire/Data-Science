{
 "cells": [
  {
   "cell_type": "code",
   "execution_count": 6,
   "id": "5a6f32eb-763e-4e9f-87a9-16b24519b46f",
   "metadata": {},
   "outputs": [
    {
     "name": "stdout",
     "output_type": "stream",
     "text": [
      "Hii bro\n"
     ]
    }
   ],
   "source": [
    "print(\"Hii bro\")"
   ]
  },
  {
   "cell_type": "code",
   "execution_count": 7,
   "id": "0d5934ec-f9de-404b-8690-0b4af3c3e092",
   "metadata": {},
   "outputs": [],
   "source": [
    "B=[]"
   ]
  },
  {
   "cell_type": "code",
   "execution_count": 8,
   "id": "a87dcf8c-1661-427b-af07-022421fc75fd",
   "metadata": {},
   "outputs": [
    {
     "data": {
      "text/plain": [
       "list"
      ]
     },
     "execution_count": 8,
     "metadata": {},
     "output_type": "execute_result"
    }
   ],
   "source": [
    "type(B)"
   ]
  },
  {
   "cell_type": "code",
   "execution_count": 9,
   "id": "94513774-f068-45fa-9acd-885b37e0a0c0",
   "metadata": {},
   "outputs": [
    {
     "ename": "SyntaxError",
     "evalue": "incomplete input (2690612609.py, line 2)",
     "output_type": "error",
     "traceback": [
      "\u001b[0;36m  Cell \u001b[0;32mIn[9], line 2\u001b[0;36m\u001b[0m\n\u001b[0;31m    \u001b[0m\n\u001b[0m    ^\u001b[0m\n\u001b[0;31mSyntaxError\u001b[0m\u001b[0;31m:\u001b[0m incomplete input\n"
     ]
    }
   ],
   "source": [
    "def test():\n",
    "    "
   ]
  },
  {
   "cell_type": "code",
   "execution_count": 10,
   "id": "86d40f9d-ed5b-4721-bbd5-db42df52b603",
   "metadata": {},
   "outputs": [],
   "source": [
    "def test1():\n",
    "    print(\"this is my first function\")"
   ]
  },
  {
   "cell_type": "code",
   "execution_count": 11,
   "id": "f9682157-2cfa-49c6-b953-9c26b221d85d",
   "metadata": {},
   "outputs": [
    {
     "name": "stdout",
     "output_type": "stream",
     "text": [
      "this is my first function\n"
     ]
    }
   ],
   "source": [
    "test1()"
   ]
  },
  {
   "cell_type": "code",
   "execution_count": 12,
   "id": "0950593e-6ee2-4be5-86a2-8c5ed9b55271",
   "metadata": {},
   "outputs": [
    {
     "name": "stdout",
     "output_type": "stream",
     "text": [
      "this is my first function\n"
     ]
    }
   ],
   "source": [
    "test1()"
   ]
  },
  {
   "cell_type": "code",
   "execution_count": 13,
   "id": "32c3f3fe-6d47-4052-807e-a8ea4587f1b9",
   "metadata": {},
   "outputs": [
    {
     "name": "stdout",
     "output_type": "stream",
     "text": [
      "this is my first function\n"
     ]
    },
    {
     "ename": "TypeError",
     "evalue": "unsupported operand type(s) for +: 'NoneType' and 'str'",
     "output_type": "error",
     "traceback": [
      "\u001b[0;31m---------------------------------------------------------------------------\u001b[0m",
      "\u001b[0;31mTypeError\u001b[0m                                 Traceback (most recent call last)",
      "Cell \u001b[0;32mIn[13], line 1\u001b[0m\n\u001b[0;32m----> 1\u001b[0m \u001b[43mtest1\u001b[49m\u001b[43m(\u001b[49m\u001b[43m)\u001b[49m\u001b[43m \u001b[49m\u001b[38;5;241;43m+\u001b[39;49m\u001b[43m \u001b[49m\u001b[38;5;124;43m\"\u001b[39;49m\u001b[38;5;124;43mVrushank\u001b[39;49m\u001b[38;5;124;43m\"\u001b[39;49m\n",
      "\u001b[0;31mTypeError\u001b[0m: unsupported operand type(s) for +: 'NoneType' and 'str'"
     ]
    }
   ],
   "source": [
    "test1() + \"Vrushank\""
   ]
  },
  {
   "cell_type": "code",
   "execution_count": 14,
   "id": "d5891123-25eb-4495-a937-0660d0d4948b",
   "metadata": {},
   "outputs": [],
   "source": [
    "def test2():\n",
    "    return \"my name is\" "
   ]
  },
  {
   "cell_type": "code",
   "execution_count": 15,
   "id": "ce3befc6-07ee-4d1a-925d-08ea0f88a997",
   "metadata": {},
   "outputs": [
    {
     "data": {
      "text/plain": [
       "'my name is vrushank'"
      ]
     },
     "execution_count": 15,
     "metadata": {},
     "output_type": "execute_result"
    }
   ],
   "source": [
    "test2() + \" vrushank\""
   ]
  },
  {
   "cell_type": "code",
   "execution_count": 16,
   "id": "8e1adf92-a1e0-4919-b71f-93346b084999",
   "metadata": {},
   "outputs": [
    {
     "name": "stdout",
     "output_type": "stream",
     "text": [
      "this is my first function\n"
     ]
    },
    {
     "data": {
      "text/plain": [
       "NoneType"
      ]
     },
     "execution_count": 16,
     "metadata": {},
     "output_type": "execute_result"
    }
   ],
   "source": [
    "type(test1())"
   ]
  },
  {
   "cell_type": "code",
   "execution_count": 17,
   "id": "46adfafc-5403-4097-bdc5-89df34981049",
   "metadata": {},
   "outputs": [
    {
     "data": {
      "text/plain": [
       "str"
      ]
     },
     "execution_count": 17,
     "metadata": {},
     "output_type": "execute_result"
    }
   ],
   "source": [
    "type(test2())"
   ]
  },
  {
   "cell_type": "code",
   "execution_count": 18,
   "id": "7912db8f-eb18-4eeb-baa1-e1b3050233c7",
   "metadata": {},
   "outputs": [
    {
     "ename": "SyntaxError",
     "evalue": "incomplete input (807618628.py, line 1)",
     "output_type": "error",
     "traceback": [
      "\u001b[0;36m  Cell \u001b[0;32mIn[18], line 1\u001b[0;36m\u001b[0m\n\u001b[0;31m    def test3():\u001b[0m\n\u001b[0m                ^\u001b[0m\n\u001b[0;31mSyntaxError\u001b[0m\u001b[0;31m:\u001b[0m incomplete input\n"
     ]
    }
   ],
   "source": [
    "def test3():"
   ]
  },
  {
   "cell_type": "code",
   "execution_count": 19,
   "id": "c7d420da-3856-45d1-a6b3-9a84b7b7c85b",
   "metadata": {},
   "outputs": [],
   "source": [
    "def test3() :\n",
    "    pass"
   ]
  },
  {
   "cell_type": "code",
   "execution_count": 20,
   "id": "65fba08e-7652-404c-b227-94d70565b462",
   "metadata": {
    "tags": []
   },
   "outputs": [],
   "source": [
    "def test4():\n",
    "    return 'a','b', [1,2,3,4],33.5,56+7j"
   ]
  },
  {
   "cell_type": "code",
   "execution_count": 21,
   "id": "a7940bf1-2a1a-47a7-a3ff-1ac76c349014",
   "metadata": {},
   "outputs": [
    {
     "data": {
      "text/plain": [
       "('a', 'b', [1, 2, 3, 4], 33.5, (56+7j))"
      ]
     },
     "execution_count": 21,
     "metadata": {},
     "output_type": "execute_result"
    }
   ],
   "source": [
    "test4()"
   ]
  },
  {
   "cell_type": "code",
   "execution_count": 22,
   "id": "8818f1e4-0952-47ea-83ed-3df8086c1d80",
   "metadata": {},
   "outputs": [],
   "source": [
    "A,B,C,D,E=test4()"
   ]
  },
  {
   "cell_type": "code",
   "execution_count": 23,
   "id": "6ba49433-7f59-4982-a5c3-1fbc41f510e4",
   "metadata": {},
   "outputs": [
    {
     "data": {
      "text/plain": [
       "'a'"
      ]
     },
     "execution_count": 23,
     "metadata": {},
     "output_type": "execute_result"
    }
   ],
   "source": [
    "A\n"
   ]
  },
  {
   "cell_type": "code",
   "execution_count": 24,
   "id": "71d72c92-2d3d-42ea-a2d1-524905c7de19",
   "metadata": {},
   "outputs": [
    {
     "data": {
      "text/plain": [
       "'b'"
      ]
     },
     "execution_count": 24,
     "metadata": {},
     "output_type": "execute_result"
    }
   ],
   "source": [
    "B"
   ]
  },
  {
   "cell_type": "code",
   "execution_count": 25,
   "id": "8fc29dd0-286a-4a7e-bbf6-38b2aeee7c87",
   "metadata": {},
   "outputs": [
    {
     "data": {
      "text/plain": [
       "[1, 2, 3, 4]"
      ]
     },
     "execution_count": 25,
     "metadata": {},
     "output_type": "execute_result"
    }
   ],
   "source": [
    "C"
   ]
  },
  {
   "cell_type": "code",
   "execution_count": 26,
   "id": "091e13ae-f521-4e1a-9b2a-433b899e2d02",
   "metadata": {},
   "outputs": [
    {
     "data": {
      "text/plain": [
       "33.5"
      ]
     },
     "execution_count": 26,
     "metadata": {},
     "output_type": "execute_result"
    }
   ],
   "source": [
    "D"
   ]
  },
  {
   "cell_type": "code",
   "execution_count": 27,
   "id": "a9991d42-63e5-42bf-80be-4bf84934ce96",
   "metadata": {},
   "outputs": [
    {
     "data": {
      "text/plain": [
       "(56+7j)"
      ]
     },
     "execution_count": 27,
     "metadata": {},
     "output_type": "execute_result"
    }
   ],
   "source": [
    "E"
   ]
  },
  {
   "cell_type": "code",
   "execution_count": 28,
   "id": "ce272f01-5233-4d6b-83eb-759c265840ea",
   "metadata": {},
   "outputs": [],
   "source": [
    "x=1\n",
    "y=4"
   ]
  },
  {
   "cell_type": "code",
   "execution_count": 29,
   "id": "044aed99-22f7-4d8e-9360-d89cf59f9a27",
   "metadata": {},
   "outputs": [],
   "source": [
    "x,y=1,4"
   ]
  },
  {
   "cell_type": "markdown",
   "id": "9599dabd-a5d0-4e1e-927a-3b26be2f9854",
   "metadata": {},
   "source": [
    "both are same"
   ]
  },
  {
   "cell_type": "code",
   "execution_count": 30,
   "id": "e03bf971-de3f-4258-b30e-c3918aaa7b69",
   "metadata": {},
   "outputs": [],
   "source": [
    "mitroo =(1,16,\"NAMO\",\"cherry\")"
   ]
  },
  {
   "cell_type": "code",
   "execution_count": 31,
   "id": "01fc1704-52c0-4ca2-acaf-a97e28f763c5",
   "metadata": {},
   "outputs": [],
   "source": [
    "J,K,L,M=mitroo"
   ]
  },
  {
   "cell_type": "code",
   "execution_count": 32,
   "id": "c91c8db3-0a7d-4564-9297-960f63ba6046",
   "metadata": {},
   "outputs": [
    {
     "data": {
      "text/plain": [
       "1"
      ]
     },
     "execution_count": 32,
     "metadata": {},
     "output_type": "execute_result"
    }
   ],
   "source": [
    "J"
   ]
  },
  {
   "cell_type": "code",
   "execution_count": 33,
   "id": "e1ad8b77-d462-4bf7-8daa-794b254cff51",
   "metadata": {},
   "outputs": [
    {
     "data": {
      "text/plain": [
       "16"
      ]
     },
     "execution_count": 33,
     "metadata": {},
     "output_type": "execute_result"
    }
   ],
   "source": [
    "K\n"
   ]
  },
  {
   "cell_type": "code",
   "execution_count": 34,
   "id": "fbb36658-0852-4fe7-be1b-bdacb6990dee",
   "metadata": {},
   "outputs": [
    {
     "data": {
      "text/plain": [
       "'NAMO'"
      ]
     },
     "execution_count": 34,
     "metadata": {},
     "output_type": "execute_result"
    }
   ],
   "source": [
    "L"
   ]
  },
  {
   "cell_type": "code",
   "execution_count": 35,
   "id": "a4b7b972-1cf4-4a89-a864-1c8266898838",
   "metadata": {},
   "outputs": [
    {
     "data": {
      "text/plain": [
       "'cherry'"
      ]
     },
     "execution_count": 35,
     "metadata": {},
     "output_type": "execute_result"
    }
   ],
   "source": [
    "M"
   ]
  },
  {
   "cell_type": "code",
   "execution_count": 36,
   "id": "be4b983d-b6cf-4600-8b7c-fc59124f8bc9",
   "metadata": {},
   "outputs": [],
   "source": [
    "def test5():\n",
    "    a=5+6/7\n",
    "    return a\n"
   ]
  },
  {
   "cell_type": "code",
   "execution_count": 37,
   "id": "93a6b295-1ab6-43e6-bf58-9b1412fd4849",
   "metadata": {},
   "outputs": [
    {
     "data": {
      "text/plain": [
       "70.28571428571428"
      ]
     },
     "execution_count": 37,
     "metadata": {},
     "output_type": "execute_result"
    }
   ],
   "source": [
    "test5()*12"
   ]
  },
  {
   "cell_type": "code",
   "execution_count": 38,
   "id": "c890011e-6364-4a51-a0f9-6fbdc7e2aced",
   "metadata": {},
   "outputs": [],
   "source": [
    "def test6(a,b,c):\n",
    "    d=a+b/c\n",
    "    return d\n"
   ]
  },
  {
   "cell_type": "code",
   "execution_count": 39,
   "id": "3f7f2f3b-2202-4e57-9300-99a86be2058d",
   "metadata": {},
   "outputs": [
    {
     "ename": "TypeError",
     "evalue": "test6() missing 3 required positional arguments: 'a', 'b', and 'c'",
     "output_type": "error",
     "traceback": [
      "\u001b[0;31m---------------------------------------------------------------------------\u001b[0m",
      "\u001b[0;31mTypeError\u001b[0m                                 Traceback (most recent call last)",
      "Cell \u001b[0;32mIn[39], line 1\u001b[0m\n\u001b[0;32m----> 1\u001b[0m \u001b[43mtest6\u001b[49m\u001b[43m(\u001b[49m\u001b[43m)\u001b[49m\n",
      "\u001b[0;31mTypeError\u001b[0m: test6() missing 3 required positional arguments: 'a', 'b', and 'c'"
     ]
    }
   ],
   "source": [
    "test6()"
   ]
  },
  {
   "cell_type": "code",
   "execution_count": 40,
   "id": "5deca1ae-abee-4e0b-aba4-d8be3791eea3",
   "metadata": {},
   "outputs": [
    {
     "data": {
      "text/plain": [
       "4.75"
      ]
     },
     "execution_count": 40,
     "metadata": {},
     "output_type": "execute_result"
    }
   ],
   "source": [
    "test6(4,6,8)"
   ]
  },
  {
   "cell_type": "code",
   "execution_count": 41,
   "id": "9369eb90-fd1b-41ff-a851-b3ba0f2cdc08",
   "metadata": {},
   "outputs": [],
   "source": [
    "def test6(a,b):\n",
    "    return a+b"
   ]
  },
  {
   "cell_type": "code",
   "execution_count": 42,
   "id": "a9ee9231-f888-4b9a-a208-48f92844545a",
   "metadata": {},
   "outputs": [
    {
     "ename": "TypeError",
     "evalue": "test6() missing 2 required positional arguments: 'a' and 'b'",
     "output_type": "error",
     "traceback": [
      "\u001b[0;31m---------------------------------------------------------------------------\u001b[0m",
      "\u001b[0;31mTypeError\u001b[0m                                 Traceback (most recent call last)",
      "Cell \u001b[0;32mIn[42], line 1\u001b[0m\n\u001b[0;32m----> 1\u001b[0m \u001b[43mtest6\u001b[49m\u001b[43m(\u001b[49m\u001b[43m)\u001b[49m\n",
      "\u001b[0;31mTypeError\u001b[0m: test6() missing 2 required positional arguments: 'a' and 'b'"
     ]
    }
   ],
   "source": [
    "test6()"
   ]
  },
  {
   "cell_type": "code",
   "execution_count": 43,
   "id": "9152ba3d-475c-4aa8-9434-f86945763c14",
   "metadata": {},
   "outputs": [
    {
     "data": {
      "text/plain": [
       "7"
      ]
     },
     "execution_count": 43,
     "metadata": {},
     "output_type": "execute_result"
    }
   ],
   "source": [
    "test6(3,4)"
   ]
  },
  {
   "cell_type": "code",
   "execution_count": 44,
   "id": "cf3a4f90-86e3-42c8-b119-c4543db0c617",
   "metadata": {},
   "outputs": [
    {
     "data": {
      "text/plain": [
       "'myname'"
      ]
     },
     "execution_count": 44,
     "metadata": {},
     "output_type": "execute_result"
    }
   ],
   "source": [
    "test6('my','name')"
   ]
  },
  {
   "cell_type": "code",
   "execution_count": 45,
   "id": "c99e5066-ba81-4f53-ac83-7f2e8d280933",
   "metadata": {},
   "outputs": [
    {
     "data": {
      "text/plain": [
       "[123, 456, 789, 147, 258, 369]"
      ]
     },
     "execution_count": 45,
     "metadata": {},
     "output_type": "execute_result"
    }
   ],
   "source": [
    "test6([123,456,789],[147,258,369])"
   ]
  },
  {
   "cell_type": "code",
   "execution_count": 46,
   "id": "178b214c-4cb8-4320-bf4d-5c44a0c0f10d",
   "metadata": {},
   "outputs": [],
   "source": [
    "l = [1,2,3,4,'my','BrushaNK',[15,26,45,12,31]]"
   ]
  },
  {
   "cell_type": "code",
   "execution_count": 47,
   "id": "dba7e63d-9324-4617-9f35-36df83fb4d4d",
   "metadata": {},
   "outputs": [],
   "source": [
    "ll = []"
   ]
  },
  {
   "cell_type": "code",
   "execution_count": 48,
   "id": "3c1d5487-ea2d-4af5-8d29-fbcf9a9cf7a9",
   "metadata": {},
   "outputs": [],
   "source": [
    "ll2 = []"
   ]
  },
  {
   "cell_type": "code",
   "execution_count": 49,
   "id": "cdfd83f8-c713-47bf-afc2-7ef1eaa3d78f",
   "metadata": {},
   "outputs": [],
   "source": [
    "def test7(l):\n",
    "    for i in l:\n",
    "        if(type(i)==int or type(i)==float):\n",
    "            ll.append(i)\n",
    "        else :\n",
    "            ll2.append(i)\n",
    "    return ll , ll2"
   ]
  },
  {
   "cell_type": "code",
   "execution_count": 50,
   "id": "a445e33b-9c60-4778-8f79-072dca2c3b18",
   "metadata": {},
   "outputs": [
    {
     "data": {
      "text/plain": [
       "([1, 2, 3, 4], ['my', 'BrushaNK', [15, 26, 45, 12, 31]])"
      ]
     },
     "execution_count": 50,
     "metadata": {},
     "output_type": "execute_result"
    }
   ],
   "source": [
    "test7(l)"
   ]
  },
  {
   "cell_type": "code",
   "execution_count": 51,
   "id": "232f98a4-d5e8-4f41-a05d-4127ae67deed",
   "metadata": {},
   "outputs": [
    {
     "data": {
      "text/plain": [
       "[1, 2, 3, 4]"
      ]
     },
     "execution_count": 51,
     "metadata": {},
     "output_type": "execute_result"
    }
   ],
   "source": [
    "ll"
   ]
  },
  {
   "cell_type": "code",
   "execution_count": 52,
   "id": "cacc2bca-6eca-4518-81e9-6b1ba1478ad2",
   "metadata": {},
   "outputs": [
    {
     "data": {
      "text/plain": [
       "['my', 'BrushaNK', [15, 26, 45, 12, 31]]"
      ]
     },
     "execution_count": 52,
     "metadata": {},
     "output_type": "execute_result"
    }
   ],
   "source": [
    "ll2"
   ]
  },
  {
   "cell_type": "code",
   "execution_count": 53,
   "id": "f7fb24ce-4488-473b-8d91-060537ce3456",
   "metadata": {},
   "outputs": [],
   "source": [
    "ll.clear()\n",
    "ll2.clear()\n"
   ]
  },
  {
   "cell_type": "code",
   "execution_count": 54,
   "id": "a30334f1-c1b3-416d-8caf-789e21bc4ccc",
   "metadata": {},
   "outputs": [
    {
     "data": {
      "text/plain": [
       "[]"
      ]
     },
     "execution_count": 54,
     "metadata": {},
     "output_type": "execute_result"
    }
   ],
   "source": [
    "ll"
   ]
  },
  {
   "cell_type": "code",
   "execution_count": 55,
   "id": "bb82fd0a-055c-44b4-ba39-77e0f64cf5f0",
   "metadata": {},
   "outputs": [
    {
     "data": {
      "text/plain": [
       "[]"
      ]
     },
     "execution_count": 55,
     "metadata": {},
     "output_type": "execute_result"
    }
   ],
   "source": [
    "ll2"
   ]
  },
  {
   "cell_type": "code",
   "execution_count": 56,
   "id": "35df0ee0-7571-4533-afc5-884a44aa800d",
   "metadata": {},
   "outputs": [],
   "source": [
    "def test8():\n",
    "    \"\"\"this is my function to  extract num data from list\"\"\"\n",
    "    for j in l:\n",
    "        if(type(j)==int):\n",
    "            ll.append(j)\n",
    "        elif (type(j)==list):\n",
    "            for i in j:\n",
    "                if(type(i)==int):\n",
    "                    ll.append(i)\n",
    "                else:\n",
    "                    ll2.append(i)\n",
    "        else:\n",
    "            ll2.append(j)"
   ]
  },
  {
   "cell_type": "code",
   "execution_count": 57,
   "id": "9c978e20-81d1-4800-80b0-1153313dc89b",
   "metadata": {},
   "outputs": [],
   "source": [
    "test8()"
   ]
  },
  {
   "cell_type": "code",
   "execution_count": 58,
   "id": "2e9d7027-8a72-491d-a039-d239600dee01",
   "metadata": {},
   "outputs": [
    {
     "data": {
      "text/plain": [
       "[1, 2, 3, 4, 15, 26, 45, 12, 31]"
      ]
     },
     "execution_count": 58,
     "metadata": {},
     "output_type": "execute_result"
    }
   ],
   "source": [
    "ll"
   ]
  },
  {
   "cell_type": "code",
   "execution_count": 59,
   "id": "346d478a-7aa7-4ce1-afc1-bdfc7b9bebff",
   "metadata": {},
   "outputs": [
    {
     "data": {
      "text/plain": [
       "['my', 'BrushaNK']"
      ]
     },
     "execution_count": 59,
     "metadata": {},
     "output_type": "execute_result"
    }
   ],
   "source": [
    "ll2"
   ]
  },
  {
   "cell_type": "code",
   "execution_count": null,
   "id": "54fc7d5f-2dc4-48d7-98b1-7d0191b13784",
   "metadata": {},
   "outputs": [],
   "source": []
  },
  {
   "cell_type": "code",
   "execution_count": 60,
   "id": "c37a7618-027b-4563-9b11-f055159f3937",
   "metadata": {},
   "outputs": [],
   "source": [
    "def test12(*args):\n",
    "    return args"
   ]
  },
  {
   "cell_type": "code",
   "execution_count": 61,
   "id": "9190ac97-3f23-4c38-99d6-db906820de11",
   "metadata": {},
   "outputs": [
    {
     "data": {
      "text/plain": [
       "(1, 2, 'ka', 4)"
      ]
     },
     "execution_count": 61,
     "metadata": {},
     "output_type": "execute_result"
    }
   ],
   "source": [
    "test12(1,2,\"ka\",4)"
   ]
  },
  {
   "cell_type": "code",
   "execution_count": 62,
   "id": "1d336b97-cc45-40c4-ad5f-3d7accad53a2",
   "metadata": {},
   "outputs": [
    {
     "data": {
      "text/plain": [
       "(1, 2, 3, [12, 'lala', 'la'])"
      ]
     },
     "execution_count": 62,
     "metadata": {},
     "output_type": "execute_result"
    }
   ],
   "source": [
    "test12(1,2,3,[12,'lala','la'])"
   ]
  },
  {
   "cell_type": "code",
   "execution_count": 63,
   "id": "71a0bdeb-b040-4fb5-97bd-49762aefe716",
   "metadata": {},
   "outputs": [],
   "source": [
    "def test12(*xyz):\n",
    "    return xyz"
   ]
  },
  {
   "cell_type": "code",
   "execution_count": 64,
   "id": "b5ecdb4c-0582-4004-81c9-cc421b8fe339",
   "metadata": {},
   "outputs": [
    {
     "data": {
      "text/plain": [
       "(1234,)"
      ]
     },
     "execution_count": 64,
     "metadata": {},
     "output_type": "execute_result"
    }
   ],
   "source": [
    "test12(1234)"
   ]
  },
  {
   "cell_type": "code",
   "execution_count": 65,
   "id": "66ed18fa-7327-45cd-9e48-85c1eb4bcfa2",
   "metadata": {},
   "outputs": [],
   "source": [
    "def test13(*abcd ,a ):\n",
    "       return abcd ,a"
   ]
  },
  {
   "cell_type": "code",
   "execution_count": 66,
   "id": "4970fbc4-df93-49ff-ad60-9e7a707f83af",
   "metadata": {},
   "outputs": [
    {
     "ename": "TypeError",
     "evalue": "test13() missing 1 required keyword-only argument: 'a'",
     "output_type": "error",
     "traceback": [
      "\u001b[0;31m---------------------------------------------------------------------------\u001b[0m",
      "\u001b[0;31mTypeError\u001b[0m                                 Traceback (most recent call last)",
      "Cell \u001b[0;32mIn[66], line 1\u001b[0m\n\u001b[0;32m----> 1\u001b[0m \u001b[43mtest13\u001b[49m\u001b[43m(\u001b[49m\u001b[38;5;241;43m1\u001b[39;49m\u001b[43m,\u001b[49m\u001b[38;5;241;43m2\u001b[39;49m\u001b[43m,\u001b[49m\u001b[38;5;241;43m3\u001b[39;49m\u001b[43m,\u001b[49m\u001b[43m[\u001b[49m\u001b[38;5;241;43m12\u001b[39;49m\u001b[43m,\u001b[49m\u001b[38;5;124;43m'\u001b[39;49m\u001b[38;5;124;43mlala\u001b[39;49m\u001b[38;5;124;43m'\u001b[39;49m\u001b[43m,\u001b[49m\u001b[38;5;124;43m'\u001b[39;49m\u001b[38;5;124;43mla\u001b[39;49m\u001b[38;5;124;43m'\u001b[39;49m\u001b[43m]\u001b[49m\u001b[43m)\u001b[49m\n",
      "\u001b[0;31mTypeError\u001b[0m: test13() missing 1 required keyword-only argument: 'a'"
     ]
    }
   ],
   "source": [
    "test13(1,2,3,[12,'lala','la'])"
   ]
  },
  {
   "cell_type": "code",
   "execution_count": 67,
   "id": "9af9decb-868c-4f8f-aa04-d406a669a005",
   "metadata": {},
   "outputs": [
    {
     "data": {
      "text/plain": [
       "((1, 2, 3, [12, 'lala', 'la']), 22)"
      ]
     },
     "execution_count": 67,
     "metadata": {},
     "output_type": "execute_result"
    }
   ],
   "source": [
    "test13(1,2,3,[12,'lala','la'],a=22)"
   ]
  },
  {
   "cell_type": "code",
   "execution_count": 68,
   "id": "d2fd7fa5-e7e9-4cd5-bce2-722335901b47",
   "metadata": {},
   "outputs": [],
   "source": [
    "def test14(x,z,y=15,w=2):\n",
    "    return w,x,y,z"
   ]
  },
  {
   "cell_type": "code",
   "execution_count": 69,
   "id": "b4e97000-2494-47dd-951d-465bc0db3594",
   "metadata": {},
   "outputs": [
    {
     "data": {
      "text/plain": [
       "(2, 123, 15, 4)"
      ]
     },
     "execution_count": 69,
     "metadata": {},
     "output_type": "execute_result"
    }
   ],
   "source": [
    "test14(123,4)"
   ]
  },
  {
   "cell_type": "code",
   "execution_count": 70,
   "id": "5a995e86-3f61-49c1-94ee-ddfcdc09ee25",
   "metadata": {},
   "outputs": [
    {
     "ename": "SyntaxError",
     "evalue": "non-default argument follows default argument (1421973801.py, line 1)",
     "output_type": "error",
     "traceback": [
      "\u001b[0;36m  Cell \u001b[0;32mIn[70], line 1\u001b[0;36m\u001b[0m\n\u001b[0;31m    def test15(y=15,z,x,w=2):\u001b[0m\n\u001b[0m                    ^\u001b[0m\n\u001b[0;31mSyntaxError\u001b[0m\u001b[0;31m:\u001b[0m non-default argument follows default argument\n"
     ]
    }
   ],
   "source": [
    "def test15(y=15,z,x,w=2):\n",
    "    return w,x,y,z"
   ]
  },
  {
   "cell_type": "code",
   "execution_count": 71,
   "id": "9614c7ce-81ee-4f3d-b5c9-30dfa1eefdd7",
   "metadata": {},
   "outputs": [
    {
     "ename": "NameError",
     "evalue": "name 'test15' is not defined",
     "output_type": "error",
     "traceback": [
      "\u001b[0;31m---------------------------------------------------------------------------\u001b[0m",
      "\u001b[0;31mNameError\u001b[0m                                 Traceback (most recent call last)",
      "Cell \u001b[0;32mIn[71], line 1\u001b[0m\n\u001b[0;32m----> 1\u001b[0m \u001b[38;5;28mtype\u001b[39m(\u001b[43mtest15\u001b[49m())\n",
      "\u001b[0;31mNameError\u001b[0m: name 'test15' is not defined"
     ]
    }
   ],
   "source": [
    "type(test15())"
   ]
  },
  {
   "cell_type": "markdown",
   "id": "4939d4c2-444a-4af1-830a-03120f11642f",
   "metadata": {},
   "source": [
    "overwrite"
   ]
  },
  {
   "cell_type": "code",
   "execution_count": 72,
   "id": "12ec8f23-2f3a-4d07-a851-38282a523500",
   "metadata": {},
   "outputs": [
    {
     "data": {
      "text/plain": [
       "(2, 12, 18, 16)"
      ]
     },
     "execution_count": 72,
     "metadata": {},
     "output_type": "execute_result"
    }
   ],
   "source": [
    "test14(12,16,18)"
   ]
  },
  {
   "cell_type": "code",
   "execution_count": 73,
   "id": "3653d3f0-6550-4872-a551-dbfbb93f680f",
   "metadata": {},
   "outputs": [
    {
     "data": {
      "text/plain": [
       "(2, 12, 15, 16)"
      ]
     },
     "execution_count": 73,
     "metadata": {},
     "output_type": "execute_result"
    }
   ],
   "source": [
    "test14(12,16)"
   ]
  },
  {
   "cell_type": "code",
   "execution_count": 74,
   "id": "f514f96e-2726-4c32-b22f-0a9bb9ce9bec",
   "metadata": {},
   "outputs": [
    {
     "data": {
      "text/plain": [
       "(0, 12, 15, 16)"
      ]
     },
     "execution_count": 74,
     "metadata": {},
     "output_type": "execute_result"
    }
   ],
   "source": [
    "test14(12,16,w=0)"
   ]
  },
  {
   "cell_type": "markdown",
   "id": "18cf9573-60f3-4785-a1c1-f969751c87d9",
   "metadata": {},
   "source": [
    "if the user wants the n number data into dictionary format the we use **"
   ]
  },
  {
   "cell_type": "code",
   "execution_count": 75,
   "id": "cbfb4f84-6ff8-4edc-9a8a-04439c7e44e9",
   "metadata": {},
   "outputs": [],
   "source": [
    "def test15(**kwargs):\n",
    "    return kwargs"
   ]
  },
  {
   "cell_type": "code",
   "execution_count": 76,
   "id": "719fe858-bb7d-4575-9c88-2e976952ca82",
   "metadata": {},
   "outputs": [
    {
     "data": {
      "text/plain": [
       "{}"
      ]
     },
     "execution_count": 76,
     "metadata": {},
     "output_type": "execute_result"
    }
   ],
   "source": [
    "test15()"
   ]
  },
  {
   "cell_type": "code",
   "execution_count": 77,
   "id": "b1bef853-2dda-4043-8ba5-114406a825d5",
   "metadata": {},
   "outputs": [
    {
     "data": {
      "text/plain": [
       "dict"
      ]
     },
     "execution_count": 77,
     "metadata": {},
     "output_type": "execute_result"
    }
   ],
   "source": [
    "type(test15())"
   ]
  },
  {
   "cell_type": "code",
   "execution_count": 78,
   "id": "f4bb229a-23e1-4890-a027-1047498ac276",
   "metadata": {},
   "outputs": [
    {
     "data": {
      "text/plain": [
       "{'key1': [1, 2, 6], 'b': 'ball', 'c': 'bail', 'd': (156+5j)}"
      ]
     },
     "execution_count": 78,
     "metadata": {},
     "output_type": "execute_result"
    }
   ],
   "source": [
    "test15( key1=[1,2,6],b='ball',c='bail',d=156+5j)"
   ]
  },
  {
   "cell_type": "code",
   "execution_count": null,
   "id": "0e1bd10b-7032-4939-9209-e5f8359b469b",
   "metadata": {},
   "outputs": [],
   "source": []
  },
  {
   "cell_type": "code",
   "execution_count": null,
   "id": "deafae38-1060-4054-8ae5-f50466df0bcc",
   "metadata": {},
   "outputs": [],
   "source": []
  }
 ],
 "metadata": {
  "kernelspec": {
   "display_name": "Python 3 (ipykernel)",
   "language": "python",
   "name": "python3"
  },
  "language_info": {
   "codemirror_mode": {
    "name": "ipython",
    "version": 3
   },
   "file_extension": ".py",
   "mimetype": "text/x-python",
   "name": "python",
   "nbconvert_exporter": "python",
   "pygments_lexer": "ipython3",
   "version": "3.10.8"
  }
 },
 "nbformat": 4,
 "nbformat_minor": 5
}
