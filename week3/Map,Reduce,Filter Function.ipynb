{
 "cells": [
  {
   "cell_type": "code",
   "execution_count": 1,
   "id": "3e48cbb4-8d83-4e32-9531-b17360bc1224",
   "metadata": {},
   "outputs": [],
   "source": [
    "l1=[1,2,3,4,5,6]\n"
   ]
  },
  {
   "cell_type": "code",
   "execution_count": 2,
   "id": "ccc1b6da-1bcf-4d28-b290-e4b2d7ca3b07",
   "metadata": {},
   "outputs": [],
   "source": [
    "l2=[]"
   ]
  },
  {
   "cell_type": "code",
   "execution_count": 3,
   "id": "6a412163-6e43-4926-9a14-ee4a97fc4beb",
   "metadata": {},
   "outputs": [],
   "source": [
    "def sq(l):\n",
    "    for i in l:\n",
    "        l2.append(i**2)"
   ]
  },
  {
   "cell_type": "code",
   "execution_count": 8,
   "id": "7e78ae72-aff4-4747-b1de-81e3a58a3c83",
   "metadata": {},
   "outputs": [],
   "source": [
    "sq(l1)"
   ]
  },
  {
   "cell_type": "code",
   "execution_count": 6,
   "id": "118efeae-b5db-4f66-b78b-443c0a6e5236",
   "metadata": {},
   "outputs": [
    {
     "name": "stdout",
     "output_type": "stream",
     "text": [
      "[1, 4, 9, 16, 25, 36]\n"
     ]
    }
   ],
   "source": [
    "print(l2)"
   ]
  },
  {
   "cell_type": "code",
   "execution_count": 9,
   "id": "22d5fb3f-1d2f-44e8-b0f6-23a025414df6",
   "metadata": {},
   "outputs": [
    {
     "data": {
      "text/plain": [
       "[1, 4, 9, 16, 25, 36, 1, 4, 9, 16, 25, 36]"
      ]
     },
     "execution_count": 9,
     "metadata": {},
     "output_type": "execute_result"
    }
   ],
   "source": [
    "l2"
   ]
  },
  {
   "cell_type": "code",
   "execution_count": 10,
   "id": "62fd4d80-1f19-4dfa-8401-b4a8e92d0874",
   "metadata": {},
   "outputs": [],
   "source": [
    " def sqr(y):\n",
    "        return y**2"
   ]
  },
  {
   "cell_type": "code",
   "execution_count": 12,
   "id": "e71647e7-e9ad-44bf-b202-c84cfb0af4d6",
   "metadata": {},
   "outputs": [
    {
     "data": {
      "text/plain": [
       "<map at 0x7f9c36cc39a0>"
      ]
     },
     "execution_count": 12,
     "metadata": {},
     "output_type": "execute_result"
    }
   ],
   "source": [
    "map(sqr,l1)"
   ]
  },
  {
   "cell_type": "code",
   "execution_count": 14,
   "id": "40bb2888-f162-4888-a376-4c685537f10a",
   "metadata": {},
   "outputs": [
    {
     "data": {
      "text/plain": [
       "[1, 4, 9, 16, 25, 36]"
      ]
     },
     "execution_count": 14,
     "metadata": {},
     "output_type": "execute_result"
    }
   ],
   "source": [
    "list(map(sqr,l1))"
   ]
  },
  {
   "cell_type": "code",
   "execution_count": 17,
   "id": "b3ed1ed4-a2e4-4e3e-9cc4-17871b4426f6",
   "metadata": {},
   "outputs": [],
   "source": [
    "l4=iter(map(sqr,l1))"
   ]
  },
  {
   "cell_type": "code",
   "execution_count": 19,
   "id": "93f4d9e6-8340-406b-93ad-293238b7db15",
   "metadata": {},
   "outputs": [
    {
     "data": {
      "text/plain": [
       "1"
      ]
     },
     "execution_count": 19,
     "metadata": {},
     "output_type": "execute_result"
    }
   ],
   "source": [
    "next(l4)"
   ]
  },
  {
   "cell_type": "code",
   "execution_count": 20,
   "id": "ac95ac12-3fa1-45f7-b4e6-d166eac37f18",
   "metadata": {},
   "outputs": [
    {
     "data": {
      "text/plain": [
       "4"
      ]
     },
     "execution_count": 20,
     "metadata": {},
     "output_type": "execute_result"
    }
   ],
   "source": [
    "next(l4)"
   ]
  },
  {
   "cell_type": "code",
   "execution_count": 21,
   "id": "5316007a-b9c4-4445-8931-9d8d010ba434",
   "metadata": {},
   "outputs": [
    {
     "data": {
      "text/plain": [
       "9"
      ]
     },
     "execution_count": 21,
     "metadata": {},
     "output_type": "execute_result"
    }
   ],
   "source": [
    "next(l4)"
   ]
  },
  {
   "cell_type": "code",
   "execution_count": 22,
   "id": "960536ea-6852-42bc-b64f-e199689d2349",
   "metadata": {},
   "outputs": [
    {
     "data": {
      "text/plain": [
       "16"
      ]
     },
     "execution_count": 22,
     "metadata": {},
     "output_type": "execute_result"
    }
   ],
   "source": [
    "next(l4)"
   ]
  },
  {
   "cell_type": "code",
   "execution_count": 23,
   "id": "031c2f0d-a93b-4e3f-b96c-ce45b5415ce3",
   "metadata": {},
   "outputs": [
    {
     "data": {
      "text/plain": [
       "25"
      ]
     },
     "execution_count": 23,
     "metadata": {},
     "output_type": "execute_result"
    }
   ],
   "source": [
    "next(l4)"
   ]
  },
  {
   "cell_type": "code",
   "execution_count": 24,
   "id": "29e0104c-195a-4b40-8422-434aeba611bb",
   "metadata": {},
   "outputs": [
    {
     "data": {
      "text/plain": [
       "36"
      ]
     },
     "execution_count": 24,
     "metadata": {},
     "output_type": "execute_result"
    }
   ],
   "source": [
    "next(l4)"
   ]
  },
  {
   "cell_type": "code",
   "execution_count": 25,
   "id": "8673fe04-193e-4123-b6f1-42aab0683812",
   "metadata": {},
   "outputs": [
    {
     "ename": "StopIteration",
     "evalue": "",
     "output_type": "error",
     "traceback": [
      "\u001b[0;31m---------------------------------------------------------------------------\u001b[0m",
      "\u001b[0;31mStopIteration\u001b[0m                             Traceback (most recent call last)",
      "Cell \u001b[0;32mIn[25], line 1\u001b[0m\n\u001b[0;32m----> 1\u001b[0m \u001b[38;5;28;43mnext\u001b[39;49m\u001b[43m(\u001b[49m\u001b[43ml4\u001b[49m\u001b[43m)\u001b[49m\n",
      "\u001b[0;31mStopIteration\u001b[0m: "
     ]
    }
   ],
   "source": [
    "next(l4)"
   ]
  },
  {
   "cell_type": "code",
   "execution_count": 26,
   "id": "66c4a109-a3e1-4a84-8ce1-bd8a834626bc",
   "metadata": {},
   "outputs": [
    {
     "data": {
      "text/plain": [
       "map"
      ]
     },
     "execution_count": 26,
     "metadata": {},
     "output_type": "execute_result"
    }
   ],
   "source": [
    "type(map(sqr,l1))"
   ]
  },
  {
   "cell_type": "code",
   "execution_count": 27,
   "id": "92db9c58-ae89-4107-9cbd-92c0ae1e8404",
   "metadata": {},
   "outputs": [],
   "source": [
    "lol=list(map(sqr,l1))"
   ]
  },
  {
   "cell_type": "code",
   "execution_count": 28,
   "id": "31905f11-0698-49b5-8e40-95fb3fb7e0fe",
   "metadata": {},
   "outputs": [
    {
     "data": {
      "text/plain": [
       "[1, 4, 9, 16, 25, 36]"
      ]
     },
     "execution_count": 28,
     "metadata": {},
     "output_type": "execute_result"
    }
   ],
   "source": [
    "lol"
   ]
  },
  {
   "cell_type": "code",
   "execution_count": null,
   "id": "be43d0d6-d5a6-4984-b65d-9f3a712a9570",
   "metadata": {},
   "outputs": [],
   "source": []
  },
  {
   "cell_type": "code",
   "execution_count": 30,
   "id": "24f81c63-4e28-4882-8fc9-b6190c46197c",
   "metadata": {},
   "outputs": [
    {
     "data": {
      "text/plain": [
       "<map at 0x7f9c36b1e260>"
      ]
     },
     "execution_count": 30,
     "metadata": {},
     "output_type": "execute_result"
    }
   ],
   "source": [
    "map(lambda x : 3*x + 4,l1)"
   ]
  },
  {
   "cell_type": "code",
   "execution_count": 31,
   "id": "5eef12ce-d643-4682-a381-9ebab760241c",
   "metadata": {},
   "outputs": [
    {
     "data": {
      "text/plain": [
       "[7, 10, 13, 16, 19, 22]"
      ]
     },
     "execution_count": 31,
     "metadata": {},
     "output_type": "execute_result"
    }
   ],
   "source": [
    "list(map(lambda x : 3*x + 4,l1))"
   ]
  },
  {
   "cell_type": "code",
   "execution_count": 32,
   "id": "7758fdfe-8c67-4ce3-b3b8-5e5b70ada0b1",
   "metadata": {},
   "outputs": [],
   "source": [
    "A1=[1,2,3,4,5]\n",
    "A2=[1,4,9,16,25]\n",
    "A3=[1,8,27,64,125]"
   ]
  },
  {
   "cell_type": "code",
   "execution_count": 34,
   "id": "7292c7ab-3c6a-423d-b063-dde028e951e7",
   "metadata": {},
   "outputs": [
    {
     "data": {
      "text/plain": [
       "[6, 34, 102, 228, 430]"
      ]
     },
     "execution_count": 34,
     "metadata": {},
     "output_type": "execute_result"
    }
   ],
   "source": [
    "list(map(lambda x,y,z : x+2*y+3*z,A1,A2,A3))"
   ]
  },
  {
   "cell_type": "code",
   "execution_count": 41,
   "id": "02601888-32d3-4381-9090-dbc3f96171fb",
   "metadata": {},
   "outputs": [],
   "source": [
    "ALGO=lambda x,y,z : x+2*y+3*z"
   ]
  },
  {
   "cell_type": "code",
   "execution_count": 42,
   "id": "df00a5c7-05ef-4d84-98f3-3eb756e7a848",
   "metadata": {},
   "outputs": [
    {
     "data": {
      "text/plain": [
       "14"
      ]
     },
     "execution_count": 42,
     "metadata": {},
     "output_type": "execute_result"
    }
   ],
   "source": [
    "ALGO(1,2,3)"
   ]
  },
  {
   "cell_type": "code",
   "execution_count": 43,
   "id": "b69f8a11-5b2e-4f7b-befb-3c313754da27",
   "metadata": {},
   "outputs": [
    {
     "data": {
      "text/plain": [
       "[1, 2, 1, 4, 1, 4, 1, 8, 1, 8, 1, 8]"
      ]
     },
     "execution_count": 43,
     "metadata": {},
     "output_type": "execute_result"
    }
   ],
   "source": [
    "ALGO([1,2],[1,4],[1,8])"
   ]
  },
  {
   "cell_type": "code",
   "execution_count": 48,
   "id": "1f755a1f-ff3d-4515-b67b-2c47516c09ce",
   "metadata": {},
   "outputs": [
    {
     "data": {
      "text/plain": [
       "[6, 34, 102, 228, 430]"
      ]
     },
     "execution_count": 48,
     "metadata": {},
     "output_type": "execute_result"
    }
   ],
   "source": [
    "list(map(ALGO,A1,A2,A3))"
   ]
  },
  {
   "cell_type": "code",
   "execution_count": 4,
   "id": "bf2cbbc0-092c-4b09-bb5b-ab973dc4f9f5",
   "metadata": {},
   "outputs": [],
   "source": [
    "fun1=lambda string : string.upper()"
   ]
  },
  {
   "cell_type": "code",
   "execution_count": 5,
   "id": "59ae3916-ace4-4773-831f-2fa97f71a73b",
   "metadata": {},
   "outputs": [],
   "source": [
    "B1=['bOAT','CAT','NET']"
   ]
  },
  {
   "cell_type": "code",
   "execution_count": 6,
   "id": "d615828c-2eea-484b-899f-296255b43a65",
   "metadata": {},
   "outputs": [],
   "source": [
    "B2=['SET','JET',\"TAKE\"]"
   ]
  },
  {
   "cell_type": "code",
   "execution_count": 7,
   "id": "b5115503-409a-4908-a07e-526466a6dc1a",
   "metadata": {},
   "outputs": [
    {
     "data": {
      "text/plain": [
       "['BOAT', 'CAT', 'NET']"
      ]
     },
     "execution_count": 7,
     "metadata": {},
     "output_type": "execute_result"
    }
   ],
   "source": [
    "list(map(fun1,B1))"
   ]
  },
  {
   "cell_type": "code",
   "execution_count": 8,
   "id": "5c9b88ea-0825-423f-8903-5e5c93227523",
   "metadata": {},
   "outputs": [],
   "source": [
    "a='Vrushank'"
   ]
  },
  {
   "cell_type": "code",
   "execution_count": 10,
   "id": "7dc82a17-b3b5-4a73-9135-f6cb3d09574f",
   "metadata": {},
   "outputs": [
    {
     "data": {
      "text/plain": [
       "['V', 'R', 'U', 'S', 'H', 'A', 'N', 'K']"
      ]
     },
     "execution_count": 10,
     "metadata": {},
     "output_type": "execute_result"
    }
   ],
   "source": [
    "list(map(fun1,a))"
   ]
  },
  {
   "cell_type": "code",
   "execution_count": 11,
   "id": "239a805f-30d3-477c-9579-f4df202a2382",
   "metadata": {},
   "outputs": [
    {
     "data": {
      "text/plain": [
       "['V', 'r', 'u', 's', 'h', 'a', 'n', 'k']"
      ]
     },
     "execution_count": 11,
     "metadata": {},
     "output_type": "execute_result"
    }
   ],
   "source": [
    "list(\"Vrushank\")"
   ]
  },
  {
   "cell_type": "code",
   "execution_count": null,
   "id": "22f3f2ed-60f7-4e60-80cc-ae6368123daf",
   "metadata": {},
   "outputs": [],
   "source": []
  },
  {
   "cell_type": "code",
   "execution_count": null,
   "id": "9ec7c72b-aae9-48cc-94e4-81ce6678731e",
   "metadata": {},
   "outputs": [],
   "source": []
  },
  {
   "cell_type": "code",
   "execution_count": null,
   "id": "9efbb05c-a53d-4f34-b496-e423ad775dc7",
   "metadata": {},
   "outputs": [],
   "source": []
  },
  {
   "cell_type": "code",
   "execution_count": 13,
   "id": "031dd873-59af-4bc4-8e0d-eeb03ae9e19c",
   "metadata": {},
   "outputs": [],
   "source": [
    "\n",
    "from functools import reduce "
   ]
  },
  {
   "cell_type": "code",
   "execution_count": 31,
   "id": "90e63b2e-988f-4fbd-ae1f-6cd019923245",
   "metadata": {},
   "outputs": [],
   "source": [
    "l=[1,14,2,3,3,4,5]"
   ]
  },
  {
   "cell_type": "code",
   "execution_count": 19,
   "id": "463888b6-87e5-4b25-b48b-c8cb7b34da8d",
   "metadata": {},
   "outputs": [
    {
     "data": {
      "text/plain": [
       "18"
      ]
     },
     "execution_count": 19,
     "metadata": {},
     "output_type": "execute_result"
    }
   ],
   "source": [
    "reduce(lambda x,y:x+y,l)"
   ]
  },
  {
   "cell_type": "code",
   "execution_count": 23,
   "id": "54ebe09b-7616-44a1-a282-3ab9e8baebc2",
   "metadata": {},
   "outputs": [
    {
     "ename": "TypeError",
     "evalue": "<lambda>() missing 1 required positional argument: 'z'",
     "output_type": "error",
     "traceback": [
      "\u001b[0;31m---------------------------------------------------------------------------\u001b[0m",
      "\u001b[0;31mTypeError\u001b[0m                                 Traceback (most recent call last)",
      "Cell \u001b[0;32mIn[23], line 1\u001b[0m\n\u001b[0;32m----> 1\u001b[0m \u001b[43mreduce\u001b[49m\u001b[43m(\u001b[49m\u001b[38;5;28;43;01mlambda\u001b[39;49;00m\u001b[43m \u001b[49m\u001b[43mx\u001b[49m\u001b[43m,\u001b[49m\u001b[43my\u001b[49m\u001b[43m,\u001b[49m\u001b[43mz\u001b[49m\u001b[43m:\u001b[49m\u001b[43mx\u001b[49m\u001b[38;5;241;43m+\u001b[39;49m\u001b[43my\u001b[49m\u001b[38;5;241;43m+\u001b[39;49m\u001b[43mz\u001b[49m\u001b[43m,\u001b[49m\u001b[43ml\u001b[49m\u001b[43m)\u001b[49m\n",
      "\u001b[0;31mTypeError\u001b[0m: <lambda>() missing 1 required positional argument: 'z'"
     ]
    }
   ],
   "source": [
    "reduce(lambda x,y,z:x+y+z,l)"
   ]
  },
  {
   "cell_type": "markdown",
   "id": "e305b5b9-346c-465b-8abf-6e1f17caaa2e",
   "metadata": {},
   "source": [
    "note that reduce only take one parameter"
   ]
  },
  {
   "cell_type": "markdown",
   "id": "1b8fa55e-b466-4cd1-a436-7de92a273ad7",
   "metadata": {},
   "source": [
    "special case"
   ]
  },
  {
   "cell_type": "code",
   "execution_count": 25,
   "id": "fd285fc9-eb90-4ed7-90c2-bc8d32389799",
   "metadata": {},
   "outputs": [
    {
     "data": {
      "text/plain": [
       "1"
      ]
     },
     "execution_count": 25,
     "metadata": {},
     "output_type": "execute_result"
    }
   ],
   "source": [
    "reduce(lambda x,y :x+y ,[1])"
   ]
  },
  {
   "cell_type": "code",
   "execution_count": 28,
   "id": "29ff9ed5-b423-4176-a28b-e0a643d1f934",
   "metadata": {},
   "outputs": [
    {
     "data": {
      "text/plain": [
       "[1, 2, 3, 3, 4, 5]"
      ]
     },
     "execution_count": 28,
     "metadata": {},
     "output_type": "execute_result"
    }
   ],
   "source": [
    "l"
   ]
  },
  {
   "cell_type": "code",
   "execution_count": 33,
   "id": "7bcdb15b-d82f-400f-93e1-b979e5306af8",
   "metadata": {},
   "outputs": [
    {
     "data": {
      "text/plain": [
       "14"
      ]
     },
     "execution_count": 33,
     "metadata": {},
     "output_type": "execute_result"
    }
   ],
   "source": [
    "reduce(lambda x,y: x if x>y else y , l )"
   ]
  },
  {
   "cell_type": "markdown",
   "id": "56bdb4a3-7e62-4ff6-bdb8-323e111ade18",
   "metadata": {},
   "source": [
    "FILTER"
   ]
  },
  {
   "cell_type": "code",
   "execution_count": 34,
   "id": "bffb2e02-1fd1-4678-9f0e-a799db86d166",
   "metadata": {},
   "outputs": [
    {
     "data": {
      "text/plain": [
       "[14, 2, 4]"
      ]
     },
     "execution_count": 34,
     "metadata": {},
     "output_type": "execute_result"
    }
   ],
   "source": [
    "list(filter(lambda x : x%2==0 ,l))"
   ]
  },
  {
   "cell_type": "code",
   "execution_count": 36,
   "id": "7edb6d2b-052e-44c5-a006-3835c48c224e",
   "metadata": {},
   "outputs": [
    {
     "data": {
      "text/plain": [
       "{3}"
      ]
     },
     "execution_count": 36,
     "metadata": {},
     "output_type": "execute_result"
    }
   ],
   "source": [
    "set(filter(lambda x : x%3==0 , l))"
   ]
  },
  {
   "cell_type": "code",
   "execution_count": 37,
   "id": "4a86fb5c-a43b-44c8-8f6c-1386c5fe4843",
   "metadata": {},
   "outputs": [],
   "source": [
    "l2=[-2,-5,2,6,-3,-7]"
   ]
  },
  {
   "cell_type": "code",
   "execution_count": 39,
   "id": "28c2d62e-7ff8-43fb-8e6b-d6677636af16",
   "metadata": {},
   "outputs": [
    {
     "data": {
      "text/plain": [
       "[-2, -5, -3, -7]"
      ]
     },
     "execution_count": 39,
     "metadata": {},
     "output_type": "execute_result"
    }
   ],
   "source": [
    "list(filter(lambda x: x<0,l2))"
   ]
  },
  {
   "cell_type": "code",
   "execution_count": 41,
   "id": "6236ec1b-78bc-4849-9011-18f209ff477b",
   "metadata": {},
   "outputs": [],
   "source": [
    "l3=['sun','feast', 'beast','toast','at','ro']"
   ]
  },
  {
   "cell_type": "code",
   "execution_count": 42,
   "id": "6a2fe25f-45d0-4fbf-9b5a-c07941e1c81b",
   "metadata": {},
   "outputs": [
    {
     "data": {
      "text/plain": [
       "['feast', 'beast', 'toast']"
      ]
     },
     "execution_count": 42,
     "metadata": {},
     "output_type": "execute_result"
    }
   ],
   "source": [
    "list(filter(lambda x :len(x)>4,l3))"
   ]
  },
  {
   "cell_type": "code",
   "execution_count": null,
   "id": "54e627a5-ee39-45e5-9161-35d78a695cb7",
   "metadata": {},
   "outputs": [],
   "source": []
  }
 ],
 "metadata": {
  "kernelspec": {
   "display_name": "Python 3 (ipykernel)",
   "language": "python",
   "name": "python3"
  },
  "language_info": {
   "codemirror_mode": {
    "name": "ipython",
    "version": 3
   },
   "file_extension": ".py",
   "mimetype": "text/x-python",
   "name": "python",
   "nbconvert_exporter": "python",
   "pygments_lexer": "ipython3",
   "version": "3.10.8"
  }
 },
 "nbformat": 4,
 "nbformat_minor": 5
}
