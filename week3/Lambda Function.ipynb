{
 "cells": [
  {
   "cell_type": "code",
   "execution_count": 1,
   "id": "8ef3a072-48ad-459d-aa55-d83180899c43",
   "metadata": {},
   "outputs": [],
   "source": [
    "n=5\n",
    "p=6"
   ]
  },
  {
   "cell_type": "code",
   "execution_count": 2,
   "id": "82fb8bd2-80c0-43b0-8b6c-377aacff4d6c",
   "metadata": {},
   "outputs": [],
   "source": [
    "def fun1(n,p):\n",
    "    return n**p"
   ]
  },
  {
   "cell_type": "code",
   "execution_count": 3,
   "id": "b3732749-0cdd-40aa-b8a6-bf9b036db065",
   "metadata": {},
   "outputs": [
    {
     "data": {
      "text/plain": [
       "81"
      ]
     },
     "execution_count": 3,
     "metadata": {},
     "output_type": "execute_result"
    }
   ],
   "source": [
    "fun1(3,4)"
   ]
  },
  {
   "cell_type": "code",
   "execution_count": 5,
   "id": "199d5017-9675-4f11-9d04-a8f9a2d35214",
   "metadata": {},
   "outputs": [
    {
     "data": {
      "text/plain": [
       "<function __main__.<lambda>(n, p)>"
      ]
     },
     "execution_count": 5,
     "metadata": {},
     "output_type": "execute_result"
    }
   ],
   "source": [
    "lambda n,p : n**p"
   ]
  },
  {
   "cell_type": "code",
   "execution_count": 6,
   "id": "1703a56f-18f2-4d51-8aa3-e459ff510477",
   "metadata": {},
   "outputs": [],
   "source": [
    "a=lambda n,p : n**p"
   ]
  },
  {
   "cell_type": "code",
   "execution_count": 7,
   "id": "e6ccb423-d58d-4063-8b8c-041bf5cd56ae",
   "metadata": {},
   "outputs": [
    {
     "data": {
      "text/plain": [
       "81"
      ]
     },
     "execution_count": 7,
     "metadata": {},
     "output_type": "execute_result"
    }
   ],
   "source": [
    "a(3,4)"
   ]
  },
  {
   "cell_type": "code",
   "execution_count": 8,
   "id": "c1319188-7a18-416b-a543-2cb629cb6ee8",
   "metadata": {},
   "outputs": [],
   "source": [
    "add = lambda a,b : a+b "
   ]
  },
  {
   "cell_type": "code",
   "execution_count": 9,
   "id": "c8d24ac4-baa2-4dac-a7a7-399291bbf798",
   "metadata": {},
   "outputs": [
    {
     "data": {
      "text/plain": [
       "8"
      ]
     },
     "execution_count": 9,
     "metadata": {},
     "output_type": "execute_result"
    }
   ],
   "source": [
    "add(5,3)"
   ]
  },
  {
   "cell_type": "code",
   "execution_count": 12,
   "id": "ed87c7aa-5e29-4959-9842-2835f1c74880",
   "metadata": {},
   "outputs": [],
   "source": [
    "tem = lambda c : c*9/5 + 32"
   ]
  },
  {
   "cell_type": "code",
   "execution_count": 14,
   "id": "255da34d-3259-4476-9602-a749c62d15a3",
   "metadata": {},
   "outputs": [
    {
     "data": {
      "text/plain": [
       "99.5"
      ]
     },
     "execution_count": 14,
     "metadata": {},
     "output_type": "execute_result"
    }
   ],
   "source": [
    "tem(37.5)"
   ]
  },
  {
   "cell_type": "code",
   "execution_count": 15,
   "id": "4acca195-e3d3-4f0c-af74-e925c9f6213a",
   "metadata": {},
   "outputs": [
    {
     "data": {
      "text/plain": [
       "98.6"
      ]
     },
     "execution_count": 15,
     "metadata": {},
     "output_type": "execute_result"
    }
   ],
   "source": [
    "tem(37)"
   ]
  },
  {
   "cell_type": "markdown",
   "id": "16abd14a-1b56-4e41-a4ab-d118ff41dec3",
   "metadata": {},
   "source": [
    "finding maxm of two numbers using lambda fun"
   ]
  },
  {
   "cell_type": "code",
   "execution_count": 22,
   "id": "a559c7fe-a3ef-41a9-9383-9dd03aa0c6c3",
   "metadata": {},
   "outputs": [],
   "source": [
    "maxm = lambda a,b : a if(a>b) else b  "
   ]
  },
  {
   "cell_type": "code",
   "execution_count": 25,
   "id": "343762a6-1f66-4d55-a0aa-385e14f06ef8",
   "metadata": {},
   "outputs": [
    {
     "data": {
      "text/plain": [
       "15"
      ]
     },
     "execution_count": 25,
     "metadata": {},
     "output_type": "execute_result"
    }
   ],
   "source": [
    "maxm(15,7)"
   ]
  },
  {
   "cell_type": "code",
   "execution_count": null,
   "id": "52658c20-5a5c-4448-8749-04983c9e4d87",
   "metadata": {},
   "outputs": [],
   "source": []
  },
  {
   "cell_type": "code",
   "execution_count": 26,
   "id": "1efc9325-fd45-4a5b-835a-97fa79aca4f2",
   "metadata": {},
   "outputs": [],
   "source": [
    "s=\"vrushank\""
   ]
  },
  {
   "cell_type": "code",
   "execution_count": 27,
   "id": "ed8b1961-0501-40ab-a596-7a3b075145bb",
   "metadata": {},
   "outputs": [
    {
     "data": {
      "text/plain": [
       "8"
      ]
     },
     "execution_count": 27,
     "metadata": {},
     "output_type": "execute_result"
    }
   ],
   "source": [
    "len(s)"
   ]
  },
  {
   "cell_type": "code",
   "execution_count": 28,
   "id": "7bbd6b4b-6fb1-4177-a60d-cb0f7bbd951d",
   "metadata": {},
   "outputs": [],
   "source": [
    "find_len = lambda string : len(string)  "
   ]
  },
  {
   "cell_type": "code",
   "execution_count": 29,
   "id": "986f44f9-8b92-412e-8682-a5939fc97468",
   "metadata": {},
   "outputs": [
    {
     "data": {
      "text/plain": [
       "5"
      ]
     },
     "execution_count": 29,
     "metadata": {},
     "output_type": "execute_result"
    }
   ],
   "source": [
    "find_len(\"AHIRE\")"
   ]
  },
  {
   "cell_type": "code",
   "execution_count": null,
   "id": "452fda74-40ec-4642-8a6c-c85943017179",
   "metadata": {},
   "outputs": [],
   "source": []
  }
 ],
 "metadata": {
  "kernelspec": {
   "display_name": "Python 3 (ipykernel)",
   "language": "python",
   "name": "python3"
  },
  "language_info": {
   "codemirror_mode": {
    "name": "ipython",
    "version": 3
   },
   "file_extension": ".py",
   "mimetype": "text/x-python",
   "name": "python",
   "nbconvert_exporter": "python",
   "pygments_lexer": "ipython3",
   "version": "3.10.8"
  }
 },
 "nbformat": 4,
 "nbformat_minor": 5
}
