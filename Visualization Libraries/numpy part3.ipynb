{
 "cells": [
  {
   "cell_type": "code",
   "execution_count": 1,
   "id": "e7b9ab11-c8e9-4fdb-98a1-e98235c1957d",
   "metadata": {},
   "outputs": [],
   "source": [
    "#sort search and counting functions"
   ]
  },
  {
   "cell_type": "code",
   "execution_count": 3,
   "id": "04b6a762-64e9-4098-b3dd-05ac9a493726",
   "metadata": {},
   "outputs": [],
   "source": [
    "import numpy as np"
   ]
  },
  {
   "cell_type": "code",
   "execution_count": 25,
   "id": "2779a842-53f5-4fd9-bef1-941ab2b395fb",
   "metadata": {},
   "outputs": [],
   "source": [
    "arr = np.array([4,6,5,5,2,2,2,2,1])"
   ]
  },
  {
   "cell_type": "code",
   "execution_count": 26,
   "id": "8073564b-3d1c-492e-a897-aabf77d3a0ed",
   "metadata": {},
   "outputs": [
    {
     "data": {
      "text/plain": [
       "array([1, 2, 2, 2, 2, 4, 5, 5, 6])"
      ]
     },
     "execution_count": 26,
     "metadata": {},
     "output_type": "execute_result"
    }
   ],
   "source": [
    "np.sort(arr)"
   ]
  },
  {
   "cell_type": "code",
   "execution_count": 30,
   "id": "604cf324-b302-4e8d-9d31-d1b33735e6cd",
   "metadata": {},
   "outputs": [
    {
     "data": {
      "text/plain": [
       "5"
      ]
     },
     "execution_count": 31,
     "metadata": {},
     "output_type": "execute_result"
    }
   ],
   "source": [
    "np.searchsorted(arr,3)"
   ]
  },
  {
   "cell_type": "code",
   "execution_count": 28,
   "id": "2efe2e2e-415f-4f4e-8301-1f3214d50301",
   "metadata": {},
   "outputs": [],
   "source": [
    "arr1 = np.array([0,345,3,321,21,1,2,0,0,0,0,0])"
   ]
  },
  {
   "cell_type": "code",
   "execution_count": 29,
   "id": "8013923f-e8f0-41b2-9f0f-d42771c9b19c",
   "metadata": {},
   "outputs": [
    {
     "data": {
      "text/plain": [
       "6"
      ]
     },
     "execution_count": 29,
     "metadata": {},
     "output_type": "execute_result"
    }
   ],
   "source": [
    "np.count_nonzero(arr1)"
   ]
  },
  {
   "cell_type": "code",
   "execution_count": 39,
   "id": "fa0cfe71-0e34-4226-bd82-83ad48b04709",
   "metadata": {},
   "outputs": [
    {
     "data": {
      "text/plain": [
       "(array([0, 4, 5, 6, 7, 8]),)"
      ]
     },
     "execution_count": 39,
     "metadata": {},
     "output_type": "execute_result"
    }
   ],
   "source": [
    "np.where(arr<5)  #gives indices"
   ]
  },
  {
   "cell_type": "code",
   "execution_count": 40,
   "id": "705a19c5-4768-45e8-bcae-fc603521dff1",
   "metadata": {},
   "outputs": [
    {
     "data": {
      "text/plain": [
       "array([4, 6, 5, 5])"
      ]
     },
     "execution_count": 40,
     "metadata": {},
     "output_type": "execute_result"
    }
   ],
   "source": [
    "np.extract(arr > 2,arr)"
   ]
  },
  {
   "cell_type": "code",
   "execution_count": 41,
   "id": "4123163f-9ef8-4a2b-97e4-ac93703f41e1",
   "metadata": {},
   "outputs": [
    {
     "data": {
      "text/plain": [
       "array([288230376151711744, 432345564227567616, 360287970189639680,\n",
       "       360287970189639680, 144115188075855872, 144115188075855872,\n",
       "       144115188075855872, 144115188075855872,  72057594037927936])"
      ]
     },
     "execution_count": 41,
     "metadata": {},
     "output_type": "execute_result"
    }
   ],
   "source": [
    "arr.byteswap()"
   ]
  },
  {
   "cell_type": "code",
   "execution_count": 43,
   "id": "023b2f1a-855b-4811-afa7-0676263dda19",
   "metadata": {},
   "outputs": [],
   "source": [
    "#numpy copies and views"
   ]
  },
  {
   "cell_type": "code",
   "execution_count": 50,
   "id": "583219aa-45a9-468e-a9d1-e7d43c9bdabf",
   "metadata": {},
   "outputs": [],
   "source": [
    "arr2 = arr1.view()   #same as swallow copy"
   ]
  },
  {
   "cell_type": "code",
   "execution_count": 51,
   "id": "4abe92b1-c17b-4d99-9964-b90fb2592357",
   "metadata": {},
   "outputs": [
    {
     "data": {
      "text/plain": [
       "array([    0,   345,     3,   321,    21, 10000,     2,     0,     0,\n",
       "           0,     0,     0])"
      ]
     },
     "execution_count": 51,
     "metadata": {},
     "output_type": "execute_result"
    }
   ],
   "source": [
    "arr2"
   ]
  },
  {
   "cell_type": "code",
   "execution_count": 52,
   "id": "af10a8e9-1c80-45ee-ab84-7c7cc9103d98",
   "metadata": {},
   "outputs": [
    {
     "data": {
      "text/plain": [
       "array([    0,   345,     3,   321,    21, 10000,     2,     0,     0,\n",
       "           0,     0,     0])"
      ]
     },
     "execution_count": 52,
     "metadata": {},
     "output_type": "execute_result"
    }
   ],
   "source": [
    "arr1"
   ]
  },
  {
   "cell_type": "code",
   "execution_count": 53,
   "id": "cadf17a9-ba7b-46de-8c8c-81ee99eada26",
   "metadata": {},
   "outputs": [],
   "source": [
    "arr2[5] = 10000"
   ]
  },
  {
   "cell_type": "code",
   "execution_count": 54,
   "id": "0f5526d1-d54a-4bab-8929-6ffd51f10d9b",
   "metadata": {},
   "outputs": [
    {
     "data": {
      "text/plain": [
       "array([    0,   345,     3,   321,    21, 10000,     2,     0,     0,\n",
       "           0,     0,     0])"
      ]
     },
     "execution_count": 54,
     "metadata": {},
     "output_type": "execute_result"
    }
   ],
   "source": [
    "arr2"
   ]
  },
  {
   "cell_type": "code",
   "execution_count": 55,
   "id": "7616bf63-9593-4114-8e27-1709c8f400e5",
   "metadata": {},
   "outputs": [
    {
     "data": {
      "text/plain": [
       "array([    0,   345,     3,   321,    21, 10000,     2,     0,     0,\n",
       "           0,     0,     0])"
      ]
     },
     "execution_count": 55,
     "metadata": {},
     "output_type": "execute_result"
    }
   ],
   "source": [
    "arr1"
   ]
  },
  {
   "cell_type": "code",
   "execution_count": 63,
   "id": "803584db-df81-4387-ad16-0e8da513353f",
   "metadata": {},
   "outputs": [],
   "source": [
    "arr3 = arr1.copy ()   #swallow copy"
   ]
  },
  {
   "cell_type": "code",
   "execution_count": 64,
   "id": "ad87e586-5384-4836-8743-a33e8c753914",
   "metadata": {},
   "outputs": [
    {
     "data": {
      "text/plain": [
       "array([    0,   345,     3,   321,    21, 10000,     2,     0,     0,\n",
       "           0,     0,     0])"
      ]
     },
     "execution_count": 64,
     "metadata": {},
     "output_type": "execute_result"
    }
   ],
   "source": [
    "arr3"
   ]
  },
  {
   "cell_type": "code",
   "execution_count": 65,
   "id": "2aed0ca1-032f-40bd-a289-07a0a3782db1",
   "metadata": {},
   "outputs": [],
   "source": [
    "arr3[5] = 99999"
   ]
  },
  {
   "cell_type": "code",
   "execution_count": 66,
   "id": "b5ff55c2-e7cd-4ad4-9653-45d81d95bd14",
   "metadata": {},
   "outputs": [
    {
     "data": {
      "text/plain": [
       "array([    0,   345,     3,   321,    21, 10000,     2,     0,     0,\n",
       "           0,     0,     0])"
      ]
     },
     "execution_count": 66,
     "metadata": {},
     "output_type": "execute_result"
    }
   ],
   "source": [
    "arr1"
   ]
  },
  {
   "cell_type": "code",
   "execution_count": 67,
   "id": "25b8d634-20c9-4928-b9b5-8ce702c2f6c0",
   "metadata": {},
   "outputs": [
    {
     "data": {
      "text/plain": [
       "array([    0,   345,     3,   321,    21, 99999,     2,     0,     0,\n",
       "           0,     0,     0])"
      ]
     },
     "execution_count": 67,
     "metadata": {},
     "output_type": "execute_result"
    }
   ],
   "source": [
    "arr3"
   ]
  },
  {
   "cell_type": "code",
   "execution_count": null,
   "id": "e366b515-fef7-473e-a2a0-416bd5b07245",
   "metadata": {},
   "outputs": [],
   "source": []
  },
  {
   "cell_type": "code",
   "execution_count": 68,
   "id": "203d9336-8c7f-4a8b-81b8-3bbe6c275bbc",
   "metadata": {},
   "outputs": [],
   "source": [
    "#Numpy Matrix library"
   ]
  },
  {
   "cell_type": "code",
   "execution_count": 71,
   "id": "c7b89269-fe37-4427-b29c-60cc9bc378a3",
   "metadata": {},
   "outputs": [],
   "source": [
    "import numpy.matlib as nm"
   ]
  },
  {
   "cell_type": "code",
   "execution_count": 72,
   "id": "8ea1c234-b183-4a58-878a-e429d8aef168",
   "metadata": {},
   "outputs": [
    {
     "data": {
      "text/plain": [
       "matrix([[0., 0., 0., 0., 0.]])"
      ]
     },
     "execution_count": 72,
     "metadata": {},
     "output_type": "execute_result"
    }
   ],
   "source": [
    "nm.zeros(5)"
   ]
  },
  {
   "cell_type": "code",
   "execution_count": 74,
   "id": "44697341-f963-4961-86cb-4b2288b3b5fc",
   "metadata": {},
   "outputs": [
    {
     "data": {
      "text/plain": [
       "matrix([[1, 1, 1, 1],\n",
       "        [1, 1, 1, 1],\n",
       "        [1, 1, 1, 1]])"
      ]
     },
     "execution_count": 74,
     "metadata": {},
     "output_type": "execute_result"
    }
   ],
   "source": [
    "nm.ones((3,4),int)"
   ]
  },
  {
   "cell_type": "code",
   "execution_count": 76,
   "id": "17143c2e-cd36-4433-a67d-5e1b684ab1d6",
   "metadata": {},
   "outputs": [
    {
     "data": {
      "text/plain": [
       "matrix([[1., 0., 0., 0., 0.],\n",
       "        [0., 1., 0., 0., 0.],\n",
       "        [0., 0., 1., 0., 0.],\n",
       "        [0., 0., 0., 1., 0.],\n",
       "        [0., 0., 0., 0., 1.]])"
      ]
     },
     "execution_count": 76,
     "metadata": {},
     "output_type": "execute_result"
    }
   ],
   "source": [
    "nm.eye(5)"
   ]
  },
  {
   "cell_type": "code",
   "execution_count": null,
   "id": "3711de18-5358-43e2-9f2b-0b68f27f64ea",
   "metadata": {},
   "outputs": [],
   "source": []
  },
  {
   "cell_type": "code",
   "execution_count": 77,
   "id": "9b637fca-cdd0-4faa-8894-8a9ac87017fe",
   "metadata": {},
   "outputs": [],
   "source": [
    "#Numpy - Linear Algebra"
   ]
  },
  {
   "cell_type": "code",
   "execution_count": null,
   "id": "ca1feed1-541f-4470-8618-8bfea924cde4",
   "metadata": {},
   "outputs": [],
   "source": []
  },
  {
   "cell_type": "code",
   "execution_count": 78,
   "id": "5ed07ce1-9052-4676-bc43-331339a8bd8c",
   "metadata": {},
   "outputs": [],
   "source": [
    "arr1 = np.random.randint([[2,3],[4,5]])"
   ]
  },
  {
   "cell_type": "code",
   "execution_count": 80,
   "id": "4a472bd4-ee35-4630-be0e-7fb79299f1b1",
   "metadata": {},
   "outputs": [],
   "source": [
    "arr2 = np.random.randint([[5,3],[2,5]])"
   ]
  },
  {
   "cell_type": "code",
   "execution_count": 81,
   "id": "59bb0c04-f462-4b2c-969b-7cb4c39b92c3",
   "metadata": {},
   "outputs": [
    {
     "data": {
      "text/plain": [
       "array([[ 2,  8],\n",
       "       [ 8, 16]])"
      ]
     },
     "execution_count": 81,
     "metadata": {},
     "output_type": "execute_result"
    }
   ],
   "source": [
    "arr1 @ arr2"
   ]
  },
  {
   "cell_type": "code",
   "execution_count": 84,
   "id": "5ff04b4d-69ac-44e5-83cf-426a9acb37db",
   "metadata": {},
   "outputs": [
    {
     "data": {
      "text/plain": [
       "array([[ 2,  8],\n",
       "       [ 8, 16]])"
      ]
     },
     "execution_count": 84,
     "metadata": {},
     "output_type": "execute_result"
    }
   ],
   "source": [
    "np.dot(arr1,arr2)   #same as arr1 @ arr2"
   ]
  },
  {
   "cell_type": "code",
   "execution_count": null,
   "id": "21a204da-8eb5-4e70-b184-9829817dbc28",
   "metadata": {},
   "outputs": [],
   "source": []
  },
  {
   "cell_type": "code",
   "execution_count": 85,
   "id": "e4b6eb24-a0d1-4f42-b790-90fb0d8a73f6",
   "metadata": {},
   "outputs": [],
   "source": [
    "#search for in built functions for eigen value and eigen vectors "
   ]
  },
  {
   "cell_type": "code",
   "execution_count": null,
   "id": "bee1b0a0-92e6-4967-9b1c-50fe8f0292ea",
   "metadata": {},
   "outputs": [],
   "source": []
  }
 ],
 "metadata": {
  "kernelspec": {
   "display_name": "Python 3 (ipykernel)",
   "language": "python",
   "name": "python3"
  },
  "language_info": {
   "codemirror_mode": {
    "name": "ipython",
    "version": 3
   },
   "file_extension": ".py",
   "mimetype": "text/x-python",
   "name": "python",
   "nbconvert_exporter": "python",
   "pygments_lexer": "ipython3",
   "version": "3.10.8"
  }
 },
 "nbformat": 4,
 "nbformat_minor": 5
}
