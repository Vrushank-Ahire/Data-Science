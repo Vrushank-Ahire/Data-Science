{
 "cells": [
  {
   "cell_type": "code",
   "execution_count": 1,
   "id": "2266a111-d482-4370-91e3-111368b4ed70",
   "metadata": {},
   "outputs": [],
   "source": [
    "#numpy Manipulations"
   ]
  },
  {
   "cell_type": "code",
   "execution_count": 2,
   "id": "bcf5daa2-368e-46dd-a643-c85e8bd2b785",
   "metadata": {},
   "outputs": [],
   "source": [
    "import numpy as np"
   ]
  },
  {
   "cell_type": "code",
   "execution_count": 3,
   "id": "06785ade-65f0-4c0a-8dfb-b58ba4daba46",
   "metadata": {},
   "outputs": [],
   "source": [
    "arr = np.random.randint(1,10,(3,4))"
   ]
  },
  {
   "cell_type": "code",
   "execution_count": 4,
   "id": "e3a895d3-07f0-4b04-a9b6-73b65c383bbd",
   "metadata": {},
   "outputs": [
    {
     "data": {
      "text/plain": [
       "array([[6, 4, 6, 4],\n",
       "       [5, 9, 6, 9],\n",
       "       [8, 5, 2, 9]])"
      ]
     },
     "execution_count": 4,
     "metadata": {},
     "output_type": "execute_result"
    }
   ],
   "source": [
    "arr"
   ]
  },
  {
   "cell_type": "code",
   "execution_count": 5,
   "id": "1b92efe9-9f09-4e42-8cfd-1c293e4fbb9c",
   "metadata": {},
   "outputs": [
    {
     "data": {
      "text/plain": [
       "array([[6, 4],\n",
       "       [6, 4],\n",
       "       [5, 9],\n",
       "       [6, 9],\n",
       "       [8, 5],\n",
       "       [2, 9]])"
      ]
     },
     "execution_count": 5,
     "metadata": {},
     "output_type": "execute_result"
    }
   ],
   "source": [
    "arr.reshape(6,-1515)"
   ]
  },
  {
   "cell_type": "code",
   "execution_count": 11,
   "id": "93ff36e5-44b3-434a-847b-9cc5d44800e2",
   "metadata": {},
   "outputs": [
    {
     "data": {
      "text/plain": [
       "array([[6, 6, 5, 6, 8, 2],\n",
       "       [4, 4, 9, 9, 5, 9]])"
      ]
     },
     "execution_count": 11,
     "metadata": {},
     "output_type": "execute_result"
    }
   ],
   "source": [
    "arr.reshape(6,-1515).T"
   ]
  },
  {
   "cell_type": "code",
   "execution_count": 13,
   "id": "603bfe0f-9b85-4132-98eb-855ace251626",
   "metadata": {},
   "outputs": [
    {
     "data": {
      "text/plain": [
       "array([6, 4, 6, 4, 5, 9, 6, 9, 8, 5, 2, 9])"
      ]
     },
     "execution_count": 13,
     "metadata": {},
     "output_type": "execute_result"
    }
   ],
   "source": [
    "arr.flatten()  #CONVERTS INTO 1 _DIMENSIONAL"
   ]
  },
  {
   "cell_type": "code",
   "execution_count": 14,
   "id": "92444910-2459-4dbb-a0c7-1da06fe8ce98",
   "metadata": {},
   "outputs": [],
   "source": [
    "arr1 = np.array([1,2,3,5,3,4])"
   ]
  },
  {
   "cell_type": "code",
   "execution_count": 15,
   "id": "67f0e25e-fe9c-493f-916d-c294547a4ee4",
   "metadata": {},
   "outputs": [
    {
     "data": {
      "text/plain": [
       "array([1, 2, 3, 5, 3, 4])"
      ]
     },
     "execution_count": 15,
     "metadata": {},
     "output_type": "execute_result"
    }
   ],
   "source": [
    "arr1"
   ]
  },
  {
   "cell_type": "code",
   "execution_count": 16,
   "id": "0b7f7822-2e5a-4c19-b532-dc80b7002287",
   "metadata": {},
   "outputs": [
    {
     "data": {
      "text/plain": [
       "1"
      ]
     },
     "execution_count": 16,
     "metadata": {},
     "output_type": "execute_result"
    }
   ],
   "source": [
    "arr1.ndim"
   ]
  },
  {
   "cell_type": "code",
   "execution_count": 20,
   "id": "4f80c1f5-f9be-4e56-a01b-246edd49c6eb",
   "metadata": {},
   "outputs": [
    {
     "data": {
      "text/plain": [
       "array([[1],\n",
       "       [2],\n",
       "       [3],\n",
       "       [5],\n",
       "       [3],\n",
       "       [4]])"
      ]
     },
     "execution_count": 20,
     "metadata": {},
     "output_type": "execute_result"
    }
   ],
   "source": [
    "np.expand_dims(arr1,axis = 1)     #axis = 0 means row ,axis = 1 means column"
   ]
  },
  {
   "cell_type": "code",
   "execution_count": 21,
   "id": "b58f56f3-8432-4506-9d3b-7401a66cbfb5",
   "metadata": {},
   "outputs": [
    {
     "data": {
      "text/plain": [
       "array([[1, 2, 3, 5, 3, 4]])"
      ]
     },
     "execution_count": 21,
     "metadata": {},
     "output_type": "execute_result"
    }
   ],
   "source": [
    "np.expand_dims(arr1 , axis = 0)"
   ]
  },
  {
   "cell_type": "code",
   "execution_count": 22,
   "id": "266399d6-2b0b-4ea1-9930-a74644782250",
   "metadata": {},
   "outputs": [
    {
     "data": {
      "text/plain": [
       "array([[6, 4, 6, 4],\n",
       "       [5, 9, 6, 9],\n",
       "       [8, 5, 2, 9]])"
      ]
     },
     "execution_count": 22,
     "metadata": {},
     "output_type": "execute_result"
    }
   ],
   "source": [
    "arr"
   ]
  },
  {
   "cell_type": "code",
   "execution_count": 23,
   "id": "51b0d7e5-2267-467a-b0d2-425f97ddda7c",
   "metadata": {},
   "outputs": [
    {
     "data": {
      "text/plain": [
       "array([[6, 4, 6, 4],\n",
       "       [5, 9, 6, 9],\n",
       "       [8, 5, 2, 9]])"
      ]
     },
     "execution_count": 23,
     "metadata": {},
     "output_type": "execute_result"
    }
   ],
   "source": [
    "np.squeeze(arr)"
   ]
  },
  {
   "cell_type": "code",
   "execution_count": 24,
   "id": "355dde46-5f62-4b75-9ba6-2933f5220f20",
   "metadata": {},
   "outputs": [],
   "source": [
    "data = np.array([[1],[2],[3]])"
   ]
  },
  {
   "cell_type": "code",
   "execution_count": 25,
   "id": "755d0073-e4ad-4222-bee6-d985337a3239",
   "metadata": {},
   "outputs": [
    {
     "data": {
      "text/plain": [
       "array([[1],\n",
       "       [2],\n",
       "       [3]])"
      ]
     },
     "execution_count": 25,
     "metadata": {},
     "output_type": "execute_result"
    }
   ],
   "source": [
    "data"
   ]
  },
  {
   "cell_type": "code",
   "execution_count": 26,
   "id": "d9426481-c4f1-48dc-98d7-47cd5fb166e8",
   "metadata": {},
   "outputs": [
    {
     "data": {
      "text/plain": [
       "array([1, 2, 3])"
      ]
     },
     "execution_count": 26,
     "metadata": {},
     "output_type": "execute_result"
    }
   ],
   "source": [
    "np.squeeze(data)"
   ]
  },
  {
   "cell_type": "code",
   "execution_count": 29,
   "id": "38b51f6a-866f-4485-ac76-48e6463a7e09",
   "metadata": {},
   "outputs": [
    {
     "data": {
      "text/plain": [
       "array([1, 1, 1, 1, 2, 2, 2, 2, 3, 3, 3, 3, 5, 5, 5, 5, 3, 3, 3, 3, 4, 4,\n",
       "       4, 4])"
      ]
     },
     "execution_count": 29,
     "metadata": {},
     "output_type": "execute_result"
    }
   ],
   "source": [
    "np.repeat(arr1,4)   #repeats 4 times"
   ]
  },
  {
   "cell_type": "code",
   "execution_count": 36,
   "id": "f3d603a6-6d7b-4151-84b7-eca20378398a",
   "metadata": {},
   "outputs": [
    {
     "data": {
      "text/plain": [
       "array([list([1, 2, 3, 4]), list([5, 6, 4, 8]), list([45]), list([3])],\n",
       "      dtype=object)"
      ]
     },
     "execution_count": 36,
     "metadata": {},
     "output_type": "execute_result"
    }
   ],
   "source": [
    "np.squeeze([])"
   ]
  },
  {
   "cell_type": "code",
   "execution_count": 42,
   "id": "5c748457-c6a6-4c5a-a28a-8a85770b5e9c",
   "metadata": {},
   "outputs": [
    {
     "name": "stderr",
     "output_type": "stream",
     "text": [
      "/tmp/ipykernel_3368/2644080547.py:2: VisibleDeprecationWarning: Creating an ndarray from ragged nested sequences (which is a list-or-tuple of lists-or-tuples-or ndarrays with different lengths or shapes) is deprecated. If you meant to do this, you must specify 'dtype=object' when creating the ndarray.\n",
      "  xy = np.array(arr8)\n"
     ]
    }
   ],
   "source": [
    "arr8 = [[1,2,3,4],[5,6,4,8],[45],[3]]\n",
    "xy = np.array(arr8)"
   ]
  },
  {
   "cell_type": "code",
   "execution_count": 44,
   "id": "9558d914-1889-4fdd-acd4-c21a0e7044d8",
   "metadata": {},
   "outputs": [
    {
     "data": {
      "text/plain": [
       "array([list([1, 2, 3, 4]), list([5, 6, 4, 8]), list([45]), list([3])],\n",
       "      dtype=object)"
      ]
     },
     "execution_count": 44,
     "metadata": {},
     "output_type": "execute_result"
    }
   ],
   "source": [
    "np.squeeze(xy)"
   ]
  },
  {
   "cell_type": "code",
   "execution_count": 47,
   "id": "8121f3f0-38e4-4ab1-acdd-c9eaea471773",
   "metadata": {},
   "outputs": [
    {
     "data": {
      "text/plain": [
       "array([1, 2, 3, 5, 3, 4])"
      ]
     },
     "execution_count": 47,
     "metadata": {},
     "output_type": "execute_result"
    }
   ],
   "source": [
    "arr1"
   ]
  },
  {
   "cell_type": "code",
   "execution_count": 49,
   "id": "4459f6c7-82f3-44d9-8f26-fe7b1187f8cc",
   "metadata": {},
   "outputs": [
    {
     "data": {
      "text/plain": [
       "array([4, 1, 2, 3, 5, 3])"
      ]
     },
     "execution_count": 49,
     "metadata": {},
     "output_type": "execute_result"
    }
   ],
   "source": [
    "np.roll(arr1,1)"
   ]
  },
  {
   "cell_type": "code",
   "execution_count": 50,
   "id": "3337c91d-822c-4dc5-b6ac-6e729f4d8479",
   "metadata": {},
   "outputs": [
    {
     "data": {
      "text/plain": [
       "array([3, 4, 1, 2, 3, 5])"
      ]
     },
     "execution_count": 50,
     "metadata": {},
     "output_type": "execute_result"
    }
   ],
   "source": [
    "np.roll(arr1,2)"
   ]
  },
  {
   "cell_type": "code",
   "execution_count": 51,
   "id": "36c808c2-d9ae-4368-99c2-eb6e9e8a81bc",
   "metadata": {},
   "outputs": [
    {
     "data": {
      "text/plain": [
       "array([5, 3, 4, 1, 2, 3])"
      ]
     },
     "execution_count": 51,
     "metadata": {},
     "output_type": "execute_result"
    }
   ],
   "source": [
    "np.roll(arr1,9)"
   ]
  },
  {
   "cell_type": "code",
   "execution_count": 53,
   "id": "651711fb-b171-4454-aa99-60dc27d579bb",
   "metadata": {},
   "outputs": [
    {
     "data": {
      "text/plain": [
       "array([1, 2, 3, 5, 3, 4])"
      ]
     },
     "execution_count": 53,
     "metadata": {},
     "output_type": "execute_result"
    }
   ],
   "source": [
    "arr1"
   ]
  },
  {
   "cell_type": "code",
   "execution_count": 54,
   "id": "ea612fe7-56ef-4205-8bdf-6d6a2c37db6b",
   "metadata": {},
   "outputs": [
    {
     "data": {
      "text/plain": [
       "array([[1, 0, 0, 0, 0, 0],\n",
       "       [0, 2, 0, 0, 0, 0],\n",
       "       [0, 0, 3, 0, 0, 0],\n",
       "       [0, 0, 0, 5, 0, 0],\n",
       "       [0, 0, 0, 0, 3, 0],\n",
       "       [0, 0, 0, 0, 0, 4]])"
      ]
     },
     "execution_count": 54,
     "metadata": {},
     "output_type": "execute_result"
    }
   ],
   "source": [
    "np.diag(arr1)   #create a diagonal matrix keeping elements of the array as diagonal elements"
   ]
  },
  {
   "cell_type": "code",
   "execution_count": 55,
   "id": "4b97ffb9-b4c3-46cb-a9a1-4e408c7d7803",
   "metadata": {},
   "outputs": [
    {
     "data": {
      "text/plain": [
       "array([[6, 4, 6, 4],\n",
       "       [5, 9, 6, 9],\n",
       "       [8, 5, 2, 9]])"
      ]
     },
     "execution_count": 55,
     "metadata": {},
     "output_type": "execute_result"
    }
   ],
   "source": [
    "arr"
   ]
  },
  {
   "cell_type": "code",
   "execution_count": 60,
   "id": "4136c46c-570c-4c38-b0e7-f8392b391ea1",
   "metadata": {},
   "outputs": [
    {
     "data": {
      "text/plain": [
       "array([6, 9, 2])"
      ]
     },
     "execution_count": 60,
     "metadata": {},
     "output_type": "execute_result"
    }
   ],
   "source": [
    "np.diag(arr)   #here it gives diagonal elements of the array"
   ]
  },
  {
   "cell_type": "code",
   "execution_count": 61,
   "id": "b0506e03-bf95-45c4-a37b-f99142549d08",
   "metadata": {},
   "outputs": [
    {
     "data": {
      "text/plain": [
       "array([6, 9, 2])"
      ]
     },
     "execution_count": 61,
     "metadata": {},
     "output_type": "execute_result"
    }
   ],
   "source": [
    "np.diag(arr.T)"
   ]
  },
  {
   "cell_type": "code",
   "execution_count": 62,
   "id": "40ba263e-a90b-497a-8fd1-0d9152569cf1",
   "metadata": {},
   "outputs": [],
   "source": [
    "arr1 = np.random.randint(1,10,(3,4))"
   ]
  },
  {
   "cell_type": "code",
   "execution_count": 63,
   "id": "d75ad048-4f63-4ac7-8003-3de0b6e0c164",
   "metadata": {},
   "outputs": [],
   "source": [
    "arr2 = np.random.randint(1,10,(3,4))"
   ]
  },
  {
   "cell_type": "code",
   "execution_count": 64,
   "id": "e4203f1e-5d52-4aa7-be41-74197766d20b",
   "metadata": {},
   "outputs": [
    {
     "data": {
      "text/plain": [
       "array([[8, 3, 7, 3],\n",
       "       [5, 3, 8, 1],\n",
       "       [8, 3, 6, 2]])"
      ]
     },
     "execution_count": 64,
     "metadata": {},
     "output_type": "execute_result"
    }
   ],
   "source": [
    "arr1"
   ]
  },
  {
   "cell_type": "code",
   "execution_count": 65,
   "id": "690fa490-5308-4355-bf5e-7286606d3eb5",
   "metadata": {},
   "outputs": [
    {
     "data": {
      "text/plain": [
       "array([[5, 5, 9, 4],\n",
       "       [6, 9, 4, 6],\n",
       "       [3, 9, 1, 9]])"
      ]
     },
     "execution_count": 65,
     "metadata": {},
     "output_type": "execute_result"
    }
   ],
   "source": [
    "arr2"
   ]
  },
  {
   "cell_type": "code",
   "execution_count": 66,
   "id": "7fd4a0c2-8fa5-4682-a3a7-9a1825bcc399",
   "metadata": {},
   "outputs": [
    {
     "data": {
      "text/plain": [
       "array([[13,  8, 16,  7],\n",
       "       [11, 12, 12,  7],\n",
       "       [11, 12,  7, 11]])"
      ]
     },
     "execution_count": 66,
     "metadata": {},
     "output_type": "execute_result"
    }
   ],
   "source": [
    "arr1 + arr2"
   ]
  },
  {
   "cell_type": "code",
   "execution_count": 67,
   "id": "a3369882-cf3e-44d3-9e51-9cb4b0af8ddd",
   "metadata": {},
   "outputs": [
    {
     "data": {
      "text/plain": [
       "array([[40, 15, 63, 12],\n",
       "       [30, 27, 32,  6],\n",
       "       [24, 27,  6, 18]])"
      ]
     },
     "execution_count": 67,
     "metadata": {},
     "output_type": "execute_result"
    }
   ],
   "source": [
    "arr1 *arr2"
   ]
  },
  {
   "cell_type": "code",
   "execution_count": 69,
   "id": "10c659c9-5adb-4970-9a67-4be6cbc1cd6f",
   "metadata": {},
   "outputs": [
    {
     "data": {
      "text/plain": [
       "array([[1.6       , 0.6       , 0.77777778, 0.75      ],\n",
       "       [0.83333333, 0.33333333, 2.        , 0.16666667],\n",
       "       [2.66666667, 0.33333333, 6.        , 0.22222222]])"
      ]
     },
     "execution_count": 69,
     "metadata": {},
     "output_type": "execute_result"
    }
   ],
   "source": [
    "arr1 / arr2"
   ]
  },
  {
   "cell_type": "code",
   "execution_count": 71,
   "id": "504c6741-3b7e-494f-bf53-6e74045c532a",
   "metadata": {},
   "outputs": [
    {
     "data": {
      "text/plain": [
       "array([[ 3, -2, -2, -1],\n",
       "       [-1, -6,  4, -5],\n",
       "       [ 5, -6,  5, -7]])"
      ]
     },
     "execution_count": 71,
     "metadata": {},
     "output_type": "execute_result"
    }
   ],
   "source": [
    "arr1 - arr2"
   ]
  },
  {
   "cell_type": "code",
   "execution_count": 72,
   "id": "7251b85a-c427-40fa-a2e7-5ca99644f2c2",
   "metadata": {},
   "outputs": [
    {
     "data": {
      "text/plain": [
       "array([[3, 3, 7, 3],\n",
       "       [5, 3, 0, 1],\n",
       "       [2, 3, 0, 2]])"
      ]
     },
     "execution_count": 72,
     "metadata": {},
     "output_type": "execute_result"
    }
   ],
   "source": [
    "arr1 % arr2"
   ]
  },
  {
   "cell_type": "code",
   "execution_count": 74,
   "id": "bea7951d-03ce-4fb4-a07d-ebda2711fa02",
   "metadata": {},
   "outputs": [
    {
     "data": {
      "text/plain": [
       "array([[   32768,      243, 40353607,       81],\n",
       "       [   15625,    19683,     4096,        1],\n",
       "       [     512,    19683,        6,      512]])"
      ]
     },
     "execution_count": 74,
     "metadata": {},
     "output_type": "execute_result"
    }
   ],
   "source": [
    "arr1 ** arr2"
   ]
  },
  {
   "cell_type": "code",
   "execution_count": 79,
   "id": "492c7c40-4f0a-4962-8238-e9d60e4f6052",
   "metadata": {},
   "outputs": [
    {
     "data": {
      "text/plain": [
       "array([[8, 3, 7, 3],\n",
       "       [5, 3, 8, 1],\n",
       "       [8, 3, 6, 2]])"
      ]
     },
     "execution_count": 79,
     "metadata": {},
     "output_type": "execute_result"
    }
   ],
   "source": [
    "arr1"
   ]
  },
  {
   "cell_type": "code",
   "execution_count": 80,
   "id": "5e93f37f-d3dc-4b5d-862f-dcc36b7b3d9b",
   "metadata": {},
   "outputs": [
    {
     "data": {
      "text/plain": [
       "array([[5, 5, 9, 4],\n",
       "       [6, 9, 4, 6],\n",
       "       [3, 9, 1, 9]])"
      ]
     },
     "execution_count": 80,
     "metadata": {},
     "output_type": "execute_result"
    }
   ],
   "source": [
    "arr2"
   ]
  },
  {
   "cell_type": "code",
   "execution_count": 82,
   "id": "279964ad-18e1-428d-9765-f35aa95466fa",
   "metadata": {},
   "outputs": [
    {
     "data": {
      "text/plain": [
       "array([[0, 1, 1, 0],\n",
       "       [4, 1, 0, 0],\n",
       "       [0, 1, 0, 0]])"
      ]
     },
     "execution_count": 82,
     "metadata": {},
     "output_type": "execute_result"
    }
   ],
   "source": [
    "arr1 & arr2    #binary and oeration"
   ]
  },
  {
   "cell_type": "code",
   "execution_count": 84,
   "id": "1c0ea536-4284-468d-8d6c-6853e5861ed7",
   "metadata": {},
   "outputs": [
    {
     "data": {
      "text/plain": [
       "array([[13,  7, 15,  7],\n",
       "       [ 7, 11, 12,  7],\n",
       "       [11, 11,  7, 11]])"
      ]
     },
     "execution_count": 84,
     "metadata": {},
     "output_type": "execute_result"
    }
   ],
   "source": [
    "arr1 | arr2   #binary or operation"
   ]
  },
  {
   "cell_type": "code",
   "execution_count": 85,
   "id": "9994d3db-c222-4a0e-92b5-dd51a64a81bd",
   "metadata": {},
   "outputs": [
    {
     "data": {
      "text/plain": [
       "array([[ True, False, False, False],\n",
       "       [False, False,  True, False],\n",
       "       [ True, False,  True, False]])"
      ]
     },
     "execution_count": 85,
     "metadata": {},
     "output_type": "execute_result"
    }
   ],
   "source": [
    "arr1 > arr2"
   ]
  },
  {
   "cell_type": "code",
   "execution_count": null,
   "id": "9c45107c-47fa-4e99-b249-3556ed75075b",
   "metadata": {},
   "outputs": [],
   "source": [
    "\n"
   ]
  },
  {
   "cell_type": "code",
   "execution_count": 86,
   "id": "d1c77b05-32e6-4056-929e-fdca5e034916",
   "metadata": {},
   "outputs": [],
   "source": [
    "#numpy string function"
   ]
  },
  {
   "cell_type": "code",
   "execution_count": 88,
   "id": "66bc9fb7-7114-4483-aa7b-abbc345075b1",
   "metadata": {},
   "outputs": [],
   "source": [
    "arr = np.array(['Vrushank',\"Ahire\"])"
   ]
  },
  {
   "cell_type": "code",
   "execution_count": 89,
   "id": "00d5b872-f605-414e-b52f-b8150255880d",
   "metadata": {},
   "outputs": [
    {
     "data": {
      "text/plain": [
       "array(['Vrushank', 'Ahire'], dtype='<U8')"
      ]
     },
     "execution_count": 89,
     "metadata": {},
     "output_type": "execute_result"
    }
   ],
   "source": [
    "arr"
   ]
  },
  {
   "cell_type": "code",
   "execution_count": 90,
   "id": "ad2a5719-c7d4-4389-9e90-5be7fd0a493f",
   "metadata": {},
   "outputs": [
    {
     "data": {
      "text/plain": [
       "'Vrushank'"
      ]
     },
     "execution_count": 90,
     "metadata": {},
     "output_type": "execute_result"
    }
   ],
   "source": [
    "arr[0]"
   ]
  },
  {
   "cell_type": "code",
   "execution_count": 91,
   "id": "f88f985b-9088-4094-8e25-038dcac79582",
   "metadata": {},
   "outputs": [
    {
     "data": {
      "text/plain": [
       "'Ahire'"
      ]
     },
     "execution_count": 91,
     "metadata": {},
     "output_type": "execute_result"
    }
   ],
   "source": [
    "arr[1]"
   ]
  },
  {
   "cell_type": "code",
   "execution_count": 92,
   "id": "e11b48c8-b4f4-4825-ae39-5049599a66ed",
   "metadata": {},
   "outputs": [
    {
     "data": {
      "text/plain": [
       "'usha'"
      ]
     },
     "execution_count": 92,
     "metadata": {},
     "output_type": "execute_result"
    }
   ],
   "source": [
    "arr[0][2:6]"
   ]
  },
  {
   "cell_type": "code",
   "execution_count": 95,
   "id": "994b1a6b-638d-4406-b4cc-0950c68630d7",
   "metadata": {},
   "outputs": [
    {
     "data": {
      "text/plain": [
       "array(['VRUSHANK', 'AHIRE'], dtype='<U8')"
      ]
     },
     "execution_count": 95,
     "metadata": {},
     "output_type": "execute_result"
    }
   ],
   "source": [
    "np.char.upper(arr)"
   ]
  },
  {
   "cell_type": "code",
   "execution_count": 97,
   "id": "4440661b-76ad-49da-b757-e9d3021b0a75",
   "metadata": {},
   "outputs": [
    {
     "data": {
      "text/plain": [
       "array(['vrushank', 'ahire'], dtype='<U8')"
      ]
     },
     "execution_count": 97,
     "metadata": {},
     "output_type": "execute_result"
    }
   ],
   "source": [
    "np.char.lower(arr)"
   ]
  },
  {
   "cell_type": "code",
   "execution_count": 98,
   "id": "b3f65f0d-f3ac-4000-8e9e-542f86192ff1",
   "metadata": {},
   "outputs": [
    {
     "data": {
      "text/plain": [
       "array(['Vrushank', 'Ahire'], dtype='<U8')"
      ]
     },
     "execution_count": 98,
     "metadata": {},
     "output_type": "execute_result"
    }
   ],
   "source": [
    "np.char.title(arr)"
   ]
  },
  {
   "cell_type": "code",
   "execution_count": 99,
   "id": "57c48306-ec50-47b6-b642-4f38ce85c952",
   "metadata": {},
   "outputs": [
    {
     "data": {
      "text/plain": [
       "array(['Vrushank', 'Ahire'], dtype='<U8')"
      ]
     },
     "execution_count": 99,
     "metadata": {},
     "output_type": "execute_result"
    }
   ],
   "source": [
    "np.char.capitalize(arr)"
   ]
  },
  {
   "cell_type": "code",
   "execution_count": null,
   "id": "a1c7300b-8137-4d42-922b-16a3ef143e3e",
   "metadata": {},
   "outputs": [],
   "source": []
  },
  {
   "cell_type": "code",
   "execution_count": null,
   "id": "865e6e33-c35e-4e9b-b7c5-485ce224221c",
   "metadata": {},
   "outputs": [],
   "source": []
  },
  {
   "cell_type": "code",
   "execution_count": 100,
   "id": "7d49bc80-492d-4570-9af1-619a1d238910",
   "metadata": {},
   "outputs": [],
   "source": [
    "#Numpy Mathematical Functions"
   ]
  },
  {
   "cell_type": "code",
   "execution_count": null,
   "id": "453a66da-f677-4fdc-96f1-a884d1f40e32",
   "metadata": {},
   "outputs": [],
   "source": []
  },
  {
   "cell_type": "code",
   "execution_count": 101,
   "id": "63897513-92eb-4fdb-864d-799117eae522",
   "metadata": {},
   "outputs": [
    {
     "data": {
      "text/plain": [
       "array([[8, 3, 7, 3],\n",
       "       [5, 3, 8, 1],\n",
       "       [8, 3, 6, 2]])"
      ]
     },
     "execution_count": 101,
     "metadata": {},
     "output_type": "execute_result"
    }
   ],
   "source": [
    "arr1"
   ]
  },
  {
   "cell_type": "code",
   "execution_count": 102,
   "id": "650dd7d1-06fb-4293-b56d-86d24310d61b",
   "metadata": {},
   "outputs": [
    {
     "data": {
      "text/plain": [
       "array([[ 0.98935825,  0.14112001,  0.6569866 ,  0.14112001],\n",
       "       [-0.95892427,  0.14112001,  0.98935825,  0.84147098],\n",
       "       [ 0.98935825,  0.14112001, -0.2794155 ,  0.90929743]])"
      ]
     },
     "execution_count": 102,
     "metadata": {},
     "output_type": "execute_result"
    }
   ],
   "source": [
    "np.sin(arr1)"
   ]
  },
  {
   "cell_type": "code",
   "execution_count": 105,
   "id": "d1758e63-1885-4398-84dc-dd82a7b2f19f",
   "metadata": {},
   "outputs": [],
   "source": [
    "import pandas as pd"
   ]
  },
  {
   "cell_type": "code",
   "execution_count": 108,
   "id": "cb14182e-d2e6-46b4-adfb-59734ed0a927",
   "metadata": {},
   "outputs": [],
   "source": [
    "df1 = pd.DataFrame(arr1)"
   ]
  },
  {
   "cell_type": "code",
   "execution_count": 110,
   "id": "9d697d01-3aa3-4f2e-a872-0dc8e80d5198",
   "metadata": {},
   "outputs": [
    {
     "data": {
      "text/plain": [
       "<AxesSubplot: >"
      ]
     },
     "execution_count": 110,
     "metadata": {},
     "output_type": "execute_result"
    },
    {
     "data": {
      "image/png": "[encoded data removed]",
      "text/plain": [
       "<Figure size 640x480 with 1 Axes>"
      ]
     },
     "metadata": {},
     "output_type": "display_data"
    }
   ],
   "source": [
    "df1.plot()"
   ]
  },
  {
   "cell_type": "code",
   "execution_count": 111,
   "id": "bc7f3263-ce24-412f-856f-804074572e00",
   "metadata": {},
   "outputs": [
    {
     "data": {
      "text/plain": [
       "array([[0.99999977, 0.99505475, 0.99999834, 0.99505475],\n",
       "       [0.9999092 , 0.99505475, 0.99999977, 0.76159416],\n",
       "       [0.99999977, 0.99505475, 0.99998771, 0.96402758]])"
      ]
     },
     "execution_count": 111,
     "metadata": {},
     "output_type": "execute_result"
    }
   ],
   "source": [
    "np.tanh(arr1)"
   ]
  },
  {
   "cell_type": "code",
   "execution_count": 112,
   "id": "c73a146b-ddb8-4a2c-9bc3-96bcff0ac2f3",
   "metadata": {},
   "outputs": [
    {
     "data": {
      "text/plain": [
       "array([[-6.79971146, -0.14254654,  0.87144798, -0.14254654],\n",
       "       [-3.38051501, -0.14254654, -6.79971146,  1.55740772],\n",
       "       [-6.79971146, -0.14254654, -0.29100619, -2.18503986]])"
      ]
     },
     "execution_count": 112,
     "metadata": {},
     "output_type": "execute_result"
    }
   ],
   "source": [
    "np.tan(arr1)"
   ]
  },
  {
   "cell_type": "code",
   "execution_count": 147,
   "id": "9f2b3afd-b959-4bc9-9d4d-e903d535edd7",
   "metadata": {},
   "outputs": [],
   "source": [
    "arry = np.arange(0,100,1.57)"
   ]
  },
  {
   "cell_type": "code",
   "execution_count": 148,
   "id": "b0e17a9d-6d66-4d30-bdac-145fde7809b8",
   "metadata": {},
   "outputs": [
    {
     "data": {
      "text/plain": [
       "array([ 0.        ,  0.99999968,  0.00159265, -0.99999715, -0.0031853 ,\n",
       "        0.99999207,  0.00477794, -0.99998446, -0.00637057,  0.99997432,\n",
       "        0.00796318, -0.99996163, -0.00955578,  0.99994642,  0.01114834,\n",
       "       -0.99992866, -0.01274088,  0.99990837,  0.01433339, -0.99988554,\n",
       "       -0.01592586,  0.99986018,  0.01751829, -0.99983228, -0.01911068,\n",
       "        0.99980184,  0.02070302, -0.99976887, -0.0222953 ,  0.99973336,\n",
       "        0.02388753, -0.99969531, -0.0254797 ,  0.99965473,  0.0270718 ,\n",
       "       -0.99961162, -0.02866384,  0.99956597,  0.0302558 , -0.99951778,\n",
       "       -0.03184769,  0.99946706,  0.03343949, -0.9994138 , -0.03503121,\n",
       "        0.99935801,  0.03662284, -0.99929968, -0.03821438,  0.99923882,\n",
       "        0.03980582, -0.99917542, -0.04139716,  0.99910949,  0.0429884 ,\n",
       "       -0.99904102, -0.04457952,  0.99897002,  0.04617053, -0.99889649,\n",
       "       -0.04776143,  0.99882042,  0.04935221, -0.99874182])"
      ]
     },
     "execution_count": 148,
     "metadata": {},
     "output_type": "execute_result"
    }
   ],
   "source": [
    "np.sin(arry)"
   ]
  },
  {
   "cell_type": "code",
   "execution_count": 149,
   "id": "99a00b5c-bbdb-456e-8206-30d911b94a48",
   "metadata": {},
   "outputs": [],
   "source": [
    "df2 = pd.DataFrame(arry)"
   ]
  },
  {
   "cell_type": "code",
   "execution_count": 150,
   "id": "19af6460-8e05-4b57-a169-58041707dc3e",
   "metadata": {},
   "outputs": [
    {
     "data": {
      "text/plain": [
       "<AxesSubplot: >"
      ]
     },
     "execution_count": 150,
     "metadata": {},
     "output_type": "execute_result"
    },
    {
     "data": {
      "image/png": "[encoded data removed]",
      "text/plain": [
       "<Figure size 640x480 with 1 Axes>"
      ]
     },
     "metadata": {},
     "output_type": "display_data"
    }
   ],
   "source": [
    "df2.plot()"
   ]
  },
  {
   "cell_type": "code",
   "execution_count": 151,
   "id": "cee6c9e2-8fa3-4d02-bc80-1d49341014ca",
   "metadata": {},
   "outputs": [
    {
     "data": {
      "text/plain": [
       "array([[2.82842712, 1.73205081, 2.64575131, 1.73205081],\n",
       "       [2.23606798, 1.73205081, 2.82842712, 1.        ],\n",
       "       [2.82842712, 1.73205081, 2.44948974, 1.41421356]])"
      ]
     },
     "execution_count": 151,
     "metadata": {},
     "output_type": "execute_result"
    }
   ],
   "source": [
    "np.sqrt(arr1)"
   ]
  },
  {
   "cell_type": "code",
   "execution_count": 152,
   "id": "ceebed74-c352-4dbb-830f-0d515e811d20",
   "metadata": {},
   "outputs": [
    {
     "data": {
      "text/plain": [
       "array([[64,  9, 49,  9],\n",
       "       [25,  9, 64,  1],\n",
       "       [64,  9, 36,  4]])"
      ]
     },
     "execution_count": 152,
     "metadata": {},
     "output_type": "execute_result"
    }
   ],
   "source": [
    "np.power(arr1,2)"
   ]
  },
  {
   "cell_type": "code",
   "execution_count": 153,
   "id": "a22b92df-6f0c-40f8-b348-5e9ca691ba8d",
   "metadata": {},
   "outputs": [
    {
     "data": {
      "text/plain": [
       "6.020833333333333"
      ]
     },
     "execution_count": 153,
     "metadata": {},
     "output_type": "execute_result"
    }
   ],
   "source": [
    "np.var(arr1)"
   ]
  },
  {
   "cell_type": "code",
   "execution_count": 154,
   "id": "f787cf16-9647-4964-ac0d-fda51b6c92f0",
   "metadata": {},
   "outputs": [
    {
     "data": {
      "text/plain": [
       "4.75"
      ]
     },
     "execution_count": 154,
     "metadata": {},
     "output_type": "execute_result"
    }
   ],
   "source": [
    "np.mean(arr1)"
   ]
  },
  {
   "cell_type": "code",
   "execution_count": 155,
   "id": "4055f062-0b01-4f43-933e-3cad634ff8eb",
   "metadata": {},
   "outputs": [
    {
     "data": {
      "text/plain": [
       "8"
      ]
     },
     "execution_count": 155,
     "metadata": {},
     "output_type": "execute_result"
    }
   ],
   "source": [
    "np.max(arr1)"
   ]
  },
  {
   "cell_type": "code",
   "execution_count": 156,
   "id": "9ff7125b-0d6a-4a38-bf81-b19228c81273",
   "metadata": {},
   "outputs": [
    {
     "data": {
      "text/plain": [
       "1"
      ]
     },
     "execution_count": 156,
     "metadata": {},
     "output_type": "execute_result"
    }
   ],
   "source": [
    "np.min(arr1)"
   ]
  },
  {
   "cell_type": "code",
   "execution_count": null,
   "id": "e21cb96c-8f0d-4ac4-8aa6-678ea2582eaf",
   "metadata": {},
   "outputs": [],
   "source": []
  }
 ],
 "metadata": {
  "kernelspec": {
   "display_name": "Python 3 (ipykernel)",
   "language": "python",
   "name": "python3"
  },
  "language_info": {
   "codemirror_mode": {
    "name": "ipython",
    "version": 3
   },
   "file_extension": ".py",
   "mimetype": "text/x-python",
   "name": "python",
   "nbconvert_exporter": "python",
   "pygments_lexer": "ipython3",
   "version": "3.10.8"
  }
 },
 "nbformat": 4,
 "nbformat_minor": 5
}
