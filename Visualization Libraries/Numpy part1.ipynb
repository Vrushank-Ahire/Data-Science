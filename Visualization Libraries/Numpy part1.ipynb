{
 "cells": [
  {
   "cell_type": "code",
   "execution_count": 1,
   "id": "1063523f-3fb6-44c1-91c3-95334344a769",
   "metadata": {},
   "outputs": [],
   "source": [
    "import numpy as np"
   ]
  },
  {
   "cell_type": "code",
   "execution_count": 2,
   "id": "9f7f6fe0-5ee5-446a-a9a0-f6ab728199c6",
   "metadata": {},
   "outputs": [],
   "source": [
    "l = [1,2,3,4]"
   ]
  },
  {
   "cell_type": "code",
   "execution_count": 3,
   "id": "72aaf0f1-1c24-4e00-9c10-044a743c45b0",
   "metadata": {},
   "outputs": [],
   "source": [
    "ar  = np.array(l)   #1-D array"
   ]
  },
  {
   "cell_type": "code",
   "execution_count": 4,
   "id": "7d3eda9e-8fc8-42c5-aa45-097968f54d8e",
   "metadata": {},
   "outputs": [
    {
     "data": {
      "text/plain": [
       "numpy.ndarray"
      ]
     },
     "execution_count": 4,
     "metadata": {},
     "output_type": "execute_result"
    }
   ],
   "source": [
    "type(ar)"
   ]
  },
  {
   "cell_type": "code",
   "execution_count": 5,
   "id": "926f7357-5c5d-4f2c-a231-240e1535f5b7",
   "metadata": {},
   "outputs": [
    {
     "data": {
      "text/plain": [
       "array([[1, 2],\n",
       "       [3, 4]])"
      ]
     },
     "execution_count": 5,
     "metadata": {},
     "output_type": "execute_result"
    }
   ],
   "source": [
    "np.array([[1,2],[3,4]])  #2-D array"
   ]
  },
  {
   "cell_type": "code",
   "execution_count": 7,
   "id": "4699c052-b166-4b5f-ad62-5691f8fab68d",
   "metadata": {},
   "outputs": [
    {
     "data": {
      "text/plain": [
       "array([1, 2, 3, 4])"
      ]
     },
     "execution_count": 7,
     "metadata": {},
     "output_type": "execute_result"
    }
   ],
   "source": [
    "np.asarray(l)     #nd array"
   ]
  },
  {
   "cell_type": "code",
   "execution_count": 8,
   "id": "f13ba7e6-f2bc-468d-b764-94ac988de840",
   "metadata": {},
   "outputs": [
    {
     "data": {
      "text/plain": [
       "array([2, 3, 4, 9])"
      ]
     },
     "execution_count": 8,
     "metadata": {},
     "output_type": "execute_result"
    }
   ],
   "source": [
    "a = [2,3,4,9]\n",
    "np.asanyarray(a)"
   ]
  },
  {
   "cell_type": "code",
   "execution_count": 9,
   "id": "abd7f150-2496-4062-860c-167fe32a74c2",
   "metadata": {},
   "outputs": [],
   "source": [
    "b = np.matrix(a)"
   ]
  },
  {
   "cell_type": "code",
   "execution_count": 10,
   "id": "7f9b6c8a-d64d-419d-a7c1-2e60d9af5b4d",
   "metadata": {},
   "outputs": [
    {
     "data": {
      "text/plain": [
       "matrix([[2, 3, 4, 9]])"
      ]
     },
     "execution_count": 10,
     "metadata": {},
     "output_type": "execute_result"
    }
   ],
   "source": [
    "b"
   ]
  },
  {
   "cell_type": "code",
   "execution_count": 12,
   "id": "b23c6b0b-400b-4cba-aca0-89753afed614",
   "metadata": {},
   "outputs": [
    {
     "data": {
      "text/plain": [
       "matrix([[2, 3, 4, 9]])"
      ]
     },
     "execution_count": 12,
     "metadata": {},
     "output_type": "execute_result"
    }
   ],
   "source": [
    "np.asanyarray(b)     #if already a form of array the it does not convert to any form of array"
   ]
  },
  {
   "cell_type": "code",
   "execution_count": 13,
   "id": "2476f20b-385c-4295-880f-b5ba01d21c0e",
   "metadata": {},
   "outputs": [
    {
     "data": {
      "text/plain": [
       "matrix([[2, 3, 4, 9]])"
      ]
     },
     "execution_count": 13,
     "metadata": {},
     "output_type": "execute_result"
    }
   ],
   "source": [
    "b"
   ]
  },
  {
   "cell_type": "code",
   "execution_count": 14,
   "id": "783e2cfb-e1fb-4185-bdcc-9ba2475024d0",
   "metadata": {},
   "outputs": [
    {
     "data": {
      "text/plain": [
       "[2, 3, 4, 9]"
      ]
     },
     "execution_count": 14,
     "metadata": {},
     "output_type": "execute_result"
    }
   ],
   "source": [
    "a\n"
   ]
  },
  {
   "cell_type": "code",
   "execution_count": 17,
   "id": "75b2d78f-336d-4666-964a-20155757f1b0",
   "metadata": {},
   "outputs": [],
   "source": [
    "a = np.array(a)"
   ]
  },
  {
   "cell_type": "code",
   "execution_count": 18,
   "id": "67e70728-0b43-4ec2-a94f-7a261c971dc8",
   "metadata": {},
   "outputs": [
    {
     "data": {
      "text/plain": [
       "array([2, 3, 4, 9])"
      ]
     },
     "execution_count": 18,
     "metadata": {},
     "output_type": "execute_result"
    }
   ],
   "source": [
    "a"
   ]
  },
  {
   "cell_type": "code",
   "execution_count": 19,
   "id": "86789c74-fde6-43c3-bebe-166d6e640eea",
   "metadata": {},
   "outputs": [],
   "source": [
    "c = a"
   ]
  },
  {
   "cell_type": "code",
   "execution_count": 20,
   "id": "ecd30f9f-eda6-44ce-856c-c6958cbca207",
   "metadata": {},
   "outputs": [
    {
     "data": {
      "text/plain": [
       "array([2, 3, 4, 9])"
      ]
     },
     "execution_count": 20,
     "metadata": {},
     "output_type": "execute_result"
    }
   ],
   "source": [
    "c"
   ]
  },
  {
   "cell_type": "code",
   "execution_count": 21,
   "id": "50d9d71a-3770-4339-98ec-5399a755e128",
   "metadata": {},
   "outputs": [
    {
     "data": {
      "text/plain": [
       "2"
      ]
     },
     "execution_count": 21,
     "metadata": {},
     "output_type": "execute_result"
    }
   ],
   "source": [
    "c[0] "
   ]
  },
  {
   "cell_type": "code",
   "execution_count": 22,
   "id": "ac415706-c120-40ae-9e22-17d8e973b4ff",
   "metadata": {},
   "outputs": [],
   "source": [
    "c[0] = 100 "
   ]
  },
  {
   "cell_type": "code",
   "execution_count": 23,
   "id": "f331bb0d-b294-478c-b7f5-ef781687e4d7",
   "metadata": {},
   "outputs": [
    {
     "data": {
      "text/plain": [
       "array([100,   3,   4,   9])"
      ]
     },
     "execution_count": 23,
     "metadata": {},
     "output_type": "execute_result"
    }
   ],
   "source": [
    "c"
   ]
  },
  {
   "cell_type": "code",
   "execution_count": 25,
   "id": "ace82657-722b-4c96-846d-5b8b1cb70c10",
   "metadata": {},
   "outputs": [
    {
     "data": {
      "text/plain": [
       "array([100,   3,   4,   9])"
      ]
     },
     "execution_count": 25,
     "metadata": {},
     "output_type": "execute_result"
    }
   ],
   "source": [
    "a    #a also gets changed (swallow copy)"
   ]
  },
  {
   "cell_type": "code",
   "execution_count": 38,
   "id": "49dce279-02d4-4afd-b129-e6590d4f5abb",
   "metadata": {},
   "outputs": [],
   "source": [
    "d = np.copy(a)   #no connection  (deep copy)"
   ]
  },
  {
   "cell_type": "code",
   "execution_count": 39,
   "id": "302616bb-1520-4a30-b8d1-d60195e20046",
   "metadata": {},
   "outputs": [
    {
     "data": {
      "text/plain": [
       "array([100, 400,   4,   9])"
      ]
     },
     "execution_count": 39,
     "metadata": {},
     "output_type": "execute_result"
    }
   ],
   "source": [
    "a"
   ]
  },
  {
   "cell_type": "code",
   "execution_count": 40,
   "id": "43ad2ab8-07c8-42af-b630-d1b1e767cd02",
   "metadata": {},
   "outputs": [
    {
     "data": {
      "text/plain": [
       "array([100, 400,   4,   9])"
      ]
     },
     "execution_count": 40,
     "metadata": {},
     "output_type": "execute_result"
    }
   ],
   "source": [
    "d"
   ]
  },
  {
   "cell_type": "code",
   "execution_count": 41,
   "id": "994d7704-9a0c-4320-a8fc-71ddf6974b10",
   "metadata": {},
   "outputs": [],
   "source": [
    "a[1] = 400"
   ]
  },
  {
   "cell_type": "code",
   "execution_count": 42,
   "id": "6524528e-a83d-4913-a207-bbf09ab9a498",
   "metadata": {},
   "outputs": [
    {
     "data": {
      "text/plain": [
       "array([100, 400,   4,   9])"
      ]
     },
     "execution_count": 42,
     "metadata": {},
     "output_type": "execute_result"
    }
   ],
   "source": [
    "d"
   ]
  },
  {
   "cell_type": "code",
   "execution_count": 43,
   "id": "5cb96484-c998-46c8-8076-537a6d1c7320",
   "metadata": {},
   "outputs": [
    {
     "data": {
      "text/plain": [
       "array([100, 400,   4,   9])"
      ]
     },
     "execution_count": 43,
     "metadata": {},
     "output_type": "execute_result"
    }
   ],
   "source": [
    "a"
   ]
  },
  {
   "cell_type": "code",
   "execution_count": 45,
   "id": "9d360fe6-232e-436e-8502-2608507320c3",
   "metadata": {},
   "outputs": [
    {
     "data": {
      "text/plain": [
       "array([[ True, False, False],\n",
       "       [False,  True, False],\n",
       "       [False, False,  True]])"
      ]
     },
     "execution_count": 45,
     "metadata": {},
     "output_type": "execute_result"
    }
   ],
   "source": [
    "np.fromfunction(lambda i,j : i == j ,(3,3))   #3 x 3 matrix"
   ]
  },
  {
   "cell_type": "code",
   "execution_count": 47,
   "id": "faa2cae5-5778-406c-bd01-4105a82964ea",
   "metadata": {},
   "outputs": [
    {
     "data": {
      "text/plain": [
       "array([[0., 0., 0.],\n",
       "       [0., 1., 2.],\n",
       "       [0., 2., 4.]])"
      ]
     },
     "execution_count": 47,
     "metadata": {},
     "output_type": "execute_result"
    }
   ],
   "source": [
    "np.fromfunction(lambda i,j : i*j , (3,3))   #i varies form 0 to 2 also j varies from 0 to 2"
   ]
  },
  {
   "cell_type": "code",
   "execution_count": 54,
   "id": "5f7cc78a-10c0-46a1-b8fa-99dee4344d72",
   "metadata": {},
   "outputs": [],
   "source": [
    "iterable = ( i*i for i in range(5))"
   ]
  },
  {
   "cell_type": "code",
   "execution_count": 55,
   "id": "fc342631-a491-4216-867d-05a111b6fd22",
   "metadata": {},
   "outputs": [
    {
     "data": {
      "text/plain": [
       "array([ 0.,  1.,  4.,  9., 16.])"
      ]
     },
     "execution_count": 55,
     "metadata": {},
     "output_type": "execute_result"
    }
   ],
   "source": [
    "np.fromiter(iterable,float)"
   ]
  },
  {
   "cell_type": "code",
   "execution_count": 64,
   "id": "6dd382c4-192f-40f8-93e7-2994fad8ff2e",
   "metadata": {},
   "outputs": [
    {
     "data": {
      "text/plain": [
       "array([234, 567])"
      ]
     },
     "execution_count": 64,
     "metadata": {},
     "output_type": "execute_result"
    }
   ],
   "source": [
    "np.fromstring('234 567',int,sep = ' ')  #here d type is optional"
   ]
  },
  {
   "cell_type": "code",
   "execution_count": 65,
   "id": "9f782872-3197-4294-b631-1ef06c9b988f",
   "metadata": {},
   "outputs": [
    {
     "data": {
      "text/plain": [
       "array([ 12., 456.])"
      ]
     },
     "execution_count": 65,
     "metadata": {},
     "output_type": "execute_result"
    }
   ],
   "source": [
    "np.fromstring('12,456',sep = ',')"
   ]
  },
  {
   "cell_type": "code",
   "execution_count": 67,
   "id": "8c0974f8-d025-424b-9291-68e44667d430",
   "metadata": {},
   "outputs": [],
   "source": [
    "#Numpy Data types"
   ]
  },
  {
   "cell_type": "code",
   "execution_count": 73,
   "id": "c12dd8b7-8b18-425d-93f7-3850f6775602",
   "metadata": {},
   "outputs": [],
   "source": [
    "l =[2,3,4,5,6]"
   ]
  },
  {
   "cell_type": "code",
   "execution_count": 74,
   "id": "1f59967e-fc58-46f2-8b7c-4f6dc91f36de",
   "metadata": {},
   "outputs": [],
   "source": [
    "ar = np.array(l)"
   ]
  },
  {
   "cell_type": "code",
   "execution_count": 75,
   "id": "d212f013-42b7-4bda-bdfa-6777a14df342",
   "metadata": {},
   "outputs": [
    {
     "data": {
      "text/plain": [
       "array([2, 3, 4, 5, 6])"
      ]
     },
     "execution_count": 75,
     "metadata": {},
     "output_type": "execute_result"
    }
   ],
   "source": [
    "ar"
   ]
  },
  {
   "cell_type": "code",
   "execution_count": 76,
   "id": "5e14549f-c29d-4584-a4c8-6650f37d03f7",
   "metadata": {},
   "outputs": [
    {
     "data": {
      "text/plain": [
       "1"
      ]
     },
     "execution_count": 76,
     "metadata": {},
     "output_type": "execute_result"
    }
   ],
   "source": [
    "ar.ndim"
   ]
  },
  {
   "cell_type": "code",
   "execution_count": 77,
   "id": "6ca3062c-a8a0-46b2-92da-3eb78a5955ca",
   "metadata": {},
   "outputs": [],
   "source": [
    "ar2 = np.array([[1,2,3,4],[5,5,6,7]])"
   ]
  },
  {
   "cell_type": "code",
   "execution_count": 78,
   "id": "99fb0e74-016c-481b-b211-7eae74b10d5d",
   "metadata": {},
   "outputs": [
    {
     "data": {
      "text/plain": [
       "array([[1, 2, 3, 4],\n",
       "       [5, 5, 6, 7]])"
      ]
     },
     "execution_count": 78,
     "metadata": {},
     "output_type": "execute_result"
    }
   ],
   "source": [
    "ar2"
   ]
  },
  {
   "cell_type": "code",
   "execution_count": 79,
   "id": "75612c0f-767b-4393-8cac-3630f85efed5",
   "metadata": {},
   "outputs": [
    {
     "data": {
      "text/plain": [
       "2"
      ]
     },
     "execution_count": 79,
     "metadata": {},
     "output_type": "execute_result"
    }
   ],
   "source": [
    "ar2.ndim"
   ]
  },
  {
   "cell_type": "code",
   "execution_count": 80,
   "id": "912994f1-76b6-41ab-84b3-ea15c2d48acf",
   "metadata": {},
   "outputs": [
    {
     "data": {
      "text/plain": [
       "5"
      ]
     },
     "execution_count": 80,
     "metadata": {},
     "output_type": "execute_result"
    }
   ],
   "source": [
    "ar.size"
   ]
  },
  {
   "cell_type": "code",
   "execution_count": 81,
   "id": "5fc4677e-7893-4eff-9365-7a05b2ebeba6",
   "metadata": {},
   "outputs": [
    {
     "data": {
      "text/plain": [
       "8"
      ]
     },
     "execution_count": 81,
     "metadata": {},
     "output_type": "execute_result"
    }
   ],
   "source": [
    "ar2.size"
   ]
  },
  {
   "cell_type": "code",
   "execution_count": 85,
   "id": "e3376d85-470c-4829-a095-ebcded3c7acc",
   "metadata": {},
   "outputs": [
    {
     "data": {
      "text/plain": [
       "(2, 4)"
      ]
     },
     "execution_count": 85,
     "metadata": {},
     "output_type": "execute_result"
    }
   ],
   "source": [
    "ar2.shape #2-D 2rows 4 columns"
   ]
  },
  {
   "cell_type": "code",
   "execution_count": 86,
   "id": "3f61ca3a-f1a9-4649-bfb0-7479ea82ea6d",
   "metadata": {},
   "outputs": [
    {
     "data": {
      "text/plain": [
       "(5,)"
      ]
     },
     "execution_count": 86,
     "metadata": {},
     "output_type": "execute_result"
    }
   ],
   "source": [
    "ar.shape   #linear 1 row 5 columns"
   ]
  },
  {
   "cell_type": "code",
   "execution_count": 89,
   "id": "a6da3d7c-2129-4b31-bbb7-7ed15f4f3907",
   "metadata": {},
   "outputs": [
    {
     "data": {
      "text/plain": [
       "dtype('int64')"
      ]
     },
     "execution_count": 89,
     "metadata": {},
     "output_type": "execute_result"
    }
   ],
   "source": [
    "ar.dtype"
   ]
  },
  {
   "cell_type": "code",
   "execution_count": 90,
   "id": "6a3dd3e9-4388-4d90-8b7e-a36e1543ffa0",
   "metadata": {},
   "outputs": [
    {
     "data": {
      "text/plain": [
       "dtype('int64')"
      ]
     },
     "execution_count": 90,
     "metadata": {},
     "output_type": "execute_result"
    }
   ],
   "source": [
    "ar2.dtype"
   ]
  },
  {
   "cell_type": "code",
   "execution_count": 96,
   "id": "13196e4f-9384-4183-9e12-9124d424996a",
   "metadata": {},
   "outputs": [],
   "source": [
    "ar22 = np.array([(1.6,2,3,4), (77,88,99,100)]) #any one is float all are converted to float"
   ]
  },
  {
   "cell_type": "code",
   "execution_count": 97,
   "id": "3508a2d1-44dd-4c10-b9a0-376bdd403a57",
   "metadata": {},
   "outputs": [
    {
     "data": {
      "text/plain": [
       "dtype('float64')"
      ]
     },
     "execution_count": 97,
     "metadata": {},
     "output_type": "execute_result"
    }
   ],
   "source": [
    "ar22.dtype"
   ]
  },
  {
   "cell_type": "code",
   "execution_count": 99,
   "id": "6d217d20-9cae-4737-b35e-db1793cc767d",
   "metadata": {},
   "outputs": [
    {
     "data": {
      "text/plain": [
       "[0, 1, 2, 3, 4]"
      ]
     },
     "execution_count": 99,
     "metadata": {},
     "output_type": "execute_result"
    }
   ],
   "source": [
    "list(range(5))"
   ]
  },
  {
   "cell_type": "code",
   "execution_count": 101,
   "id": "4a457b50-24bf-4b66-9215-798cded5defa",
   "metadata": {},
   "outputs": [
    {
     "data": {
      "text/plain": [
       "[5, 6, 7, 8, 9, 10, 11]"
      ]
     },
     "execution_count": 101,
     "metadata": {},
     "output_type": "execute_result"
    }
   ],
   "source": [
    "list(range(5,12))"
   ]
  },
  {
   "cell_type": "code",
   "execution_count": 105,
   "id": "01ee0f2d-bd4d-4aed-bddc-b7cba404794d",
   "metadata": {},
   "outputs": [
    {
     "ename": "TypeError",
     "evalue": "'float' object cannot be interpreted as an integer",
     "output_type": "error",
     "traceback": [
      "\u001b[0;31m---------------------------------------------------------------------------\u001b[0m",
      "\u001b[0;31mTypeError\u001b[0m                                 Traceback (most recent call last)",
      "Cell \u001b[0;32mIn[105], line 1\u001b[0m\n\u001b[0;32m----> 1\u001b[0m \u001b[38;5;28mlist\u001b[39m(\u001b[38;5;28;43mrange\u001b[39;49m\u001b[43m(\u001b[49m\u001b[38;5;241;43m0.1\u001b[39;49m\u001b[43m,\u001b[49m\u001b[38;5;241;43m12\u001b[39;49m\u001b[43m)\u001b[49m)\n",
      "\u001b[0;31mTypeError\u001b[0m: 'float' object cannot be interpreted as an integer"
     ]
    }
   ],
   "source": [
    "list(range(0.1,12))"
   ]
  },
  {
   "cell_type": "code",
   "execution_count": 107,
   "id": "cf2b93b1-1b90-4c0d-9b1c-1be76174348a",
   "metadata": {},
   "outputs": [
    {
     "data": {
      "text/plain": [
       "array([2.3, 3.3, 4.3, 5.3])"
      ]
     },
     "execution_count": 107,
     "metadata": {},
     "output_type": "execute_result"
    }
   ],
   "source": [
    "np.arange(2.3,5.6)   #jump is 1 predefined"
   ]
  },
  {
   "cell_type": "code",
   "execution_count": 109,
   "id": "3481f4b3-0ef3-4278-8d4a-0094b8cac773",
   "metadata": {},
   "outputs": [
    {
     "data": {
      "text/plain": [
       "array([2.3, 2.6, 2.9, 3.2, 3.5, 3.8, 4.1, 4.4, 4.7, 5. , 5.3])"
      ]
     },
     "execution_count": 109,
     "metadata": {},
     "output_type": "execute_result"
    }
   ],
   "source": [
    "np.arange(2.3,5.6,0.3)   #jump is 0.3"
   ]
  },
  {
   "cell_type": "code",
   "execution_count": 111,
   "id": "aabaa57e-866a-4a59-83fc-12df9aeb8c68",
   "metadata": {},
   "outputs": [
    {
     "data": {
      "text/plain": [
       "[2.3,\n",
       " 2.5999999999999996,\n",
       " 2.8999999999999995,\n",
       " 3.1999999999999993,\n",
       " 3.499999999999999,\n",
       " 3.799999999999999,\n",
       " 4.099999999999999,\n",
       " 4.399999999999999,\n",
       " 4.699999999999998,\n",
       " 4.999999999999998,\n",
       " 5.299999999999998]"
      ]
     },
     "execution_count": 111,
     "metadata": {},
     "output_type": "execute_result"
    }
   ],
   "source": [
    "list(np.arange(2.3,5.6,0.3))   #jump is 0.3"
   ]
  },
  {
   "cell_type": "code",
   "execution_count": 114,
   "id": "192864b1-8311-416d-bd1a-b2f3a353ef0c",
   "metadata": {},
   "outputs": [
    {
     "data": {
      "text/plain": [
       "array([1.        , 1.44444444, 1.88888889, 2.33333333, 2.77777778,\n",
       "       3.22222222, 3.66666667, 4.11111111, 4.55555556, 5.        ])"
      ]
     },
     "execution_count": 114,
     "metadata": {},
     "output_type": "execute_result"
    }
   ],
   "source": [
    "np.linspace(1,5,10)  #divides 1 to 5 in 10 parts"
   ]
  },
  {
   "cell_type": "code",
   "execution_count": 116,
   "id": "55f524f7-c1f0-47e2-acfb-420a68c8128d",
   "metadata": {},
   "outputs": [
    {
     "data": {
      "text/plain": [
       "array([0., 0., 0., 0., 0., 0., 0.])"
      ]
     },
     "execution_count": 116,
     "metadata": {},
     "output_type": "execute_result"
    }
   ],
   "source": [
    "np.zeros(7)"
   ]
  },
  {
   "cell_type": "code",
   "execution_count": 117,
   "id": "f945190d-a72c-4eb2-b9ba-88fb330d8c07",
   "metadata": {},
   "outputs": [
    {
     "data": {
      "text/plain": [
       "array([[0., 0., 0., 0.],\n",
       "       [0., 0., 0., 0.],\n",
       "       [0., 0., 0., 0.]])"
      ]
     },
     "execution_count": 117,
     "metadata": {},
     "output_type": "execute_result"
    }
   ],
   "source": [
    "np.zeros((3,4))"
   ]
  },
  {
   "cell_type": "code",
   "execution_count": 118,
   "id": "3a2b46c9-1d93-4f2c-aeae-5b2a36021059",
   "metadata": {},
   "outputs": [
    {
     "data": {
      "text/plain": [
       "array([[[0., 0.],\n",
       "        [0., 0.],\n",
       "        [0., 0.],\n",
       "        [0., 0.],\n",
       "        [0., 0.]],\n",
       "\n",
       "       [[0., 0.],\n",
       "        [0., 0.],\n",
       "        [0., 0.],\n",
       "        [0., 0.],\n",
       "        [0., 0.]],\n",
       "\n",
       "       [[0., 0.],\n",
       "        [0., 0.],\n",
       "        [0., 0.],\n",
       "        [0., 0.],\n",
       "        [0., 0.]]])"
      ]
     },
     "execution_count": 118,
     "metadata": {},
     "output_type": "execute_result"
    }
   ],
   "source": [
    "np.zeros((3,5,2))"
   ]
  },
  {
   "cell_type": "code",
   "execution_count": 121,
   "id": "5c7d0717-22ee-4c64-b9f4-e3adb4780409",
   "metadata": {},
   "outputs": [
    {
     "data": {
      "text/plain": [
       "array([[[[0., 0., 0., 0.],\n",
       "         [0., 0., 0., 0.],\n",
       "         [0., 0., 0., 0.],\n",
       "         [0., 0., 0., 0.],\n",
       "         [0., 0., 0., 0.]],\n",
       "\n",
       "        [[0., 0., 0., 0.],\n",
       "         [0., 0., 0., 0.],\n",
       "         [0., 0., 0., 0.],\n",
       "         [0., 0., 0., 0.],\n",
       "         [0., 0., 0., 0.]],\n",
       "\n",
       "        [[0., 0., 0., 0.],\n",
       "         [0., 0., 0., 0.],\n",
       "         [0., 0., 0., 0.],\n",
       "         [0., 0., 0., 0.],\n",
       "         [0., 0., 0., 0.]]],\n",
       "\n",
       "\n",
       "       [[[0., 0., 0., 0.],\n",
       "         [0., 0., 0., 0.],\n",
       "         [0., 0., 0., 0.],\n",
       "         [0., 0., 0., 0.],\n",
       "         [0., 0., 0., 0.]],\n",
       "\n",
       "        [[0., 0., 0., 0.],\n",
       "         [0., 0., 0., 0.],\n",
       "         [0., 0., 0., 0.],\n",
       "         [0., 0., 0., 0.],\n",
       "         [0., 0., 0., 0.]],\n",
       "\n",
       "        [[0., 0., 0., 0.],\n",
       "         [0., 0., 0., 0.],\n",
       "         [0., 0., 0., 0.],\n",
       "         [0., 0., 0., 0.],\n",
       "         [0., 0., 0., 0.]]]])"
      ]
     },
     "execution_count": 121,
     "metadata": {},
     "output_type": "execute_result"
    }
   ],
   "source": [
    "np.zeros((2,3,5,4))"
   ]
  },
  {
   "cell_type": "code",
   "execution_count": 125,
   "id": "f7b5e519-005a-45e9-9a4f-9a4b4ff2eb0f",
   "metadata": {},
   "outputs": [
    {
     "data": {
      "text/plain": [
       "array([[1., 1., 1., 1., 1.],\n",
       "       [1., 1., 1., 1., 1.]])"
      ]
     },
     "execution_count": 125,
     "metadata": {},
     "output_type": "execute_result"
    }
   ],
   "source": [
    " np.ones((2,5))"
   ]
  },
  {
   "cell_type": "code",
   "execution_count": 126,
   "id": "cc4c3db2-1cf7-4d8c-8eaf-f90ebd0341a7",
   "metadata": {},
   "outputs": [
    {
     "data": {
      "text/plain": [
       "array([1., 1., 1., 1., 1., 1., 1.])"
      ]
     },
     "execution_count": 126,
     "metadata": {},
     "output_type": "execute_result"
    }
   ],
   "source": [
    "np.ones(7)"
   ]
  },
  {
   "cell_type": "code",
   "execution_count": 129,
   "id": "8f659429-4a43-46f2-8663-003454c1a644",
   "metadata": {},
   "outputs": [
    {
     "data": {
      "text/plain": [
       "array([[[1., 1., 1., 1., 1., 1., 1., 1.],\n",
       "        [1., 1., 1., 1., 1., 1., 1., 1.],\n",
       "        [1., 1., 1., 1., 1., 1., 1., 1.],\n",
       "        [1., 1., 1., 1., 1., 1., 1., 1.],\n",
       "        [1., 1., 1., 1., 1., 1., 1., 1.]],\n",
       "\n",
       "       [[1., 1., 1., 1., 1., 1., 1., 1.],\n",
       "        [1., 1., 1., 1., 1., 1., 1., 1.],\n",
       "        [1., 1., 1., 1., 1., 1., 1., 1.],\n",
       "        [1., 1., 1., 1., 1., 1., 1., 1.],\n",
       "        [1., 1., 1., 1., 1., 1., 1., 1.]]])"
      ]
     },
     "execution_count": 129,
     "metadata": {},
     "output_type": "execute_result"
    }
   ],
   "source": [
    " np.ones((2,5,8))"
   ]
  },
  {
   "cell_type": "code",
   "execution_count": 130,
   "id": "f47430a5-8218-460a-8788-a0d11e21590c",
   "metadata": {},
   "outputs": [],
   "source": [
    " on = np.ones((2,5,8))"
   ]
  },
  {
   "cell_type": "code",
   "execution_count": 131,
   "id": "d49227db-9129-4559-bdef-75065d596cf8",
   "metadata": {},
   "outputs": [
    {
     "data": {
      "text/plain": [
       "array([[[6., 6., 6., 6., 6., 6., 6., 6.],\n",
       "        [6., 6., 6., 6., 6., 6., 6., 6.],\n",
       "        [6., 6., 6., 6., 6., 6., 6., 6.],\n",
       "        [6., 6., 6., 6., 6., 6., 6., 6.],\n",
       "        [6., 6., 6., 6., 6., 6., 6., 6.]],\n",
       "\n",
       "       [[6., 6., 6., 6., 6., 6., 6., 6.],\n",
       "        [6., 6., 6., 6., 6., 6., 6., 6.],\n",
       "        [6., 6., 6., 6., 6., 6., 6., 6.],\n",
       "        [6., 6., 6., 6., 6., 6., 6., 6.],\n",
       "        [6., 6., 6., 6., 6., 6., 6., 6.]]])"
      ]
     },
     "execution_count": 131,
     "metadata": {},
     "output_type": "execute_result"
    }
   ],
   "source": [
    "on + 5"
   ]
  },
  {
   "cell_type": "code",
   "execution_count": 132,
   "id": "34d3aef0-5caf-417f-8226-7d86df50814a",
   "metadata": {},
   "outputs": [
    {
     "data": {
      "text/plain": [
       "array([[[1., 1., 1., 1., 1., 1., 1., 1.],\n",
       "        [1., 1., 1., 1., 1., 1., 1., 1.],\n",
       "        [1., 1., 1., 1., 1., 1., 1., 1.],\n",
       "        [1., 1., 1., 1., 1., 1., 1., 1.],\n",
       "        [1., 1., 1., 1., 1., 1., 1., 1.]],\n",
       "\n",
       "       [[1., 1., 1., 1., 1., 1., 1., 1.],\n",
       "        [1., 1., 1., 1., 1., 1., 1., 1.],\n",
       "        [1., 1., 1., 1., 1., 1., 1., 1.],\n",
       "        [1., 1., 1., 1., 1., 1., 1., 1.],\n",
       "        [1., 1., 1., 1., 1., 1., 1., 1.]]])"
      ]
     },
     "execution_count": 132,
     "metadata": {},
     "output_type": "execute_result"
    }
   ],
   "source": [
    "on"
   ]
  },
  {
   "cell_type": "code",
   "execution_count": 133,
   "id": "27e1ce6b-9821-4e76-9c1d-f2c514d88811",
   "metadata": {},
   "outputs": [
    {
     "data": {
      "text/plain": [
       "array([[[7., 7., 7., 7., 7., 7., 7., 7.],\n",
       "        [7., 7., 7., 7., 7., 7., 7., 7.],\n",
       "        [7., 7., 7., 7., 7., 7., 7., 7.],\n",
       "        [7., 7., 7., 7., 7., 7., 7., 7.],\n",
       "        [7., 7., 7., 7., 7., 7., 7., 7.]],\n",
       "\n",
       "       [[7., 7., 7., 7., 7., 7., 7., 7.],\n",
       "        [7., 7., 7., 7., 7., 7., 7., 7.],\n",
       "        [7., 7., 7., 7., 7., 7., 7., 7.],\n",
       "        [7., 7., 7., 7., 7., 7., 7., 7.],\n",
       "        [7., 7., 7., 7., 7., 7., 7., 7.]]])"
      ]
     },
     "execution_count": 133,
     "metadata": {},
     "output_type": "execute_result"
    }
   ],
   "source": [
    "on *7\n"
   ]
  },
  {
   "cell_type": "code",
   "execution_count": 140,
   "id": "dcb9ba54-fd22-4f06-9a0c-cfafad3e80c3",
   "metadata": {},
   "outputs": [
    {
     "data": {
      "text/plain": [
       "array([[0., 0., 0.],\n",
       "       [0., 0., 0.],\n",
       "       [0., 0., 0.],\n",
       "       [0., 0., 0.],\n",
       "       [0., 0., 0.]])"
      ]
     },
     "execution_count": 140,
     "metadata": {},
     "output_type": "execute_result"
    }
   ],
   "source": [
    "np.empty((5,3))"
   ]
  },
  {
   "cell_type": "code",
   "execution_count": 141,
   "id": "9033c74d-bd83-4b1c-98a1-c2453f330f6c",
   "metadata": {},
   "outputs": [
    {
     "data": {
      "text/plain": [
       "array([[4.68092934e-310, 0.00000000e+000, 6.90807716e-310,\n",
       "        6.90807906e-310, 6.90807716e-310, 6.90807906e-310,\n",
       "        6.90807716e-310],\n",
       "       [6.90807906e-310, 6.90807716e-310, 6.90807906e-310,\n",
       "        6.90807716e-310, 6.90807906e-310, 6.90807716e-310,\n",
       "        6.90807906e-310],\n",
       "       [6.90807716e-310, 6.90807906e-310, 6.90807716e-310,\n",
       "        6.90807906e-310, 6.90807716e-310, 6.90807906e-310,\n",
       "        6.90807716e-310],\n",
       "       [6.90807906e-310, 6.90807716e-310, 6.90807906e-310,\n",
       "        6.90807716e-310, 6.90807906e-310, 6.90807716e-310,\n",
       "        6.90807906e-310],\n",
       "       [6.90807716e-310, 6.90807906e-310, 6.90807716e-310,\n",
       "        6.90807906e-310, 6.90807716e-310, 3.17095856e+180,\n",
       "        7.68523957e+170],\n",
       "       [3.03181447e+180, 4.24510207e+175, 1.09971032e+155,\n",
       "        2.51119862e+156, 4.73669460e+164, 2.19993640e-152,\n",
       "        2.02761816e+174]])"
      ]
     },
     "execution_count": 141,
     "metadata": {},
     "output_type": "execute_result"
    }
   ],
   "source": [
    "np.empty((6,7))"
   ]
  },
  {
   "cell_type": "code",
   "execution_count": 143,
   "id": "3c2eeee3-0b7c-4fa3-aedf-3fb4521e8b04",
   "metadata": {},
   "outputs": [
    {
     "data": {
      "text/plain": [
       "array([[1., 0., 0., 0.],\n",
       "       [0., 1., 0., 0.],\n",
       "       [0., 0., 1., 0.],\n",
       "       [0., 0., 0., 1.]])"
      ]
     },
     "execution_count": 143,
     "metadata": {},
     "output_type": "execute_result"
    }
   ],
   "source": [
    "np.eye(4)  #identity matrix of dim 4 "
   ]
  },
  {
   "cell_type": "code",
   "execution_count": 144,
   "id": "b70388d7-c92f-4f0f-a191-edac3f3b8c7d",
   "metadata": {},
   "outputs": [
    {
     "data": {
      "text/plain": [
       "array([2.        , 2.22222222, 2.44444444, 2.66666667, 2.88888889,\n",
       "       3.11111111, 3.33333333, 3.55555556, 3.77777778, 4.        ])"
      ]
     },
     "execution_count": 144,
     "metadata": {},
     "output_type": "execute_result"
    }
   ],
   "source": [
    "np.linspace(2,4,10)"
   ]
  },
  {
   "cell_type": "code",
   "execution_count": 150,
   "id": "3f745768-7fa6-42e3-aa28-fdbd69a920dc",
   "metadata": {},
   "outputs": [
    {
     "data": {
      "text/plain": [
       "array([4.00000000e+00, 7.24077344e+02, 1.31072000e+05, 2.37265664e+07,\n",
       "       4.29496730e+09])"
      ]
     },
     "execution_count": 150,
     "metadata": {},
     "output_type": "execute_result"
    }
   ],
   "source": [
    "np.logspace(2,32,5,base = 2)"
   ]
  },
  {
   "cell_type": "code",
   "execution_count": 155,
   "id": "8082db93-ecaf-45c7-859e-730830abd3bb",
   "metadata": {},
   "outputs": [
    {
     "data": {
      "text/plain": [
       "array([[-1.22477463,  0.30851647, -0.44974629, -0.23531846],\n",
       "       [-0.47232178, -0.50103447, -0.41560306,  0.24206125],\n",
       "       [-0.78795752, -0.47293078, -0.19226055,  0.27403688]])"
      ]
     },
     "execution_count": 155,
     "metadata": {},
     "output_type": "execute_result"
    }
   ],
   "source": [
    "np.random.randn(3,4)"
   ]
  },
  {
   "cell_type": "code",
   "execution_count": 165,
   "id": "2acde8d5-ff48-427b-951d-fba6d17eec5c",
   "metadata": {},
   "outputs": [],
   "source": [
    "arr = np.random.randn(3,4)      #randn function /standard normal distribution mean = 0 ; std = 1"
   ]
  },
  {
   "cell_type": "code",
   "execution_count": null,
   "id": "add17eac-3bfd-4e55-908c-b4d161740db3",
   "metadata": {},
   "outputs": [],
   "source": []
  },
  {
   "cell_type": "code",
   "execution_count": null,
   "id": "ef5e1190-066d-4f5b-ac14-bc24148de04c",
   "metadata": {},
   "outputs": [],
   "source": []
  },
  {
   "cell_type": "code",
   "execution_count": 166,
   "id": "5e854c69-b269-4592-9471-9120b524fedd",
   "metadata": {},
   "outputs": [],
   "source": [
    "import pandas as pd"
   ]
  },
  {
   "cell_type": "code",
   "execution_count": 167,
   "id": "935df502-9620-462f-b8cf-ae14d9c2c0f9",
   "metadata": {},
   "outputs": [
    {
     "data": {
      "text/html": [
       "<div>\n",
       "<style scoped>\n",
       "    .dataframe tbody tr th:only-of-type {\n",
       "        vertical-align: middle;\n",
       "    }\n",
       "\n",
       "    .dataframe tbody tr th {\n",
       "        vertical-align: top;\n",
       "    }\n",
       "\n",
       "    .dataframe thead th {\n",
       "        text-align: right;\n",
       "    }\n",
       "</style>\n",
       "<table border=\"1\" class=\"dataframe\">\n",
       "  <thead>\n",
       "    <tr style=\"text-align: right;\">\n",
       "      <th></th>\n",
       "      <th>0</th>\n",
       "      <th>1</th>\n",
       "      <th>2</th>\n",
       "      <th>3</th>\n",
       "    </tr>\n",
       "  </thead>\n",
       "  <tbody>\n",
       "    <tr>\n",
       "      <th>0</th>\n",
       "      <td>-1.469975</td>\n",
       "      <td>1.025878</td>\n",
       "      <td>0.912863</td>\n",
       "      <td>-0.052541</td>\n",
       "    </tr>\n",
       "    <tr>\n",
       "      <th>1</th>\n",
       "      <td>0.209630</td>\n",
       "      <td>-2.076557</td>\n",
       "      <td>2.810664</td>\n",
       "      <td>0.355203</td>\n",
       "    </tr>\n",
       "    <tr>\n",
       "      <th>2</th>\n",
       "      <td>-0.166060</td>\n",
       "      <td>0.303109</td>\n",
       "      <td>-0.512984</td>\n",
       "      <td>-0.453294</td>\n",
       "    </tr>\n",
       "  </tbody>\n",
       "</table>\n",
       "</div>"
      ],
      "text/plain": [
       "          0         1         2         3\n",
       "0 -1.469975  1.025878  0.912863 -0.052541\n",
       "1  0.209630 -2.076557  2.810664  0.355203\n",
       "2 -0.166060  0.303109 -0.512984 -0.453294"
      ]
     },
     "execution_count": 167,
     "metadata": {},
     "output_type": "execute_result"
    }
   ],
   "source": [
    "pd.DataFrame(arr)"
   ]
  },
  {
   "cell_type": "code",
   "execution_count": 168,
   "id": "47873f00-5ae1-42ed-84f5-407a598ed4e7",
   "metadata": {},
   "outputs": [
    {
     "data": {
      "text/plain": [
       "array([[0.90436318, 0.06197601, 0.99289838, 0.88751673],\n",
       "       [0.28649067, 0.56559598, 0.25706117, 0.20360101],\n",
       "       [0.25184863, 0.67387614, 0.76974807, 0.88934568]])"
      ]
     },
     "execution_count": 168,
     "metadata": {},
     "output_type": "execute_result"
    }
   ],
   "source": [
    "np.random.rand(3,4)     #podduces randomly"
   ]
  },
  {
   "cell_type": "code",
   "execution_count": 169,
   "id": "b4d80f1d-485b-41a5-826c-29c19eef5b1e",
   "metadata": {},
   "outputs": [
    {
     "data": {
      "text/plain": [
       "array([[ 24,  96,  48,  29,   2],\n",
       "       [100,   9,   4,   2,  94],\n",
       "       [ 76,   6,   1, 103,  99]])"
      ]
     },
     "execution_count": 169,
     "metadata": {},
     "output_type": "execute_result"
    }
   ],
   "source": [
    "np.random.randint(1,110,(3,5))"
   ]
  },
  {
   "cell_type": "code",
   "execution_count": 171,
   "id": "10abfc5b-0d70-4da8-a8f1-f8c92de5326e",
   "metadata": {},
   "outputs": [
    {
     "data": {
      "text/html": [
       "<div>\n",
       "<style scoped>\n",
       "    .dataframe tbody tr th:only-of-type {\n",
       "        vertical-align: middle;\n",
       "    }\n",
       "\n",
       "    .dataframe tbody tr th {\n",
       "        vertical-align: top;\n",
       "    }\n",
       "\n",
       "    .dataframe thead th {\n",
       "        text-align: right;\n",
       "    }\n",
       "</style>\n",
       "<table border=\"1\" class=\"dataframe\">\n",
       "  <thead>\n",
       "    <tr style=\"text-align: right;\">\n",
       "      <th></th>\n",
       "      <th>0</th>\n",
       "      <th>1</th>\n",
       "      <th>2</th>\n",
       "      <th>3</th>\n",
       "      <th>4</th>\n",
       "    </tr>\n",
       "  </thead>\n",
       "  <tbody>\n",
       "    <tr>\n",
       "      <th>0</th>\n",
       "      <td>12</td>\n",
       "      <td>97</td>\n",
       "      <td>35</td>\n",
       "      <td>38</td>\n",
       "      <td>86</td>\n",
       "    </tr>\n",
       "    <tr>\n",
       "      <th>1</th>\n",
       "      <td>61</td>\n",
       "      <td>86</td>\n",
       "      <td>62</td>\n",
       "      <td>23</td>\n",
       "      <td>89</td>\n",
       "    </tr>\n",
       "    <tr>\n",
       "      <th>2</th>\n",
       "      <td>40</td>\n",
       "      <td>52</td>\n",
       "      <td>39</td>\n",
       "      <td>76</td>\n",
       "      <td>46</td>\n",
       "    </tr>\n",
       "  </tbody>\n",
       "</table>\n",
       "</div>"
      ],
      "text/plain": [
       "    0   1   2   3   4\n",
       "0  12  97  35  38  86\n",
       "1  61  86  62  23  89\n",
       "2  40  52  39  76  46"
      ]
     },
     "execution_count": 171,
     "metadata": {},
     "output_type": "execute_result"
    }
   ],
   "source": [
    "pd.DataFrame(np.random.randint(1,110,(3,5)))"
   ]
  },
  {
   "cell_type": "code",
   "execution_count": 172,
   "id": "97b72d10-5c4a-4e14-8333-8dd220106abf",
   "metadata": {},
   "outputs": [],
   "source": [
    "pd.DataFrame(np.random.randint(1,110,(3,5))).to_csv(\"example.csv\")"
   ]
  },
  {
   "cell_type": "code",
   "execution_count": 174,
   "id": "c0e71ab4-ce35-4397-9ec6-fcb2ca7ffde6",
   "metadata": {},
   "outputs": [],
   "source": [
    "arr = np.random.rand(3,4)    #3*4 = 12"
   ]
  },
  {
   "cell_type": "code",
   "execution_count": 178,
   "id": "5743d2d8-f6d4-4812-bb8a-4c76549c38eb",
   "metadata": {},
   "outputs": [],
   "source": [
    "arr5 = arr.copy"
   ]
  },
  {
   "cell_type": "code",
   "execution_count": 179,
   "id": "9484a76d-9b81-4b2b-bce8-832a8741db5a",
   "metadata": {},
   "outputs": [
    {
     "data": {
      "text/plain": [
       "array([[0.01366599, 0.28150861, 0.41929246, 0.76338658],\n",
       "       [0.35040499, 0.24290328, 0.74415515, 0.25846668],\n",
       "       [0.35249711, 0.21124388, 0.51070568, 0.15831698]])"
      ]
     },
     "execution_count": 179,
     "metadata": {},
     "output_type": "execute_result"
    }
   ],
   "source": [
    "arr"
   ]
  },
  {
   "cell_type": "code",
   "execution_count": 182,
   "id": "d04da7c9-e8cd-4af8-8f0f-a06e861f926b",
   "metadata": {},
   "outputs": [],
   "source": [
    "arr5 = np.copy(arr)"
   ]
  },
  {
   "cell_type": "code",
   "execution_count": 183,
   "id": "bd551ced-e1cf-498a-bdbd-b63e8c2e9e7e",
   "metadata": {},
   "outputs": [
    {
     "data": {
      "text/plain": [
       "array([[0.01366599, 0.28150861, 0.41929246, 0.76338658],\n",
       "       [0.35040499, 0.24290328, 0.74415515, 0.25846668],\n",
       "       [0.35249711, 0.21124388, 0.51070568, 0.15831698]])"
      ]
     },
     "execution_count": 183,
     "metadata": {},
     "output_type": "execute_result"
    }
   ],
   "source": [
    "arr5"
   ]
  },
  {
   "cell_type": "code",
   "execution_count": 184,
   "id": "896bcdb7-a609-4c02-820d-be2bc33a4241",
   "metadata": {},
   "outputs": [
    {
     "data": {
      "text/plain": [
       "array([[0.01366599, 0.28150861, 0.41929246, 0.76338658, 0.35040499,\n",
       "        0.24290328],\n",
       "       [0.74415515, 0.25846668, 0.35249711, 0.21124388, 0.51070568,\n",
       "        0.15831698]])"
      ]
     },
     "execution_count": 184,
     "metadata": {},
     "output_type": "execute_result"
    }
   ],
   "source": [
    "arr5.reshape(2,6)"
   ]
  },
  {
   "cell_type": "code",
   "execution_count": 185,
   "id": "aa8d28f2-7804-4ca3-9170-bfefc6f4a315",
   "metadata": {},
   "outputs": [
    {
     "data": {
      "text/plain": [
       "array([[0.01366599, 0.28150861],\n",
       "       [0.41929246, 0.76338658],\n",
       "       [0.35040499, 0.24290328],\n",
       "       [0.74415515, 0.25846668],\n",
       "       [0.35249711, 0.21124388],\n",
       "       [0.51070568, 0.15831698]])"
      ]
     },
     "execution_count": 185,
     "metadata": {},
     "output_type": "execute_result"
    }
   ],
   "source": [
    "arr.reshape(6,-12131)"
   ]
  },
  {
   "cell_type": "code",
   "execution_count": 190,
   "id": "da9b3c0d-32c7-460a-bbcc-d69556bc10da",
   "metadata": {},
   "outputs": [
    {
     "data": {
      "text/plain": [
       "array([[0.01366599],\n",
       "       [0.28150861],\n",
       "       [0.41929246],\n",
       "       [0.76338658],\n",
       "       [0.35040499],\n",
       "       [0.24290328],\n",
       "       [0.74415515],\n",
       "       [0.25846668],\n",
       "       [0.35249711],\n",
       "       [0.21124388],\n",
       "       [0.51070568],\n",
       "       [0.15831698]])"
      ]
     },
     "execution_count": 190,
     "metadata": {},
     "output_type": "execute_result"
    }
   ],
   "source": [
    "arr.reshape(-1515,1)"
   ]
  },
  {
   "cell_type": "code",
   "execution_count": 193,
   "id": "45f4731f-9a32-4990-9d1f-ed5f1b1b06e8",
   "metadata": {},
   "outputs": [],
   "source": [
    "arr1 = arr.reshape(6,-25215)   #any -ve value but not any positive value"
   ]
  },
  {
   "cell_type": "code",
   "execution_count": 194,
   "id": "30e3c1a4-2676-4481-a5e8-d0a04d31dc9f",
   "metadata": {},
   "outputs": [
    {
     "data": {
      "text/plain": [
       "array([[0.01366599, 0.28150861],\n",
       "       [0.41929246, 0.76338658],\n",
       "       [0.35040499, 0.24290328],\n",
       "       [0.74415515, 0.25846668],\n",
       "       [0.35249711, 0.21124388],\n",
       "       [0.51070568, 0.15831698]])"
      ]
     },
     "execution_count": 194,
     "metadata": {},
     "output_type": "execute_result"
    }
   ],
   "source": [
    "arr1"
   ]
  },
  {
   "cell_type": "code",
   "execution_count": 195,
   "id": "0de3f425-80e6-47fe-be8f-ef562751f280",
   "metadata": {},
   "outputs": [
    {
     "data": {
      "text/plain": [
       "array([[0.01366599, 0.28150861],\n",
       "       [0.41929246, 0.76338658],\n",
       "       [0.35040499, 0.24290328],\n",
       "       [0.74415515, 0.25846668],\n",
       "       [0.35249711, 0.21124388],\n",
       "       [0.51070568, 0.15831698]])"
      ]
     },
     "execution_count": 195,
     "metadata": {},
     "output_type": "execute_result"
    }
   ],
   "source": [
    "arr1"
   ]
  },
  {
   "cell_type": "code",
   "execution_count": 196,
   "id": "5441c70b-edaa-45f6-abf3-808882188331",
   "metadata": {},
   "outputs": [
    {
     "data": {
      "text/plain": [
       "0.7633865840936833"
      ]
     },
     "execution_count": 196,
     "metadata": {},
     "output_type": "execute_result"
    }
   ],
   "source": [
    "arr1[1][1]"
   ]
  },
  {
   "cell_type": "code",
   "execution_count": 198,
   "id": "bede132b-2520-4d98-a20e-761b0ee1c60e",
   "metadata": {},
   "outputs": [
    {
     "data": {
      "text/plain": [
       "array([0.24290328, 0.25846668, 0.21124388])"
      ]
     },
     "execution_count": 198,
     "metadata": {},
     "output_type": "execute_result"
    }
   ],
   "source": [
    "arr1[2:5,1]   #row 2 to 4 , 2nd element"
   ]
  },
  {
   "cell_type": "code",
   "execution_count": 200,
   "id": "d3e0dc58-f226-4e83-b38c-11803db0f5e2",
   "metadata": {},
   "outputs": [],
   "source": [
    "arr = np.random.randint(1,100,(5,5))"
   ]
  },
  {
   "cell_type": "code",
   "execution_count": 201,
   "id": "f231424e-64ec-49a4-a7ca-2d157d092160",
   "metadata": {},
   "outputs": [
    {
     "data": {
      "text/plain": [
       "array([[58, 34,  9, 33, 36],\n",
       "       [92, 38, 70, 98, 60],\n",
       "       [56, 73, 40, 22, 93],\n",
       "       [16, 84, 70, 36, 70],\n",
       "       [76, 28, 27,  4, 97]])"
      ]
     },
     "execution_count": 201,
     "metadata": {},
     "output_type": "execute_result"
    }
   ],
   "source": [
    "arr"
   ]
  },
  {
   "cell_type": "code",
   "execution_count": 207,
   "id": "b83c5d99-ea11-4da1-980a-9a88b1a1c951",
   "metadata": {},
   "outputs": [],
   "source": [
    "arr3 = arr[arr > 50]"
   ]
  },
  {
   "cell_type": "code",
   "execution_count": 208,
   "id": "a68a0b8f-50d6-4650-ac8e-bd1debfea6fa",
   "metadata": {},
   "outputs": [
    {
     "data": {
      "text/plain": [
       "array([58, 92, 70, 98, 60, 56, 73, 93, 84, 70, 70, 76, 97])"
      ]
     },
     "execution_count": 208,
     "metadata": {},
     "output_type": "execute_result"
    }
   ],
   "source": [
    "arr3"
   ]
  },
  {
   "cell_type": "code",
   "execution_count": 209,
   "id": "7c7cd516-2fc1-42c6-b41e-7510e106143e",
   "metadata": {},
   "outputs": [
    {
     "data": {
      "text/plain": [
       "array([[ True, False, False, False, False],\n",
       "       [ True, False,  True,  True,  True],\n",
       "       [ True,  True, False, False,  True],\n",
       "       [False,  True,  True, False,  True],\n",
       "       [ True, False, False, False,  True]])"
      ]
     },
     "execution_count": 209,
     "metadata": {},
     "output_type": "execute_result"
    }
   ],
   "source": [
    "arr >50"
   ]
  },
  {
   "cell_type": "code",
   "execution_count": 211,
   "id": "05392614-d659-45f6-9271-17e34019e981",
   "metadata": {},
   "outputs": [
    {
     "data": {
      "text/plain": [
       "array([58, 92, 70, 98, 60, 56, 73, 93, 84, 70, 70, 76, 97])"
      ]
     },
     "execution_count": 211,
     "metadata": {},
     "output_type": "execute_result"
    }
   ],
   "source": [
    "arr[arr > 50]"
   ]
  },
  {
   "cell_type": "code",
   "execution_count": 226,
   "id": "2463d653-c113-41db-9322-a9b5184c083c",
   "metadata": {},
   "outputs": [
    {
     "data": {
      "text/plain": [
       "array([[73, 40],\n",
       "       [84, 70]])"
      ]
     },
     "execution_count": 226,
     "metadata": {},
     "output_type": "execute_result"
    }
   ],
   "source": [
    "arr[2:4,[1,2]]"
   ]
  },
  {
   "cell_type": "code",
   "execution_count": 216,
   "id": "82402d73-4c11-4fc3-a6a0-91257a2c5305",
   "metadata": {},
   "outputs": [
    {
     "data": {
      "text/plain": [
       "array([[58, 34,  9, 33, 36],\n",
       "       [92, 38, 70, 98, 60],\n",
       "       [56, 73, 40, 22, 93],\n",
       "       [16, 84, 70, 36, 70],\n",
       "       [76, 28, 27,  4, 97]])"
      ]
     },
     "execution_count": 216,
     "metadata": {},
     "output_type": "execute_result"
    }
   ],
   "source": [
    "arr"
   ]
  },
  {
   "cell_type": "code",
   "execution_count": 227,
   "id": "491ae233-3ff6-4b9a-a46c-ea3d82d22c0f",
   "metadata": {},
   "outputs": [],
   "source": [
    "arr5 = [11,22,33,44,55,66]"
   ]
  },
  {
   "cell_type": "code",
   "execution_count": 240,
   "id": "3ae46852-209d-4a88-8f65-40a6a0e85821",
   "metadata": {},
   "outputs": [],
   "source": [
    "arr6 = np.array(arr5)"
   ]
  },
  {
   "cell_type": "code",
   "execution_count": 236,
   "id": "d465213f-44f3-470c-b099-dbe6b4bca19c",
   "metadata": {},
   "outputs": [
    {
     "data": {
      "text/plain": [
       "array([22, 33])"
      ]
     },
     "execution_count": 236,
     "metadata": {},
     "output_type": "execute_result"
    }
   ],
   "source": [
    "arr6[[1,2]]"
   ]
  },
  {
   "cell_type": "code",
   "execution_count": 241,
   "id": "e2aa8077-a77c-4244-8a70-82fb3a2f97eb",
   "metadata": {},
   "outputs": [
    {
     "data": {
      "text/plain": [
       "[11, 22, 33, 44, 55, 66]"
      ]
     },
     "execution_count": 241,
     "metadata": {},
     "output_type": "execute_result"
    }
   ],
   "source": [
    "arr5"
   ]
  },
  {
   "cell_type": "code",
   "execution_count": 242,
   "id": "fa36c3ad-5c05-41dc-b2ab-b50505ed001d",
   "metadata": {},
   "outputs": [
    {
     "data": {
      "text/plain": [
       "array([11, 22, 33, 44, 55, 66])"
      ]
     },
     "execution_count": 242,
     "metadata": {},
     "output_type": "execute_result"
    }
   ],
   "source": [
    "arr6"
   ]
  },
  {
   "cell_type": "code",
   "execution_count": 251,
   "id": "b1b62fd6-eaf2-4e70-8d72-b23f75eb99e7",
   "metadata": {},
   "outputs": [
    {
     "data": {
      "text/plain": [
       "array([44, 55, 66])"
      ]
     },
     "execution_count": 251,
     "metadata": {},
     "output_type": "execute_result"
    }
   ],
   "source": [
    "arr6[[3,4,5]]"
   ]
  },
  {
   "cell_type": "code",
   "execution_count": 252,
   "id": "8f6e2966-f674-414b-9caa-5096a79480ac",
   "metadata": {},
   "outputs": [],
   "source": [
    "arr1 = np.random.randint(1,3,(3,3))"
   ]
  },
  {
   "cell_type": "code",
   "execution_count": 253,
   "id": "2ccc95d7-ad7b-4387-a4a8-a349754d457d",
   "metadata": {},
   "outputs": [],
   "source": [
    "arr2 =np.random.randint(1,3,(3,3))"
   ]
  },
  {
   "cell_type": "code",
   "execution_count": 257,
   "id": "9163ad23-6c54-4f91-b3d1-4126b5207680",
   "metadata": {},
   "outputs": [
    {
     "data": {
      "text/plain": [
       "array([[1, 2, 1],\n",
       "       [2, 1, 1],\n",
       "       [2, 1, 2]])"
      ]
     },
     "execution_count": 257,
     "metadata": {},
     "output_type": "execute_result"
    }
   ],
   "source": [
    "arr1\n"
   ]
  },
  {
   "cell_type": "code",
   "execution_count": 258,
   "id": "1adb4837-5ae7-4d92-b25a-03c6ecbd9777",
   "metadata": {},
   "outputs": [
    {
     "data": {
      "text/plain": [
       "array([[2, 2, 2],\n",
       "       [2, 2, 2],\n",
       "       [2, 1, 1]])"
      ]
     },
     "execution_count": 258,
     "metadata": {},
     "output_type": "execute_result"
    }
   ],
   "source": [
    "arr2"
   ]
  },
  {
   "cell_type": "code",
   "execution_count": 260,
   "id": "50f174f5-83d3-49a0-abdf-2b14dfb0dce8",
   "metadata": {},
   "outputs": [
    {
     "data": {
      "text/plain": [
       "array([[3, 4, 3],\n",
       "       [4, 3, 3],\n",
       "       [4, 2, 3]])"
      ]
     },
     "execution_count": 260,
     "metadata": {},
     "output_type": "execute_result"
    }
   ],
   "source": [
    "arr1 + arr2"
   ]
  },
  {
   "cell_type": "code",
   "execution_count": 263,
   "id": "c362f01e-57ef-4afa-a96d-c6c510f3eeb6",
   "metadata": {},
   "outputs": [
    {
     "data": {
      "text/plain": [
       "array([[2, 4, 2],\n",
       "       [4, 2, 2],\n",
       "       [4, 1, 2]])"
      ]
     },
     "execution_count": 263,
     "metadata": {},
     "output_type": "execute_result"
    }
   ],
   "source": [
    "arr1 * arr2   #same index values multiplictaion simply its not matriox multiolication "
   ]
  },
  {
   "cell_type": "code",
   "execution_count": 262,
   "id": "c4fea856-d332-4479-9fe2-fcccba3ab3ca",
   "metadata": {},
   "outputs": [
    {
     "data": {
      "text/plain": [
       "array([[1, 4, 1],\n",
       "       [4, 1, 1],\n",
       "       [4, 1, 2]])"
      ]
     },
     "execution_count": 262,
     "metadata": {},
     "output_type": "execute_result"
    }
   ],
   "source": [
    "arr1 ** arr2"
   ]
  },
  {
   "cell_type": "code",
   "execution_count": 264,
   "id": "4595c9f2-dd21-4a5f-a6aa-3230e886d6a5",
   "metadata": {},
   "outputs": [
    {
     "data": {
      "text/plain": [
       "array([[ 8,  7,  7],\n",
       "       [ 8,  7,  7],\n",
       "       [10,  8,  8]])"
      ]
     },
     "execution_count": 264,
     "metadata": {},
     "output_type": "execute_result"
    }
   ],
   "source": [
    "arr1 @ arr2    # @ symbol is used for matrix multiplication"
   ]
  },
  {
   "cell_type": "code",
   "execution_count": 265,
   "id": "ed434477-5fef-4f39-bd66-fba47b74e39c",
   "metadata": {},
   "outputs": [
    {
     "name": "stderr",
     "output_type": "stream",
     "text": [
      "/tmp/ipykernel_389/824215542.py:1: RuntimeWarning: divide by zero encountered in divide\n",
      "  arr1 / 0\n"
     ]
    },
    {
     "data": {
      "text/plain": [
       "array([[inf, inf, inf],\n",
       "       [inf, inf, inf],\n",
       "       [inf, inf, inf]])"
      ]
     },
     "execution_count": 265,
     "metadata": {},
     "output_type": "execute_result"
    }
   ],
   "source": [
    "arr1 / 0"
   ]
  },
  {
   "cell_type": "code",
   "execution_count": 266,
   "id": "3f2ba37f-e3ef-4b05-adff-9681b86e590b",
   "metadata": {},
   "outputs": [
    {
     "ename": "NameError",
     "evalue": "name 'inf' is not defined",
     "output_type": "error",
     "traceback": [
      "\u001b[0;31m---------------------------------------------------------------------------\u001b[0m",
      "\u001b[0;31mNameError\u001b[0m                                 Traceback (most recent call last)",
      "Cell \u001b[0;32mIn[266], line 1\u001b[0m\n\u001b[0;32m----> 1\u001b[0m \u001b[43minf\u001b[49m \u001b[38;5;129;01mis\u001b[39;00m infizity\n",
      "\u001b[0;31mNameError\u001b[0m: name 'inf' is not defined"
     ]
    }
   ],
   "source": [
    "inf is infizity"
   ]
  },
  {
   "cell_type": "code",
   "execution_count": 267,
   "id": "deab9f4d-c07d-42b7-a7b0-f5cbeacf3308",
   "metadata": {},
   "outputs": [
    {
     "data": {
      "text/plain": [
       "array([[1, 2, 1],\n",
       "       [2, 1, 1],\n",
       "       [2, 1, 2]])"
      ]
     },
     "execution_count": 267,
     "metadata": {},
     "output_type": "execute_result"
    }
   ],
   "source": [
    "arr1 \n"
   ]
  },
  {
   "cell_type": "code",
   "execution_count": 268,
   "id": "f826df6c-4d8d-4b82-a8a3-516d7766599f",
   "metadata": {},
   "outputs": [
    {
     "data": {
      "text/plain": [
       "array([[101, 102, 101],\n",
       "       [102, 101, 101],\n",
       "       [102, 101, 102]])"
      ]
     },
     "execution_count": 268,
     "metadata": {},
     "output_type": "execute_result"
    }
   ],
   "source": [
    "arr1 +100"
   ]
  },
  {
   "cell_type": "code",
   "execution_count": 269,
   "id": "491f73f6-ce73-4cee-9013-a42127ae600c",
   "metadata": {},
   "outputs": [
    {
     "data": {
      "text/plain": [
       "array([[1, 4, 1],\n",
       "       [4, 1, 1],\n",
       "       [4, 1, 2]])"
      ]
     },
     "execution_count": 269,
     "metadata": {},
     "output_type": "execute_result"
    }
   ],
   "source": [
    "arr1 ** arr2"
   ]
  },
  {
   "cell_type": "code",
   "execution_count": 272,
   "id": "43128bf7-64e4-495f-be59-ea9240bf3615",
   "metadata": {},
   "outputs": [],
   "source": [
    "arr = np.zeros((4,4))"
   ]
  },
  {
   "cell_type": "code",
   "execution_count": 273,
   "id": "77d4ca12-e013-45fe-bc03-dd286881c964",
   "metadata": {},
   "outputs": [
    {
     "data": {
      "text/plain": [
       "array([[0., 0., 0., 0.],\n",
       "       [0., 0., 0., 0.],\n",
       "       [0., 0., 0., 0.],\n",
       "       [0., 0., 0., 0.]])"
      ]
     },
     "execution_count": 273,
     "metadata": {},
     "output_type": "execute_result"
    }
   ],
   "source": [
    "arr\n"
   ]
  },
  {
   "cell_type": "code",
   "execution_count": 274,
   "id": "e0f013eb-5eae-4a9d-863a-219de8f05c78",
   "metadata": {},
   "outputs": [],
   "source": [
    "row = [1,2,3,4]"
   ]
  },
  {
   "cell_type": "code",
   "execution_count": 276,
   "id": "d5b4995d-c517-44b5-a2d2-d356e6d09a9a",
   "metadata": {},
   "outputs": [
    {
     "data": {
      "text/plain": [
       "array([[1., 2., 3., 4.],\n",
       "       [1., 2., 3., 4.],\n",
       "       [1., 2., 3., 4.],\n",
       "       [1., 2., 3., 4.]])"
      ]
     },
     "execution_count": 276,
     "metadata": {},
     "output_type": "execute_result"
    }
   ],
   "source": [
    "arr +  row  #row wise braodcasting"
   ]
  },
  {
   "cell_type": "code",
   "execution_count": 277,
   "id": "25568104-44af-478e-a78e-84f89cb4d67d",
   "metadata": {},
   "outputs": [
    {
     "ename": "AttributeError",
     "evalue": "'list' object has no attribute 'T'",
     "output_type": "error",
     "traceback": [
      "\u001b[0;31m---------------------------------------------------------------------------\u001b[0m",
      "\u001b[0;31mAttributeError\u001b[0m                            Traceback (most recent call last)",
      "Cell \u001b[0;32mIn[277], line 1\u001b[0m\n\u001b[0;32m----> 1\u001b[0m \u001b[43mrow\u001b[49m\u001b[38;5;241;43m.\u001b[39;49m\u001b[43mT\u001b[49m\n",
      "\u001b[0;31mAttributeError\u001b[0m: 'list' object has no attribute 'T'"
     ]
    }
   ],
   "source": [
    "row.T"
   ]
  },
  {
   "cell_type": "code",
   "execution_count": 291,
   "id": "0831c629-6d28-4e23-8dbe-1ddd5eb8d9a0",
   "metadata": {},
   "outputs": [],
   "source": [
    "col = np.array([row])    #to make linear row to 2dimensional matrix to take its transpose"
   ]
  },
  {
   "cell_type": "code",
   "execution_count": 292,
   "id": "8ab912c1-db63-4c8d-9bad-88f671aeb5c2",
   "metadata": {},
   "outputs": [
    {
     "data": {
      "text/plain": [
       "array([[1, 2, 3, 4]])"
      ]
     },
     "execution_count": 292,
     "metadata": {},
     "output_type": "execute_result"
    }
   ],
   "source": [
    "col"
   ]
  },
  {
   "cell_type": "code",
   "execution_count": 293,
   "id": "a3f84089-d780-4f7d-bb8f-6c6cbfa1fcdd",
   "metadata": {},
   "outputs": [
    {
     "data": {
      "text/plain": [
       "array([[1, 2, 3, 4]])"
      ]
     },
     "execution_count": 293,
     "metadata": {},
     "output_type": "execute_result"
    }
   ],
   "source": [
    "col"
   ]
  },
  {
   "cell_type": "code",
   "execution_count": 294,
   "id": "62566f15-531d-4c3e-8094-69ee4f752fe2",
   "metadata": {},
   "outputs": [
    {
     "data": {
      "text/plain": [
       "array([[1],\n",
       "       [2],\n",
       "       [3],\n",
       "       [4]])"
      ]
     },
     "execution_count": 294,
     "metadata": {},
     "output_type": "execute_result"
    }
   ],
   "source": [
    "col.T"
   ]
  },
  {
   "cell_type": "code",
   "execution_count": 295,
   "id": "cd1bf180-3884-4c26-b2b5-c37bc08b5678",
   "metadata": {},
   "outputs": [
    {
     "data": {
      "text/plain": [
       "array([[0., 0., 0., 0.],\n",
       "       [0., 0., 0., 0.],\n",
       "       [0., 0., 0., 0.],\n",
       "       [0., 0., 0., 0.]])"
      ]
     },
     "execution_count": 295,
     "metadata": {},
     "output_type": "execute_result"
    }
   ],
   "source": [
    "arr"
   ]
  },
  {
   "cell_type": "code",
   "execution_count": 298,
   "id": "e3a760f1-1bf9-4044-ad03-e1fd642346bc",
   "metadata": {},
   "outputs": [
    {
     "data": {
      "text/plain": [
       "array([[1., 1., 1., 1.],\n",
       "       [2., 2., 2., 2.],\n",
       "       [3., 3., 3., 3.],\n",
       "       [4., 4., 4., 4.]])"
      ]
     },
     "execution_count": 298,
     "metadata": {},
     "output_type": "execute_result"
    }
   ],
   "source": [
    "arr + col.T"
   ]
  },
  {
   "cell_type": "code",
   "execution_count": 299,
   "id": "12ad035a-0224-4029-845a-cfa43494c546",
   "metadata": {},
   "outputs": [
    {
     "data": {
      "text/plain": [
       "array([[0., 0., 0., 0.],\n",
       "       [0., 0., 0., 0.],\n",
       "       [0., 0., 0., 0.],\n",
       "       [0., 0., 0., 0.]])"
      ]
     },
     "execution_count": 299,
     "metadata": {},
     "output_type": "execute_result"
    }
   ],
   "source": [
    "arr"
   ]
  },
  {
   "cell_type": "code",
   "execution_count": 300,
   "id": "548b20e3-452b-4af9-81aa-209248166a9f",
   "metadata": {},
   "outputs": [
    {
     "data": {
      "text/plain": [
       "array([[0., 0., 0., 0.],\n",
       "       [0., 0., 0., 0.],\n",
       "       [0., 0., 0., 0.],\n",
       "       [0., 0., 0., 0.]])"
      ]
     },
     "execution_count": 300,
     "metadata": {},
     "output_type": "execute_result"
    }
   ],
   "source": [
    "arr"
   ]
  },
  {
   "cell_type": "code",
   "execution_count": 303,
   "id": "94afce32-767d-40a4-8273-9ea061f27d21",
   "metadata": {},
   "outputs": [],
   "source": [
    "arr1 = np.random.randint(1,4,(3,4))"
   ]
  },
  {
   "cell_type": "code",
   "execution_count": 304,
   "id": "e044b2b0-8273-4cfe-819a-84f2bd6b3d94",
   "metadata": {},
   "outputs": [
    {
     "data": {
      "text/plain": [
       "array([[2, 2, 3, 2],\n",
       "       [1, 1, 1, 1],\n",
       "       [2, 1, 1, 2]])"
      ]
     },
     "execution_count": 304,
     "metadata": {},
     "output_type": "execute_result"
    }
   ],
   "source": [
    "arr1"
   ]
  },
  {
   "cell_type": "code",
   "execution_count": 305,
   "id": "93c8fd4f-ab4c-40f6-92f5-ca5cace9fd65",
   "metadata": {},
   "outputs": [
    {
     "data": {
      "text/plain": [
       "array([[1.41421356, 1.41421356, 1.73205081, 1.41421356],\n",
       "       [1.        , 1.        , 1.        , 1.        ],\n",
       "       [1.41421356, 1.        , 1.        , 1.41421356]])"
      ]
     },
     "execution_count": 305,
     "metadata": {},
     "output_type": "execute_result"
    }
   ],
   "source": [
    "np.sqrt(arr1)"
   ]
  },
  {
   "cell_type": "code",
   "execution_count": 306,
   "id": "35584f5c-8694-4061-ab39-54c56be52f40",
   "metadata": {},
   "outputs": [
    {
     "data": {
      "text/plain": [
       "array([[ 7.3890561 ,  7.3890561 , 20.08553692,  7.3890561 ],\n",
       "       [ 2.71828183,  2.71828183,  2.71828183,  2.71828183],\n",
       "       [ 7.3890561 ,  2.71828183,  2.71828183,  7.3890561 ]])"
      ]
     },
     "execution_count": 306,
     "metadata": {},
     "output_type": "execute_result"
    }
   ],
   "source": [
    "np.exp(arr1)"
   ]
  },
  {
   "cell_type": "code",
   "execution_count": 308,
   "id": "dd60a4d6-f618-4a7e-bdf4-2e65b8813547",
   "metadata": {},
   "outputs": [
    {
     "data": {
      "text/plain": [
       "array([[0.30103   , 0.30103   , 0.47712125, 0.30103   ],\n",
       "       [0.        , 0.        , 0.        , 0.        ],\n",
       "       [0.30103   , 0.        , 0.        , 0.30103   ]])"
      ]
     },
     "execution_count": 308,
     "metadata": {},
     "output_type": "execute_result"
    }
   ],
   "source": [
    "np.log10(arr1)"
   ]
  },
  {
   "cell_type": "code",
   "execution_count": null,
   "id": "5004f43a-8ddb-46e8-a7e6-f6cac62286d0",
   "metadata": {},
   "outputs": [],
   "source": []
  }
 ],
 "metadata": {
  "kernelspec": {
   "display_name": "Python 3 (ipykernel)",
   "language": "python",
   "name": "python3"
  },
  "language_info": {
   "codemirror_mode": {
    "name": "ipython",
    "version": 3
   },
   "file_extension": ".py",
   "mimetype": "text/x-python",
   "name": "python",
   "nbconvert_exporter": "python",
   "pygments_lexer": "ipython3",
   "version": "3.10.8"
  }
 },
 "nbformat": 4,
 "nbformat_minor": 5
}
